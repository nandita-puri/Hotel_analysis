{
 "cells": [
  {
   "cell_type": "code",
   "execution_count": 43,
   "metadata": {},
   "outputs": [],
   "source": [
    "import numpy as np, pandas as pd\n",
    "import matplotlib.pyplot as plt\n",
    "import seaborn as sns\n",
    "%matplotlib inline \n",
    "import warnings\n",
    "warnings.filterwarnings(\"ignore\")"
   ]
  },
  {
   "cell_type": "code",
   "execution_count": 42,
   "metadata": {},
   "outputs": [
    {
     "data": {
      "text/html": [
       "<div>\n",
       "<style scoped>\n",
       "    .dataframe tbody tr th:only-of-type {\n",
       "        vertical-align: middle;\n",
       "    }\n",
       "\n",
       "    .dataframe tbody tr th {\n",
       "        vertical-align: top;\n",
       "    }\n",
       "\n",
       "    .dataframe thead th {\n",
       "        text-align: right;\n",
       "    }\n",
       "</style>\n",
       "<table border=\"1\" class=\"dataframe\">\n",
       "  <thead>\n",
       "    <tr style=\"text-align: right;\">\n",
       "      <th></th>\n",
       "      <th>India/States/UTs</th>\n",
       "      <th>Survey</th>\n",
       "      <th>Area</th>\n",
       "      <th>Population and Household Profile - Population (female) age 6 years and above who ever attended school (%)</th>\n",
       "      <th>Population and Household Profile - Population below age 15 years (%)</th>\n",
       "      <th>Population and Household Profile - Sex ratio of the total population (females per 1000 males)</th>\n",
       "      <th>Population and Household Profile - Sex ratio at birth for children born in the last five years (females per 1000 males)</th>\n",
       "      <th>Population and Household Profile - Children under age 5 years whose birth was registered (%)</th>\n",
       "      <th>Population and Household Profile - Households with electricity (%)</th>\n",
       "      <th>Population and Household Profile - Households with an improved drinking-water source (%)</th>\n",
       "      <th>...</th>\n",
       "      <th>Note of : Women's Empowerment and Gender Based Violence (age 15-49 years) - Ever-married women who have ever experienced spousal violence (%)</th>\n",
       "      <th>Note of : Women's Empowerment and Gender Based Violence (age 15-49 years) - Ever-married women who have experienced violence during any pregnancy (%)</th>\n",
       "      <th>Note of : Women's Empowerment and Gender Based Violence (age 15-49 years) - Women owning a house and/or land (alone or jointly with others) (%)</th>\n",
       "      <th>Note of : Women's Empowerment and Gender Based Violence (age 15-49 years) - Women having a bank or savings account that they themselves use (%)</th>\n",
       "      <th>Note of : Women's Empowerment and Gender Based Violence (age 15-49 years) - Women having a mobile phone that they themselves use (%)</th>\n",
       "      <th>Note of : Women's Empowerment and Gender Based Violence (age 15-49 years) - Women age 15-24 years who use hygienic methods of protection during their menstrual period (%)</th>\n",
       "      <th>Note of : Tobacco Use and Alcohol Consumption among Adults (age 15-49 years) - Men who use any kind of tobacco (%)</th>\n",
       "      <th>Note of : Tobacco Use and Alcohol Consumption among Adults (age 15-49 years) - Men who consume alcohol (%)</th>\n",
       "      <th>Note of : Tobacco Use and Alcohol Consumption among Adults (age 15-49 years) - Women who tried to stop smoking or using tobacco in any other form during the past 12 months (%)</th>\n",
       "      <th>Note of : Tobacco Use and Alcohol Consumption among Adults (age 15-49 years) - Men who tried to stop smoking or using tobacco in any other form (during the past 12 months) %</th>\n",
       "    </tr>\n",
       "  </thead>\n",
       "  <tbody>\n",
       "    <tr>\n",
       "      <th>0</th>\n",
       "      <td>India</td>\n",
       "      <td>NFHS-4</td>\n",
       "      <td>Total</td>\n",
       "      <td>68.8</td>\n",
       "      <td>28.6</td>\n",
       "      <td>991.0</td>\n",
       "      <td>919.0</td>\n",
       "      <td>79.7</td>\n",
       "      <td>88.2</td>\n",
       "      <td>89.9</td>\n",
       "      <td>...</td>\n",
       "      <td>NaN</td>\n",
       "      <td>NaN</td>\n",
       "      <td>NaN</td>\n",
       "      <td>NaN</td>\n",
       "      <td>NaN</td>\n",
       "      <td>NaN</td>\n",
       "      <td>NaN</td>\n",
       "      <td>NaN</td>\n",
       "      <td>NaN</td>\n",
       "      <td>NaN</td>\n",
       "    </tr>\n",
       "    <tr>\n",
       "      <th>1</th>\n",
       "      <td>India</td>\n",
       "      <td>NFHS-4</td>\n",
       "      <td>Rural</td>\n",
       "      <td>63.0</td>\n",
       "      <td>30.5</td>\n",
       "      <td>1009.0</td>\n",
       "      <td>927.0</td>\n",
       "      <td>76.1</td>\n",
       "      <td>83.2</td>\n",
       "      <td>89.3</td>\n",
       "      <td>...</td>\n",
       "      <td>NaN</td>\n",
       "      <td>NaN</td>\n",
       "      <td>NaN</td>\n",
       "      <td>NaN</td>\n",
       "      <td>NaN</td>\n",
       "      <td>NaN</td>\n",
       "      <td>NaN</td>\n",
       "      <td>NaN</td>\n",
       "      <td>NaN</td>\n",
       "      <td>NaN</td>\n",
       "    </tr>\n",
       "    <tr>\n",
       "      <th>2</th>\n",
       "      <td>India</td>\n",
       "      <td>NFHS-4</td>\n",
       "      <td>Urban</td>\n",
       "      <td>80.6</td>\n",
       "      <td>24.9</td>\n",
       "      <td>956.0</td>\n",
       "      <td>899.0</td>\n",
       "      <td>88.8</td>\n",
       "      <td>97.5</td>\n",
       "      <td>91.1</td>\n",
       "      <td>...</td>\n",
       "      <td>NaN</td>\n",
       "      <td>NaN</td>\n",
       "      <td>NaN</td>\n",
       "      <td>NaN</td>\n",
       "      <td>NaN</td>\n",
       "      <td>NaN</td>\n",
       "      <td>NaN</td>\n",
       "      <td>NaN</td>\n",
       "      <td>NaN</td>\n",
       "      <td>NaN</td>\n",
       "    </tr>\n",
       "    <tr>\n",
       "      <th>3</th>\n",
       "      <td>India</td>\n",
       "      <td>NFHS-3</td>\n",
       "      <td>Total</td>\n",
       "      <td>58.3</td>\n",
       "      <td>34.9</td>\n",
       "      <td>1000.0</td>\n",
       "      <td>914.0</td>\n",
       "      <td>41.2</td>\n",
       "      <td>67.9</td>\n",
       "      <td>87.6</td>\n",
       "      <td>...</td>\n",
       "      <td>NaN</td>\n",
       "      <td>NaN</td>\n",
       "      <td>NaN</td>\n",
       "      <td>NaN</td>\n",
       "      <td>NaN</td>\n",
       "      <td>NaN</td>\n",
       "      <td>NaN</td>\n",
       "      <td>NaN</td>\n",
       "      <td>NaN</td>\n",
       "      <td>NaN</td>\n",
       "    </tr>\n",
       "    <tr>\n",
       "      <th>4</th>\n",
       "      <td>Andhra Pradesh</td>\n",
       "      <td>NFHS-4</td>\n",
       "      <td>Total</td>\n",
       "      <td>62.0</td>\n",
       "      <td>23.7</td>\n",
       "      <td>1020.0</td>\n",
       "      <td>914.0</td>\n",
       "      <td>82.7</td>\n",
       "      <td>98.8</td>\n",
       "      <td>72.7</td>\n",
       "      <td>...</td>\n",
       "      <td>NaN</td>\n",
       "      <td>NaN</td>\n",
       "      <td>NaN</td>\n",
       "      <td>NaN</td>\n",
       "      <td>NaN</td>\n",
       "      <td>NaN</td>\n",
       "      <td>NaN</td>\n",
       "      <td>NaN</td>\n",
       "      <td>NaN</td>\n",
       "      <td>NaN</td>\n",
       "    </tr>\n",
       "  </tbody>\n",
       "</table>\n",
       "<p>5 rows × 192 columns</p>\n",
       "</div>"
      ],
      "text/plain": [
       "  India/States/UTs  Survey   Area  \\\n",
       "0            India  NFHS-4  Total   \n",
       "1            India  NFHS-4  Rural   \n",
       "2            India  NFHS-4  Urban   \n",
       "3            India  NFHS-3  Total   \n",
       "4   Andhra Pradesh  NFHS-4  Total   \n",
       "\n",
       "   Population and Household Profile - Population (female) age 6 years and above who ever attended school (%)  \\\n",
       "0                                               68.8                                                           \n",
       "1                                               63.0                                                           \n",
       "2                                               80.6                                                           \n",
       "3                                               58.3                                                           \n",
       "4                                               62.0                                                           \n",
       "\n",
       "   Population and Household Profile - Population below age 15 years (%)  \\\n",
       "0                                               28.6                      \n",
       "1                                               30.5                      \n",
       "2                                               24.9                      \n",
       "3                                               34.9                      \n",
       "4                                               23.7                      \n",
       "\n",
       "   Population and Household Profile - Sex ratio of the total population (females per 1000 males)  \\\n",
       "0                                              991.0                                               \n",
       "1                                             1009.0                                               \n",
       "2                                              956.0                                               \n",
       "3                                             1000.0                                               \n",
       "4                                             1020.0                                               \n",
       "\n",
       "   Population and Household Profile - Sex ratio at birth for children born in the last five years (females per 1000 males)  \\\n",
       "0                                              919.0                                                                         \n",
       "1                                              927.0                                                                         \n",
       "2                                              899.0                                                                         \n",
       "3                                              914.0                                                                         \n",
       "4                                              914.0                                                                         \n",
       "\n",
       "   Population and Household Profile - Children under age 5 years whose birth was registered (%)  \\\n",
       "0                                               79.7                                              \n",
       "1                                               76.1                                              \n",
       "2                                               88.8                                              \n",
       "3                                               41.2                                              \n",
       "4                                               82.7                                              \n",
       "\n",
       "   Population and Household Profile - Households with electricity (%)  \\\n",
       "0                                               88.2                    \n",
       "1                                               83.2                    \n",
       "2                                               97.5                    \n",
       "3                                               67.9                    \n",
       "4                                               98.8                    \n",
       "\n",
       "   Population and Household Profile - Households with an improved drinking-water source (%)  \\\n",
       "0                                               89.9                                          \n",
       "1                                               89.3                                          \n",
       "2                                               91.1                                          \n",
       "3                                               87.6                                          \n",
       "4                                               72.7                                          \n",
       "\n",
       "   ...  \\\n",
       "0  ...   \n",
       "1  ...   \n",
       "2  ...   \n",
       "3  ...   \n",
       "4  ...   \n",
       "\n",
       "   Note of : Women's Empowerment and Gender Based Violence (age 15-49 years) - Ever-married women who have ever experienced spousal violence (%)  \\\n",
       "0                                                NaN                                                                                               \n",
       "1                                                NaN                                                                                               \n",
       "2                                                NaN                                                                                               \n",
       "3                                                NaN                                                                                               \n",
       "4                                                NaN                                                                                               \n",
       "\n",
       "   Note of : Women's Empowerment and Gender Based Violence (age 15-49 years) - Ever-married women who have experienced violence during any pregnancy (%)  \\\n",
       "0                                                NaN                                                                                                       \n",
       "1                                                NaN                                                                                                       \n",
       "2                                                NaN                                                                                                       \n",
       "3                                                NaN                                                                                                       \n",
       "4                                                NaN                                                                                                       \n",
       "\n",
       "   Note of : Women's Empowerment and Gender Based Violence (age 15-49 years) - Women owning a house and/or land (alone or jointly with others) (%)  \\\n",
       "0                                                NaN                                                                                                 \n",
       "1                                                NaN                                                                                                 \n",
       "2                                                NaN                                                                                                 \n",
       "3                                                NaN                                                                                                 \n",
       "4                                                NaN                                                                                                 \n",
       "\n",
       "   Note of : Women's Empowerment and Gender Based Violence (age 15-49 years) - Women having a bank or savings account that they themselves use (%)  \\\n",
       "0                                                NaN                                                                                                 \n",
       "1                                                NaN                                                                                                 \n",
       "2                                                NaN                                                                                                 \n",
       "3                                                NaN                                                                                                 \n",
       "4                                                NaN                                                                                                 \n",
       "\n",
       "   Note of : Women's Empowerment and Gender Based Violence (age 15-49 years) - Women having a mobile phone that they themselves use (%)  \\\n",
       "0                                                NaN                                                                                      \n",
       "1                                                NaN                                                                                      \n",
       "2                                                NaN                                                                                      \n",
       "3                                                NaN                                                                                      \n",
       "4                                                NaN                                                                                      \n",
       "\n",
       "   Note of : Women's Empowerment and Gender Based Violence (age 15-49 years) - Women age 15-24 years who use hygienic methods of protection during their menstrual period (%)  \\\n",
       "0                                                NaN                                                                                                                            \n",
       "1                                                NaN                                                                                                                            \n",
       "2                                                NaN                                                                                                                            \n",
       "3                                                NaN                                                                                                                            \n",
       "4                                                NaN                                                                                                                            \n",
       "\n",
       "   Note of : Tobacco Use and Alcohol Consumption among Adults (age 15-49 years) - Men who use any kind of tobacco (%)  \\\n",
       "0                                                NaN                                                                    \n",
       "1                                                NaN                                                                    \n",
       "2                                                NaN                                                                    \n",
       "3                                                NaN                                                                    \n",
       "4                                                NaN                                                                    \n",
       "\n",
       "   Note of : Tobacco Use and Alcohol Consumption among Adults (age 15-49 years) - Men who consume alcohol (%)  \\\n",
       "0                                                NaN                                                            \n",
       "1                                                NaN                                                            \n",
       "2                                                NaN                                                            \n",
       "3                                                NaN                                                            \n",
       "4                                                NaN                                                            \n",
       "\n",
       "   Note of : Tobacco Use and Alcohol Consumption among Adults (age 15-49 years) - Women who tried to stop smoking or using tobacco in any other form during the past 12 months (%)  \\\n",
       "0                                                NaN                                                                                                                                 \n",
       "1                                                NaN                                                                                                                                 \n",
       "2                                                NaN                                                                                                                                 \n",
       "3                                                NaN                                                                                                                                 \n",
       "4                                                NaN                                                                                                                                 \n",
       "\n",
       "   Note of : Tobacco Use and Alcohol Consumption among Adults (age 15-49 years) - Men who tried to stop smoking or using tobacco in any other form (during the past 12 months) %  \n",
       "0                                                NaN                                                                                                                              \n",
       "1                                                NaN                                                                                                                              \n",
       "2                                                NaN                                                                                                                              \n",
       "3                                                NaN                                                                                                                              \n",
       "4                                                NaN                                                                                                                              \n",
       "\n",
       "[5 rows x 192 columns]"
      ]
     },
     "execution_count": 42,
     "metadata": {},
     "output_type": "execute_result"
    }
   ],
   "source": [
    "data=pd.read_csv(\"NFHS-4_NFHS3_Factsheet-All_India_Indicators_R1.csv\")\n",
    "data.head()"
   ]
  },
  {
   "cell_type": "code",
   "execution_count": 4,
   "metadata": {},
   "outputs": [
    {
     "data": {
      "text/plain": [
       "(148, 192)"
      ]
     },
     "execution_count": 4,
     "metadata": {},
     "output_type": "execute_result"
    }
   ],
   "source": [
    "data.shape"
   ]
  },
  {
   "cell_type": "code",
   "execution_count": 5,
   "metadata": {},
   "outputs": [
    {
     "data": {
      "text/plain": [
       "['India/States/UTs',\n",
       " 'Survey',\n",
       " 'Area',\n",
       " 'Population and Household Profile - Population (female) age 6 years and above who ever attended school (%)',\n",
       " 'Population and Household Profile - Population below age 15 years (%)',\n",
       " 'Population and Household Profile - Sex ratio of the total population (females per 1000 males)',\n",
       " 'Population and Household Profile - Sex ratio at birth for children born in the last five years (females per 1000 males)',\n",
       " 'Population and Household Profile - Children under age 5 years whose birth was registered (%)',\n",
       " 'Population and Household Profile - Households with electricity (%)',\n",
       " 'Population and Household Profile - Households with an improved drinking-water source (%)',\n",
       " 'Population and Household Profile - Households using improved sanitation facility (%)',\n",
       " 'Population and Household Profile - Households using clean fuel for cooking (%)',\n",
       " 'Population and Household Profile - Households using iodized salt (%)',\n",
       " 'Population and Household Profile - Households with any usual member covered by a health scheme or health insurance (%)',\n",
       " 'Characteristics of Adults (age 15-49) - Women who are literate (%)',\n",
       " 'Characteristics of Adults (age 15-49) - Men who are literate (%)',\n",
       " 'Characteristics of Adults (age 15-49) - Women with 10 or more years of schooling (%)',\n",
       " 'Marriage and Fertility - Women age 20-24 years married before age 18 years (%)',\n",
       " 'Marriage and Fertility - Men age 25-29 years married before age 21 years (%)',\n",
       " 'Marriage and Fertility - Total fertility rate (children per woman)',\n",
       " 'Marriage and Fertility - Women age 15-19 years who were already mothers or pregnant at the time of the survey (%)',\n",
       " 'Infant and Child Mortality Rates (per 1000 live births) - Infant mortality rate (IMR)',\n",
       " 'Infant and Child Mortality Rates (per 1000 live births) - Under-five mortality rate (U5MR)',\n",
       " 'Current Use of Family Planning Methods (currently married women age 15-49 years) - Any method (%)',\n",
       " 'Current Use of Family Planning Methods (currently married women age 15-49 years) - Any modern method (%)',\n",
       " 'Current Use of Family Planning Methods (currently married women age 15-49 years) - Female sterilization (%)',\n",
       " 'Current Use of Family Planning Methods (currently married women age 15-49 years) - Male sterilization (%)',\n",
       " 'Current Use of Family Planning Methods (currently married women age 15-49 years) - IUD/PPIUD (%)',\n",
       " 'Current Use of Family Planning Methods (currently married women age 15-49 years) - Pill (%)',\n",
       " 'Current Use of Family Planning Methods (currently married women age 15-49 years) - Condom (%)',\n",
       " 'Unmet Need for Family Planning (currently married women age 15-49 years)5 - Total unmet need (%)',\n",
       " 'Unmet Need for Family Planning (currently married women age 15-49 years)5 - Unmet need for spacing (%)',\n",
       " 'Quality of Family Planning Services - Health worker ever talked to female non-users about family planning (%)',\n",
       " 'Quality of Family Planning Services - Current users ever told about side effects of current method (%)',\n",
       " 'Maternity Care (for last birth in the 5 years before the survey) - Mothers who had antenatal check-up in the first trimester (%)',\n",
       " 'Maternity Care (for last birth in the 5 years before the survey) - Mothers who had at least 4 antenatal care visits (%)',\n",
       " 'Maternity Care (for last birth in the 5 years before the survey) - Mothers whose last birth was protected against neonatal tetanus (%)',\n",
       " 'Maternity Care (for last birth in the 5 years before the survey) - Mothers who consumed iron folic acid for 100 days or more when they were pregnant (%)',\n",
       " 'Maternity Care (for last birth in the 5 years before the survey) - Mothers who had full antenatal care (%)',\n",
       " 'Maternity Care (for last birth in the 5 years before the survey) - Registered pregnancies for which the mother received Mother and Child Protection (MCP) card (%)',\n",
       " 'Maternity Care (for last birth in the 5 years before the survey) - Mothers who received postnatal care from a doctor/nurse/LHV/ANM/midwife/other health personnel within 2 days of delivery (%)',\n",
       " 'Maternity Care (for last birth in the 5 years before the survey) - Mothers who received financial assistance under Janani Suraksha Yojana (JSY) for births delivered in an institution (%)',\n",
       " 'Maternity Care (for last birth in the 5 years before the survey) - Average out of pocket expenditure per delivery in public health facility (Rs.)',\n",
       " 'Maternity Care (for last birth in the 5 years before the survey) - Children born at home who were taken to a health facility for check-up within 24 hours of birth (%)',\n",
       " 'Maternity Care (for last birth in the 5 years before the survey) - Children who received a health check after birth from a doctor/nurse/LHV/ANM/ midwife/other health personnel within 2 days of birth (%)',\n",
       " 'Delivery Care (for births in the 5 years before the survey) - Institutional births (%)',\n",
       " 'Delivery Care (for births in the 5 years before the survey) - Institutional births in public facility (%)',\n",
       " 'Delivery Care (for births in the 5 years before the survey) - Home delivery conducted by skilled health personnel (out of total deliveries) (%)',\n",
       " 'Delivery Care (for births in the 5 years before the survey) - Births assisted by a doctor/nurse/LHV/ANM/other health personnel (%)',\n",
       " 'Delivery Care (for births in the 5 years before the survey) - Births delivered by caesarean section (%)',\n",
       " 'Delivery Care (for births in the 5 years before the survey) - Births in a private health facility delivered by caesarean section (%)',\n",
       " 'Delivery Care (for births in the 5 years before the survey) - Births in a public health facility delivered by caesarean section (%)',\n",
       " 'Child Immunizations and Vitamin A Supplementation - Children age 12-23 months fully immunized (BCG; measles; and 3 doses each of polio and DPT) (%)',\n",
       " 'Child Immunizations and Vitamin A Supplementation - Children age 12-23 months who have received BCG (%)',\n",
       " 'Child Immunizations and Vitamin A Supplementation - Children age 12-23 months who have received 3 doses of polio vaccine (%)',\n",
       " 'Child Immunizations and Vitamin A Supplementation - Children age 12-23 months who have received 3 doses of DPT vaccine (%)',\n",
       " 'Child Immunizations and Vitamin A Supplementation - Children age 12-23 months who have received measles vaccine (%)',\n",
       " 'Child Immunizations and Vitamin A Supplementation - Children age 12-23 months who have received 3 doses of Hepatitis B vaccine (%)',\n",
       " 'Child Immunizations and Vitamin A Supplementation - Children age 9-59 months who received a vitamin A dose in last 6 months (%)',\n",
       " 'Child Immunizations and Vitamin A Supplementation - Children age 12-23 months who received most of the vaccinations in public health facility (%)',\n",
       " 'Child Immunizations and Vitamin A Supplementation - Children age 12-23 months who received most of the vaccinations in private health facility (%)',\n",
       " 'Treatment of Childhood Diseases (children under age 5 years) - Prevalence of diarrhoea (reported) in the last 2 weeks preceding the survey (%)',\n",
       " 'Treatment of Childhood Diseases (children under age 5 years) - Children with diarrhoea in the last 2 weeks who received oral rehydration salts (ORS) (%)',\n",
       " 'Treatment of Childhood Diseases (children under age 5 years) - Children with diarrhoea in the last 2 weeks who received zinc (%)',\n",
       " 'Treatment of Childhood Diseases (children under age 5 years) - Children with diarrhoea in the last 2 weeks taken to a health facility (%)',\n",
       " 'Treatment of Childhood Diseases (children under age 5 years) - Prevalence of symptoms of acute respiratory infection (ARI) in the last 2 weeks preceding the survey (%)',\n",
       " 'Treatment of Childhood Diseases (children under age 5 years) - Children with fever or symptoms of ARI in the last 2 weeks preceding the survey taken to a health facility (%)',\n",
       " 'Child Feeding Practices and Nutritional Status of Children - Children under age 3 years breastfed within one hour of birth (%)',\n",
       " 'Child Feeding Practices and Nutritional Status of Children - Children under age 6 months exclusively breastfed (%)',\n",
       " 'Child Feeding Practices and Nutritional Status of Children - Children age 6-8 months receiving solid or semi-solid food and breastmilk (%)',\n",
       " 'Child Feeding Practices and Nutritional Status of Children - Breastfeeding children age 6-23 months receiving an adequate diet (%',\n",
       " 'Child Feeding Practices and Nutritional Status of Children - Non-breastfeeding children age 6-23 months receiving an adequate diet (%',\n",
       " 'Child Feeding Practices and Nutritional Status of Children - Total children age 6-23 months receiving an adequate diet (%',\n",
       " 'Child Feeding Practices and Nutritional Status of Children - Children under 5 years who are stunted (height-for-age) (%)',\n",
       " 'Child Feeding Practices and Nutritional Status of Children - Children under 5 years who are wasted (weight-for-height) (%)',\n",
       " 'Child Feeding Practices and Nutritional Status of Children - Children under 5 years who are severely wasted (weight-for-height) (%)',\n",
       " 'Child Feeding Practices and Nutritional Status of Children - Children under 5 years who are underweight (weight-for-age) (%)',\n",
       " 'Nutritional Status of Adults (age 15-49 years) - Women whose Body Mass Index (BMI) is below normal (BMI < 18.5 kg/m2) (%)',\n",
       " 'Nutritional Status of Adults (age 15-49 years) - Men whose Body Mass Index (BMI) is below normal (BMI < 18.5 kg/m2) (%)',\n",
       " 'Nutritional Status of Adults (age 15-49 years) - Women who are overweight or obese (BMI >= 25.0 kg/m2) (%)',\n",
       " 'Nutritional Status of Adults (age 15-49 years) - Men who are overweight or obese (BMI >= 25.0 kg/m2) (%)',\n",
       " 'Anaemia among Children and Adults15 - Children age 6-59 months who are anaemic (<11.0 g/dl) (%)',\n",
       " 'Anaemia among Children and Adults15 - Non-pregnant women age 15-49 years who are anaemic (<12.0 g/dl) (%)',\n",
       " 'Anaemia among Children and Adults15 - Pregnant women age 15-49 years who are anaemic (<11.0 g/dl) (%)',\n",
       " 'Anaemia among Children and Adults15 - All women age 15-49 years who are anaemic (%)',\n",
       " 'Anaemia among Children and Adults15 - Men age 15-49 years who are anaemic (<13.0 g/dl) (%)',\n",
       " 'Women - Blood sugar level - high (>140 mg/dl) (%)',\n",
       " 'Women - Blood sugar level - very high (>160 mg/dl) (%)',\n",
       " 'Men - Blood sugar level - high (>140 mg/dl) (%)',\n",
       " 'Men - Blood sugar level - very high (>160 mg/dl) (%)',\n",
       " 'Women - Slightly above normal (Systolic 140-159 mm of Hg and/or Diastolic 90-99 mm of Hg) (%)',\n",
       " 'Women - Moderately high (Systolic 160-179 mm of Hg and/or Diastolic 100-109 mm of Hg) (%)',\n",
       " 'Women - Very high (Systolic >= 180 mm of Hg and/or Diastolic >= 110 mm of Hg) (%)',\n",
       " 'Men - Slightly above normal (Systolic 140-159 mm of Hg and/or Diastolic 90-99 mm of Hg) (%)',\n",
       " 'Men - Moderately high (Systolic 160-179 mm of Hg and/or Diastolic 100-109 mm of Hg) (%)',\n",
       " 'Men - Very high (Systolic >= 180 mm of Hg and/or Diastolic >= 110 mm of Hg) (%)',\n",
       " 'Women Age 15-49 Years Who Have Ever Undergone Examinations of: - Cervix (%)',\n",
       " 'Women Age 15-49 Years Who Have Ever Undergone Examinations of: - Breast (%)',\n",
       " 'Women Age 15-49 Years Who Have Ever Undergone Examinations of: - Oral cavity (%)',\n",
       " 'Knowledge of HIV/AIDS among Adults (age 15-49 years) - Women who have comprehensive knowledge of HIV/AIDS (%)',\n",
       " 'Knowledge of HIV/AIDS among Adults (age 15-49 years) - Men who have comprehensive knowledge of HIV/AIDS (%)',\n",
       " 'Knowledge of HIV/AIDS among Adults (age 15-49 years) - Women who know that consistent condom use can reduce the chances of getting HIV/AIDS (%)',\n",
       " 'Knowledge of HIV/AIDS among Adults (age 15-49 years) - Men who know that consistent condom use can reduce the chances of getting HIV/AIDS (%)',\n",
       " \"Women's Empowerment and Gender Based Violence (age 15-49 years) - Currently married women who usually participate in household decisions (%)\",\n",
       " \"Women's Empowerment and Gender Based Violence (age 15-49 years) - Women who worked in the last 12 months who were paid in cash (%)\",\n",
       " \"Women's Empowerment and Gender Based Violence (age 15-49 years) - Ever-married women who have ever experienced spousal violence (%)\",\n",
       " \"Women's Empowerment and Gender Based Violence (age 15-49 years) - Ever-married women who have experienced violence during any pregnancy (%)\",\n",
       " \"Women's Empowerment and Gender Based Violence (age 15-49 years) - Women owning a house and/or land (alone or jointly with others) (%)\",\n",
       " \"Women's Empowerment and Gender Based Violence (age 15-49 years) - Women having a bank or savings account that they themselves use (%)\",\n",
       " \"Women's Empowerment and Gender Based Violence (age 15-49 years) - Women having a mobile phone that they themselves use (%)\",\n",
       " \"Women's Empowerment and Gender Based Violence (age 15-49 years) - Women age 15-24 years who use hygienic methods of protection during their menstrual period (%)\",\n",
       " 'Tobacco Use and Alcohol Consumption among Adults (age 15-49 years) - Women who use any kind of tobacco (%)',\n",
       " 'Tobacco Use and Alcohol Consumption among Adults (age 15-49 years) - Men who use any kind of tobacco (%)',\n",
       " 'Tobacco Use and Alcohol Consumption among Adults (age 15-49 years) - Women who consume alcohol (%)',\n",
       " 'Tobacco Use and Alcohol Consumption among Adults (age 15-49 years) - Men who consume alcohol (%)',\n",
       " 'Tobacco Use and Alcohol Consumption among Adults (age 15-49 years) - Women who tried to stop smoking or using tobacco in any other form during the past 12 months (%)',\n",
       " 'Tobacco Use and Alcohol Consumption among Adults (age 15-49 years) - Men who tried to stop smoking or using tobacco in any other form (during the past 12 months) %',\n",
       " 'Note of : Population and Household Profile - Sex ratio at birth for children born in the last five years (females per 1000 males)',\n",
       " 'Note of : Characteristics of Adults (age 15-49) - Men who are literate (%)',\n",
       " 'Note of : Marriage and Fertility - Women age 20-24 years married before age 18 years (%)',\n",
       " 'Note of : Marriage and Fertility - Men age 25-29 years married before age 21 years (%)',\n",
       " 'Note of : Marriage and Fertility - Women age 15-19 years who were already mothers or pregnant at the time of the survey (%)',\n",
       " 'Note of : Infant and Child Mortality Rates (per 1000 live births) - Infant mortality rate (IMR)',\n",
       " 'Note of : Infant and Child Mortality Rates (per 1000 live births) - Under-five mortality rate (U5MR)',\n",
       " 'Note of : Quality of Family Planning Services - Current users ever told about side effects of current method (%)',\n",
       " 'Note of : Maternity Care (for last birth in the 5 years before the survey) - Mothers who had antenatal check-up in the first trimester (%)',\n",
       " 'Note of : Maternity Care (for last birth in the 5 years before the survey) - Mothers who had at least 4 antenatal care visits (%)',\n",
       " 'Note of : Maternity Care (for last birth in the 5 years before the survey) - Mothers whose last birth was protected against neonatal tetanus (%)',\n",
       " 'Note of : Maternity Care (for last birth in the 5 years before the survey) - Mothers who consumed iron folic acid for 100 days or more when they were pregnant (%)',\n",
       " 'Note of : Maternity Care (for last birth in the 5 years before the survey) - Mothers who had full antenatal care (%)',\n",
       " 'Note of : Maternity Care (for last birth in the 5 years before the survey) - Registered pregnancies for which the mother received Mother and Child Protection (MCP) card (%)',\n",
       " 'Note of : Maternity Care (for last birth in the 5 years before the survey) - Mothers who received postnatal care from a doctor/nurse/LHV/ANM/midwife/other health personnel within 2 days of delivery (%)',\n",
       " 'Note of : Maternity Care (for last birth in the 5 years before the survey) - Mothers who received financial assistance under Janani Suraksha Yojana (JSY) for births delivered in an institution (%)',\n",
       " 'Note of : Maternity Care (for last birth in the 5 years before the survey) - Average out of pocket expenditure per delivery in public health facility (Rs.)',\n",
       " 'Note of : Maternity Care (for last birth in the 5 years before the survey) - Children born at home who were taken to a health facility for check-up within 24 hours of birth (%)',\n",
       " 'Note of : Maternity Care (for last birth in the 5 years before the survey) - Children who received a health check after birth from a doctor/nurse/LHV/ANM/ midwife/other health personnel within 2 days of birth (%)',\n",
       " 'Note of : Delivery Care (for births in the 5 years before the survey) - Births in a private health facility delivered by caesarean section (%)',\n",
       " 'Note of : Delivery Care (for births in the 5 years before the survey) - Births in a public health facility delivered by caesarean section (%)',\n",
       " 'Note of : Child Immunizations and Vitamin A Supplementation - Children age 12-23 months fully immunized (BCG; measles; and 3 doses each of polio and DPT) (%)',\n",
       " 'Note of : Child Immunizations and Vitamin A Supplementation - Children age 12-23 months who have received BCG (%)',\n",
       " 'Note of : Child Immunizations and Vitamin A Supplementation - Children age 12-23 months who have received 3 doses of polio vaccine (%)',\n",
       " 'Note of : Child Immunizations and Vitamin A Supplementation - Children age 12-23 months who have received 3 doses of DPT vaccine (%)',\n",
       " 'Note of : Child Immunizations and Vitamin A Supplementation - Children age 12-23 months who have received measles vaccine (%)',\n",
       " 'Note of : Child Immunizations and Vitamin A Supplementation - Children age 12-23 months who have received 3 doses of Hepatitis B vaccine (%)',\n",
       " 'Note of : Child Immunizations and Vitamin A Supplementation - Children age 12-23 months who received most of the vaccinations in public health facility (%)',\n",
       " 'Note of : Child Immunizations and Vitamin A Supplementation - Children age 12-23 months who received most of the vaccinations in private health facility (%)',\n",
       " 'Note of : Treatment of Childhood Diseases (children under age 5 years) - Children with diarrhoea in the last 2 weeks who received oral rehydration salts (ORS) (%)',\n",
       " 'Note of : Treatment of Childhood Diseases (children under age 5 years) - Children with diarrhoea in the last 2 weeks who received zinc (%)',\n",
       " 'Note of : Treatment of Childhood Diseases (children under age 5 years) - Children with diarrhoea in the last 2 weeks taken to a health facility (%)',\n",
       " 'Note of : Treatment of Childhood Diseases (children under age 5 years) - Children with fever or symptoms of ARI in the last 2 weeks preceding the survey taken to a health facility (%)',\n",
       " 'Note of : Child Feeding Practices and Nutritional Status of Children - Children under age 3 years breastfed within one hour of birth (%)',\n",
       " 'Note of : Child Feeding Practices and Nutritional Status of Children - Children under age 6 months exclusively breastfed (%)',\n",
       " 'Note of : Child Feeding Practices and Nutritional Status of Children - Children age 6-8 months receiving solid or semi-solid food and breastmilk (%)',\n",
       " 'Note of : Child Feeding Practices and Nutritional Status of Children - Breastfeeding children age 6-23 months receiving an adequate diet (%',\n",
       " 'Note of : Child Feeding Practices and Nutritional Status of Children - Non-breastfeeding children age 6-23 months receiving an adequate diet (%',\n",
       " 'Note of : Child Feeding Practices and Nutritional Status of Children - Total children age 6-23 months receiving an adequate diet (%',\n",
       " 'Note of : Nutritional Status of Adults (age 15-49 years) - Men whose Body Mass Index (BMI) is below normal (BMI < 18.5 kg/m2) (%)',\n",
       " 'Note of : Nutritional Status of Adults (age 15-49 years) - Men who are overweight or obese (BMI >= 25.0 kg/m2) (%)',\n",
       " 'Note of : Anaemia among Children and Adults15 - Children age 6-59 months who are anaemic (<11.0 g/dl) (%)',\n",
       " 'Note of : Anaemia among Children and Adults15 - Non-pregnant women age 15-49 years who are anaemic (<12.0 g/dl) (%)',\n",
       " 'Note of : Anaemia among Children and Adults15 - Pregnant women age 15-49 years who are anaemic (<11.0 g/dl) (%)',\n",
       " 'Note of : Anaemia among Children and Adults15 - All women age 15-49 years who are anaemic (%)',\n",
       " 'Note of : Anaemia among Children and Adults15 - Men age 15-49 years who are anaemic (<13.0 g/dl) (%)',\n",
       " 'Note of : Women - Blood sugar level - high (>140 mg/dl) (%)',\n",
       " 'Note of : Women - Blood sugar level - very high (>160 mg/dl) (%)',\n",
       " 'Note of : Men - Blood sugar level - high (>140 mg/dl) (%)',\n",
       " 'Note of : Men - Blood sugar level - very high (>160 mg/dl) (%)',\n",
       " 'Note of : Women - Slightly above normal (Systolic 140-159 mm of Hg and/or Diastolic 90-99 mm of Hg) (%)',\n",
       " 'Note of : Women - Moderately high (Systolic 160-179 mm of Hg and/or Diastolic 100-109 mm of Hg) (%)',\n",
       " 'Note of : Women - Very high (Systolic >= 180 mm of Hg and/or Diastolic >= 110 mm of Hg) (%)',\n",
       " 'Note of : Men - Slightly above normal (Systolic 140-159 mm of Hg and/or Diastolic 90-99 mm of Hg) (%)',\n",
       " 'Note of : Men - Moderately high (Systolic 160-179 mm of Hg and/or Diastolic 100-109 mm of Hg) (%)',\n",
       " 'Note of : Men - Very high (Systolic >= 180 mm of Hg and/or Diastolic >= 110 mm of Hg) (%)',\n",
       " 'Note of : Women Age 15-49 Years Who Have Ever Undergone Examinations of: - Cervix (%)',\n",
       " 'Note of : Women Age 15-49 Years Who Have Ever Undergone Examinations of: - Breast (%)',\n",
       " 'Note of : Women Age 15-49 Years Who Have Ever Undergone Examinations of: - Oral cavity (%)',\n",
       " 'Note of : Knowledge of HIV/AIDS among Adults (age 15-49 years) - Women who have comprehensive knowledge of HIV/AIDS (%)',\n",
       " 'Note of : Knowledge of HIV/AIDS among Adults (age 15-49 years) - Men who have comprehensive knowledge of HIV/AIDS (%)',\n",
       " 'Note of : Knowledge of HIV/AIDS among Adults (age 15-49 years) - Women who know that consistent condom use can reduce the chances of getting HIV/AIDS (%)',\n",
       " 'Note of : Knowledge of HIV/AIDS among Adults (age 15-49 years) - Men who know that consistent condom use can reduce the chances of getting HIV/AIDS (%)',\n",
       " \"Note of : Women's Empowerment and Gender Based Violence (age 15-49 years) - Currently married women who usually participate in household decisions (%)\",\n",
       " \"Note of : Women's Empowerment and Gender Based Violence (age 15-49 years) - Women who worked in the last 12 months who were paid in cash (%)\",\n",
       " \"Note of : Women's Empowerment and Gender Based Violence (age 15-49 years) - Ever-married women who have ever experienced spousal violence (%)\",\n",
       " \"Note of : Women's Empowerment and Gender Based Violence (age 15-49 years) - Ever-married women who have experienced violence during any pregnancy (%)\",\n",
       " \"Note of : Women's Empowerment and Gender Based Violence (age 15-49 years) - Women owning a house and/or land (alone or jointly with others) (%)\",\n",
       " \"Note of : Women's Empowerment and Gender Based Violence (age 15-49 years) - Women having a bank or savings account that they themselves use (%)\",\n",
       " \"Note of : Women's Empowerment and Gender Based Violence (age 15-49 years) - Women having a mobile phone that they themselves use (%)\",\n",
       " \"Note of : Women's Empowerment and Gender Based Violence (age 15-49 years) - Women age 15-24 years who use hygienic methods of protection during their menstrual period (%)\",\n",
       " 'Note of : Tobacco Use and Alcohol Consumption among Adults (age 15-49 years) - Men who use any kind of tobacco (%)',\n",
       " 'Note of : Tobacco Use and Alcohol Consumption among Adults (age 15-49 years) - Men who consume alcohol (%)',\n",
       " 'Note of : Tobacco Use and Alcohol Consumption among Adults (age 15-49 years) - Women who tried to stop smoking or using tobacco in any other form during the past 12 months (%)',\n",
       " 'Note of : Tobacco Use and Alcohol Consumption among Adults (age 15-49 years) - Men who tried to stop smoking or using tobacco in any other form (during the past 12 months) %']"
      ]
     },
     "execution_count": 5,
     "metadata": {},
     "output_type": "execute_result"
    }
   ],
   "source": [
    "list(data.columns)"
   ]
  },
  {
   "cell_type": "code",
   "execution_count": 44,
   "metadata": {},
   "outputs": [
    {
     "data": {
      "text/html": [
       "<div>\n",
       "<style scoped>\n",
       "    .dataframe tbody tr th:only-of-type {\n",
       "        vertical-align: middle;\n",
       "    }\n",
       "\n",
       "    .dataframe tbody tr th {\n",
       "        vertical-align: top;\n",
       "    }\n",
       "\n",
       "    .dataframe thead th {\n",
       "        text-align: right;\n",
       "    }\n",
       "</style>\n",
       "<table border=\"1\" class=\"dataframe\">\n",
       "  <thead>\n",
       "    <tr style=\"text-align: right;\">\n",
       "      <th></th>\n",
       "      <th>India/States/UTs</th>\n",
       "      <th>Survey</th>\n",
       "      <th>Area</th>\n",
       "      <th>Population and Household Profile - Population (female) age 6 years and above who ever attended school (%)</th>\n",
       "      <th>Population and Household Profile - Population below age 15 years (%)</th>\n",
       "      <th>Population and Household Profile - Sex ratio of the total population (females per 1000 males)</th>\n",
       "      <th>Population and Household Profile - Sex ratio at birth for children born in the last five years (females per 1000 males)</th>\n",
       "      <th>Population and Household Profile - Sex ratio at birth for children born in the last five years (females per 1000 males)</th>\n",
       "      <th>Population and Household Profile - Children under age 5 years whose birth was registered (%)</th>\n",
       "      <th>Population and Household Profile - Households with electricity (%)</th>\n",
       "      <th>Population and Household Profile - Households with an improved drinking-water source (%)</th>\n",
       "      <th>Population and Household Profile - Households using improved sanitation facility (%)</th>\n",
       "      <th>Population and Household Profile - Households using clean fuel for cooking (%)</th>\n",
       "      <th>Population and Household Profile - Households using iodized salt (%)</th>\n",
       "      <th>Population and Household Profile - Households with any usual member covered by a health scheme or health insurance (%)</th>\n",
       "    </tr>\n",
       "  </thead>\n",
       "  <tbody>\n",
       "    <tr>\n",
       "      <th>0</th>\n",
       "      <td>India</td>\n",
       "      <td>NFHS-4</td>\n",
       "      <td>Total</td>\n",
       "      <td>68.8</td>\n",
       "      <td>28.6</td>\n",
       "      <td>991.0</td>\n",
       "      <td>919.0</td>\n",
       "      <td>919.0</td>\n",
       "      <td>79.7</td>\n",
       "      <td>88.2</td>\n",
       "      <td>89.9</td>\n",
       "      <td>48.4</td>\n",
       "      <td>43.8</td>\n",
       "      <td>93.1</td>\n",
       "      <td>28.7</td>\n",
       "    </tr>\n",
       "    <tr>\n",
       "      <th>1</th>\n",
       "      <td>India</td>\n",
       "      <td>NFHS-4</td>\n",
       "      <td>Rural</td>\n",
       "      <td>63.0</td>\n",
       "      <td>30.5</td>\n",
       "      <td>1009.0</td>\n",
       "      <td>927.0</td>\n",
       "      <td>927.0</td>\n",
       "      <td>76.1</td>\n",
       "      <td>83.2</td>\n",
       "      <td>89.3</td>\n",
       "      <td>36.7</td>\n",
       "      <td>24.0</td>\n",
       "      <td>91.4</td>\n",
       "      <td>29.0</td>\n",
       "    </tr>\n",
       "    <tr>\n",
       "      <th>2</th>\n",
       "      <td>India</td>\n",
       "      <td>NFHS-4</td>\n",
       "      <td>Urban</td>\n",
       "      <td>80.6</td>\n",
       "      <td>24.9</td>\n",
       "      <td>956.0</td>\n",
       "      <td>899.0</td>\n",
       "      <td>899.0</td>\n",
       "      <td>88.8</td>\n",
       "      <td>97.5</td>\n",
       "      <td>91.1</td>\n",
       "      <td>70.3</td>\n",
       "      <td>80.6</td>\n",
       "      <td>96.5</td>\n",
       "      <td>28.2</td>\n",
       "    </tr>\n",
       "    <tr>\n",
       "      <th>3</th>\n",
       "      <td>India</td>\n",
       "      <td>NFHS-3</td>\n",
       "      <td>Total</td>\n",
       "      <td>58.3</td>\n",
       "      <td>34.9</td>\n",
       "      <td>1000.0</td>\n",
       "      <td>914.0</td>\n",
       "      <td>914.0</td>\n",
       "      <td>41.2</td>\n",
       "      <td>67.9</td>\n",
       "      <td>87.6</td>\n",
       "      <td>29.1</td>\n",
       "      <td>25.5</td>\n",
       "      <td>76.1</td>\n",
       "      <td>4.8</td>\n",
       "    </tr>\n",
       "    <tr>\n",
       "      <th>4</th>\n",
       "      <td>Andhra Pradesh</td>\n",
       "      <td>NFHS-4</td>\n",
       "      <td>Total</td>\n",
       "      <td>62.0</td>\n",
       "      <td>23.7</td>\n",
       "      <td>1020.0</td>\n",
       "      <td>914.0</td>\n",
       "      <td>914.0</td>\n",
       "      <td>82.7</td>\n",
       "      <td>98.8</td>\n",
       "      <td>72.7</td>\n",
       "      <td>53.6</td>\n",
       "      <td>62.0</td>\n",
       "      <td>81.6</td>\n",
       "      <td>74.6</td>\n",
       "    </tr>\n",
       "  </tbody>\n",
       "</table>\n",
       "</div>"
      ],
      "text/plain": [
       "  India/States/UTs  Survey   Area  \\\n",
       "0            India  NFHS-4  Total   \n",
       "1            India  NFHS-4  Rural   \n",
       "2            India  NFHS-4  Urban   \n",
       "3            India  NFHS-3  Total   \n",
       "4   Andhra Pradesh  NFHS-4  Total   \n",
       "\n",
       "   Population and Household Profile - Population (female) age 6 years and above who ever attended school (%)  \\\n",
       "0                                               68.8                                                           \n",
       "1                                               63.0                                                           \n",
       "2                                               80.6                                                           \n",
       "3                                               58.3                                                           \n",
       "4                                               62.0                                                           \n",
       "\n",
       "   Population and Household Profile - Population below age 15 years (%)  \\\n",
       "0                                               28.6                      \n",
       "1                                               30.5                      \n",
       "2                                               24.9                      \n",
       "3                                               34.9                      \n",
       "4                                               23.7                      \n",
       "\n",
       "   Population and Household Profile - Sex ratio of the total population (females per 1000 males)  \\\n",
       "0                                              991.0                                               \n",
       "1                                             1009.0                                               \n",
       "2                                              956.0                                               \n",
       "3                                             1000.0                                               \n",
       "4                                             1020.0                                               \n",
       "\n",
       "   Population and Household Profile - Sex ratio at birth for children born in the last five years (females per 1000 males)  \\\n",
       "0                                              919.0                                                                         \n",
       "1                                              927.0                                                                         \n",
       "2                                              899.0                                                                         \n",
       "3                                              914.0                                                                         \n",
       "4                                              914.0                                                                         \n",
       "\n",
       "   Population and Household Profile - Sex ratio at birth for children born in the last five years (females per 1000 males)  \\\n",
       "0                                              919.0                                                                         \n",
       "1                                              927.0                                                                         \n",
       "2                                              899.0                                                                         \n",
       "3                                              914.0                                                                         \n",
       "4                                              914.0                                                                         \n",
       "\n",
       "   Population and Household Profile - Children under age 5 years whose birth was registered (%)  \\\n",
       "0                                               79.7                                              \n",
       "1                                               76.1                                              \n",
       "2                                               88.8                                              \n",
       "3                                               41.2                                              \n",
       "4                                               82.7                                              \n",
       "\n",
       "   Population and Household Profile - Households with electricity (%)  \\\n",
       "0                                               88.2                    \n",
       "1                                               83.2                    \n",
       "2                                               97.5                    \n",
       "3                                               67.9                    \n",
       "4                                               98.8                    \n",
       "\n",
       "   Population and Household Profile - Households with an improved drinking-water source (%)  \\\n",
       "0                                               89.9                                          \n",
       "1                                               89.3                                          \n",
       "2                                               91.1                                          \n",
       "3                                               87.6                                          \n",
       "4                                               72.7                                          \n",
       "\n",
       "   Population and Household Profile - Households using improved sanitation facility (%)  \\\n",
       "0                                               48.4                                      \n",
       "1                                               36.7                                      \n",
       "2                                               70.3                                      \n",
       "3                                               29.1                                      \n",
       "4                                               53.6                                      \n",
       "\n",
       "   Population and Household Profile - Households using clean fuel for cooking (%)  \\\n",
       "0                                               43.8                                \n",
       "1                                               24.0                                \n",
       "2                                               80.6                                \n",
       "3                                               25.5                                \n",
       "4                                               62.0                                \n",
       "\n",
       "   Population and Household Profile - Households using iodized salt (%)  \\\n",
       "0                                               93.1                      \n",
       "1                                               91.4                      \n",
       "2                                               96.5                      \n",
       "3                                               76.1                      \n",
       "4                                               81.6                      \n",
       "\n",
       "   Population and Household Profile - Households with any usual member covered by a health scheme or health insurance (%)  \n",
       "0                                               28.7                                                                       \n",
       "1                                               29.0                                                                       \n",
       "2                                               28.2                                                                       \n",
       "3                                                4.8                                                                       \n",
       "4                                               74.6                                                                       "
      ]
     },
     "execution_count": 44,
     "metadata": {},
     "output_type": "execute_result"
    }
   ],
   "source": [
    "health_insurance=data[['India/States/UTs','Survey','Area','Population and Household Profile - Population (female) age 6 years and above who ever attended school (%)','Population and Household Profile - Population below age 15 years (%)','Population and Household Profile - Sex ratio of the total population (females per 1000 males)','Population and Household Profile - Sex ratio at birth for children born in the last five years (females per 1000 males)','Population and Household Profile - Sex ratio at birth for children born in the last five years (females per 1000 males)','Population and Household Profile - Children under age 5 years whose birth was registered (%)','Population and Household Profile - Households with electricity (%)','Population and Household Profile - Households with an improved drinking-water source (%)','Population and Household Profile - Households using improved sanitation facility (%)','Population and Household Profile - Households using clean fuel for cooking (%)','Population and Household Profile - Households using iodized salt (%)','Population and Household Profile - Households with any usual member covered by a health scheme or health insurance (%)']]\n",
    "health_insurance.head()"
   ]
  },
  {
   "cell_type": "code",
   "execution_count": 45,
   "metadata": {},
   "outputs": [
    {
     "data": {
      "text/html": [
       "<div>\n",
       "<style scoped>\n",
       "    .dataframe tbody tr th:only-of-type {\n",
       "        vertical-align: middle;\n",
       "    }\n",
       "\n",
       "    .dataframe tbody tr th {\n",
       "        vertical-align: top;\n",
       "    }\n",
       "\n",
       "    .dataframe thead th {\n",
       "        text-align: right;\n",
       "    }\n",
       "</style>\n",
       "<table border=\"1\" class=\"dataframe\">\n",
       "  <thead>\n",
       "    <tr style=\"text-align: right;\">\n",
       "      <th></th>\n",
       "      <th>India/States/UTs</th>\n",
       "      <th>Survey</th>\n",
       "      <th>Area</th>\n",
       "      <th>F_6above_school</th>\n",
       "      <th>Population below age 15 years</th>\n",
       "      <th>Sex ratio of the total population (females per 1000 males)</th>\n",
       "      <th>Sex ratio at birth for children born in the last five years</th>\n",
       "      <th>Sex ratio at birth for children born in the last five years</th>\n",
       "      <th>Children under age 5 years whose birth was registered</th>\n",
       "      <th>Households with electricity</th>\n",
       "      <th>Households with an improved drinking-water</th>\n",
       "      <th>Households using improved sanitation facility</th>\n",
       "      <th>Households using clean fuel for cooking</th>\n",
       "      <th>Households using iodized salt</th>\n",
       "      <th>health_insurance</th>\n",
       "    </tr>\n",
       "  </thead>\n",
       "  <tbody>\n",
       "    <tr>\n",
       "      <th>0</th>\n",
       "      <td>India</td>\n",
       "      <td>NFHS-4</td>\n",
       "      <td>Total</td>\n",
       "      <td>68.8</td>\n",
       "      <td>28.6</td>\n",
       "      <td>991.0</td>\n",
       "      <td>919.0</td>\n",
       "      <td>919.0</td>\n",
       "      <td>79.7</td>\n",
       "      <td>88.2</td>\n",
       "      <td>89.9</td>\n",
       "      <td>48.4</td>\n",
       "      <td>43.8</td>\n",
       "      <td>93.1</td>\n",
       "      <td>28.7</td>\n",
       "    </tr>\n",
       "    <tr>\n",
       "      <th>1</th>\n",
       "      <td>India</td>\n",
       "      <td>NFHS-4</td>\n",
       "      <td>Rural</td>\n",
       "      <td>63.0</td>\n",
       "      <td>30.5</td>\n",
       "      <td>1009.0</td>\n",
       "      <td>927.0</td>\n",
       "      <td>927.0</td>\n",
       "      <td>76.1</td>\n",
       "      <td>83.2</td>\n",
       "      <td>89.3</td>\n",
       "      <td>36.7</td>\n",
       "      <td>24.0</td>\n",
       "      <td>91.4</td>\n",
       "      <td>29.0</td>\n",
       "    </tr>\n",
       "    <tr>\n",
       "      <th>2</th>\n",
       "      <td>India</td>\n",
       "      <td>NFHS-4</td>\n",
       "      <td>Urban</td>\n",
       "      <td>80.6</td>\n",
       "      <td>24.9</td>\n",
       "      <td>956.0</td>\n",
       "      <td>899.0</td>\n",
       "      <td>899.0</td>\n",
       "      <td>88.8</td>\n",
       "      <td>97.5</td>\n",
       "      <td>91.1</td>\n",
       "      <td>70.3</td>\n",
       "      <td>80.6</td>\n",
       "      <td>96.5</td>\n",
       "      <td>28.2</td>\n",
       "    </tr>\n",
       "    <tr>\n",
       "      <th>3</th>\n",
       "      <td>India</td>\n",
       "      <td>NFHS-3</td>\n",
       "      <td>Total</td>\n",
       "      <td>58.3</td>\n",
       "      <td>34.9</td>\n",
       "      <td>1000.0</td>\n",
       "      <td>914.0</td>\n",
       "      <td>914.0</td>\n",
       "      <td>41.2</td>\n",
       "      <td>67.9</td>\n",
       "      <td>87.6</td>\n",
       "      <td>29.1</td>\n",
       "      <td>25.5</td>\n",
       "      <td>76.1</td>\n",
       "      <td>4.8</td>\n",
       "    </tr>\n",
       "    <tr>\n",
       "      <th>4</th>\n",
       "      <td>Andhra Pradesh</td>\n",
       "      <td>NFHS-4</td>\n",
       "      <td>Total</td>\n",
       "      <td>62.0</td>\n",
       "      <td>23.7</td>\n",
       "      <td>1020.0</td>\n",
       "      <td>914.0</td>\n",
       "      <td>914.0</td>\n",
       "      <td>82.7</td>\n",
       "      <td>98.8</td>\n",
       "      <td>72.7</td>\n",
       "      <td>53.6</td>\n",
       "      <td>62.0</td>\n",
       "      <td>81.6</td>\n",
       "      <td>74.6</td>\n",
       "    </tr>\n",
       "  </tbody>\n",
       "</table>\n",
       "</div>"
      ],
      "text/plain": [
       "  India/States/UTs  Survey   Area  F_6above_school  \\\n",
       "0            India  NFHS-4  Total             68.8   \n",
       "1            India  NFHS-4  Rural             63.0   \n",
       "2            India  NFHS-4  Urban             80.6   \n",
       "3            India  NFHS-3  Total             58.3   \n",
       "4   Andhra Pradesh  NFHS-4  Total             62.0   \n",
       "\n",
       "   Population below age 15 years  \\\n",
       "0                           28.6   \n",
       "1                           30.5   \n",
       "2                           24.9   \n",
       "3                           34.9   \n",
       "4                           23.7   \n",
       "\n",
       "   Sex ratio of the total population (females per 1000 males)  \\\n",
       "0                                              991.0            \n",
       "1                                             1009.0            \n",
       "2                                              956.0            \n",
       "3                                             1000.0            \n",
       "4                                             1020.0            \n",
       "\n",
       "   Sex ratio at birth for children born in the last five years  \\\n",
       "0                                              919.0             \n",
       "1                                              927.0             \n",
       "2                                              899.0             \n",
       "3                                              914.0             \n",
       "4                                              914.0             \n",
       "\n",
       "   Sex ratio at birth for children born in the last five years  \\\n",
       "0                                              919.0             \n",
       "1                                              927.0             \n",
       "2                                              899.0             \n",
       "3                                              914.0             \n",
       "4                                              914.0             \n",
       "\n",
       "   Children under age 5 years whose birth was registered  \\\n",
       "0                                               79.7       \n",
       "1                                               76.1       \n",
       "2                                               88.8       \n",
       "3                                               41.2       \n",
       "4                                               82.7       \n",
       "\n",
       "   Households with electricity  Households with an improved drinking-water  \\\n",
       "0                         88.2                                        89.9   \n",
       "1                         83.2                                        89.3   \n",
       "2                         97.5                                        91.1   \n",
       "3                         67.9                                        87.6   \n",
       "4                         98.8                                        72.7   \n",
       "\n",
       "   Households using improved sanitation facility  \\\n",
       "0                                           48.4   \n",
       "1                                           36.7   \n",
       "2                                           70.3   \n",
       "3                                           29.1   \n",
       "4                                           53.6   \n",
       "\n",
       "   Households using clean fuel for cooking  Households using iodized salt  \\\n",
       "0                                     43.8                           93.1   \n",
       "1                                     24.0                           91.4   \n",
       "2                                     80.6                           96.5   \n",
       "3                                     25.5                           76.1   \n",
       "4                                     62.0                           81.6   \n",
       "\n",
       "   health_insurance  \n",
       "0              28.7  \n",
       "1              29.0  \n",
       "2              28.2  \n",
       "3               4.8  \n",
       "4              74.6  "
      ]
     },
     "execution_count": 45,
     "metadata": {},
     "output_type": "execute_result"
    }
   ],
   "source": [
    "health_insurance=health_insurance.rename(columns={'Population and Household Profile - Population (female) age 6 years and above who ever attended school (%)':'F_6above_school','Population and Household Profile - Population below age 15 years (%)':'Population below age 15 years','Population and Household Profile - Sex ratio of the total population (females per 1000 males)':'Sex ratio of the total population (females per 1000 males)','Population and Household Profile - Sex ratio at birth for children born in the last five years (females per 1000 males)':'Sex ratio at birth for children born in the last five years','Population and Household Profile - Children under age 5 years whose birth was registered (%)':'Children under age 5 years whose birth was registered','Population and Household Profile - Households with electricity (%)':'Households with electricity','Population and Household Profile - Households with an improved drinking-water source (%)':'Households with an improved drinking-water','Population and Household Profile - Households using improved sanitation facility (%)':'Households using improved sanitation facility','Population and Household Profile - Households using clean fuel for cooking (%)':'Households using clean fuel for cooking','Population and Household Profile - Households using iodized salt (%)':'Households using iodized salt','Population and Household Profile - Households with any usual member covered by a health scheme or health insurance (%)':'health_insurance'})\n",
    "health_insurance.head()"
   ]
  },
  {
   "cell_type": "code",
   "execution_count": 8,
   "metadata": {},
   "outputs": [
    {
     "data": {
      "text/plain": [
       "India/States/UTs                                                0\n",
       "Survey                                                          0\n",
       "Area                                                            0\n",
       "F_6above_school                                                10\n",
       "Population below age 15 years                                  10\n",
       "Sex ratio of the total population (females per 1000 males)     10\n",
       "Sex ratio at birth for children born in the last five years    12\n",
       "Sex ratio at birth for children born in the last five years    12\n",
       "Children under age 5 years whose birth was registered          10\n",
       "Households with electricity                                    10\n",
       "Households with an improved drinking-water                     10\n",
       "Households using improved sanitation facility                  10\n",
       "Households using clean fuel for cooking                        10\n",
       "Households using iodized salt                                  10\n",
       "health_insurance                                               10\n",
       "dtype: int64"
      ]
     },
     "execution_count": 8,
     "metadata": {},
     "output_type": "execute_result"
    }
   ],
   "source": [
    "health_insurance.isnull().sum()"
   ]
  },
  {
   "cell_type": "code",
   "execution_count": 46,
   "metadata": {},
   "outputs": [
    {
     "data": {
      "text/html": [
       "<div>\n",
       "<style scoped>\n",
       "    .dataframe tbody tr th:only-of-type {\n",
       "        vertical-align: middle;\n",
       "    }\n",
       "\n",
       "    .dataframe tbody tr th {\n",
       "        vertical-align: top;\n",
       "    }\n",
       "\n",
       "    .dataframe thead th {\n",
       "        text-align: right;\n",
       "    }\n",
       "</style>\n",
       "<table border=\"1\" class=\"dataframe\">\n",
       "  <thead>\n",
       "    <tr style=\"text-align: right;\">\n",
       "      <th></th>\n",
       "      <th>India/States/UTs</th>\n",
       "      <th>Survey</th>\n",
       "      <th>Area</th>\n",
       "      <th>F_6above_school</th>\n",
       "      <th>Population below age 15 years</th>\n",
       "      <th>Sex ratio of the total population (females per 1000 males)</th>\n",
       "      <th>Sex ratio at birth for children born in the last five years</th>\n",
       "      <th>Sex ratio at birth for children born in the last five years</th>\n",
       "      <th>Children under age 5 years whose birth was registered</th>\n",
       "      <th>Households with electricity</th>\n",
       "      <th>Households with an improved drinking-water</th>\n",
       "      <th>Households using improved sanitation facility</th>\n",
       "      <th>Households using clean fuel for cooking</th>\n",
       "      <th>Households using iodized salt</th>\n",
       "      <th>health_insurance</th>\n",
       "    </tr>\n",
       "  </thead>\n",
       "  <tbody>\n",
       "    <tr>\n",
       "      <th>7</th>\n",
       "      <td>Andhra Pradesh</td>\n",
       "      <td>NFHS-3</td>\n",
       "      <td>Total</td>\n",
       "      <td>NaN</td>\n",
       "      <td>NaN</td>\n",
       "      <td>NaN</td>\n",
       "      <td>NaN</td>\n",
       "      <td>NaN</td>\n",
       "      <td>NaN</td>\n",
       "      <td>NaN</td>\n",
       "      <td>NaN</td>\n",
       "      <td>NaN</td>\n",
       "      <td>NaN</td>\n",
       "      <td>NaN</td>\n",
       "      <td>NaN</td>\n",
       "    </tr>\n",
       "    <tr>\n",
       "      <th>67</th>\n",
       "      <td>Telangana</td>\n",
       "      <td>NFHS-3</td>\n",
       "      <td>Total</td>\n",
       "      <td>NaN</td>\n",
       "      <td>NaN</td>\n",
       "      <td>NaN</td>\n",
       "      <td>NaN</td>\n",
       "      <td>NaN</td>\n",
       "      <td>NaN</td>\n",
       "      <td>NaN</td>\n",
       "      <td>NaN</td>\n",
       "      <td>NaN</td>\n",
       "      <td>NaN</td>\n",
       "      <td>NaN</td>\n",
       "      <td>NaN</td>\n",
       "    </tr>\n",
       "    <tr>\n",
       "      <th>127</th>\n",
       "      <td>Andaman and Nicobar Islands</td>\n",
       "      <td>NFHS-3</td>\n",
       "      <td>Total</td>\n",
       "      <td>NaN</td>\n",
       "      <td>NaN</td>\n",
       "      <td>NaN</td>\n",
       "      <td>NaN</td>\n",
       "      <td>NaN</td>\n",
       "      <td>NaN</td>\n",
       "      <td>NaN</td>\n",
       "      <td>NaN</td>\n",
       "      <td>NaN</td>\n",
       "      <td>NaN</td>\n",
       "      <td>NaN</td>\n",
       "      <td>NaN</td>\n",
       "    </tr>\n",
       "    <tr>\n",
       "      <th>129</th>\n",
       "      <td>Chandigarh</td>\n",
       "      <td>NFHS-4</td>\n",
       "      <td>Rural</td>\n",
       "      <td>NaN</td>\n",
       "      <td>NaN</td>\n",
       "      <td>NaN</td>\n",
       "      <td>NaN</td>\n",
       "      <td>NaN</td>\n",
       "      <td>NaN</td>\n",
       "      <td>NaN</td>\n",
       "      <td>NaN</td>\n",
       "      <td>NaN</td>\n",
       "      <td>NaN</td>\n",
       "      <td>NaN</td>\n",
       "      <td>NaN</td>\n",
       "    </tr>\n",
       "    <tr>\n",
       "      <th>130</th>\n",
       "      <td>Chandigarh</td>\n",
       "      <td>NFHS-4</td>\n",
       "      <td>Urban</td>\n",
       "      <td>NaN</td>\n",
       "      <td>NaN</td>\n",
       "      <td>NaN</td>\n",
       "      <td>NaN</td>\n",
       "      <td>NaN</td>\n",
       "      <td>NaN</td>\n",
       "      <td>NaN</td>\n",
       "      <td>NaN</td>\n",
       "      <td>NaN</td>\n",
       "      <td>NaN</td>\n",
       "      <td>NaN</td>\n",
       "      <td>NaN</td>\n",
       "    </tr>\n",
       "    <tr>\n",
       "      <th>131</th>\n",
       "      <td>Chandigarh</td>\n",
       "      <td>NFHS-3</td>\n",
       "      <td>Total</td>\n",
       "      <td>NaN</td>\n",
       "      <td>NaN</td>\n",
       "      <td>NaN</td>\n",
       "      <td>NaN</td>\n",
       "      <td>NaN</td>\n",
       "      <td>NaN</td>\n",
       "      <td>NaN</td>\n",
       "      <td>NaN</td>\n",
       "      <td>NaN</td>\n",
       "      <td>NaN</td>\n",
       "      <td>NaN</td>\n",
       "      <td>NaN</td>\n",
       "    </tr>\n",
       "    <tr>\n",
       "      <th>135</th>\n",
       "      <td>Dadra and Nagar Haveli</td>\n",
       "      <td>NFHS-3</td>\n",
       "      <td>Total</td>\n",
       "      <td>NaN</td>\n",
       "      <td>NaN</td>\n",
       "      <td>NaN</td>\n",
       "      <td>NaN</td>\n",
       "      <td>NaN</td>\n",
       "      <td>NaN</td>\n",
       "      <td>NaN</td>\n",
       "      <td>NaN</td>\n",
       "      <td>NaN</td>\n",
       "      <td>NaN</td>\n",
       "      <td>NaN</td>\n",
       "      <td>NaN</td>\n",
       "    </tr>\n",
       "    <tr>\n",
       "      <th>139</th>\n",
       "      <td>Daman and Diu</td>\n",
       "      <td>NFHS-3</td>\n",
       "      <td>Total</td>\n",
       "      <td>NaN</td>\n",
       "      <td>NaN</td>\n",
       "      <td>NaN</td>\n",
       "      <td>NaN</td>\n",
       "      <td>NaN</td>\n",
       "      <td>NaN</td>\n",
       "      <td>NaN</td>\n",
       "      <td>NaN</td>\n",
       "      <td>NaN</td>\n",
       "      <td>NaN</td>\n",
       "      <td>NaN</td>\n",
       "      <td>NaN</td>\n",
       "    </tr>\n",
       "    <tr>\n",
       "      <th>143</th>\n",
       "      <td>Lakshadweep</td>\n",
       "      <td>NFHS-3</td>\n",
       "      <td>Total</td>\n",
       "      <td>NaN</td>\n",
       "      <td>NaN</td>\n",
       "      <td>NaN</td>\n",
       "      <td>NaN</td>\n",
       "      <td>NaN</td>\n",
       "      <td>NaN</td>\n",
       "      <td>NaN</td>\n",
       "      <td>NaN</td>\n",
       "      <td>NaN</td>\n",
       "      <td>NaN</td>\n",
       "      <td>NaN</td>\n",
       "      <td>NaN</td>\n",
       "    </tr>\n",
       "    <tr>\n",
       "      <th>147</th>\n",
       "      <td>Puducherry</td>\n",
       "      <td>NFHS-3</td>\n",
       "      <td>Total</td>\n",
       "      <td>NaN</td>\n",
       "      <td>NaN</td>\n",
       "      <td>NaN</td>\n",
       "      <td>NaN</td>\n",
       "      <td>NaN</td>\n",
       "      <td>NaN</td>\n",
       "      <td>NaN</td>\n",
       "      <td>NaN</td>\n",
       "      <td>NaN</td>\n",
       "      <td>NaN</td>\n",
       "      <td>NaN</td>\n",
       "      <td>NaN</td>\n",
       "    </tr>\n",
       "  </tbody>\n",
       "</table>\n",
       "</div>"
      ],
      "text/plain": [
       "                India/States/UTs  Survey   Area  F_6above_school  \\\n",
       "7                 Andhra Pradesh  NFHS-3  Total              NaN   \n",
       "67                     Telangana  NFHS-3  Total              NaN   \n",
       "127  Andaman and Nicobar Islands  NFHS-3  Total              NaN   \n",
       "129                   Chandigarh  NFHS-4  Rural              NaN   \n",
       "130                   Chandigarh  NFHS-4  Urban              NaN   \n",
       "131                   Chandigarh  NFHS-3  Total              NaN   \n",
       "135       Dadra and Nagar Haveli  NFHS-3  Total              NaN   \n",
       "139                Daman and Diu  NFHS-3  Total              NaN   \n",
       "143                  Lakshadweep  NFHS-3  Total              NaN   \n",
       "147                   Puducherry  NFHS-3  Total              NaN   \n",
       "\n",
       "     Population below age 15 years  \\\n",
       "7                              NaN   \n",
       "67                             NaN   \n",
       "127                            NaN   \n",
       "129                            NaN   \n",
       "130                            NaN   \n",
       "131                            NaN   \n",
       "135                            NaN   \n",
       "139                            NaN   \n",
       "143                            NaN   \n",
       "147                            NaN   \n",
       "\n",
       "     Sex ratio of the total population (females per 1000 males)  \\\n",
       "7                                                  NaN            \n",
       "67                                                 NaN            \n",
       "127                                                NaN            \n",
       "129                                                NaN            \n",
       "130                                                NaN            \n",
       "131                                                NaN            \n",
       "135                                                NaN            \n",
       "139                                                NaN            \n",
       "143                                                NaN            \n",
       "147                                                NaN            \n",
       "\n",
       "     Sex ratio at birth for children born in the last five years  \\\n",
       "7                                                  NaN             \n",
       "67                                                 NaN             \n",
       "127                                                NaN             \n",
       "129                                                NaN             \n",
       "130                                                NaN             \n",
       "131                                                NaN             \n",
       "135                                                NaN             \n",
       "139                                                NaN             \n",
       "143                                                NaN             \n",
       "147                                                NaN             \n",
       "\n",
       "     Sex ratio at birth for children born in the last five years  \\\n",
       "7                                                  NaN             \n",
       "67                                                 NaN             \n",
       "127                                                NaN             \n",
       "129                                                NaN             \n",
       "130                                                NaN             \n",
       "131                                                NaN             \n",
       "135                                                NaN             \n",
       "139                                                NaN             \n",
       "143                                                NaN             \n",
       "147                                                NaN             \n",
       "\n",
       "     Children under age 5 years whose birth was registered  \\\n",
       "7                                                  NaN       \n",
       "67                                                 NaN       \n",
       "127                                                NaN       \n",
       "129                                                NaN       \n",
       "130                                                NaN       \n",
       "131                                                NaN       \n",
       "135                                                NaN       \n",
       "139                                                NaN       \n",
       "143                                                NaN       \n",
       "147                                                NaN       \n",
       "\n",
       "     Households with electricity  Households with an improved drinking-water  \\\n",
       "7                            NaN                                         NaN   \n",
       "67                           NaN                                         NaN   \n",
       "127                          NaN                                         NaN   \n",
       "129                          NaN                                         NaN   \n",
       "130                          NaN                                         NaN   \n",
       "131                          NaN                                         NaN   \n",
       "135                          NaN                                         NaN   \n",
       "139                          NaN                                         NaN   \n",
       "143                          NaN                                         NaN   \n",
       "147                          NaN                                         NaN   \n",
       "\n",
       "     Households using improved sanitation facility  \\\n",
       "7                                              NaN   \n",
       "67                                             NaN   \n",
       "127                                            NaN   \n",
       "129                                            NaN   \n",
       "130                                            NaN   \n",
       "131                                            NaN   \n",
       "135                                            NaN   \n",
       "139                                            NaN   \n",
       "143                                            NaN   \n",
       "147                                            NaN   \n",
       "\n",
       "     Households using clean fuel for cooking  Households using iodized salt  \\\n",
       "7                                        NaN                            NaN   \n",
       "67                                       NaN                            NaN   \n",
       "127                                      NaN                            NaN   \n",
       "129                                      NaN                            NaN   \n",
       "130                                      NaN                            NaN   \n",
       "131                                      NaN                            NaN   \n",
       "135                                      NaN                            NaN   \n",
       "139                                      NaN                            NaN   \n",
       "143                                      NaN                            NaN   \n",
       "147                                      NaN                            NaN   \n",
       "\n",
       "     health_insurance  \n",
       "7                 NaN  \n",
       "67                NaN  \n",
       "127               NaN  \n",
       "129               NaN  \n",
       "130               NaN  \n",
       "131               NaN  \n",
       "135               NaN  \n",
       "139               NaN  \n",
       "143               NaN  \n",
       "147               NaN  "
      ]
     },
     "execution_count": 46,
     "metadata": {},
     "output_type": "execute_result"
    }
   ],
   "source": [
    "health_insurance[health_insurance['F_6above_school'].isnull()]"
   ]
  },
  {
   "cell_type": "code",
   "execution_count": 14,
   "metadata": {},
   "outputs": [
    {
     "data": {
      "text/plain": [
       "India/States/UTs                                               0\n",
       "Survey                                                         0\n",
       "Area                                                           0\n",
       "F_6above_school                                                0\n",
       "Population below age 15 years                                  0\n",
       "Sex ratio of the total population (females per 1000 males)     0\n",
       "Sex ratio at birth for children born in the last five years    2\n",
       "Sex ratio at birth for children born in the last five years    2\n",
       "Children under age 5 years whose birth was registered          0\n",
       "Households with electricity                                    0\n",
       "Households with an improved drinking-water                     0\n",
       "Households using improved sanitation facility                  0\n",
       "Households using clean fuel for cooking                        0\n",
       "Households using iodized salt                                  0\n",
       "health_insurance                                               0\n",
       "dtype: int64"
      ]
     },
     "execution_count": 14,
     "metadata": {},
     "output_type": "execute_result"
    }
   ],
   "source": [
    "health_insurance1=health_insurance[~health_insurance.F_6above_school.isnull()]\n",
    "health_insurance1.isnull().sum()"
   ]
  },
  {
   "cell_type": "code",
   "execution_count": 47,
   "metadata": {},
   "outputs": [
    {
     "data": {
      "text/html": [
       "<div>\n",
       "<style scoped>\n",
       "    .dataframe tbody tr th:only-of-type {\n",
       "        vertical-align: middle;\n",
       "    }\n",
       "\n",
       "    .dataframe tbody tr th {\n",
       "        vertical-align: top;\n",
       "    }\n",
       "\n",
       "    .dataframe thead th {\n",
       "        text-align: right;\n",
       "    }\n",
       "</style>\n",
       "<table border=\"1\" class=\"dataframe\">\n",
       "  <thead>\n",
       "    <tr style=\"text-align: right;\">\n",
       "      <th></th>\n",
       "      <th>Sex ratio at birth for children born in the last five years</th>\n",
       "      <th>Sex ratio at birth for children born in the last five years</th>\n",
       "    </tr>\n",
       "  </thead>\n",
       "  <tbody>\n",
       "    <tr>\n",
       "      <th>0</th>\n",
       "      <td>919.0</td>\n",
       "      <td>919.0</td>\n",
       "    </tr>\n",
       "    <tr>\n",
       "      <th>1</th>\n",
       "      <td>927.0</td>\n",
       "      <td>927.0</td>\n",
       "    </tr>\n",
       "    <tr>\n",
       "      <th>2</th>\n",
       "      <td>899.0</td>\n",
       "      <td>899.0</td>\n",
       "    </tr>\n",
       "    <tr>\n",
       "      <th>3</th>\n",
       "      <td>914.0</td>\n",
       "      <td>914.0</td>\n",
       "    </tr>\n",
       "    <tr>\n",
       "      <th>4</th>\n",
       "      <td>914.0</td>\n",
       "      <td>914.0</td>\n",
       "    </tr>\n",
       "    <tr>\n",
       "      <th>...</th>\n",
       "      <td>...</td>\n",
       "      <td>...</td>\n",
       "    </tr>\n",
       "    <tr>\n",
       "      <th>141</th>\n",
       "      <td>NaN</td>\n",
       "      <td>NaN</td>\n",
       "    </tr>\n",
       "    <tr>\n",
       "      <th>142</th>\n",
       "      <td>932.0</td>\n",
       "      <td>932.0</td>\n",
       "    </tr>\n",
       "    <tr>\n",
       "      <th>144</th>\n",
       "      <td>843.0</td>\n",
       "      <td>843.0</td>\n",
       "    </tr>\n",
       "    <tr>\n",
       "      <th>145</th>\n",
       "      <td>992.0</td>\n",
       "      <td>992.0</td>\n",
       "    </tr>\n",
       "    <tr>\n",
       "      <th>146</th>\n",
       "      <td>786.0</td>\n",
       "      <td>786.0</td>\n",
       "    </tr>\n",
       "  </tbody>\n",
       "</table>\n",
       "<p>138 rows × 2 columns</p>\n",
       "</div>"
      ],
      "text/plain": [
       "     Sex ratio at birth for children born in the last five years  \\\n",
       "0                                                919.0             \n",
       "1                                                927.0             \n",
       "2                                                899.0             \n",
       "3                                                914.0             \n",
       "4                                                914.0             \n",
       "..                                                 ...             \n",
       "141                                                NaN             \n",
       "142                                              932.0             \n",
       "144                                              843.0             \n",
       "145                                              992.0             \n",
       "146                                              786.0             \n",
       "\n",
       "     Sex ratio at birth for children born in the last five years  \n",
       "0                                                919.0            \n",
       "1                                                927.0            \n",
       "2                                                899.0            \n",
       "3                                                914.0            \n",
       "4                                                914.0            \n",
       "..                                                 ...            \n",
       "141                                                NaN            \n",
       "142                                              932.0            \n",
       "144                                              843.0            \n",
       "145                                              992.0            \n",
       "146                                              786.0            \n",
       "\n",
       "[138 rows x 2 columns]"
      ]
     },
     "execution_count": 47,
     "metadata": {},
     "output_type": "execute_result"
    }
   ],
   "source": [
    "## We still have tow column null values. Let's see why they are missing?\n",
    "health_insurance1[['Sex ratio at birth for children born in the last five years','Sex ratio at birth for children born in the last five years']]"
   ]
  },
  {
   "cell_type": "code",
   "execution_count": 48,
   "metadata": {},
   "outputs": [
    {
     "data": {
      "text/html": [
       "<div>\n",
       "<style scoped>\n",
       "    .dataframe tbody tr th:only-of-type {\n",
       "        vertical-align: middle;\n",
       "    }\n",
       "\n",
       "    .dataframe tbody tr th {\n",
       "        vertical-align: top;\n",
       "    }\n",
       "\n",
       "    .dataframe thead th {\n",
       "        text-align: right;\n",
       "    }\n",
       "</style>\n",
       "<table border=\"1\" class=\"dataframe\">\n",
       "  <thead>\n",
       "    <tr style=\"text-align: right;\">\n",
       "      <th></th>\n",
       "      <th>India/States/UTs</th>\n",
       "      <th>Survey</th>\n",
       "      <th>Area</th>\n",
       "      <th>F_6above_school</th>\n",
       "      <th>Population below age 15 years</th>\n",
       "      <th>Sex ratio of the total population (females per 1000 males)</th>\n",
       "      <th>Sex ratio at birth for children born in the last five years</th>\n",
       "      <th>Children under age 5 years whose birth was registered</th>\n",
       "      <th>Households with electricity</th>\n",
       "      <th>Households with an improved drinking-water</th>\n",
       "      <th>Households using improved sanitation facility</th>\n",
       "      <th>Households using clean fuel for cooking</th>\n",
       "      <th>Households using iodized salt</th>\n",
       "      <th>health_insurance</th>\n",
       "    </tr>\n",
       "  </thead>\n",
       "  <tbody>\n",
       "    <tr>\n",
       "      <th>0</th>\n",
       "      <td>India</td>\n",
       "      <td>NFHS-4</td>\n",
       "      <td>Total</td>\n",
       "      <td>68.8</td>\n",
       "      <td>28.6</td>\n",
       "      <td>991.0</td>\n",
       "      <td>919.0</td>\n",
       "      <td>79.7</td>\n",
       "      <td>88.2</td>\n",
       "      <td>89.9</td>\n",
       "      <td>48.4</td>\n",
       "      <td>43.8</td>\n",
       "      <td>93.1</td>\n",
       "      <td>28.7</td>\n",
       "    </tr>\n",
       "    <tr>\n",
       "      <th>1</th>\n",
       "      <td>India</td>\n",
       "      <td>NFHS-4</td>\n",
       "      <td>Rural</td>\n",
       "      <td>63.0</td>\n",
       "      <td>30.5</td>\n",
       "      <td>1009.0</td>\n",
       "      <td>927.0</td>\n",
       "      <td>76.1</td>\n",
       "      <td>83.2</td>\n",
       "      <td>89.3</td>\n",
       "      <td>36.7</td>\n",
       "      <td>24.0</td>\n",
       "      <td>91.4</td>\n",
       "      <td>29.0</td>\n",
       "    </tr>\n",
       "    <tr>\n",
       "      <th>2</th>\n",
       "      <td>India</td>\n",
       "      <td>NFHS-4</td>\n",
       "      <td>Urban</td>\n",
       "      <td>80.6</td>\n",
       "      <td>24.9</td>\n",
       "      <td>956.0</td>\n",
       "      <td>899.0</td>\n",
       "      <td>88.8</td>\n",
       "      <td>97.5</td>\n",
       "      <td>91.1</td>\n",
       "      <td>70.3</td>\n",
       "      <td>80.6</td>\n",
       "      <td>96.5</td>\n",
       "      <td>28.2</td>\n",
       "    </tr>\n",
       "    <tr>\n",
       "      <th>3</th>\n",
       "      <td>India</td>\n",
       "      <td>NFHS-3</td>\n",
       "      <td>Total</td>\n",
       "      <td>58.3</td>\n",
       "      <td>34.9</td>\n",
       "      <td>1000.0</td>\n",
       "      <td>914.0</td>\n",
       "      <td>41.2</td>\n",
       "      <td>67.9</td>\n",
       "      <td>87.6</td>\n",
       "      <td>29.1</td>\n",
       "      <td>25.5</td>\n",
       "      <td>76.1</td>\n",
       "      <td>4.8</td>\n",
       "    </tr>\n",
       "    <tr>\n",
       "      <th>4</th>\n",
       "      <td>Andhra Pradesh</td>\n",
       "      <td>NFHS-4</td>\n",
       "      <td>Total</td>\n",
       "      <td>62.0</td>\n",
       "      <td>23.7</td>\n",
       "      <td>1020.0</td>\n",
       "      <td>914.0</td>\n",
       "      <td>82.7</td>\n",
       "      <td>98.8</td>\n",
       "      <td>72.7</td>\n",
       "      <td>53.6</td>\n",
       "      <td>62.0</td>\n",
       "      <td>81.6</td>\n",
       "      <td>74.6</td>\n",
       "    </tr>\n",
       "  </tbody>\n",
       "</table>\n",
       "</div>"
      ],
      "text/plain": [
       "  India/States/UTs  Survey   Area  F_6above_school  \\\n",
       "0            India  NFHS-4  Total             68.8   \n",
       "1            India  NFHS-4  Rural             63.0   \n",
       "2            India  NFHS-4  Urban             80.6   \n",
       "3            India  NFHS-3  Total             58.3   \n",
       "4   Andhra Pradesh  NFHS-4  Total             62.0   \n",
       "\n",
       "   Population below age 15 years  \\\n",
       "0                           28.6   \n",
       "1                           30.5   \n",
       "2                           24.9   \n",
       "3                           34.9   \n",
       "4                           23.7   \n",
       "\n",
       "   Sex ratio of the total population (females per 1000 males)  \\\n",
       "0                                              991.0            \n",
       "1                                             1009.0            \n",
       "2                                              956.0            \n",
       "3                                             1000.0            \n",
       "4                                             1020.0            \n",
       "\n",
       "   Sex ratio at birth for children born in the last five years  \\\n",
       "0                                              919.0             \n",
       "1                                              927.0             \n",
       "2                                              899.0             \n",
       "3                                              914.0             \n",
       "4                                              914.0             \n",
       "\n",
       "   Children under age 5 years whose birth was registered  \\\n",
       "0                                               79.7       \n",
       "1                                               76.1       \n",
       "2                                               88.8       \n",
       "3                                               41.2       \n",
       "4                                               82.7       \n",
       "\n",
       "   Households with electricity  Households with an improved drinking-water  \\\n",
       "0                         88.2                                        89.9   \n",
       "1                         83.2                                        89.3   \n",
       "2                         97.5                                        91.1   \n",
       "3                         67.9                                        87.6   \n",
       "4                         98.8                                        72.7   \n",
       "\n",
       "   Households using improved sanitation facility  \\\n",
       "0                                           48.4   \n",
       "1                                           36.7   \n",
       "2                                           70.3   \n",
       "3                                           29.1   \n",
       "4                                           53.6   \n",
       "\n",
       "   Households using clean fuel for cooking  Households using iodized salt  \\\n",
       "0                                     43.8                           93.1   \n",
       "1                                     24.0                           91.4   \n",
       "2                                     80.6                           96.5   \n",
       "3                                     25.5                           76.1   \n",
       "4                                     62.0                           81.6   \n",
       "\n",
       "   health_insurance  \n",
       "0              28.7  \n",
       "1              29.0  \n",
       "2              28.2  \n",
       "3               4.8  \n",
       "4              74.6  "
      ]
     },
     "execution_count": 48,
     "metadata": {},
     "output_type": "execute_result"
    }
   ],
   "source": [
    "## We see there is a duplicate column which we have not deleted.\n",
    "health_insurance1 = health_insurance1.loc[:,~health_insurance1.columns.duplicated()]\n",
    "health_insurance1.head()"
   ]
  },
  {
   "cell_type": "code",
   "execution_count": 14,
   "metadata": {},
   "outputs": [
    {
     "data": {
      "text/plain": [
       "India/States/UTs                                               0\n",
       "Survey                                                         0\n",
       "Area                                                           0\n",
       "F_6above_school                                                0\n",
       "Population below age 15 years                                  0\n",
       "Sex ratio of the total population (females per 1000 males)     0\n",
       "Sex ratio at birth for children born in the last five years    2\n",
       "Children under age 5 years whose birth was registered          0\n",
       "Households with electricity                                    0\n",
       "Households with an improved drinking-water                     0\n",
       "Households using improved sanitation facility                  0\n",
       "Households using clean fuel for cooking                        0\n",
       "Households using iodized salt                                  0\n",
       "health_insurance                                               0\n",
       "dtype: int64"
      ]
     },
     "execution_count": 14,
     "metadata": {},
     "output_type": "execute_result"
    }
   ],
   "source": [
    "health_insurance1.isnull().sum()"
   ]
  },
  {
   "cell_type": "code",
   "execution_count": 49,
   "metadata": {},
   "outputs": [
    {
     "data": {
      "text/html": [
       "<div>\n",
       "<style scoped>\n",
       "    .dataframe tbody tr th:only-of-type {\n",
       "        vertical-align: middle;\n",
       "    }\n",
       "\n",
       "    .dataframe tbody tr th {\n",
       "        vertical-align: top;\n",
       "    }\n",
       "\n",
       "    .dataframe thead th {\n",
       "        text-align: right;\n",
       "    }\n",
       "</style>\n",
       "<table border=\"1\" class=\"dataframe\">\n",
       "  <thead>\n",
       "    <tr style=\"text-align: right;\">\n",
       "      <th></th>\n",
       "      <th>India/States/UTs</th>\n",
       "      <th>Survey</th>\n",
       "      <th>Area</th>\n",
       "      <th>F_6above_school</th>\n",
       "      <th>Population below age 15 years</th>\n",
       "      <th>Sex ratio of the total population (females per 1000 males)</th>\n",
       "      <th>Sex ratio at birth for children born in the last five years</th>\n",
       "      <th>Children under age 5 years whose birth was registered</th>\n",
       "      <th>Households with electricity</th>\n",
       "      <th>Households with an improved drinking-water</th>\n",
       "      <th>Households using improved sanitation facility</th>\n",
       "      <th>Households using clean fuel for cooking</th>\n",
       "      <th>Households using iodized salt</th>\n",
       "      <th>health_insurance</th>\n",
       "    </tr>\n",
       "  </thead>\n",
       "  <tbody>\n",
       "    <tr>\n",
       "      <th>81</th>\n",
       "      <td>Delhi</td>\n",
       "      <td>NFHS-4</td>\n",
       "      <td>Rural</td>\n",
       "      <td>78.5</td>\n",
       "      <td>21.8</td>\n",
       "      <td>839.0</td>\n",
       "      <td>NaN</td>\n",
       "      <td>89.5</td>\n",
       "      <td>100.0</td>\n",
       "      <td>69.7</td>\n",
       "      <td>87.7</td>\n",
       "      <td>80.8</td>\n",
       "      <td>99.5</td>\n",
       "      <td>15.6</td>\n",
       "    </tr>\n",
       "    <tr>\n",
       "      <th>141</th>\n",
       "      <td>Lakshadweep</td>\n",
       "      <td>NFHS-4</td>\n",
       "      <td>Rural</td>\n",
       "      <td>96.9</td>\n",
       "      <td>24.1</td>\n",
       "      <td>847.0</td>\n",
       "      <td>NaN</td>\n",
       "      <td>100.0</td>\n",
       "      <td>100.0</td>\n",
       "      <td>97.1</td>\n",
       "      <td>99.6</td>\n",
       "      <td>16.5</td>\n",
       "      <td>99.4</td>\n",
       "      <td>0.0</td>\n",
       "    </tr>\n",
       "  </tbody>\n",
       "</table>\n",
       "</div>"
      ],
      "text/plain": [
       "    India/States/UTs  Survey   Area  F_6above_school  \\\n",
       "81             Delhi  NFHS-4  Rural             78.5   \n",
       "141      Lakshadweep  NFHS-4  Rural             96.9   \n",
       "\n",
       "     Population below age 15 years  \\\n",
       "81                            21.8   \n",
       "141                           24.1   \n",
       "\n",
       "     Sex ratio of the total population (females per 1000 males)  \\\n",
       "81                                               839.0            \n",
       "141                                              847.0            \n",
       "\n",
       "     Sex ratio at birth for children born in the last five years  \\\n",
       "81                                                 NaN             \n",
       "141                                                NaN             \n",
       "\n",
       "     Children under age 5 years whose birth was registered  \\\n",
       "81                                                89.5       \n",
       "141                                              100.0       \n",
       "\n",
       "     Households with electricity  Households with an improved drinking-water  \\\n",
       "81                         100.0                                        69.7   \n",
       "141                        100.0                                        97.1   \n",
       "\n",
       "     Households using improved sanitation facility  \\\n",
       "81                                            87.7   \n",
       "141                                           99.6   \n",
       "\n",
       "     Households using clean fuel for cooking  Households using iodized salt  \\\n",
       "81                                      80.8                           99.5   \n",
       "141                                     16.5                           99.4   \n",
       "\n",
       "     health_insurance  \n",
       "81               15.6  \n",
       "141               0.0  "
      ]
     },
     "execution_count": 49,
     "metadata": {},
     "output_type": "execute_result"
    }
   ],
   "source": [
    "health_insurance1[health_insurance1['Sex ratio at birth for children born in the last five years'].isnull()]"
   ]
  },
  {
   "cell_type": "code",
   "execution_count": 18,
   "metadata": {},
   "outputs": [],
   "source": [
    "## Delhi and Lakshwadeep are important states to us as it has infromation for all other columns and so we wont drop them but we will make them NaN so that they don't affect our analysis\n",
    "health_insurance1.loc[health_insurance1['Sex ratio at birth for children born in the last five years']=='NaN','Sex ratio at birth for children born in the last five years']=np.NaN"
   ]
  },
  {
   "cell_type": "code",
   "execution_count": 50,
   "metadata": {},
   "outputs": [
    {
     "data": {
      "text/plain": [
       "India/States/UTs                                               0\n",
       "Survey                                                         0\n",
       "Area                                                           0\n",
       "F_6above_school                                                0\n",
       "Population below age 15 years                                  0\n",
       "Sex ratio of the total population (females per 1000 males)     0\n",
       "Sex ratio at birth for children born in the last five years    2\n",
       "Children under age 5 years whose birth was registered          0\n",
       "Households with electricity                                    0\n",
       "Households with an improved drinking-water                     0\n",
       "Households using improved sanitation facility                  0\n",
       "Households using clean fuel for cooking                        0\n",
       "Households using iodized salt                                  0\n",
       "health_insurance                                               0\n",
       "dtype: int64"
      ]
     },
     "execution_count": 50,
     "metadata": {},
     "output_type": "execute_result"
    }
   ],
   "source": [
    "health_insurance1.isnull().sum()"
   ]
  },
  {
   "cell_type": "code",
   "execution_count": 16,
   "metadata": {},
   "outputs": [
    {
     "data": {
      "text/plain": [
       "India/States/UTs                                                object\n",
       "Survey                                                          object\n",
       "Area                                                            object\n",
       "F_6above_school                                                float64\n",
       "Population below age 15 years                                  float64\n",
       "Sex ratio of the total population (females per 1000 males)     float64\n",
       "Sex ratio at birth for children born in the last five years    float64\n",
       "Children under age 5 years whose birth was registered          float64\n",
       "Households with electricity                                    float64\n",
       "Households with an improved drinking-water                     float64\n",
       "Households using improved sanitation facility                  float64\n",
       "Households using clean fuel for cooking                        float64\n",
       "Households using iodized salt                                  float64\n",
       "health_insurance                                               float64\n",
       "dtype: object"
      ]
     },
     "execution_count": 16,
     "metadata": {},
     "output_type": "execute_result"
    }
   ],
   "source": [
    "## Now we check the dtypes of all the columns\n",
    "health_insurance1.dtypes"
   ]
  },
  {
   "cell_type": "code",
   "execution_count": 51,
   "metadata": {},
   "outputs": [
    {
     "data": {
      "text/plain": [
       "(array([ 1,  2,  3,  4,  5,  6,  7,  8,  9, 10]),\n",
       " <a list of 10 Text xticklabel objects>)"
      ]
     },
     "execution_count": 51,
     "metadata": {},
     "output_type": "execute_result"
    },
    {
     "data": {
      "image/png": "[encoded data removed]",
      "text/plain": [
       "<Figure size 432x288 with 1 Axes>"
      ]
     },
     "metadata": {
      "needs_background": "light"
     },
     "output_type": "display_data"
    }
   ],
   "source": [
    "boxplot = health_insurance1.boxplot(column=['F_6above_school','Population below age 15 years', 'Sex ratio of the total population (females per 1000 males)','Sex ratio at birth for children born in the last five years','Children under age 5 years whose birth was registered','Households with electricity','Households using improved sanitation facility','Households using clean fuel for cooking','Households using iodized salt','health_insurance'])\n",
    "plt.xticks(rotation=90)"
   ]
  },
  {
   "cell_type": "code",
   "execution_count": 52,
   "metadata": {},
   "outputs": [
    {
     "data": {
      "text/plain": [
       "0.50     923.50\n",
       "0.70     957.50\n",
       "0.90    1014.00\n",
       "0.95    1050.75\n",
       "0.99    1136.30\n",
       "Name: Sex ratio at birth for children born in the last five years, dtype: float64"
      ]
     },
     "execution_count": 52,
     "metadata": {},
     "output_type": "execute_result"
    }
   ],
   "source": [
    "## So all the columns have normal data distribution except for \"Sex ratio at birth for children born in the last 5 years per 1000 male\". We will check it's quartiles to know exactly what is going on\n",
    "health_insurance1['Sex ratio at birth for children born in the last five years'].quantile([0.5,0.7,0.9,0.95,0.99])"
   ]
  },
  {
   "cell_type": "code",
   "execution_count": 53,
   "metadata": {},
   "outputs": [
    {
     "data": {
      "text/html": [
       "<div>\n",
       "<style scoped>\n",
       "    .dataframe tbody tr th:only-of-type {\n",
       "        vertical-align: middle;\n",
       "    }\n",
       "\n",
       "    .dataframe tbody tr th {\n",
       "        vertical-align: top;\n",
       "    }\n",
       "\n",
       "    .dataframe thead th {\n",
       "        text-align: right;\n",
       "    }\n",
       "</style>\n",
       "<table border=\"1\" class=\"dataframe\">\n",
       "  <thead>\n",
       "    <tr style=\"text-align: right;\">\n",
       "      <th></th>\n",
       "      <th>F_6above_school</th>\n",
       "      <th>Population below age 15 years</th>\n",
       "      <th>Sex ratio of the total population (females per 1000 males)</th>\n",
       "      <th>Sex ratio at birth for children born in the last five years</th>\n",
       "      <th>Children under age 5 years whose birth was registered</th>\n",
       "      <th>Households with electricity</th>\n",
       "      <th>Households with an improved drinking-water</th>\n",
       "      <th>Households using improved sanitation facility</th>\n",
       "      <th>Households using clean fuel for cooking</th>\n",
       "      <th>Households using iodized salt</th>\n",
       "      <th>health_insurance</th>\n",
       "    </tr>\n",
       "  </thead>\n",
       "  <tbody>\n",
       "    <tr>\n",
       "      <th>count</th>\n",
       "      <td>7.000000</td>\n",
       "      <td>7.000000</td>\n",
       "      <td>7.000000</td>\n",
       "      <td>7.000000</td>\n",
       "      <td>7.000000</td>\n",
       "      <td>7.000000</td>\n",
       "      <td>7.000000</td>\n",
       "      <td>7.000000</td>\n",
       "      <td>7.000000</td>\n",
       "      <td>7.00000</td>\n",
       "      <td>7.000000</td>\n",
       "    </tr>\n",
       "    <tr>\n",
       "      <th>mean</th>\n",
       "      <td>73.628571</td>\n",
       "      <td>27.557143</td>\n",
       "      <td>995.857143</td>\n",
       "      <td>1127.428571</td>\n",
       "      <td>75.085714</td>\n",
       "      <td>87.200000</td>\n",
       "      <td>85.457143</td>\n",
       "      <td>55.728571</td>\n",
       "      <td>51.285714</td>\n",
       "      <td>89.50000</td>\n",
       "      <td>20.400000</td>\n",
       "    </tr>\n",
       "    <tr>\n",
       "      <th>std</th>\n",
       "      <td>20.334184</td>\n",
       "      <td>9.132516</td>\n",
       "      <td>64.426776</td>\n",
       "      <td>84.701155</td>\n",
       "      <td>37.762920</td>\n",
       "      <td>22.303363</td>\n",
       "      <td>14.879836</td>\n",
       "      <td>34.055088</td>\n",
       "      <td>29.530856</td>\n",
       "      <td>19.99725</td>\n",
       "      <td>14.490917</td>\n",
       "    </tr>\n",
       "    <tr>\n",
       "      <th>min</th>\n",
       "      <td>46.300000</td>\n",
       "      <td>20.000000</td>\n",
       "      <td>914.000000</td>\n",
       "      <td>1062.000000</td>\n",
       "      <td>9.100000</td>\n",
       "      <td>40.200000</td>\n",
       "      <td>57.000000</td>\n",
       "      <td>11.700000</td>\n",
       "      <td>10.500000</td>\n",
       "      <td>44.70000</td>\n",
       "      <td>4.600000</td>\n",
       "    </tr>\n",
       "    <tr>\n",
       "      <th>25%</th>\n",
       "      <td>55.850000</td>\n",
       "      <td>20.550000</td>\n",
       "      <td>936.000000</td>\n",
       "      <td>1081.000000</td>\n",
       "      <td>62.850000</td>\n",
       "      <td>86.200000</td>\n",
       "      <td>79.850000</td>\n",
       "      <td>27.350000</td>\n",
       "      <td>26.900000</td>\n",
       "      <td>92.60000</td>\n",
       "      <td>9.200000</td>\n",
       "    </tr>\n",
       "    <tr>\n",
       "      <th>50%</th>\n",
       "      <td>81.600000</td>\n",
       "      <td>20.800000</td>\n",
       "      <td>1022.000000</td>\n",
       "      <td>1100.000000</td>\n",
       "      <td>96.800000</td>\n",
       "      <td>99.000000</td>\n",
       "      <td>93.700000</td>\n",
       "      <td>65.100000</td>\n",
       "      <td>65.200000</td>\n",
       "      <td>98.80000</td>\n",
       "      <td>21.300000</td>\n",
       "    </tr>\n",
       "    <tr>\n",
       "      <th>75%</th>\n",
       "      <td>89.650000</td>\n",
       "      <td>35.750000</td>\n",
       "      <td>1052.500000</td>\n",
       "      <td>1130.000000</td>\n",
       "      <td>97.500000</td>\n",
       "      <td>99.450000</td>\n",
       "      <td>95.050000</td>\n",
       "      <td>79.950000</td>\n",
       "      <td>70.300000</td>\n",
       "      <td>99.05000</td>\n",
       "      <td>26.600000</td>\n",
       "    </tr>\n",
       "    <tr>\n",
       "      <th>max</th>\n",
       "      <td>96.500000</td>\n",
       "      <td>39.500000</td>\n",
       "      <td>1058.000000</td>\n",
       "      <td>1308.000000</td>\n",
       "      <td>99.000000</td>\n",
       "      <td>99.900000</td>\n",
       "      <td>97.700000</td>\n",
       "      <td>98.700000</td>\n",
       "      <td>88.900000</td>\n",
       "      <td>99.70000</td>\n",
       "      <td>45.300000</td>\n",
       "    </tr>\n",
       "  </tbody>\n",
       "</table>\n",
       "</div>"
      ],
      "text/plain": [
       "       F_6above_school  Population below age 15 years  \\\n",
       "count         7.000000                       7.000000   \n",
       "mean         73.628571                      27.557143   \n",
       "std          20.334184                       9.132516   \n",
       "min          46.300000                      20.000000   \n",
       "25%          55.850000                      20.550000   \n",
       "50%          81.600000                      20.800000   \n",
       "75%          89.650000                      35.750000   \n",
       "max          96.500000                      39.500000   \n",
       "\n",
       "       Sex ratio of the total population (females per 1000 males)  \\\n",
       "count                                           7.000000            \n",
       "mean                                          995.857143            \n",
       "std                                            64.426776            \n",
       "min                                           914.000000            \n",
       "25%                                           936.000000            \n",
       "50%                                          1022.000000            \n",
       "75%                                          1052.500000            \n",
       "max                                          1058.000000            \n",
       "\n",
       "       Sex ratio at birth for children born in the last five years  \\\n",
       "count                                           7.000000             \n",
       "mean                                         1127.428571             \n",
       "std                                            84.701155             \n",
       "min                                          1062.000000             \n",
       "25%                                          1081.000000             \n",
       "50%                                          1100.000000             \n",
       "75%                                          1130.000000             \n",
       "max                                          1308.000000             \n",
       "\n",
       "       Children under age 5 years whose birth was registered  \\\n",
       "count                                           7.000000       \n",
       "mean                                           75.085714       \n",
       "std                                            37.762920       \n",
       "min                                             9.100000       \n",
       "25%                                            62.850000       \n",
       "50%                                            96.800000       \n",
       "75%                                            97.500000       \n",
       "max                                            99.000000       \n",
       "\n",
       "       Households with electricity  \\\n",
       "count                     7.000000   \n",
       "mean                     87.200000   \n",
       "std                      22.303363   \n",
       "min                      40.200000   \n",
       "25%                      86.200000   \n",
       "50%                      99.000000   \n",
       "75%                      99.450000   \n",
       "max                      99.900000   \n",
       "\n",
       "       Households with an improved drinking-water  \\\n",
       "count                                    7.000000   \n",
       "mean                                    85.457143   \n",
       "std                                     14.879836   \n",
       "min                                     57.000000   \n",
       "25%                                     79.850000   \n",
       "50%                                     93.700000   \n",
       "75%                                     95.050000   \n",
       "max                                     97.700000   \n",
       "\n",
       "       Households using improved sanitation facility  \\\n",
       "count                                       7.000000   \n",
       "mean                                       55.728571   \n",
       "std                                        34.055088   \n",
       "min                                        11.700000   \n",
       "25%                                        27.350000   \n",
       "50%                                        65.100000   \n",
       "75%                                        79.950000   \n",
       "max                                        98.700000   \n",
       "\n",
       "       Households using clean fuel for cooking  Households using iodized salt  \\\n",
       "count                                 7.000000                        7.00000   \n",
       "mean                                 51.285714                       89.50000   \n",
       "std                                  29.530856                       19.99725   \n",
       "min                                  10.500000                       44.70000   \n",
       "25%                                  26.900000                       92.60000   \n",
       "50%                                  65.200000                       98.80000   \n",
       "75%                                  70.300000                       99.05000   \n",
       "max                                  88.900000                       99.70000   \n",
       "\n",
       "       health_insurance  \n",
       "count          7.000000  \n",
       "mean          20.400000  \n",
       "std           14.490917  \n",
       "min            4.600000  \n",
       "25%            9.200000  \n",
       "50%           21.300000  \n",
       "75%           26.600000  \n",
       "max           45.300000  "
      ]
     },
     "execution_count": 53,
     "metadata": {},
     "output_type": "execute_result"
    }
   ],
   "source": [
    "## We see a huge jump from 95% percentile onwards. So let us take out the records for everything above 1050 females per 1000 males\n",
    "health_insurance1[health_insurance1['Sex ratio at birth for children born in the last five years']>1050].describe()"
   ]
  },
  {
   "cell_type": "code",
   "execution_count": 54,
   "metadata": {},
   "outputs": [
    {
     "data": {
      "text/html": [
       "<div>\n",
       "<style scoped>\n",
       "    .dataframe tbody tr th:only-of-type {\n",
       "        vertical-align: middle;\n",
       "    }\n",
       "\n",
       "    .dataframe tbody tr th {\n",
       "        vertical-align: top;\n",
       "    }\n",
       "\n",
       "    .dataframe thead th {\n",
       "        text-align: right;\n",
       "    }\n",
       "</style>\n",
       "<table border=\"1\" class=\"dataframe\">\n",
       "  <thead>\n",
       "    <tr style=\"text-align: right;\">\n",
       "      <th></th>\n",
       "      <th>India/States/UTs</th>\n",
       "      <th>Survey</th>\n",
       "      <th>Area</th>\n",
       "      <th>F_6above_school</th>\n",
       "      <th>Population below age 15 years</th>\n",
       "      <th>Sex ratio of the total population (females per 1000 males)</th>\n",
       "      <th>Sex ratio at birth for children born in the last five years</th>\n",
       "      <th>Children under age 5 years whose birth was registered</th>\n",
       "      <th>Households with electricity</th>\n",
       "      <th>Households with an improved drinking-water</th>\n",
       "      <th>Households using improved sanitation facility</th>\n",
       "      <th>Households using clean fuel for cooking</th>\n",
       "      <th>Households using iodized salt</th>\n",
       "      <th>health_insurance</th>\n",
       "    </tr>\n",
       "  </thead>\n",
       "  <tbody>\n",
       "    <tr>\n",
       "      <th>31</th>\n",
       "      <td>Jharkhand</td>\n",
       "      <td>NFHS-3</td>\n",
       "      <td>Total</td>\n",
       "      <td>46.3</td>\n",
       "      <td>39.5</td>\n",
       "      <td>1022.0</td>\n",
       "      <td>1091.0</td>\n",
       "      <td>9.1</td>\n",
       "      <td>40.2</td>\n",
       "      <td>57.0</td>\n",
       "      <td>15.1</td>\n",
       "      <td>10.5</td>\n",
       "      <td>92.7</td>\n",
       "      <td>4.6</td>\n",
       "    </tr>\n",
       "    <tr>\n",
       "      <th>38</th>\n",
       "      <td>Kerala</td>\n",
       "      <td>NFHS-4</td>\n",
       "      <td>Urban</td>\n",
       "      <td>96.5</td>\n",
       "      <td>20.3</td>\n",
       "      <td>1058.0</td>\n",
       "      <td>1062.0</td>\n",
       "      <td>97.3</td>\n",
       "      <td>99.5</td>\n",
       "      <td>95.7</td>\n",
       "      <td>98.7</td>\n",
       "      <td>65.2</td>\n",
       "      <td>98.8</td>\n",
       "      <td>45.3</td>\n",
       "    </tr>\n",
       "    <tr>\n",
       "      <th>79</th>\n",
       "      <td>Arunachal Pradesh</td>\n",
       "      <td>NFHS-3</td>\n",
       "      <td>Total</td>\n",
       "      <td>54.9</td>\n",
       "      <td>39.1</td>\n",
       "      <td>930.0</td>\n",
       "      <td>1071.0</td>\n",
       "      <td>32.4</td>\n",
       "      <td>76.9</td>\n",
       "      <td>85.0</td>\n",
       "      <td>39.6</td>\n",
       "      <td>31.5</td>\n",
       "      <td>98.8</td>\n",
       "      <td>7.0</td>\n",
       "    </tr>\n",
       "    <tr>\n",
       "      <th>85</th>\n",
       "      <td>Goa</td>\n",
       "      <td>NFHS-4</td>\n",
       "      <td>Rural</td>\n",
       "      <td>81.6</td>\n",
       "      <td>20.0</td>\n",
       "      <td>1054.0</td>\n",
       "      <td>1109.0</td>\n",
       "      <td>99.0</td>\n",
       "      <td>99.9</td>\n",
       "      <td>93.7</td>\n",
       "      <td>80.8</td>\n",
       "      <td>72.0</td>\n",
       "      <td>92.5</td>\n",
       "      <td>11.4</td>\n",
       "    </tr>\n",
       "    <tr>\n",
       "      <th>90</th>\n",
       "      <td>Himachal Pradesh</td>\n",
       "      <td>NFHS-4</td>\n",
       "      <td>Urban</td>\n",
       "      <td>89.8</td>\n",
       "      <td>20.8</td>\n",
       "      <td>914.0</td>\n",
       "      <td>1151.0</td>\n",
       "      <td>97.7</td>\n",
       "      <td>99.4</td>\n",
       "      <td>94.4</td>\n",
       "      <td>79.1</td>\n",
       "      <td>88.9</td>\n",
       "      <td>99.3</td>\n",
       "      <td>21.5</td>\n",
       "    </tr>\n",
       "    <tr>\n",
       "      <th>118</th>\n",
       "      <td>Tripura</td>\n",
       "      <td>NFHS-4</td>\n",
       "      <td>Urban</td>\n",
       "      <td>89.5</td>\n",
       "      <td>20.8</td>\n",
       "      <td>1051.0</td>\n",
       "      <td>1100.0</td>\n",
       "      <td>96.8</td>\n",
       "      <td>99.0</td>\n",
       "      <td>97.7</td>\n",
       "      <td>65.1</td>\n",
       "      <td>68.6</td>\n",
       "      <td>99.7</td>\n",
       "      <td>31.7</td>\n",
       "    </tr>\n",
       "    <tr>\n",
       "      <th>133</th>\n",
       "      <td>Dadra and Nagar Haveli</td>\n",
       "      <td>NFHS-4</td>\n",
       "      <td>Rural</td>\n",
       "      <td>56.8</td>\n",
       "      <td>32.4</td>\n",
       "      <td>942.0</td>\n",
       "      <td>1308.0</td>\n",
       "      <td>93.3</td>\n",
       "      <td>95.5</td>\n",
       "      <td>74.7</td>\n",
       "      <td>11.7</td>\n",
       "      <td>22.3</td>\n",
       "      <td>44.7</td>\n",
       "      <td>21.3</td>\n",
       "    </tr>\n",
       "  </tbody>\n",
       "</table>\n",
       "</div>"
      ],
      "text/plain": [
       "           India/States/UTs  Survey   Area  F_6above_school  \\\n",
       "31                Jharkhand  NFHS-3  Total             46.3   \n",
       "38                   Kerala  NFHS-4  Urban             96.5   \n",
       "79        Arunachal Pradesh  NFHS-3  Total             54.9   \n",
       "85                      Goa  NFHS-4  Rural             81.6   \n",
       "90         Himachal Pradesh  NFHS-4  Urban             89.8   \n",
       "118                 Tripura  NFHS-4  Urban             89.5   \n",
       "133  Dadra and Nagar Haveli  NFHS-4  Rural             56.8   \n",
       "\n",
       "     Population below age 15 years  \\\n",
       "31                            39.5   \n",
       "38                            20.3   \n",
       "79                            39.1   \n",
       "85                            20.0   \n",
       "90                            20.8   \n",
       "118                           20.8   \n",
       "133                           32.4   \n",
       "\n",
       "     Sex ratio of the total population (females per 1000 males)  \\\n",
       "31                                              1022.0            \n",
       "38                                              1058.0            \n",
       "79                                               930.0            \n",
       "85                                              1054.0            \n",
       "90                                               914.0            \n",
       "118                                             1051.0            \n",
       "133                                              942.0            \n",
       "\n",
       "     Sex ratio at birth for children born in the last five years  \\\n",
       "31                                              1091.0             \n",
       "38                                              1062.0             \n",
       "79                                              1071.0             \n",
       "85                                              1109.0             \n",
       "90                                              1151.0             \n",
       "118                                             1100.0             \n",
       "133                                             1308.0             \n",
       "\n",
       "     Children under age 5 years whose birth was registered  \\\n",
       "31                                                 9.1       \n",
       "38                                                97.3       \n",
       "79                                                32.4       \n",
       "85                                                99.0       \n",
       "90                                                97.7       \n",
       "118                                               96.8       \n",
       "133                                               93.3       \n",
       "\n",
       "     Households with electricity  Households with an improved drinking-water  \\\n",
       "31                          40.2                                        57.0   \n",
       "38                          99.5                                        95.7   \n",
       "79                          76.9                                        85.0   \n",
       "85                          99.9                                        93.7   \n",
       "90                          99.4                                        94.4   \n",
       "118                         99.0                                        97.7   \n",
       "133                         95.5                                        74.7   \n",
       "\n",
       "     Households using improved sanitation facility  \\\n",
       "31                                            15.1   \n",
       "38                                            98.7   \n",
       "79                                            39.6   \n",
       "85                                            80.8   \n",
       "90                                            79.1   \n",
       "118                                           65.1   \n",
       "133                                           11.7   \n",
       "\n",
       "     Households using clean fuel for cooking  Households using iodized salt  \\\n",
       "31                                      10.5                           92.7   \n",
       "38                                      65.2                           98.8   \n",
       "79                                      31.5                           98.8   \n",
       "85                                      72.0                           92.5   \n",
       "90                                      88.9                           99.3   \n",
       "118                                     68.6                           99.7   \n",
       "133                                     22.3                           44.7   \n",
       "\n",
       "     health_insurance  \n",
       "31                4.6  \n",
       "38               45.3  \n",
       "79                7.0  \n",
       "85               11.4  \n",
       "90               21.5  \n",
       "118              31.7  \n",
       "133              21.3  "
      ]
     },
     "execution_count": 54,
     "metadata": {},
     "output_type": "execute_result"
    }
   ],
   "source": [
    "high_female=health_insurance1[health_insurance1['Sex ratio at birth for children born in the last five years']>1050]\n",
    "high_female"
   ]
  },
  {
   "cell_type": "code",
   "execution_count": 55,
   "metadata": {},
   "outputs": [
    {
     "data": {
      "text/html": [
       "<div>\n",
       "<style scoped>\n",
       "    .dataframe tbody tr th:only-of-type {\n",
       "        vertical-align: middle;\n",
       "    }\n",
       "\n",
       "    .dataframe tbody tr th {\n",
       "        vertical-align: top;\n",
       "    }\n",
       "\n",
       "    .dataframe thead th {\n",
       "        text-align: right;\n",
       "    }\n",
       "</style>\n",
       "<table border=\"1\" class=\"dataframe\">\n",
       "  <thead>\n",
       "    <tr style=\"text-align: right;\">\n",
       "      <th></th>\n",
       "      <th>India/States/UTs</th>\n",
       "      <th>Survey</th>\n",
       "      <th>Area</th>\n",
       "      <th>F_6above_school</th>\n",
       "      <th>Population below age 15 years</th>\n",
       "      <th>Sex ratio of the total population (females per 1000 males)</th>\n",
       "      <th>Sex ratio at birth for children born in the last five years</th>\n",
       "      <th>Children under age 5 years whose birth was registered</th>\n",
       "      <th>Households with electricity</th>\n",
       "      <th>Households with an improved drinking-water</th>\n",
       "      <th>Households using improved sanitation facility</th>\n",
       "      <th>Households using clean fuel for cooking</th>\n",
       "      <th>Households using iodized salt</th>\n",
       "      <th>health_insurance</th>\n",
       "    </tr>\n",
       "  </thead>\n",
       "  <tbody>\n",
       "    <tr>\n",
       "      <th>2</th>\n",
       "      <td>India</td>\n",
       "      <td>NFHS-4</td>\n",
       "      <td>Urban</td>\n",
       "      <td>80.6</td>\n",
       "      <td>24.9</td>\n",
       "      <td>956.0</td>\n",
       "      <td>899.0</td>\n",
       "      <td>88.8</td>\n",
       "      <td>97.5</td>\n",
       "      <td>91.1</td>\n",
       "      <td>70.3</td>\n",
       "      <td>80.6</td>\n",
       "      <td>96.5</td>\n",
       "      <td>28.2</td>\n",
       "    </tr>\n",
       "    <tr>\n",
       "      <th>6</th>\n",
       "      <td>Andhra Pradesh</td>\n",
       "      <td>NFHS-4</td>\n",
       "      <td>Urban</td>\n",
       "      <td>74.3</td>\n",
       "      <td>23.2</td>\n",
       "      <td>1027.0</td>\n",
       "      <td>1010.0</td>\n",
       "      <td>90.1</td>\n",
       "      <td>99.6</td>\n",
       "      <td>70.7</td>\n",
       "      <td>77.4</td>\n",
       "      <td>89.7</td>\n",
       "      <td>91.1</td>\n",
       "      <td>61.1</td>\n",
       "    </tr>\n",
       "    <tr>\n",
       "      <th>10</th>\n",
       "      <td>Assam</td>\n",
       "      <td>NFHS-4</td>\n",
       "      <td>Urban</td>\n",
       "      <td>88.1</td>\n",
       "      <td>22.7</td>\n",
       "      <td>996.0</td>\n",
       "      <td>794.0</td>\n",
       "      <td>97.4</td>\n",
       "      <td>95.5</td>\n",
       "      <td>89.1</td>\n",
       "      <td>62.2</td>\n",
       "      <td>76.5</td>\n",
       "      <td>99.8</td>\n",
       "      <td>12.6</td>\n",
       "    </tr>\n",
       "    <tr>\n",
       "      <th>14</th>\n",
       "      <td>Bihar</td>\n",
       "      <td>NFHS-4</td>\n",
       "      <td>Urban</td>\n",
       "      <td>71.5</td>\n",
       "      <td>34.0</td>\n",
       "      <td>977.0</td>\n",
       "      <td>942.0</td>\n",
       "      <td>64.5</td>\n",
       "      <td>88.2</td>\n",
       "      <td>97.8</td>\n",
       "      <td>54.9</td>\n",
       "      <td>63.8</td>\n",
       "      <td>97.4</td>\n",
       "      <td>9.8</td>\n",
       "    </tr>\n",
       "    <tr>\n",
       "      <th>18</th>\n",
       "      <td>Chattisgarh</td>\n",
       "      <td>NFHS-4</td>\n",
       "      <td>Urban</td>\n",
       "      <td>80.5</td>\n",
       "      <td>26.1</td>\n",
       "      <td>992.0</td>\n",
       "      <td>922.0</td>\n",
       "      <td>92.6</td>\n",
       "      <td>99.2</td>\n",
       "      <td>97.3</td>\n",
       "      <td>64.4</td>\n",
       "      <td>70.7</td>\n",
       "      <td>99.4</td>\n",
       "      <td>59.4</td>\n",
       "    </tr>\n",
       "  </tbody>\n",
       "</table>\n",
       "</div>"
      ],
      "text/plain": [
       "   India/States/UTs  Survey   Area  F_6above_school  \\\n",
       "2             India  NFHS-4  Urban             80.6   \n",
       "6    Andhra Pradesh  NFHS-4  Urban             74.3   \n",
       "10            Assam  NFHS-4  Urban             88.1   \n",
       "14            Bihar  NFHS-4  Urban             71.5   \n",
       "18      Chattisgarh  NFHS-4  Urban             80.5   \n",
       "\n",
       "    Population below age 15 years  \\\n",
       "2                            24.9   \n",
       "6                            23.2   \n",
       "10                           22.7   \n",
       "14                           34.0   \n",
       "18                           26.1   \n",
       "\n",
       "    Sex ratio of the total population (females per 1000 males)  \\\n",
       "2                                               956.0            \n",
       "6                                              1027.0            \n",
       "10                                              996.0            \n",
       "14                                              977.0            \n",
       "18                                              992.0            \n",
       "\n",
       "    Sex ratio at birth for children born in the last five years  \\\n",
       "2                                               899.0             \n",
       "6                                              1010.0             \n",
       "10                                              794.0             \n",
       "14                                              942.0             \n",
       "18                                              922.0             \n",
       "\n",
       "    Children under age 5 years whose birth was registered  \\\n",
       "2                                                88.8       \n",
       "6                                                90.1       \n",
       "10                                               97.4       \n",
       "14                                               64.5       \n",
       "18                                               92.6       \n",
       "\n",
       "    Households with electricity  Households with an improved drinking-water  \\\n",
       "2                          97.5                                        91.1   \n",
       "6                          99.6                                        70.7   \n",
       "10                         95.5                                        89.1   \n",
       "14                         88.2                                        97.8   \n",
       "18                         99.2                                        97.3   \n",
       "\n",
       "    Households using improved sanitation facility  \\\n",
       "2                                            70.3   \n",
       "6                                            77.4   \n",
       "10                                           62.2   \n",
       "14                                           54.9   \n",
       "18                                           64.4   \n",
       "\n",
       "    Households using clean fuel for cooking  Households using iodized salt  \\\n",
       "2                                      80.6                           96.5   \n",
       "6                                      89.7                           91.1   \n",
       "10                                     76.5                           99.8   \n",
       "14                                     63.8                           97.4   \n",
       "18                                     70.7                           99.4   \n",
       "\n",
       "    health_insurance  \n",
       "2               28.2  \n",
       "6               61.1  \n",
       "10              12.6  \n",
       "14               9.8  \n",
       "18              59.4  "
      ]
     },
     "execution_count": 55,
     "metadata": {},
     "output_type": "execute_result"
    }
   ],
   "source": [
    "health_insurance_NFHS4_Urban=health_insurance1[(health_insurance1['Survey']=='NFHS-4')&(health_insurance1['Area']=='Urban')]\n",
    "health_insurance_NFHS4_Urban.head()"
   ]
  },
  {
   "cell_type": "code",
   "execution_count": 56,
   "metadata": {},
   "outputs": [
    {
     "data": {
      "text/html": [
       "<div>\n",
       "<style scoped>\n",
       "    .dataframe tbody tr th:only-of-type {\n",
       "        vertical-align: middle;\n",
       "    }\n",
       "\n",
       "    .dataframe tbody tr th {\n",
       "        vertical-align: top;\n",
       "    }\n",
       "\n",
       "    .dataframe thead th {\n",
       "        text-align: right;\n",
       "    }\n",
       "</style>\n",
       "<table border=\"1\" class=\"dataframe\">\n",
       "  <thead>\n",
       "    <tr style=\"text-align: right;\">\n",
       "      <th></th>\n",
       "      <th>India/States/UTs</th>\n",
       "      <th>Survey</th>\n",
       "      <th>Area</th>\n",
       "      <th>F_6above_school</th>\n",
       "      <th>Population below age 15 years</th>\n",
       "      <th>Sex ratio of the total population (females per 1000 males)</th>\n",
       "      <th>Sex ratio at birth for children born in the last five years</th>\n",
       "      <th>Children under age 5 years whose birth was registered</th>\n",
       "      <th>Households with electricity</th>\n",
       "      <th>Households with an improved drinking-water</th>\n",
       "      <th>Households using improved sanitation facility</th>\n",
       "      <th>Households using clean fuel for cooking</th>\n",
       "      <th>Households using iodized salt</th>\n",
       "      <th>health_insurance_urban</th>\n",
       "    </tr>\n",
       "  </thead>\n",
       "  <tbody>\n",
       "    <tr>\n",
       "      <th>2</th>\n",
       "      <td>India</td>\n",
       "      <td>NFHS-4</td>\n",
       "      <td>Urban</td>\n",
       "      <td>80.6</td>\n",
       "      <td>24.9</td>\n",
       "      <td>956.0</td>\n",
       "      <td>899.0</td>\n",
       "      <td>88.8</td>\n",
       "      <td>97.5</td>\n",
       "      <td>91.1</td>\n",
       "      <td>70.3</td>\n",
       "      <td>80.6</td>\n",
       "      <td>96.5</td>\n",
       "      <td>28.2</td>\n",
       "    </tr>\n",
       "    <tr>\n",
       "      <th>6</th>\n",
       "      <td>Andhra Pradesh</td>\n",
       "      <td>NFHS-4</td>\n",
       "      <td>Urban</td>\n",
       "      <td>74.3</td>\n",
       "      <td>23.2</td>\n",
       "      <td>1027.0</td>\n",
       "      <td>1010.0</td>\n",
       "      <td>90.1</td>\n",
       "      <td>99.6</td>\n",
       "      <td>70.7</td>\n",
       "      <td>77.4</td>\n",
       "      <td>89.7</td>\n",
       "      <td>91.1</td>\n",
       "      <td>61.1</td>\n",
       "    </tr>\n",
       "    <tr>\n",
       "      <th>10</th>\n",
       "      <td>Assam</td>\n",
       "      <td>NFHS-4</td>\n",
       "      <td>Urban</td>\n",
       "      <td>88.1</td>\n",
       "      <td>22.7</td>\n",
       "      <td>996.0</td>\n",
       "      <td>794.0</td>\n",
       "      <td>97.4</td>\n",
       "      <td>95.5</td>\n",
       "      <td>89.1</td>\n",
       "      <td>62.2</td>\n",
       "      <td>76.5</td>\n",
       "      <td>99.8</td>\n",
       "      <td>12.6</td>\n",
       "    </tr>\n",
       "    <tr>\n",
       "      <th>14</th>\n",
       "      <td>Bihar</td>\n",
       "      <td>NFHS-4</td>\n",
       "      <td>Urban</td>\n",
       "      <td>71.5</td>\n",
       "      <td>34.0</td>\n",
       "      <td>977.0</td>\n",
       "      <td>942.0</td>\n",
       "      <td>64.5</td>\n",
       "      <td>88.2</td>\n",
       "      <td>97.8</td>\n",
       "      <td>54.9</td>\n",
       "      <td>63.8</td>\n",
       "      <td>97.4</td>\n",
       "      <td>9.8</td>\n",
       "    </tr>\n",
       "    <tr>\n",
       "      <th>18</th>\n",
       "      <td>Chattisgarh</td>\n",
       "      <td>NFHS-4</td>\n",
       "      <td>Urban</td>\n",
       "      <td>80.5</td>\n",
       "      <td>26.1</td>\n",
       "      <td>992.0</td>\n",
       "      <td>922.0</td>\n",
       "      <td>92.6</td>\n",
       "      <td>99.2</td>\n",
       "      <td>97.3</td>\n",
       "      <td>64.4</td>\n",
       "      <td>70.7</td>\n",
       "      <td>99.4</td>\n",
       "      <td>59.4</td>\n",
       "    </tr>\n",
       "  </tbody>\n",
       "</table>\n",
       "</div>"
      ],
      "text/plain": [
       "   India/States/UTs  Survey   Area  F_6above_school  \\\n",
       "2             India  NFHS-4  Urban             80.6   \n",
       "6    Andhra Pradesh  NFHS-4  Urban             74.3   \n",
       "10            Assam  NFHS-4  Urban             88.1   \n",
       "14            Bihar  NFHS-4  Urban             71.5   \n",
       "18      Chattisgarh  NFHS-4  Urban             80.5   \n",
       "\n",
       "    Population below age 15 years  \\\n",
       "2                            24.9   \n",
       "6                            23.2   \n",
       "10                           22.7   \n",
       "14                           34.0   \n",
       "18                           26.1   \n",
       "\n",
       "    Sex ratio of the total population (females per 1000 males)  \\\n",
       "2                                               956.0            \n",
       "6                                              1027.0            \n",
       "10                                              996.0            \n",
       "14                                              977.0            \n",
       "18                                              992.0            \n",
       "\n",
       "    Sex ratio at birth for children born in the last five years  \\\n",
       "2                                               899.0             \n",
       "6                                              1010.0             \n",
       "10                                              794.0             \n",
       "14                                              942.0             \n",
       "18                                              922.0             \n",
       "\n",
       "    Children under age 5 years whose birth was registered  \\\n",
       "2                                                88.8       \n",
       "6                                                90.1       \n",
       "10                                               97.4       \n",
       "14                                               64.5       \n",
       "18                                               92.6       \n",
       "\n",
       "    Households with electricity  Households with an improved drinking-water  \\\n",
       "2                          97.5                                        91.1   \n",
       "6                          99.6                                        70.7   \n",
       "10                         95.5                                        89.1   \n",
       "14                         88.2                                        97.8   \n",
       "18                         99.2                                        97.3   \n",
       "\n",
       "    Households using improved sanitation facility  \\\n",
       "2                                            70.3   \n",
       "6                                            77.4   \n",
       "10                                           62.2   \n",
       "14                                           54.9   \n",
       "18                                           64.4   \n",
       "\n",
       "    Households using clean fuel for cooking  Households using iodized salt  \\\n",
       "2                                      80.6                           96.5   \n",
       "6                                      89.7                           91.1   \n",
       "10                                     76.5                           99.8   \n",
       "14                                     63.8                           97.4   \n",
       "18                                     70.7                           99.4   \n",
       "\n",
       "    health_insurance_urban  \n",
       "2                     28.2  \n",
       "6                     61.1  \n",
       "10                    12.6  \n",
       "14                     9.8  \n",
       "18                    59.4  "
      ]
     },
     "execution_count": 56,
     "metadata": {},
     "output_type": "execute_result"
    }
   ],
   "source": [
    "health_insurance_NFHS4_Urban=health_insurance_NFHS4_Urban.rename(columns={'health_insurance':'health_insurance_urban'})\n",
    "health_insurance_NFHS4_Urban.head()"
   ]
  },
  {
   "cell_type": "code",
   "execution_count": 57,
   "metadata": {},
   "outputs": [
    {
     "data": {
      "application/vnd.plotly.v1+json": {
       "config": {
        "plotlyServerURL": "https://plot.ly"
       },
       "data": [
        {
         "alignmentgroup": "True",
         "hovertemplate": "India/States/UTs=%{x}<br>health_insurance_urban=%{y}<extra></extra>",
         "legendgroup": "",
         "marker": {
          "color": "#636efa"
         },
         "name": "",
         "offsetgroup": "",
         "orientation": "v",
         "showlegend": false,
         "textposition": "auto",
         "type": "bar",
         "x": [
          "India",
          "Andhra Pradesh",
          "Assam",
          "Bihar",
          "Chattisgarh",
          "Gujarat",
          "Haryana",
          "Jharkhand",
          "Karnataka",
          "Kerala",
          "Madhya Pradesh",
          "Maharashtra",
          "Odisha",
          "Punjab",
          "Rajasthan",
          "Tamil Nadu",
          "Telangana",
          "Uttar Pradesh",
          "West Bengal",
          "Arunachal Pradesh",
          "Delhi",
          "Goa",
          "Himachal Pradesh",
          "Jammu & Kashmir",
          "Manipur",
          "Meghalaya",
          "Mizoram",
          "Nagaland",
          "Sikkim",
          "Tripura",
          "Uttarakhand",
          "Andaman and Nicobar Islands",
          "Dadra and Nagar Haveli",
          "Daman and Diu",
          "Lakshadweep",
          "Puducherry"
         ],
         "xaxis": "x",
         "y": [
          28.2,
          61.1,
          12.6,
          9.8,
          59.4,
          22.9,
          16.3,
          13.7,
          23.4,
          45.3,
          23,
          16.2,
          27,
          19.8,
          19.4,
          59.2,
          53.5,
          7.9,
          28.1,
          54.3,
          16.4,
          18.5,
          21.5,
          5.9,
          3.5,
          23.2,
          42.3,
          4.3,
          32.6,
          31.7,
          18.9,
          7.7,
          39.9,
          16,
          3.6,
          38.1
         ],
         "yaxis": "y"
        }
       ],
       "layout": {
        "barmode": "relative",
        "legend": {
         "tracegroupgap": 0
        },
        "margin": {
         "t": 60
        },
        "template": {
         "data": {
          "bar": [
           {
            "error_x": {
             "color": "#2a3f5f"
            },
            "error_y": {
             "color": "#2a3f5f"
            },
            "marker": {
             "line": {
              "color": "#E5ECF6",
              "width": 0.5
             }
            },
            "type": "bar"
           }
          ],
          "barpolar": [
           {
            "marker": {
             "line": {
              "color": "#E5ECF6",
              "width": 0.5
             }
            },
            "type": "barpolar"
           }
          ],
          "carpet": [
           {
            "aaxis": {
             "endlinecolor": "#2a3f5f",
             "gridcolor": "white",
             "linecolor": "white",
             "minorgridcolor": "white",
             "startlinecolor": "#2a3f5f"
            },
            "baxis": {
             "endlinecolor": "#2a3f5f",
             "gridcolor": "white",
             "linecolor": "white",
             "minorgridcolor": "white",
             "startlinecolor": "#2a3f5f"
            },
            "type": "carpet"
           }
          ],
          "choropleth": [
           {
            "colorbar": {
             "outlinewidth": 0,
             "ticks": ""
            },
            "type": "choropleth"
           }
          ],
          "contour": [
           {
            "colorbar": {
             "outlinewidth": 0,
             "ticks": ""
            },
            "colorscale": [
             [
              0,
              "#0d0887"
             ],
             [
              0.1111111111111111,
              "#46039f"
             ],
             [
              0.2222222222222222,
              "#7201a8"
             ],
             [
              0.3333333333333333,
              "#9c179e"
             ],
             [
              0.4444444444444444,
              "#bd3786"
             ],
             [
              0.5555555555555556,
              "#d8576b"
             ],
             [
              0.6666666666666666,
              "#ed7953"
             ],
             [
              0.7777777777777778,
              "#fb9f3a"
             ],
             [
              0.8888888888888888,
              "#fdca26"
             ],
             [
              1,
              "#f0f921"
             ]
            ],
            "type": "contour"
           }
          ],
          "contourcarpet": [
           {
            "colorbar": {
             "outlinewidth": 0,
             "ticks": ""
            },
            "type": "contourcarpet"
           }
          ],
          "heatmap": [
           {
            "colorbar": {
             "outlinewidth": 0,
             "ticks": ""
            },
            "colorscale": [
             [
              0,
              "#0d0887"
             ],
             [
              0.1111111111111111,
              "#46039f"
             ],
             [
              0.2222222222222222,
              "#7201a8"
             ],
             [
              0.3333333333333333,
              "#9c179e"
             ],
             [
              0.4444444444444444,
              "#bd3786"
             ],
             [
              0.5555555555555556,
              "#d8576b"
             ],
             [
              0.6666666666666666,
              "#ed7953"
             ],
             [
              0.7777777777777778,
              "#fb9f3a"
             ],
             [
              0.8888888888888888,
              "#fdca26"
             ],
             [
              1,
              "#f0f921"
             ]
            ],
            "type": "heatmap"
           }
          ],
          "heatmapgl": [
           {
            "colorbar": {
             "outlinewidth": 0,
             "ticks": ""
            },
            "colorscale": [
             [
              0,
              "#0d0887"
             ],
             [
              0.1111111111111111,
              "#46039f"
             ],
             [
              0.2222222222222222,
              "#7201a8"
             ],
             [
              0.3333333333333333,
              "#9c179e"
             ],
             [
              0.4444444444444444,
              "#bd3786"
             ],
             [
              0.5555555555555556,
              "#d8576b"
             ],
             [
              0.6666666666666666,
              "#ed7953"
             ],
             [
              0.7777777777777778,
              "#fb9f3a"
             ],
             [
              0.8888888888888888,
              "#fdca26"
             ],
             [
              1,
              "#f0f921"
             ]
            ],
            "type": "heatmapgl"
           }
          ],
          "histogram": [
           {
            "marker": {
             "colorbar": {
              "outlinewidth": 0,
              "ticks": ""
             }
            },
            "type": "histogram"
           }
          ],
          "histogram2d": [
           {
            "colorbar": {
             "outlinewidth": 0,
             "ticks": ""
            },
            "colorscale": [
             [
              0,
              "#0d0887"
             ],
             [
              0.1111111111111111,
              "#46039f"
             ],
             [
              0.2222222222222222,
              "#7201a8"
             ],
             [
              0.3333333333333333,
              "#9c179e"
             ],
             [
              0.4444444444444444,
              "#bd3786"
             ],
             [
              0.5555555555555556,
              "#d8576b"
             ],
             [
              0.6666666666666666,
              "#ed7953"
             ],
             [
              0.7777777777777778,
              "#fb9f3a"
             ],
             [
              0.8888888888888888,
              "#fdca26"
             ],
             [
              1,
              "#f0f921"
             ]
            ],
            "type": "histogram2d"
           }
          ],
          "histogram2dcontour": [
           {
            "colorbar": {
             "outlinewidth": 0,
             "ticks": ""
            },
            "colorscale": [
             [
              0,
              "#0d0887"
             ],
             [
              0.1111111111111111,
              "#46039f"
             ],
             [
              0.2222222222222222,
              "#7201a8"
             ],
             [
              0.3333333333333333,
              "#9c179e"
             ],
             [
              0.4444444444444444,
              "#bd3786"
             ],
             [
              0.5555555555555556,
              "#d8576b"
             ],
             [
              0.6666666666666666,
              "#ed7953"
             ],
             [
              0.7777777777777778,
              "#fb9f3a"
             ],
             [
              0.8888888888888888,
              "#fdca26"
             ],
             [
              1,
              "#f0f921"
             ]
            ],
            "type": "histogram2dcontour"
           }
          ],
          "mesh3d": [
           {
            "colorbar": {
             "outlinewidth": 0,
             "ticks": ""
            },
            "type": "mesh3d"
           }
          ],
          "parcoords": [
           {
            "line": {
             "colorbar": {
              "outlinewidth": 0,
              "ticks": ""
             }
            },
            "type": "parcoords"
           }
          ],
          "pie": [
           {
            "automargin": true,
            "type": "pie"
           }
          ],
          "scatter": [
           {
            "marker": {
             "colorbar": {
              "outlinewidth": 0,
              "ticks": ""
             }
            },
            "type": "scatter"
           }
          ],
          "scatter3d": [
           {
            "line": {
             "colorbar": {
              "outlinewidth": 0,
              "ticks": ""
             }
            },
            "marker": {
             "colorbar": {
              "outlinewidth": 0,
              "ticks": ""
             }
            },
            "type": "scatter3d"
           }
          ],
          "scattercarpet": [
           {
            "marker": {
             "colorbar": {
              "outlinewidth": 0,
              "ticks": ""
             }
            },
            "type": "scattercarpet"
           }
          ],
          "scattergeo": [
           {
            "marker": {
             "colorbar": {
              "outlinewidth": 0,
              "ticks": ""
             }
            },
            "type": "scattergeo"
           }
          ],
          "scattergl": [
           {
            "marker": {
             "colorbar": {
              "outlinewidth": 0,
              "ticks": ""
             }
            },
            "type": "scattergl"
           }
          ],
          "scattermapbox": [
           {
            "marker": {
             "colorbar": {
              "outlinewidth": 0,
              "ticks": ""
             }
            },
            "type": "scattermapbox"
           }
          ],
          "scatterpolar": [
           {
            "marker": {
             "colorbar": {
              "outlinewidth": 0,
              "ticks": ""
             }
            },
            "type": "scatterpolar"
           }
          ],
          "scatterpolargl": [
           {
            "marker": {
             "colorbar": {
              "outlinewidth": 0,
              "ticks": ""
             }
            },
            "type": "scatterpolargl"
           }
          ],
          "scatterternary": [
           {
            "marker": {
             "colorbar": {
              "outlinewidth": 0,
              "ticks": ""
             }
            },
            "type": "scatterternary"
           }
          ],
          "surface": [
           {
            "colorbar": {
             "outlinewidth": 0,
             "ticks": ""
            },
            "colorscale": [
             [
              0,
              "#0d0887"
             ],
             [
              0.1111111111111111,
              "#46039f"
             ],
             [
              0.2222222222222222,
              "#7201a8"
             ],
             [
              0.3333333333333333,
              "#9c179e"
             ],
             [
              0.4444444444444444,
              "#bd3786"
             ],
             [
              0.5555555555555556,
              "#d8576b"
             ],
             [
              0.6666666666666666,
              "#ed7953"
             ],
             [
              0.7777777777777778,
              "#fb9f3a"
             ],
             [
              0.8888888888888888,
              "#fdca26"
             ],
             [
              1,
              "#f0f921"
             ]
            ],
            "type": "surface"
           }
          ],
          "table": [
           {
            "cells": {
             "fill": {
              "color": "#EBF0F8"
             },
             "line": {
              "color": "white"
             }
            },
            "header": {
             "fill": {
              "color": "#C8D4E3"
             },
             "line": {
              "color": "white"
             }
            },
            "type": "table"
           }
          ]
         },
         "layout": {
          "annotationdefaults": {
           "arrowcolor": "#2a3f5f",
           "arrowhead": 0,
           "arrowwidth": 1
          },
          "coloraxis": {
           "colorbar": {
            "outlinewidth": 0,
            "ticks": ""
           }
          },
          "colorscale": {
           "diverging": [
            [
             0,
             "#8e0152"
            ],
            [
             0.1,
             "#c51b7d"
            ],
            [
             0.2,
             "#de77ae"
            ],
            [
             0.3,
             "#f1b6da"
            ],
            [
             0.4,
             "#fde0ef"
            ],
            [
             0.5,
             "#f7f7f7"
            ],
            [
             0.6,
             "#e6f5d0"
            ],
            [
             0.7,
             "#b8e186"
            ],
            [
             0.8,
             "#7fbc41"
            ],
            [
             0.9,
             "#4d9221"
            ],
            [
             1,
             "#276419"
            ]
           ],
           "sequential": [
            [
             0,
             "#0d0887"
            ],
            [
             0.1111111111111111,
             "#46039f"
            ],
            [
             0.2222222222222222,
             "#7201a8"
            ],
            [
             0.3333333333333333,
             "#9c179e"
            ],
            [
             0.4444444444444444,
             "#bd3786"
            ],
            [
             0.5555555555555556,
             "#d8576b"
            ],
            [
             0.6666666666666666,
             "#ed7953"
            ],
            [
             0.7777777777777778,
             "#fb9f3a"
            ],
            [
             0.8888888888888888,
             "#fdca26"
            ],
            [
             1,
             "#f0f921"
            ]
           ],
           "sequentialminus": [
            [
             0,
             "#0d0887"
            ],
            [
             0.1111111111111111,
             "#46039f"
            ],
            [
             0.2222222222222222,
             "#7201a8"
            ],
            [
             0.3333333333333333,
             "#9c179e"
            ],
            [
             0.4444444444444444,
             "#bd3786"
            ],
            [
             0.5555555555555556,
             "#d8576b"
            ],
            [
             0.6666666666666666,
             "#ed7953"
            ],
            [
             0.7777777777777778,
             "#fb9f3a"
            ],
            [
             0.8888888888888888,
             "#fdca26"
            ],
            [
             1,
             "#f0f921"
            ]
           ]
          },
          "colorway": [
           "#636efa",
           "#EF553B",
           "#00cc96",
           "#ab63fa",
           "#FFA15A",
           "#19d3f3",
           "#FF6692",
           "#B6E880",
           "#FF97FF",
           "#FECB52"
          ],
          "font": {
           "color": "#2a3f5f"
          },
          "geo": {
           "bgcolor": "white",
           "lakecolor": "white",
           "landcolor": "#E5ECF6",
           "showlakes": true,
           "showland": true,
           "subunitcolor": "white"
          },
          "hoverlabel": {
           "align": "left"
          },
          "hovermode": "closest",
          "mapbox": {
           "style": "light"
          },
          "paper_bgcolor": "white",
          "plot_bgcolor": "#E5ECF6",
          "polar": {
           "angularaxis": {
            "gridcolor": "white",
            "linecolor": "white",
            "ticks": ""
           },
           "bgcolor": "#E5ECF6",
           "radialaxis": {
            "gridcolor": "white",
            "linecolor": "white",
            "ticks": ""
           }
          },
          "scene": {
           "xaxis": {
            "backgroundcolor": "#E5ECF6",
            "gridcolor": "white",
            "gridwidth": 2,
            "linecolor": "white",
            "showbackground": true,
            "ticks": "",
            "zerolinecolor": "white"
           },
           "yaxis": {
            "backgroundcolor": "#E5ECF6",
            "gridcolor": "white",
            "gridwidth": 2,
            "linecolor": "white",
            "showbackground": true,
            "ticks": "",
            "zerolinecolor": "white"
           },
           "zaxis": {
            "backgroundcolor": "#E5ECF6",
            "gridcolor": "white",
            "gridwidth": 2,
            "linecolor": "white",
            "showbackground": true,
            "ticks": "",
            "zerolinecolor": "white"
           }
          },
          "shapedefaults": {
           "line": {
            "color": "#2a3f5f"
           }
          },
          "ternary": {
           "aaxis": {
            "gridcolor": "white",
            "linecolor": "white",
            "ticks": ""
           },
           "baxis": {
            "gridcolor": "white",
            "linecolor": "white",
            "ticks": ""
           },
           "bgcolor": "#E5ECF6",
           "caxis": {
            "gridcolor": "white",
            "linecolor": "white",
            "ticks": ""
           }
          },
          "title": {
           "x": 0.05
          },
          "xaxis": {
           "automargin": true,
           "gridcolor": "white",
           "linecolor": "white",
           "ticks": "",
           "title": {
            "standoff": 15
           },
           "zerolinecolor": "white",
           "zerolinewidth": 2
          },
          "yaxis": {
           "automargin": true,
           "gridcolor": "white",
           "linecolor": "white",
           "ticks": "",
           "title": {
            "standoff": 15
           },
           "zerolinecolor": "white",
           "zerolinewidth": 2
          }
         }
        },
        "xaxis": {
         "anchor": "y",
         "domain": [
          0,
          1
         ],
         "title": {
          "text": "India/States/UTs"
         }
        },
        "yaxis": {
         "anchor": "x",
         "domain": [
          0,
          1
         ],
         "title": {
          "text": "health_insurance_urban"
         }
        }
       }
      },
      "text/html": [
       "<div>\n",
       "        \n",
       "        \n",
       "            <div id=\"75346a33-d247-4264-bf61-5be099a196c3\" class=\"plotly-graph-div\" style=\"height:525px; width:100%;\"></div>\n",
       "            <script type=\"text/javascript\">\n",
       "                require([\"plotly\"], function(Plotly) {\n",
       "                    window.PLOTLYENV=window.PLOTLYENV || {};\n",
       "                    \n",
       "                if (document.getElementById(\"75346a33-d247-4264-bf61-5be099a196c3\")) {\n",
       "                    Plotly.newPlot(\n",
       "                        '75346a33-d247-4264-bf61-5be099a196c3',\n",
       "                        [{\"alignmentgroup\": \"True\", \"hovertemplate\": \"India/States/UTs=%{x}<br>health_insurance_urban=%{y}<extra></extra>\", \"legendgroup\": \"\", \"marker\": {\"color\": \"#636efa\"}, \"name\": \"\", \"offsetgroup\": \"\", \"orientation\": \"v\", \"showlegend\": false, \"textposition\": \"auto\", \"type\": \"bar\", \"x\": [\"India\", \"Andhra Pradesh\", \"Assam\", \"Bihar\", \"Chattisgarh\", \"Gujarat\", \"Haryana\", \"Jharkhand\", \"Karnataka\", \"Kerala\", \"Madhya Pradesh\", \"Maharashtra\", \"Odisha\", \"Punjab\", \"Rajasthan\", \"Tamil Nadu\", \"Telangana\", \"Uttar Pradesh\", \"West Bengal\", \"Arunachal Pradesh\", \"Delhi\", \"Goa\", \"Himachal Pradesh\", \"Jammu & Kashmir\", \"Manipur\", \"Meghalaya\", \"Mizoram\", \"Nagaland\", \"Sikkim\", \"Tripura\", \"Uttarakhand\", \"Andaman and Nicobar Islands\", \"Dadra and Nagar Haveli\", \"Daman and Diu\", \"Lakshadweep\", \"Puducherry\"], \"xaxis\": \"x\", \"y\": [28.2, 61.1, 12.6, 9.8, 59.4, 22.9, 16.3, 13.7, 23.4, 45.3, 23.0, 16.2, 27.0, 19.8, 19.4, 59.2, 53.5, 7.9, 28.1, 54.3, 16.4, 18.5, 21.5, 5.9, 3.5, 23.2, 42.3, 4.3, 32.6, 31.7, 18.9, 7.7, 39.9, 16.0, 3.6, 38.1], \"yaxis\": \"y\"}],\n",
       "                        {\"barmode\": \"relative\", \"legend\": {\"tracegroupgap\": 0}, \"margin\": {\"t\": 60}, \"template\": {\"data\": {\"bar\": [{\"error_x\": {\"color\": \"#2a3f5f\"}, \"error_y\": {\"color\": \"#2a3f5f\"}, \"marker\": {\"line\": {\"color\": \"#E5ECF6\", \"width\": 0.5}}, \"type\": \"bar\"}], \"barpolar\": [{\"marker\": {\"line\": {\"color\": \"#E5ECF6\", \"width\": 0.5}}, \"type\": \"barpolar\"}], \"carpet\": [{\"aaxis\": {\"endlinecolor\": \"#2a3f5f\", \"gridcolor\": \"white\", \"linecolor\": \"white\", \"minorgridcolor\": \"white\", \"startlinecolor\": \"#2a3f5f\"}, \"baxis\": {\"endlinecolor\": \"#2a3f5f\", \"gridcolor\": \"white\", \"linecolor\": \"white\", \"minorgridcolor\": \"white\", \"startlinecolor\": \"#2a3f5f\"}, \"type\": \"carpet\"}], \"choropleth\": [{\"colorbar\": {\"outlinewidth\": 0, \"ticks\": \"\"}, \"type\": \"choropleth\"}], \"contour\": [{\"colorbar\": {\"outlinewidth\": 0, \"ticks\": \"\"}, \"colorscale\": [[0.0, \"#0d0887\"], [0.1111111111111111, \"#46039f\"], [0.2222222222222222, \"#7201a8\"], [0.3333333333333333, \"#9c179e\"], [0.4444444444444444, \"#bd3786\"], [0.5555555555555556, \"#d8576b\"], [0.6666666666666666, \"#ed7953\"], [0.7777777777777778, \"#fb9f3a\"], [0.8888888888888888, \"#fdca26\"], [1.0, \"#f0f921\"]], \"type\": \"contour\"}], \"contourcarpet\": [{\"colorbar\": {\"outlinewidth\": 0, \"ticks\": \"\"}, \"type\": \"contourcarpet\"}], \"heatmap\": [{\"colorbar\": {\"outlinewidth\": 0, \"ticks\": \"\"}, \"colorscale\": [[0.0, \"#0d0887\"], [0.1111111111111111, \"#46039f\"], [0.2222222222222222, \"#7201a8\"], [0.3333333333333333, \"#9c179e\"], [0.4444444444444444, \"#bd3786\"], [0.5555555555555556, \"#d8576b\"], [0.6666666666666666, \"#ed7953\"], [0.7777777777777778, \"#fb9f3a\"], [0.8888888888888888, \"#fdca26\"], [1.0, \"#f0f921\"]], \"type\": \"heatmap\"}], \"heatmapgl\": [{\"colorbar\": {\"outlinewidth\": 0, \"ticks\": \"\"}, \"colorscale\": [[0.0, \"#0d0887\"], [0.1111111111111111, \"#46039f\"], [0.2222222222222222, \"#7201a8\"], [0.3333333333333333, \"#9c179e\"], [0.4444444444444444, \"#bd3786\"], [0.5555555555555556, \"#d8576b\"], [0.6666666666666666, \"#ed7953\"], [0.7777777777777778, \"#fb9f3a\"], [0.8888888888888888, \"#fdca26\"], [1.0, \"#f0f921\"]], \"type\": \"heatmapgl\"}], \"histogram\": [{\"marker\": {\"colorbar\": {\"outlinewidth\": 0, \"ticks\": \"\"}}, \"type\": \"histogram\"}], \"histogram2d\": [{\"colorbar\": {\"outlinewidth\": 0, \"ticks\": \"\"}, \"colorscale\": [[0.0, \"#0d0887\"], [0.1111111111111111, \"#46039f\"], [0.2222222222222222, \"#7201a8\"], [0.3333333333333333, \"#9c179e\"], [0.4444444444444444, \"#bd3786\"], [0.5555555555555556, \"#d8576b\"], [0.6666666666666666, \"#ed7953\"], [0.7777777777777778, \"#fb9f3a\"], [0.8888888888888888, \"#fdca26\"], [1.0, \"#f0f921\"]], \"type\": \"histogram2d\"}], \"histogram2dcontour\": [{\"colorbar\": {\"outlinewidth\": 0, \"ticks\": \"\"}, \"colorscale\": [[0.0, \"#0d0887\"], [0.1111111111111111, \"#46039f\"], [0.2222222222222222, \"#7201a8\"], [0.3333333333333333, \"#9c179e\"], [0.4444444444444444, \"#bd3786\"], [0.5555555555555556, \"#d8576b\"], [0.6666666666666666, \"#ed7953\"], [0.7777777777777778, \"#fb9f3a\"], [0.8888888888888888, \"#fdca26\"], [1.0, \"#f0f921\"]], \"type\": \"histogram2dcontour\"}], \"mesh3d\": [{\"colorbar\": {\"outlinewidth\": 0, \"ticks\": \"\"}, \"type\": \"mesh3d\"}], \"parcoords\": [{\"line\": {\"colorbar\": {\"outlinewidth\": 0, \"ticks\": \"\"}}, \"type\": \"parcoords\"}], \"pie\": [{\"automargin\": true, \"type\": \"pie\"}], \"scatter\": [{\"marker\": {\"colorbar\": {\"outlinewidth\": 0, \"ticks\": \"\"}}, \"type\": \"scatter\"}], \"scatter3d\": [{\"line\": {\"colorbar\": {\"outlinewidth\": 0, \"ticks\": \"\"}}, \"marker\": {\"colorbar\": {\"outlinewidth\": 0, \"ticks\": \"\"}}, \"type\": \"scatter3d\"}], \"scattercarpet\": [{\"marker\": {\"colorbar\": {\"outlinewidth\": 0, \"ticks\": \"\"}}, \"type\": \"scattercarpet\"}], \"scattergeo\": [{\"marker\": {\"colorbar\": {\"outlinewidth\": 0, \"ticks\": \"\"}}, \"type\": \"scattergeo\"}], \"scattergl\": [{\"marker\": {\"colorbar\": {\"outlinewidth\": 0, \"ticks\": \"\"}}, \"type\": \"scattergl\"}], \"scattermapbox\": [{\"marker\": {\"colorbar\": {\"outlinewidth\": 0, \"ticks\": \"\"}}, \"type\": \"scattermapbox\"}], \"scatterpolar\": [{\"marker\": {\"colorbar\": {\"outlinewidth\": 0, \"ticks\": \"\"}}, \"type\": \"scatterpolar\"}], \"scatterpolargl\": [{\"marker\": {\"colorbar\": {\"outlinewidth\": 0, \"ticks\": \"\"}}, \"type\": \"scatterpolargl\"}], \"scatterternary\": [{\"marker\": {\"colorbar\": {\"outlinewidth\": 0, \"ticks\": \"\"}}, \"type\": \"scatterternary\"}], \"surface\": [{\"colorbar\": {\"outlinewidth\": 0, \"ticks\": \"\"}, \"colorscale\": [[0.0, \"#0d0887\"], [0.1111111111111111, \"#46039f\"], [0.2222222222222222, \"#7201a8\"], [0.3333333333333333, \"#9c179e\"], [0.4444444444444444, \"#bd3786\"], [0.5555555555555556, \"#d8576b\"], [0.6666666666666666, \"#ed7953\"], [0.7777777777777778, \"#fb9f3a\"], [0.8888888888888888, \"#fdca26\"], [1.0, \"#f0f921\"]], \"type\": \"surface\"}], \"table\": [{\"cells\": {\"fill\": {\"color\": \"#EBF0F8\"}, \"line\": {\"color\": \"white\"}}, \"header\": {\"fill\": {\"color\": \"#C8D4E3\"}, \"line\": {\"color\": \"white\"}}, \"type\": \"table\"}]}, \"layout\": {\"annotationdefaults\": {\"arrowcolor\": \"#2a3f5f\", \"arrowhead\": 0, \"arrowwidth\": 1}, \"coloraxis\": {\"colorbar\": {\"outlinewidth\": 0, \"ticks\": \"\"}}, \"colorscale\": {\"diverging\": [[0, \"#8e0152\"], [0.1, \"#c51b7d\"], [0.2, \"#de77ae\"], [0.3, \"#f1b6da\"], [0.4, \"#fde0ef\"], [0.5, \"#f7f7f7\"], [0.6, \"#e6f5d0\"], [0.7, \"#b8e186\"], [0.8, \"#7fbc41\"], [0.9, \"#4d9221\"], [1, \"#276419\"]], \"sequential\": [[0.0, \"#0d0887\"], [0.1111111111111111, \"#46039f\"], [0.2222222222222222, \"#7201a8\"], [0.3333333333333333, \"#9c179e\"], [0.4444444444444444, \"#bd3786\"], [0.5555555555555556, \"#d8576b\"], [0.6666666666666666, \"#ed7953\"], [0.7777777777777778, \"#fb9f3a\"], [0.8888888888888888, \"#fdca26\"], [1.0, \"#f0f921\"]], \"sequentialminus\": [[0.0, \"#0d0887\"], [0.1111111111111111, \"#46039f\"], [0.2222222222222222, \"#7201a8\"], [0.3333333333333333, \"#9c179e\"], [0.4444444444444444, \"#bd3786\"], [0.5555555555555556, \"#d8576b\"], [0.6666666666666666, \"#ed7953\"], [0.7777777777777778, \"#fb9f3a\"], [0.8888888888888888, \"#fdca26\"], [1.0, \"#f0f921\"]]}, \"colorway\": [\"#636efa\", \"#EF553B\", \"#00cc96\", \"#ab63fa\", \"#FFA15A\", \"#19d3f3\", \"#FF6692\", \"#B6E880\", \"#FF97FF\", \"#FECB52\"], \"font\": {\"color\": \"#2a3f5f\"}, \"geo\": {\"bgcolor\": \"white\", \"lakecolor\": \"white\", \"landcolor\": \"#E5ECF6\", \"showlakes\": true, \"showland\": true, \"subunitcolor\": \"white\"}, \"hoverlabel\": {\"align\": \"left\"}, \"hovermode\": \"closest\", \"mapbox\": {\"style\": \"light\"}, \"paper_bgcolor\": \"white\", \"plot_bgcolor\": \"#E5ECF6\", \"polar\": {\"angularaxis\": {\"gridcolor\": \"white\", \"linecolor\": \"white\", \"ticks\": \"\"}, \"bgcolor\": \"#E5ECF6\", \"radialaxis\": {\"gridcolor\": \"white\", \"linecolor\": \"white\", \"ticks\": \"\"}}, \"scene\": {\"xaxis\": {\"backgroundcolor\": \"#E5ECF6\", \"gridcolor\": \"white\", \"gridwidth\": 2, \"linecolor\": \"white\", \"showbackground\": true, \"ticks\": \"\", \"zerolinecolor\": \"white\"}, \"yaxis\": {\"backgroundcolor\": \"#E5ECF6\", \"gridcolor\": \"white\", \"gridwidth\": 2, \"linecolor\": \"white\", \"showbackground\": true, \"ticks\": \"\", \"zerolinecolor\": \"white\"}, \"zaxis\": {\"backgroundcolor\": \"#E5ECF6\", \"gridcolor\": \"white\", \"gridwidth\": 2, \"linecolor\": \"white\", \"showbackground\": true, \"ticks\": \"\", \"zerolinecolor\": \"white\"}}, \"shapedefaults\": {\"line\": {\"color\": \"#2a3f5f\"}}, \"ternary\": {\"aaxis\": {\"gridcolor\": \"white\", \"linecolor\": \"white\", \"ticks\": \"\"}, \"baxis\": {\"gridcolor\": \"white\", \"linecolor\": \"white\", \"ticks\": \"\"}, \"bgcolor\": \"#E5ECF6\", \"caxis\": {\"gridcolor\": \"white\", \"linecolor\": \"white\", \"ticks\": \"\"}}, \"title\": {\"x\": 0.05}, \"xaxis\": {\"automargin\": true, \"gridcolor\": \"white\", \"linecolor\": \"white\", \"ticks\": \"\", \"title\": {\"standoff\": 15}, \"zerolinecolor\": \"white\", \"zerolinewidth\": 2}, \"yaxis\": {\"automargin\": true, \"gridcolor\": \"white\", \"linecolor\": \"white\", \"ticks\": \"\", \"title\": {\"standoff\": 15}, \"zerolinecolor\": \"white\", \"zerolinewidth\": 2}}}, \"xaxis\": {\"anchor\": \"y\", \"domain\": [0.0, 1.0], \"title\": {\"text\": \"India/States/UTs\"}}, \"yaxis\": {\"anchor\": \"x\", \"domain\": [0.0, 1.0], \"title\": {\"text\": \"health_insurance_urban\"}}},\n",
       "                        {\"responsive\": true}\n",
       "                    ).then(function(){\n",
       "                            \n",
       "var gd = document.getElementById('75346a33-d247-4264-bf61-5be099a196c3');\n",
       "var x = new MutationObserver(function (mutations, observer) {{\n",
       "        var display = window.getComputedStyle(gd).display;\n",
       "        if (!display || display === 'none') {{\n",
       "            console.log([gd, 'removed!']);\n",
       "            Plotly.purge(gd);\n",
       "            observer.disconnect();\n",
       "        }}\n",
       "}});\n",
       "\n",
       "// Listen for the removal of the full notebook cells\n",
       "var notebookContainer = gd.closest('#notebook-container');\n",
       "if (notebookContainer) {{\n",
       "    x.observe(notebookContainer, {childList: true});\n",
       "}}\n",
       "\n",
       "// Listen for the clearing of the current output cell\n",
       "var outputEl = gd.closest('.output');\n",
       "if (outputEl) {{\n",
       "    x.observe(outputEl, {childList: true});\n",
       "}}\n",
       "\n",
       "                        })\n",
       "                };\n",
       "                });\n",
       "            </script>\n",
       "        </div>"
      ]
     },
     "metadata": {},
     "output_type": "display_data"
    }
   ],
   "source": [
    "import plotly.express as px\n",
    "fig = px.bar(health_insurance_NFHS4_Urban, x='India/States/UTs', y='health_insurance_urban')\n",
    "fig.show()"
   ]
  },
  {
   "cell_type": "code",
   "execution_count": 65,
   "metadata": {},
   "outputs": [
    {
     "data": {
      "text/html": [
       "<div>\n",
       "<style scoped>\n",
       "    .dataframe tbody tr th:only-of-type {\n",
       "        vertical-align: middle;\n",
       "    }\n",
       "\n",
       "    .dataframe tbody tr th {\n",
       "        vertical-align: top;\n",
       "    }\n",
       "\n",
       "    .dataframe thead th {\n",
       "        text-align: right;\n",
       "    }\n",
       "</style>\n",
       "<table border=\"1\" class=\"dataframe\">\n",
       "  <thead>\n",
       "    <tr style=\"text-align: right;\">\n",
       "      <th></th>\n",
       "      <th>India/States/UTs</th>\n",
       "      <th>Survey</th>\n",
       "      <th>Area</th>\n",
       "      <th>F_6above_school</th>\n",
       "      <th>Population below age 15 years</th>\n",
       "      <th>Sex ratio of the total population (females per 1000 males)</th>\n",
       "      <th>Sex ratio at birth for children born in the last five years</th>\n",
       "      <th>Children under age 5 years whose birth was registered</th>\n",
       "      <th>Households with electricity</th>\n",
       "      <th>Households with an improved drinking-water</th>\n",
       "      <th>Households using improved sanitation facility</th>\n",
       "      <th>Households using clean fuel for cooking</th>\n",
       "      <th>Households using iodized salt</th>\n",
       "      <th>health_insurance</th>\n",
       "    </tr>\n",
       "  </thead>\n",
       "  <tbody>\n",
       "    <tr>\n",
       "      <th>1</th>\n",
       "      <td>India</td>\n",
       "      <td>NFHS-4</td>\n",
       "      <td>Rural</td>\n",
       "      <td>63.0</td>\n",
       "      <td>30.5</td>\n",
       "      <td>1009.0</td>\n",
       "      <td>927.0</td>\n",
       "      <td>76.1</td>\n",
       "      <td>83.2</td>\n",
       "      <td>89.3</td>\n",
       "      <td>36.7</td>\n",
       "      <td>24.0</td>\n",
       "      <td>91.4</td>\n",
       "      <td>29.0</td>\n",
       "    </tr>\n",
       "    <tr>\n",
       "      <th>5</th>\n",
       "      <td>Andhra Pradesh</td>\n",
       "      <td>NFHS-4</td>\n",
       "      <td>Rural</td>\n",
       "      <td>56.6</td>\n",
       "      <td>23.9</td>\n",
       "      <td>1018.0</td>\n",
       "      <td>880.0</td>\n",
       "      <td>79.9</td>\n",
       "      <td>98.4</td>\n",
       "      <td>73.6</td>\n",
       "      <td>43.1</td>\n",
       "      <td>49.7</td>\n",
       "      <td>77.4</td>\n",
       "      <td>80.5</td>\n",
       "    </tr>\n",
       "    <tr>\n",
       "      <th>9</th>\n",
       "      <td>Assam</td>\n",
       "      <td>NFHS-4</td>\n",
       "      <td>Rural</td>\n",
       "      <td>72.9</td>\n",
       "      <td>31.5</td>\n",
       "      <td>993.0</td>\n",
       "      <td>945.0</td>\n",
       "      <td>93.8</td>\n",
       "      <td>75.0</td>\n",
       "      <td>82.9</td>\n",
       "      <td>45.1</td>\n",
       "      <td>15.6</td>\n",
       "      <td>99.5</td>\n",
       "      <td>10.0</td>\n",
       "    </tr>\n",
       "    <tr>\n",
       "      <th>13</th>\n",
       "      <td>Bihar</td>\n",
       "      <td>NFHS-4</td>\n",
       "      <td>Rural</td>\n",
       "      <td>54.8</td>\n",
       "      <td>40.1</td>\n",
       "      <td>1075.0</td>\n",
       "      <td>933.0</td>\n",
       "      <td>60.3</td>\n",
       "      <td>54.1</td>\n",
       "      <td>98.2</td>\n",
       "      <td>20.7</td>\n",
       "      <td>10.8</td>\n",
       "      <td>93.0</td>\n",
       "      <td>12.7</td>\n",
       "    </tr>\n",
       "    <tr>\n",
       "      <th>17</th>\n",
       "      <td>Chattisgarh</td>\n",
       "      <td>NFHS-4</td>\n",
       "      <td>Rural</td>\n",
       "      <td>63.7</td>\n",
       "      <td>30.1</td>\n",
       "      <td>1027.0</td>\n",
       "      <td>992.0</td>\n",
       "      <td>84.4</td>\n",
       "      <td>94.5</td>\n",
       "      <td>89.2</td>\n",
       "      <td>22.6</td>\n",
       "      <td>7.6</td>\n",
       "      <td>99.0</td>\n",
       "      <td>71.4</td>\n",
       "    </tr>\n",
       "  </tbody>\n",
       "</table>\n",
       "</div>"
      ],
      "text/plain": [
       "   India/States/UTs  Survey   Area  F_6above_school  \\\n",
       "1             India  NFHS-4  Rural             63.0   \n",
       "5    Andhra Pradesh  NFHS-4  Rural             56.6   \n",
       "9             Assam  NFHS-4  Rural             72.9   \n",
       "13            Bihar  NFHS-4  Rural             54.8   \n",
       "17      Chattisgarh  NFHS-4  Rural             63.7   \n",
       "\n",
       "    Population below age 15 years  \\\n",
       "1                            30.5   \n",
       "5                            23.9   \n",
       "9                            31.5   \n",
       "13                           40.1   \n",
       "17                           30.1   \n",
       "\n",
       "    Sex ratio of the total population (females per 1000 males)  \\\n",
       "1                                              1009.0            \n",
       "5                                              1018.0            \n",
       "9                                               993.0            \n",
       "13                                             1075.0            \n",
       "17                                             1027.0            \n",
       "\n",
       "    Sex ratio at birth for children born in the last five years  \\\n",
       "1                                               927.0             \n",
       "5                                               880.0             \n",
       "9                                               945.0             \n",
       "13                                              933.0             \n",
       "17                                              992.0             \n",
       "\n",
       "    Children under age 5 years whose birth was registered  \\\n",
       "1                                                76.1       \n",
       "5                                                79.9       \n",
       "9                                                93.8       \n",
       "13                                               60.3       \n",
       "17                                               84.4       \n",
       "\n",
       "    Households with electricity  Households with an improved drinking-water  \\\n",
       "1                          83.2                                        89.3   \n",
       "5                          98.4                                        73.6   \n",
       "9                          75.0                                        82.9   \n",
       "13                         54.1                                        98.2   \n",
       "17                         94.5                                        89.2   \n",
       "\n",
       "    Households using improved sanitation facility  \\\n",
       "1                                            36.7   \n",
       "5                                            43.1   \n",
       "9                                            45.1   \n",
       "13                                           20.7   \n",
       "17                                           22.6   \n",
       "\n",
       "    Households using clean fuel for cooking  Households using iodized salt  \\\n",
       "1                                      24.0                           91.4   \n",
       "5                                      49.7                           77.4   \n",
       "9                                      15.6                           99.5   \n",
       "13                                     10.8                           93.0   \n",
       "17                                      7.6                           99.0   \n",
       "\n",
       "    health_insurance  \n",
       "1               29.0  \n",
       "5               80.5  \n",
       "9               10.0  \n",
       "13              12.7  \n",
       "17              71.4  "
      ]
     },
     "execution_count": 65,
     "metadata": {},
     "output_type": "execute_result"
    }
   ],
   "source": [
    "health_insurance_NFHS4_Rural=health_insurance1[(health_insurance1['Survey']=='NFHS-4')&(health_insurance1['Area']=='Rural')]\n",
    "health_insurance_NFHS4_Rural.head()"
   ]
  },
  {
   "cell_type": "code",
   "execution_count": 58,
   "metadata": {},
   "outputs": [
    {
     "data": {
      "application/vnd.plotly.v1+json": {
       "config": {
        "plotlyServerURL": "https://plot.ly"
       },
       "data": [
        {
         "alignmentgroup": "True",
         "hovertemplate": "India/States/UTs=%{x}<br>health_insurance=%{y}<extra></extra>",
         "legendgroup": "",
         "marker": {
          "color": "#636efa"
         },
         "name": "",
         "offsetgroup": "",
         "orientation": "v",
         "showlegend": false,
         "textposition": "auto",
         "type": "bar",
         "x": [
          "India",
          "Andhra Pradesh",
          "Assam",
          "Bihar",
          "Chattisgarh",
          "Gujarat",
          "Haryana",
          "Jharkhand",
          "Karnataka",
          "Kerala",
          "Madhya Pradesh",
          "Maharashtra",
          "Odisha",
          "Punjab",
          "Rajasthan",
          "Tamil Nadu",
          "Telangana",
          "Uttar Pradesh",
          "West Bengal",
          "Arunachal Pradesh",
          "Delhi",
          "Goa",
          "Himachal Pradesh",
          "Jammu & Kashmir",
          "Manipur",
          "Meghalaya",
          "Mizoram",
          "Nagaland",
          "Sikkim",
          "Tripura",
          "Uttarakhand",
          "Andaman and Nicobar Islands",
          "Dadra and Nagar Haveli",
          "Daman and Diu",
          "Lakshadweep",
          "Puducherry"
         ],
         "xaxis": "x",
         "y": [
          29,
          80.5,
          10,
          12.7,
          71.4,
          23.3,
          9.3,
          13.2,
          31.8,
          49.8,
          15.4,
          13.8,
          51.9,
          22.1,
          18.5,
          69.1,
          76.7,
          5.4,
          36.1,
          59.7,
          15.6,
          11.4,
          26.3,
          3.4,
          3.7,
          37.9,
          49.9,
          7,
          29.2,
          69.5,
          19.8,
          4.1,
          21.3,
          20.4,
          0,
          20.9
         ],
         "yaxis": "y"
        }
       ],
       "layout": {
        "barmode": "relative",
        "legend": {
         "tracegroupgap": 0
        },
        "margin": {
         "t": 60
        },
        "template": {
         "data": {
          "bar": [
           {
            "error_x": {
             "color": "#2a3f5f"
            },
            "error_y": {
             "color": "#2a3f5f"
            },
            "marker": {
             "line": {
              "color": "#E5ECF6",
              "width": 0.5
             }
            },
            "type": "bar"
           }
          ],
          "barpolar": [
           {
            "marker": {
             "line": {
              "color": "#E5ECF6",
              "width": 0.5
             }
            },
            "type": "barpolar"
           }
          ],
          "carpet": [
           {
            "aaxis": {
             "endlinecolor": "#2a3f5f",
             "gridcolor": "white",
             "linecolor": "white",
             "minorgridcolor": "white",
             "startlinecolor": "#2a3f5f"
            },
            "baxis": {
             "endlinecolor": "#2a3f5f",
             "gridcolor": "white",
             "linecolor": "white",
             "minorgridcolor": "white",
             "startlinecolor": "#2a3f5f"
            },
            "type": "carpet"
           }
          ],
          "choropleth": [
           {
            "colorbar": {
             "outlinewidth": 0,
             "ticks": ""
            },
            "type": "choropleth"
           }
          ],
          "contour": [
           {
            "colorbar": {
             "outlinewidth": 0,
             "ticks": ""
            },
            "colorscale": [
             [
              0,
              "#0d0887"
             ],
             [
              0.1111111111111111,
              "#46039f"
             ],
             [
              0.2222222222222222,
              "#7201a8"
             ],
             [
              0.3333333333333333,
              "#9c179e"
             ],
             [
              0.4444444444444444,
              "#bd3786"
             ],
             [
              0.5555555555555556,
              "#d8576b"
             ],
             [
              0.6666666666666666,
              "#ed7953"
             ],
             [
              0.7777777777777778,
              "#fb9f3a"
             ],
             [
              0.8888888888888888,
              "#fdca26"
             ],
             [
              1,
              "#f0f921"
             ]
            ],
            "type": "contour"
           }
          ],
          "contourcarpet": [
           {
            "colorbar": {
             "outlinewidth": 0,
             "ticks": ""
            },
            "type": "contourcarpet"
           }
          ],
          "heatmap": [
           {
            "colorbar": {
             "outlinewidth": 0,
             "ticks": ""
            },
            "colorscale": [
             [
              0,
              "#0d0887"
             ],
             [
              0.1111111111111111,
              "#46039f"
             ],
             [
              0.2222222222222222,
              "#7201a8"
             ],
             [
              0.3333333333333333,
              "#9c179e"
             ],
             [
              0.4444444444444444,
              "#bd3786"
             ],
             [
              0.5555555555555556,
              "#d8576b"
             ],
             [
              0.6666666666666666,
              "#ed7953"
             ],
             [
              0.7777777777777778,
              "#fb9f3a"
             ],
             [
              0.8888888888888888,
              "#fdca26"
             ],
             [
              1,
              "#f0f921"
             ]
            ],
            "type": "heatmap"
           }
          ],
          "heatmapgl": [
           {
            "colorbar": {
             "outlinewidth": 0,
             "ticks": ""
            },
            "colorscale": [
             [
              0,
              "#0d0887"
             ],
             [
              0.1111111111111111,
              "#46039f"
             ],
             [
              0.2222222222222222,
              "#7201a8"
             ],
             [
              0.3333333333333333,
              "#9c179e"
             ],
             [
              0.4444444444444444,
              "#bd3786"
             ],
             [
              0.5555555555555556,
              "#d8576b"
             ],
             [
              0.6666666666666666,
              "#ed7953"
             ],
             [
              0.7777777777777778,
              "#fb9f3a"
             ],
             [
              0.8888888888888888,
              "#fdca26"
             ],
             [
              1,
              "#f0f921"
             ]
            ],
            "type": "heatmapgl"
           }
          ],
          "histogram": [
           {
            "marker": {
             "colorbar": {
              "outlinewidth": 0,
              "ticks": ""
             }
            },
            "type": "histogram"
           }
          ],
          "histogram2d": [
           {
            "colorbar": {
             "outlinewidth": 0,
             "ticks": ""
            },
            "colorscale": [
             [
              0,
              "#0d0887"
             ],
             [
              0.1111111111111111,
              "#46039f"
             ],
             [
              0.2222222222222222,
              "#7201a8"
             ],
             [
              0.3333333333333333,
              "#9c179e"
             ],
             [
              0.4444444444444444,
              "#bd3786"
             ],
             [
              0.5555555555555556,
              "#d8576b"
             ],
             [
              0.6666666666666666,
              "#ed7953"
             ],
             [
              0.7777777777777778,
              "#fb9f3a"
             ],
             [
              0.8888888888888888,
              "#fdca26"
             ],
             [
              1,
              "#f0f921"
             ]
            ],
            "type": "histogram2d"
           }
          ],
          "histogram2dcontour": [
           {
            "colorbar": {
             "outlinewidth": 0,
             "ticks": ""
            },
            "colorscale": [
             [
              0,
              "#0d0887"
             ],
             [
              0.1111111111111111,
              "#46039f"
             ],
             [
              0.2222222222222222,
              "#7201a8"
             ],
             [
              0.3333333333333333,
              "#9c179e"
             ],
             [
              0.4444444444444444,
              "#bd3786"
             ],
             [
              0.5555555555555556,
              "#d8576b"
             ],
             [
              0.6666666666666666,
              "#ed7953"
             ],
             [
              0.7777777777777778,
              "#fb9f3a"
             ],
             [
              0.8888888888888888,
              "#fdca26"
             ],
             [
              1,
              "#f0f921"
             ]
            ],
            "type": "histogram2dcontour"
           }
          ],
          "mesh3d": [
           {
            "colorbar": {
             "outlinewidth": 0,
             "ticks": ""
            },
            "type": "mesh3d"
           }
          ],
          "parcoords": [
           {
            "line": {
             "colorbar": {
              "outlinewidth": 0,
              "ticks": ""
             }
            },
            "type": "parcoords"
           }
          ],
          "pie": [
           {
            "automargin": true,
            "type": "pie"
           }
          ],
          "scatter": [
           {
            "marker": {
             "colorbar": {
              "outlinewidth": 0,
              "ticks": ""
             }
            },
            "type": "scatter"
           }
          ],
          "scatter3d": [
           {
            "line": {
             "colorbar": {
              "outlinewidth": 0,
              "ticks": ""
             }
            },
            "marker": {
             "colorbar": {
              "outlinewidth": 0,
              "ticks": ""
             }
            },
            "type": "scatter3d"
           }
          ],
          "scattercarpet": [
           {
            "marker": {
             "colorbar": {
              "outlinewidth": 0,
              "ticks": ""
             }
            },
            "type": "scattercarpet"
           }
          ],
          "scattergeo": [
           {
            "marker": {
             "colorbar": {
              "outlinewidth": 0,
              "ticks": ""
             }
            },
            "type": "scattergeo"
           }
          ],
          "scattergl": [
           {
            "marker": {
             "colorbar": {
              "outlinewidth": 0,
              "ticks": ""
             }
            },
            "type": "scattergl"
           }
          ],
          "scattermapbox": [
           {
            "marker": {
             "colorbar": {
              "outlinewidth": 0,
              "ticks": ""
             }
            },
            "type": "scattermapbox"
           }
          ],
          "scatterpolar": [
           {
            "marker": {
             "colorbar": {
              "outlinewidth": 0,
              "ticks": ""
             }
            },
            "type": "scatterpolar"
           }
          ],
          "scatterpolargl": [
           {
            "marker": {
             "colorbar": {
              "outlinewidth": 0,
              "ticks": ""
             }
            },
            "type": "scatterpolargl"
           }
          ],
          "scatterternary": [
           {
            "marker": {
             "colorbar": {
              "outlinewidth": 0,
              "ticks": ""
             }
            },
            "type": "scatterternary"
           }
          ],
          "surface": [
           {
            "colorbar": {
             "outlinewidth": 0,
             "ticks": ""
            },
            "colorscale": [
             [
              0,
              "#0d0887"
             ],
             [
              0.1111111111111111,
              "#46039f"
             ],
             [
              0.2222222222222222,
              "#7201a8"
             ],
             [
              0.3333333333333333,
              "#9c179e"
             ],
             [
              0.4444444444444444,
              "#bd3786"
             ],
             [
              0.5555555555555556,
              "#d8576b"
             ],
             [
              0.6666666666666666,
              "#ed7953"
             ],
             [
              0.7777777777777778,
              "#fb9f3a"
             ],
             [
              0.8888888888888888,
              "#fdca26"
             ],
             [
              1,
              "#f0f921"
             ]
            ],
            "type": "surface"
           }
          ],
          "table": [
           {
            "cells": {
             "fill": {
              "color": "#EBF0F8"
             },
             "line": {
              "color": "white"
             }
            },
            "header": {
             "fill": {
              "color": "#C8D4E3"
             },
             "line": {
              "color": "white"
             }
            },
            "type": "table"
           }
          ]
         },
         "layout": {
          "annotationdefaults": {
           "arrowcolor": "#2a3f5f",
           "arrowhead": 0,
           "arrowwidth": 1
          },
          "coloraxis": {
           "colorbar": {
            "outlinewidth": 0,
            "ticks": ""
           }
          },
          "colorscale": {
           "diverging": [
            [
             0,
             "#8e0152"
            ],
            [
             0.1,
             "#c51b7d"
            ],
            [
             0.2,
             "#de77ae"
            ],
            [
             0.3,
             "#f1b6da"
            ],
            [
             0.4,
             "#fde0ef"
            ],
            [
             0.5,
             "#f7f7f7"
            ],
            [
             0.6,
             "#e6f5d0"
            ],
            [
             0.7,
             "#b8e186"
            ],
            [
             0.8,
             "#7fbc41"
            ],
            [
             0.9,
             "#4d9221"
            ],
            [
             1,
             "#276419"
            ]
           ],
           "sequential": [
            [
             0,
             "#0d0887"
            ],
            [
             0.1111111111111111,
             "#46039f"
            ],
            [
             0.2222222222222222,
             "#7201a8"
            ],
            [
             0.3333333333333333,
             "#9c179e"
            ],
            [
             0.4444444444444444,
             "#bd3786"
            ],
            [
             0.5555555555555556,
             "#d8576b"
            ],
            [
             0.6666666666666666,
             "#ed7953"
            ],
            [
             0.7777777777777778,
             "#fb9f3a"
            ],
            [
             0.8888888888888888,
             "#fdca26"
            ],
            [
             1,
             "#f0f921"
            ]
           ],
           "sequentialminus": [
            [
             0,
             "#0d0887"
            ],
            [
             0.1111111111111111,
             "#46039f"
            ],
            [
             0.2222222222222222,
             "#7201a8"
            ],
            [
             0.3333333333333333,
             "#9c179e"
            ],
            [
             0.4444444444444444,
             "#bd3786"
            ],
            [
             0.5555555555555556,
             "#d8576b"
            ],
            [
             0.6666666666666666,
             "#ed7953"
            ],
            [
             0.7777777777777778,
             "#fb9f3a"
            ],
            [
             0.8888888888888888,
             "#fdca26"
            ],
            [
             1,
             "#f0f921"
            ]
           ]
          },
          "colorway": [
           "#636efa",
           "#EF553B",
           "#00cc96",
           "#ab63fa",
           "#FFA15A",
           "#19d3f3",
           "#FF6692",
           "#B6E880",
           "#FF97FF",
           "#FECB52"
          ],
          "font": {
           "color": "#2a3f5f"
          },
          "geo": {
           "bgcolor": "white",
           "lakecolor": "white",
           "landcolor": "#E5ECF6",
           "showlakes": true,
           "showland": true,
           "subunitcolor": "white"
          },
          "hoverlabel": {
           "align": "left"
          },
          "hovermode": "closest",
          "mapbox": {
           "style": "light"
          },
          "paper_bgcolor": "white",
          "plot_bgcolor": "#E5ECF6",
          "polar": {
           "angularaxis": {
            "gridcolor": "white",
            "linecolor": "white",
            "ticks": ""
           },
           "bgcolor": "#E5ECF6",
           "radialaxis": {
            "gridcolor": "white",
            "linecolor": "white",
            "ticks": ""
           }
          },
          "scene": {
           "xaxis": {
            "backgroundcolor": "#E5ECF6",
            "gridcolor": "white",
            "gridwidth": 2,
            "linecolor": "white",
            "showbackground": true,
            "ticks": "",
            "zerolinecolor": "white"
           },
           "yaxis": {
            "backgroundcolor": "#E5ECF6",
            "gridcolor": "white",
            "gridwidth": 2,
            "linecolor": "white",
            "showbackground": true,
            "ticks": "",
            "zerolinecolor": "white"
           },
           "zaxis": {
            "backgroundcolor": "#E5ECF6",
            "gridcolor": "white",
            "gridwidth": 2,
            "linecolor": "white",
            "showbackground": true,
            "ticks": "",
            "zerolinecolor": "white"
           }
          },
          "shapedefaults": {
           "line": {
            "color": "#2a3f5f"
           }
          },
          "ternary": {
           "aaxis": {
            "gridcolor": "white",
            "linecolor": "white",
            "ticks": ""
           },
           "baxis": {
            "gridcolor": "white",
            "linecolor": "white",
            "ticks": ""
           },
           "bgcolor": "#E5ECF6",
           "caxis": {
            "gridcolor": "white",
            "linecolor": "white",
            "ticks": ""
           }
          },
          "title": {
           "x": 0.05
          },
          "xaxis": {
           "automargin": true,
           "gridcolor": "white",
           "linecolor": "white",
           "ticks": "",
           "title": {
            "standoff": 15
           },
           "zerolinecolor": "white",
           "zerolinewidth": 2
          },
          "yaxis": {
           "automargin": true,
           "gridcolor": "white",
           "linecolor": "white",
           "ticks": "",
           "title": {
            "standoff": 15
           },
           "zerolinecolor": "white",
           "zerolinewidth": 2
          }
         }
        },
        "xaxis": {
         "anchor": "y",
         "domain": [
          0,
          1
         ],
         "title": {
          "text": "India/States/UTs"
         }
        },
        "yaxis": {
         "anchor": "x",
         "domain": [
          0,
          1
         ],
         "title": {
          "text": "health_insurance"
         }
        }
       }
      },
      "text/html": [
       "<div>\n",
       "        \n",
       "        \n",
       "            <div id=\"1b12f939-cff5-4b3d-90b9-9d5a5a58241f\" class=\"plotly-graph-div\" style=\"height:525px; width:100%;\"></div>\n",
       "            <script type=\"text/javascript\">\n",
       "                require([\"plotly\"], function(Plotly) {\n",
       "                    window.PLOTLYENV=window.PLOTLYENV || {};\n",
       "                    \n",
       "                if (document.getElementById(\"1b12f939-cff5-4b3d-90b9-9d5a5a58241f\")) {\n",
       "                    Plotly.newPlot(\n",
       "                        '1b12f939-cff5-4b3d-90b9-9d5a5a58241f',\n",
       "                        [{\"alignmentgroup\": \"True\", \"hovertemplate\": \"India/States/UTs=%{x}<br>health_insurance=%{y}<extra></extra>\", \"legendgroup\": \"\", \"marker\": {\"color\": \"#636efa\"}, \"name\": \"\", \"offsetgroup\": \"\", \"orientation\": \"v\", \"showlegend\": false, \"textposition\": \"auto\", \"type\": \"bar\", \"x\": [\"India\", \"Andhra Pradesh\", \"Assam\", \"Bihar\", \"Chattisgarh\", \"Gujarat\", \"Haryana\", \"Jharkhand\", \"Karnataka\", \"Kerala\", \"Madhya Pradesh\", \"Maharashtra\", \"Odisha\", \"Punjab\", \"Rajasthan\", \"Tamil Nadu\", \"Telangana\", \"Uttar Pradesh\", \"West Bengal\", \"Arunachal Pradesh\", \"Delhi\", \"Goa\", \"Himachal Pradesh\", \"Jammu & Kashmir\", \"Manipur\", \"Meghalaya\", \"Mizoram\", \"Nagaland\", \"Sikkim\", \"Tripura\", \"Uttarakhand\", \"Andaman and Nicobar Islands\", \"Dadra and Nagar Haveli\", \"Daman and Diu\", \"Lakshadweep\", \"Puducherry\"], \"xaxis\": \"x\", \"y\": [29.0, 80.5, 10.0, 12.7, 71.4, 23.3, 9.3, 13.2, 31.8, 49.8, 15.4, 13.8, 51.9, 22.1, 18.5, 69.1, 76.7, 5.4, 36.1, 59.7, 15.6, 11.4, 26.3, 3.4, 3.7, 37.9, 49.9, 7.0, 29.2, 69.5, 19.8, 4.1, 21.3, 20.4, 0.0, 20.9], \"yaxis\": \"y\"}],\n",
       "                        {\"barmode\": \"relative\", \"legend\": {\"tracegroupgap\": 0}, \"margin\": {\"t\": 60}, \"template\": {\"data\": {\"bar\": [{\"error_x\": {\"color\": \"#2a3f5f\"}, \"error_y\": {\"color\": \"#2a3f5f\"}, \"marker\": {\"line\": {\"color\": \"#E5ECF6\", \"width\": 0.5}}, \"type\": \"bar\"}], \"barpolar\": [{\"marker\": {\"line\": {\"color\": \"#E5ECF6\", \"width\": 0.5}}, \"type\": \"barpolar\"}], \"carpet\": [{\"aaxis\": {\"endlinecolor\": \"#2a3f5f\", \"gridcolor\": \"white\", \"linecolor\": \"white\", \"minorgridcolor\": \"white\", \"startlinecolor\": \"#2a3f5f\"}, \"baxis\": {\"endlinecolor\": \"#2a3f5f\", \"gridcolor\": \"white\", \"linecolor\": \"white\", \"minorgridcolor\": \"white\", \"startlinecolor\": \"#2a3f5f\"}, \"type\": \"carpet\"}], \"choropleth\": [{\"colorbar\": {\"outlinewidth\": 0, \"ticks\": \"\"}, \"type\": \"choropleth\"}], \"contour\": [{\"colorbar\": {\"outlinewidth\": 0, \"ticks\": \"\"}, \"colorscale\": [[0.0, \"#0d0887\"], [0.1111111111111111, \"#46039f\"], [0.2222222222222222, \"#7201a8\"], [0.3333333333333333, \"#9c179e\"], [0.4444444444444444, \"#bd3786\"], [0.5555555555555556, \"#d8576b\"], [0.6666666666666666, \"#ed7953\"], [0.7777777777777778, \"#fb9f3a\"], [0.8888888888888888, \"#fdca26\"], [1.0, \"#f0f921\"]], \"type\": \"contour\"}], \"contourcarpet\": [{\"colorbar\": {\"outlinewidth\": 0, \"ticks\": \"\"}, \"type\": \"contourcarpet\"}], \"heatmap\": [{\"colorbar\": {\"outlinewidth\": 0, \"ticks\": \"\"}, \"colorscale\": [[0.0, \"#0d0887\"], [0.1111111111111111, \"#46039f\"], [0.2222222222222222, \"#7201a8\"], [0.3333333333333333, \"#9c179e\"], [0.4444444444444444, \"#bd3786\"], [0.5555555555555556, \"#d8576b\"], [0.6666666666666666, \"#ed7953\"], [0.7777777777777778, \"#fb9f3a\"], [0.8888888888888888, \"#fdca26\"], [1.0, \"#f0f921\"]], \"type\": \"heatmap\"}], \"heatmapgl\": [{\"colorbar\": {\"outlinewidth\": 0, \"ticks\": \"\"}, \"colorscale\": [[0.0, \"#0d0887\"], [0.1111111111111111, \"#46039f\"], [0.2222222222222222, \"#7201a8\"], [0.3333333333333333, \"#9c179e\"], [0.4444444444444444, \"#bd3786\"], [0.5555555555555556, \"#d8576b\"], [0.6666666666666666, \"#ed7953\"], [0.7777777777777778, \"#fb9f3a\"], [0.8888888888888888, \"#fdca26\"], [1.0, \"#f0f921\"]], \"type\": \"heatmapgl\"}], \"histogram\": [{\"marker\": {\"colorbar\": {\"outlinewidth\": 0, \"ticks\": \"\"}}, \"type\": \"histogram\"}], \"histogram2d\": [{\"colorbar\": {\"outlinewidth\": 0, \"ticks\": \"\"}, \"colorscale\": [[0.0, \"#0d0887\"], [0.1111111111111111, \"#46039f\"], [0.2222222222222222, \"#7201a8\"], [0.3333333333333333, \"#9c179e\"], [0.4444444444444444, \"#bd3786\"], [0.5555555555555556, \"#d8576b\"], [0.6666666666666666, \"#ed7953\"], [0.7777777777777778, \"#fb9f3a\"], [0.8888888888888888, \"#fdca26\"], [1.0, \"#f0f921\"]], \"type\": \"histogram2d\"}], \"histogram2dcontour\": [{\"colorbar\": {\"outlinewidth\": 0, \"ticks\": \"\"}, \"colorscale\": [[0.0, \"#0d0887\"], [0.1111111111111111, \"#46039f\"], [0.2222222222222222, \"#7201a8\"], [0.3333333333333333, \"#9c179e\"], [0.4444444444444444, \"#bd3786\"], [0.5555555555555556, \"#d8576b\"], [0.6666666666666666, \"#ed7953\"], [0.7777777777777778, \"#fb9f3a\"], [0.8888888888888888, \"#fdca26\"], [1.0, \"#f0f921\"]], \"type\": \"histogram2dcontour\"}], \"mesh3d\": [{\"colorbar\": {\"outlinewidth\": 0, \"ticks\": \"\"}, \"type\": \"mesh3d\"}], \"parcoords\": [{\"line\": {\"colorbar\": {\"outlinewidth\": 0, \"ticks\": \"\"}}, \"type\": \"parcoords\"}], \"pie\": [{\"automargin\": true, \"type\": \"pie\"}], \"scatter\": [{\"marker\": {\"colorbar\": {\"outlinewidth\": 0, \"ticks\": \"\"}}, \"type\": \"scatter\"}], \"scatter3d\": [{\"line\": {\"colorbar\": {\"outlinewidth\": 0, \"ticks\": \"\"}}, \"marker\": {\"colorbar\": {\"outlinewidth\": 0, \"ticks\": \"\"}}, \"type\": \"scatter3d\"}], \"scattercarpet\": [{\"marker\": {\"colorbar\": {\"outlinewidth\": 0, \"ticks\": \"\"}}, \"type\": \"scattercarpet\"}], \"scattergeo\": [{\"marker\": {\"colorbar\": {\"outlinewidth\": 0, \"ticks\": \"\"}}, \"type\": \"scattergeo\"}], \"scattergl\": [{\"marker\": {\"colorbar\": {\"outlinewidth\": 0, \"ticks\": \"\"}}, \"type\": \"scattergl\"}], \"scattermapbox\": [{\"marker\": {\"colorbar\": {\"outlinewidth\": 0, \"ticks\": \"\"}}, \"type\": \"scattermapbox\"}], \"scatterpolar\": [{\"marker\": {\"colorbar\": {\"outlinewidth\": 0, \"ticks\": \"\"}}, \"type\": \"scatterpolar\"}], \"scatterpolargl\": [{\"marker\": {\"colorbar\": {\"outlinewidth\": 0, \"ticks\": \"\"}}, \"type\": \"scatterpolargl\"}], \"scatterternary\": [{\"marker\": {\"colorbar\": {\"outlinewidth\": 0, \"ticks\": \"\"}}, \"type\": \"scatterternary\"}], \"surface\": [{\"colorbar\": {\"outlinewidth\": 0, \"ticks\": \"\"}, \"colorscale\": [[0.0, \"#0d0887\"], [0.1111111111111111, \"#46039f\"], [0.2222222222222222, \"#7201a8\"], [0.3333333333333333, \"#9c179e\"], [0.4444444444444444, \"#bd3786\"], [0.5555555555555556, \"#d8576b\"], [0.6666666666666666, \"#ed7953\"], [0.7777777777777778, \"#fb9f3a\"], [0.8888888888888888, \"#fdca26\"], [1.0, \"#f0f921\"]], \"type\": \"surface\"}], \"table\": [{\"cells\": {\"fill\": {\"color\": \"#EBF0F8\"}, \"line\": {\"color\": \"white\"}}, \"header\": {\"fill\": {\"color\": \"#C8D4E3\"}, \"line\": {\"color\": \"white\"}}, \"type\": \"table\"}]}, \"layout\": {\"annotationdefaults\": {\"arrowcolor\": \"#2a3f5f\", \"arrowhead\": 0, \"arrowwidth\": 1}, \"coloraxis\": {\"colorbar\": {\"outlinewidth\": 0, \"ticks\": \"\"}}, \"colorscale\": {\"diverging\": [[0, \"#8e0152\"], [0.1, \"#c51b7d\"], [0.2, \"#de77ae\"], [0.3, \"#f1b6da\"], [0.4, \"#fde0ef\"], [0.5, \"#f7f7f7\"], [0.6, \"#e6f5d0\"], [0.7, \"#b8e186\"], [0.8, \"#7fbc41\"], [0.9, \"#4d9221\"], [1, \"#276419\"]], \"sequential\": [[0.0, \"#0d0887\"], [0.1111111111111111, \"#46039f\"], [0.2222222222222222, \"#7201a8\"], [0.3333333333333333, \"#9c179e\"], [0.4444444444444444, \"#bd3786\"], [0.5555555555555556, \"#d8576b\"], [0.6666666666666666, \"#ed7953\"], [0.7777777777777778, \"#fb9f3a\"], [0.8888888888888888, \"#fdca26\"], [1.0, \"#f0f921\"]], \"sequentialminus\": [[0.0, \"#0d0887\"], [0.1111111111111111, \"#46039f\"], [0.2222222222222222, \"#7201a8\"], [0.3333333333333333, \"#9c179e\"], [0.4444444444444444, \"#bd3786\"], [0.5555555555555556, \"#d8576b\"], [0.6666666666666666, \"#ed7953\"], [0.7777777777777778, \"#fb9f3a\"], [0.8888888888888888, \"#fdca26\"], [1.0, \"#f0f921\"]]}, \"colorway\": [\"#636efa\", \"#EF553B\", \"#00cc96\", \"#ab63fa\", \"#FFA15A\", \"#19d3f3\", \"#FF6692\", \"#B6E880\", \"#FF97FF\", \"#FECB52\"], \"font\": {\"color\": \"#2a3f5f\"}, \"geo\": {\"bgcolor\": \"white\", \"lakecolor\": \"white\", \"landcolor\": \"#E5ECF6\", \"showlakes\": true, \"showland\": true, \"subunitcolor\": \"white\"}, \"hoverlabel\": {\"align\": \"left\"}, \"hovermode\": \"closest\", \"mapbox\": {\"style\": \"light\"}, \"paper_bgcolor\": \"white\", \"plot_bgcolor\": \"#E5ECF6\", \"polar\": {\"angularaxis\": {\"gridcolor\": \"white\", \"linecolor\": \"white\", \"ticks\": \"\"}, \"bgcolor\": \"#E5ECF6\", \"radialaxis\": {\"gridcolor\": \"white\", \"linecolor\": \"white\", \"ticks\": \"\"}}, \"scene\": {\"xaxis\": {\"backgroundcolor\": \"#E5ECF6\", \"gridcolor\": \"white\", \"gridwidth\": 2, \"linecolor\": \"white\", \"showbackground\": true, \"ticks\": \"\", \"zerolinecolor\": \"white\"}, \"yaxis\": {\"backgroundcolor\": \"#E5ECF6\", \"gridcolor\": \"white\", \"gridwidth\": 2, \"linecolor\": \"white\", \"showbackground\": true, \"ticks\": \"\", \"zerolinecolor\": \"white\"}, \"zaxis\": {\"backgroundcolor\": \"#E5ECF6\", \"gridcolor\": \"white\", \"gridwidth\": 2, \"linecolor\": \"white\", \"showbackground\": true, \"ticks\": \"\", \"zerolinecolor\": \"white\"}}, \"shapedefaults\": {\"line\": {\"color\": \"#2a3f5f\"}}, \"ternary\": {\"aaxis\": {\"gridcolor\": \"white\", \"linecolor\": \"white\", \"ticks\": \"\"}, \"baxis\": {\"gridcolor\": \"white\", \"linecolor\": \"white\", \"ticks\": \"\"}, \"bgcolor\": \"#E5ECF6\", \"caxis\": {\"gridcolor\": \"white\", \"linecolor\": \"white\", \"ticks\": \"\"}}, \"title\": {\"x\": 0.05}, \"xaxis\": {\"automargin\": true, \"gridcolor\": \"white\", \"linecolor\": \"white\", \"ticks\": \"\", \"title\": {\"standoff\": 15}, \"zerolinecolor\": \"white\", \"zerolinewidth\": 2}, \"yaxis\": {\"automargin\": true, \"gridcolor\": \"white\", \"linecolor\": \"white\", \"ticks\": \"\", \"title\": {\"standoff\": 15}, \"zerolinecolor\": \"white\", \"zerolinewidth\": 2}}}, \"xaxis\": {\"anchor\": \"y\", \"domain\": [0.0, 1.0], \"title\": {\"text\": \"India/States/UTs\"}}, \"yaxis\": {\"anchor\": \"x\", \"domain\": [0.0, 1.0], \"title\": {\"text\": \"health_insurance\"}}},\n",
       "                        {\"responsive\": true}\n",
       "                    ).then(function(){\n",
       "                            \n",
       "var gd = document.getElementById('1b12f939-cff5-4b3d-90b9-9d5a5a58241f');\n",
       "var x = new MutationObserver(function (mutations, observer) {{\n",
       "        var display = window.getComputedStyle(gd).display;\n",
       "        if (!display || display === 'none') {{\n",
       "            console.log([gd, 'removed!']);\n",
       "            Plotly.purge(gd);\n",
       "            observer.disconnect();\n",
       "        }}\n",
       "}});\n",
       "\n",
       "// Listen for the removal of the full notebook cells\n",
       "var notebookContainer = gd.closest('#notebook-container');\n",
       "if (notebookContainer) {{\n",
       "    x.observe(notebookContainer, {childList: true});\n",
       "}}\n",
       "\n",
       "// Listen for the clearing of the current output cell\n",
       "var outputEl = gd.closest('.output');\n",
       "if (outputEl) {{\n",
       "    x.observe(outputEl, {childList: true});\n",
       "}}\n",
       "\n",
       "                        })\n",
       "                };\n",
       "                });\n",
       "            </script>\n",
       "        </div>"
      ]
     },
     "metadata": {},
     "output_type": "display_data"
    }
   ],
   "source": [
    "fig = px.bar(health_insurance_NFHS4_Rural, x='India/States/UTs', y='health_insurance')\n",
    "fig.show()"
   ]
  },
  {
   "cell_type": "code",
   "execution_count": 59,
   "metadata": {},
   "outputs": [
    {
     "data": {
      "text/html": [
       "<div>\n",
       "<style scoped>\n",
       "    .dataframe tbody tr th:only-of-type {\n",
       "        vertical-align: middle;\n",
       "    }\n",
       "\n",
       "    .dataframe tbody tr th {\n",
       "        vertical-align: top;\n",
       "    }\n",
       "\n",
       "    .dataframe thead th {\n",
       "        text-align: right;\n",
       "    }\n",
       "</style>\n",
       "<table border=\"1\" class=\"dataframe\">\n",
       "  <thead>\n",
       "    <tr style=\"text-align: right;\">\n",
       "      <th></th>\n",
       "      <th>health_insurance_urban</th>\n",
       "      <th>India/States/UTs</th>\n",
       "    </tr>\n",
       "  </thead>\n",
       "  <tbody>\n",
       "    <tr>\n",
       "      <th>2</th>\n",
       "      <td>28.2</td>\n",
       "      <td>India</td>\n",
       "    </tr>\n",
       "    <tr>\n",
       "      <th>6</th>\n",
       "      <td>61.1</td>\n",
       "      <td>Andhra Pradesh</td>\n",
       "    </tr>\n",
       "    <tr>\n",
       "      <th>10</th>\n",
       "      <td>12.6</td>\n",
       "      <td>Assam</td>\n",
       "    </tr>\n",
       "    <tr>\n",
       "      <th>14</th>\n",
       "      <td>9.8</td>\n",
       "      <td>Bihar</td>\n",
       "    </tr>\n",
       "    <tr>\n",
       "      <th>18</th>\n",
       "      <td>59.4</td>\n",
       "      <td>Chattisgarh</td>\n",
       "    </tr>\n",
       "  </tbody>\n",
       "</table>\n",
       "</div>"
      ],
      "text/plain": [
       "    health_insurance_urban India/States/UTs\n",
       "2                     28.2            India\n",
       "6                     61.1   Andhra Pradesh\n",
       "10                    12.6            Assam\n",
       "14                     9.8            Bihar\n",
       "18                    59.4      Chattisgarh"
      ]
     },
     "execution_count": 59,
     "metadata": {},
     "output_type": "execute_result"
    }
   ],
   "source": [
    "y=health_insurance_NFHS4_Urban[['health_insurance_urban','India/States/UTs']]\n",
    "y.head()"
   ]
  },
  {
   "cell_type": "code",
   "execution_count": 60,
   "metadata": {},
   "outputs": [
    {
     "data": {
      "text/html": [
       "<div>\n",
       "<style scoped>\n",
       "    .dataframe tbody tr th:only-of-type {\n",
       "        vertical-align: middle;\n",
       "    }\n",
       "\n",
       "    .dataframe tbody tr th {\n",
       "        vertical-align: top;\n",
       "    }\n",
       "\n",
       "    .dataframe thead th {\n",
       "        text-align: right;\n",
       "    }\n",
       "</style>\n",
       "<table border=\"1\" class=\"dataframe\">\n",
       "  <thead>\n",
       "    <tr style=\"text-align: right;\">\n",
       "      <th></th>\n",
       "      <th>health_insurance</th>\n",
       "      <th>India/States/UTs</th>\n",
       "    </tr>\n",
       "  </thead>\n",
       "  <tbody>\n",
       "    <tr>\n",
       "      <th>1</th>\n",
       "      <td>29.0</td>\n",
       "      <td>India</td>\n",
       "    </tr>\n",
       "    <tr>\n",
       "      <th>5</th>\n",
       "      <td>80.5</td>\n",
       "      <td>Andhra Pradesh</td>\n",
       "    </tr>\n",
       "    <tr>\n",
       "      <th>9</th>\n",
       "      <td>10.0</td>\n",
       "      <td>Assam</td>\n",
       "    </tr>\n",
       "    <tr>\n",
       "      <th>13</th>\n",
       "      <td>12.7</td>\n",
       "      <td>Bihar</td>\n",
       "    </tr>\n",
       "    <tr>\n",
       "      <th>17</th>\n",
       "      <td>71.4</td>\n",
       "      <td>Chattisgarh</td>\n",
       "    </tr>\n",
       "  </tbody>\n",
       "</table>\n",
       "</div>"
      ],
      "text/plain": [
       "    health_insurance India/States/UTs\n",
       "1               29.0            India\n",
       "5               80.5   Andhra Pradesh\n",
       "9               10.0            Assam\n",
       "13              12.7            Bihar\n",
       "17              71.4      Chattisgarh"
      ]
     },
     "execution_count": 60,
     "metadata": {},
     "output_type": "execute_result"
    }
   ],
   "source": [
    "x=health_insurance_NFHS4_Rural[['health_insurance','India/States/UTs']]\n",
    "x.head()"
   ]
  },
  {
   "cell_type": "code",
   "execution_count": 61,
   "metadata": {},
   "outputs": [
    {
     "data": {
      "text/html": [
       "<div>\n",
       "<style scoped>\n",
       "    .dataframe tbody tr th:only-of-type {\n",
       "        vertical-align: middle;\n",
       "    }\n",
       "\n",
       "    .dataframe tbody tr th {\n",
       "        vertical-align: top;\n",
       "    }\n",
       "\n",
       "    .dataframe thead th {\n",
       "        text-align: right;\n",
       "    }\n",
       "</style>\n",
       "<table border=\"1\" class=\"dataframe\">\n",
       "  <thead>\n",
       "    <tr style=\"text-align: right;\">\n",
       "      <th></th>\n",
       "      <th>health_insurance</th>\n",
       "      <th>India/States/UTs</th>\n",
       "      <th>health_insurance_urban</th>\n",
       "    </tr>\n",
       "  </thead>\n",
       "  <tbody>\n",
       "    <tr>\n",
       "      <th>0</th>\n",
       "      <td>29.0</td>\n",
       "      <td>India</td>\n",
       "      <td>28.2</td>\n",
       "    </tr>\n",
       "    <tr>\n",
       "      <th>1</th>\n",
       "      <td>80.5</td>\n",
       "      <td>Andhra Pradesh</td>\n",
       "      <td>61.1</td>\n",
       "    </tr>\n",
       "    <tr>\n",
       "      <th>2</th>\n",
       "      <td>10.0</td>\n",
       "      <td>Assam</td>\n",
       "      <td>12.6</td>\n",
       "    </tr>\n",
       "    <tr>\n",
       "      <th>3</th>\n",
       "      <td>12.7</td>\n",
       "      <td>Bihar</td>\n",
       "      <td>9.8</td>\n",
       "    </tr>\n",
       "    <tr>\n",
       "      <th>4</th>\n",
       "      <td>71.4</td>\n",
       "      <td>Chattisgarh</td>\n",
       "      <td>59.4</td>\n",
       "    </tr>\n",
       "  </tbody>\n",
       "</table>\n",
       "</div>"
      ],
      "text/plain": [
       "   health_insurance India/States/UTs  health_insurance_urban\n",
       "0              29.0            India                    28.2\n",
       "1              80.5   Andhra Pradesh                    61.1\n",
       "2              10.0            Assam                    12.6\n",
       "3              12.7            Bihar                     9.8\n",
       "4              71.4      Chattisgarh                    59.4"
      ]
     },
     "execution_count": 61,
     "metadata": {},
     "output_type": "execute_result"
    }
   ],
   "source": [
    "z = pd.merge(x,y, on=['India/States/UTs'])\n",
    "z.head()"
   ]
  },
  {
   "cell_type": "code",
   "execution_count": 70,
   "metadata": {},
   "outputs": [
    {
     "data": {
      "application/vnd.plotly.v1+json": {
       "config": {
        "plotlyServerURL": "https://plot.ly"
       },
       "data": [
        {
         "alignmentgroup": "True",
         "hovertemplate": "variable=health_insurance_urban<br>India/States/UTs=%{x}<br>value=%{y}<extra></extra>",
         "legendgroup": "health_insurance_urban",
         "marker": {
          "color": "#636efa"
         },
         "name": "health_insurance_urban",
         "offsetgroup": "health_insurance_urban",
         "orientation": "v",
         "showlegend": true,
         "textposition": "auto",
         "type": "bar",
         "x": [
          "India",
          "Andhra Pradesh",
          "Assam",
          "Bihar",
          "Chattisgarh",
          "Gujarat",
          "Haryana",
          "Jharkhand",
          "Karnataka",
          "Kerala",
          "Madhya Pradesh",
          "Maharashtra",
          "Odisha",
          "Punjab",
          "Rajasthan",
          "Tamil Nadu",
          "Telangana",
          "Uttar Pradesh",
          "West Bengal",
          "Arunachal Pradesh",
          "Delhi",
          "Goa",
          "Himachal Pradesh",
          "Jammu & Kashmir",
          "Manipur",
          "Meghalaya",
          "Mizoram",
          "Nagaland",
          "Sikkim",
          "Tripura",
          "Uttarakhand",
          "Andaman and Nicobar Islands",
          "Dadra and Nagar Haveli",
          "Daman and Diu",
          "Lakshadweep",
          "Puducherry"
         ],
         "xaxis": "x",
         "y": [
          28.2,
          61.1,
          12.6,
          9.8,
          59.4,
          22.9,
          16.3,
          13.7,
          23.4,
          45.3,
          23,
          16.2,
          27,
          19.8,
          19.4,
          59.2,
          53.5,
          7.9,
          28.1,
          54.3,
          16.4,
          18.5,
          21.5,
          5.9,
          3.5,
          23.2,
          42.3,
          4.3,
          32.6,
          31.7,
          18.9,
          7.7,
          39.9,
          16,
          3.6,
          38.1
         ],
         "yaxis": "y"
        },
        {
         "alignmentgroup": "True",
         "hovertemplate": "variable=health_insurance<br>India/States/UTs=%{x}<br>value=%{y}<extra></extra>",
         "legendgroup": "health_insurance",
         "marker": {
          "color": "#EF553B"
         },
         "name": "health_insurance",
         "offsetgroup": "health_insurance",
         "orientation": "v",
         "showlegend": true,
         "textposition": "auto",
         "type": "bar",
         "x": [
          "India",
          "Andhra Pradesh",
          "Assam",
          "Bihar",
          "Chattisgarh",
          "Gujarat",
          "Haryana",
          "Jharkhand",
          "Karnataka",
          "Kerala",
          "Madhya Pradesh",
          "Maharashtra",
          "Odisha",
          "Punjab",
          "Rajasthan",
          "Tamil Nadu",
          "Telangana",
          "Uttar Pradesh",
          "West Bengal",
          "Arunachal Pradesh",
          "Delhi",
          "Goa",
          "Himachal Pradesh",
          "Jammu & Kashmir",
          "Manipur",
          "Meghalaya",
          "Mizoram",
          "Nagaland",
          "Sikkim",
          "Tripura",
          "Uttarakhand",
          "Andaman and Nicobar Islands",
          "Dadra and Nagar Haveli",
          "Daman and Diu",
          "Lakshadweep",
          "Puducherry"
         ],
         "xaxis": "x",
         "y": [
          29,
          80.5,
          10,
          12.7,
          71.4,
          23.3,
          9.3,
          13.2,
          31.8,
          49.8,
          15.4,
          13.8,
          51.9,
          22.1,
          18.5,
          69.1,
          76.7,
          5.4,
          36.1,
          59.7,
          15.6,
          11.4,
          26.3,
          3.4,
          3.7,
          37.9,
          49.9,
          7,
          29.2,
          69.5,
          19.8,
          4.1,
          21.3,
          20.4,
          0,
          20.9
         ],
         "yaxis": "y"
        }
       ],
       "layout": {
        "barmode": "relative",
        "legend": {
         "title": {
          "text": "variable"
         },
         "tracegroupgap": 0
        },
        "template": {
         "data": {
          "bar": [
           {
            "error_x": {
             "color": "#2a3f5f"
            },
            "error_y": {
             "color": "#2a3f5f"
            },
            "marker": {
             "line": {
              "color": "#E5ECF6",
              "width": 0.5
             }
            },
            "type": "bar"
           }
          ],
          "barpolar": [
           {
            "marker": {
             "line": {
              "color": "#E5ECF6",
              "width": 0.5
             }
            },
            "type": "barpolar"
           }
          ],
          "carpet": [
           {
            "aaxis": {
             "endlinecolor": "#2a3f5f",
             "gridcolor": "white",
             "linecolor": "white",
             "minorgridcolor": "white",
             "startlinecolor": "#2a3f5f"
            },
            "baxis": {
             "endlinecolor": "#2a3f5f",
             "gridcolor": "white",
             "linecolor": "white",
             "minorgridcolor": "white",
             "startlinecolor": "#2a3f5f"
            },
            "type": "carpet"
           }
          ],
          "choropleth": [
           {
            "colorbar": {
             "outlinewidth": 0,
             "ticks": ""
            },
            "type": "choropleth"
           }
          ],
          "contour": [
           {
            "colorbar": {
             "outlinewidth": 0,
             "ticks": ""
            },
            "colorscale": [
             [
              0,
              "#0d0887"
             ],
             [
              0.1111111111111111,
              "#46039f"
             ],
             [
              0.2222222222222222,
              "#7201a8"
             ],
             [
              0.3333333333333333,
              "#9c179e"
             ],
             [
              0.4444444444444444,
              "#bd3786"
             ],
             [
              0.5555555555555556,
              "#d8576b"
             ],
             [
              0.6666666666666666,
              "#ed7953"
             ],
             [
              0.7777777777777778,
              "#fb9f3a"
             ],
             [
              0.8888888888888888,
              "#fdca26"
             ],
             [
              1,
              "#f0f921"
             ]
            ],
            "type": "contour"
           }
          ],
          "contourcarpet": [
           {
            "colorbar": {
             "outlinewidth": 0,
             "ticks": ""
            },
            "type": "contourcarpet"
           }
          ],
          "heatmap": [
           {
            "colorbar": {
             "outlinewidth": 0,
             "ticks": ""
            },
            "colorscale": [
             [
              0,
              "#0d0887"
             ],
             [
              0.1111111111111111,
              "#46039f"
             ],
             [
              0.2222222222222222,
              "#7201a8"
             ],
             [
              0.3333333333333333,
              "#9c179e"
             ],
             [
              0.4444444444444444,
              "#bd3786"
             ],
             [
              0.5555555555555556,
              "#d8576b"
             ],
             [
              0.6666666666666666,
              "#ed7953"
             ],
             [
              0.7777777777777778,
              "#fb9f3a"
             ],
             [
              0.8888888888888888,
              "#fdca26"
             ],
             [
              1,
              "#f0f921"
             ]
            ],
            "type": "heatmap"
           }
          ],
          "heatmapgl": [
           {
            "colorbar": {
             "outlinewidth": 0,
             "ticks": ""
            },
            "colorscale": [
             [
              0,
              "#0d0887"
             ],
             [
              0.1111111111111111,
              "#46039f"
             ],
             [
              0.2222222222222222,
              "#7201a8"
             ],
             [
              0.3333333333333333,
              "#9c179e"
             ],
             [
              0.4444444444444444,
              "#bd3786"
             ],
             [
              0.5555555555555556,
              "#d8576b"
             ],
             [
              0.6666666666666666,
              "#ed7953"
             ],
             [
              0.7777777777777778,
              "#fb9f3a"
             ],
             [
              0.8888888888888888,
              "#fdca26"
             ],
             [
              1,
              "#f0f921"
             ]
            ],
            "type": "heatmapgl"
           }
          ],
          "histogram": [
           {
            "marker": {
             "colorbar": {
              "outlinewidth": 0,
              "ticks": ""
             }
            },
            "type": "histogram"
           }
          ],
          "histogram2d": [
           {
            "colorbar": {
             "outlinewidth": 0,
             "ticks": ""
            },
            "colorscale": [
             [
              0,
              "#0d0887"
             ],
             [
              0.1111111111111111,
              "#46039f"
             ],
             [
              0.2222222222222222,
              "#7201a8"
             ],
             [
              0.3333333333333333,
              "#9c179e"
             ],
             [
              0.4444444444444444,
              "#bd3786"
             ],
             [
              0.5555555555555556,
              "#d8576b"
             ],
             [
              0.6666666666666666,
              "#ed7953"
             ],
             [
              0.7777777777777778,
              "#fb9f3a"
             ],
             [
              0.8888888888888888,
              "#fdca26"
             ],
             [
              1,
              "#f0f921"
             ]
            ],
            "type": "histogram2d"
           }
          ],
          "histogram2dcontour": [
           {
            "colorbar": {
             "outlinewidth": 0,
             "ticks": ""
            },
            "colorscale": [
             [
              0,
              "#0d0887"
             ],
             [
              0.1111111111111111,
              "#46039f"
             ],
             [
              0.2222222222222222,
              "#7201a8"
             ],
             [
              0.3333333333333333,
              "#9c179e"
             ],
             [
              0.4444444444444444,
              "#bd3786"
             ],
             [
              0.5555555555555556,
              "#d8576b"
             ],
             [
              0.6666666666666666,
              "#ed7953"
             ],
             [
              0.7777777777777778,
              "#fb9f3a"
             ],
             [
              0.8888888888888888,
              "#fdca26"
             ],
             [
              1,
              "#f0f921"
             ]
            ],
            "type": "histogram2dcontour"
           }
          ],
          "mesh3d": [
           {
            "colorbar": {
             "outlinewidth": 0,
             "ticks": ""
            },
            "type": "mesh3d"
           }
          ],
          "parcoords": [
           {
            "line": {
             "colorbar": {
              "outlinewidth": 0,
              "ticks": ""
             }
            },
            "type": "parcoords"
           }
          ],
          "pie": [
           {
            "automargin": true,
            "type": "pie"
           }
          ],
          "scatter": [
           {
            "marker": {
             "colorbar": {
              "outlinewidth": 0,
              "ticks": ""
             }
            },
            "type": "scatter"
           }
          ],
          "scatter3d": [
           {
            "line": {
             "colorbar": {
              "outlinewidth": 0,
              "ticks": ""
             }
            },
            "marker": {
             "colorbar": {
              "outlinewidth": 0,
              "ticks": ""
             }
            },
            "type": "scatter3d"
           }
          ],
          "scattercarpet": [
           {
            "marker": {
             "colorbar": {
              "outlinewidth": 0,
              "ticks": ""
             }
            },
            "type": "scattercarpet"
           }
          ],
          "scattergeo": [
           {
            "marker": {
             "colorbar": {
              "outlinewidth": 0,
              "ticks": ""
             }
            },
            "type": "scattergeo"
           }
          ],
          "scattergl": [
           {
            "marker": {
             "colorbar": {
              "outlinewidth": 0,
              "ticks": ""
             }
            },
            "type": "scattergl"
           }
          ],
          "scattermapbox": [
           {
            "marker": {
             "colorbar": {
              "outlinewidth": 0,
              "ticks": ""
             }
            },
            "type": "scattermapbox"
           }
          ],
          "scatterpolar": [
           {
            "marker": {
             "colorbar": {
              "outlinewidth": 0,
              "ticks": ""
             }
            },
            "type": "scatterpolar"
           }
          ],
          "scatterpolargl": [
           {
            "marker": {
             "colorbar": {
              "outlinewidth": 0,
              "ticks": ""
             }
            },
            "type": "scatterpolargl"
           }
          ],
          "scatterternary": [
           {
            "marker": {
             "colorbar": {
              "outlinewidth": 0,
              "ticks": ""
             }
            },
            "type": "scatterternary"
           }
          ],
          "surface": [
           {
            "colorbar": {
             "outlinewidth": 0,
             "ticks": ""
            },
            "colorscale": [
             [
              0,
              "#0d0887"
             ],
             [
              0.1111111111111111,
              "#46039f"
             ],
             [
              0.2222222222222222,
              "#7201a8"
             ],
             [
              0.3333333333333333,
              "#9c179e"
             ],
             [
              0.4444444444444444,
              "#bd3786"
             ],
             [
              0.5555555555555556,
              "#d8576b"
             ],
             [
              0.6666666666666666,
              "#ed7953"
             ],
             [
              0.7777777777777778,
              "#fb9f3a"
             ],
             [
              0.8888888888888888,
              "#fdca26"
             ],
             [
              1,
              "#f0f921"
             ]
            ],
            "type": "surface"
           }
          ],
          "table": [
           {
            "cells": {
             "fill": {
              "color": "#EBF0F8"
             },
             "line": {
              "color": "white"
             }
            },
            "header": {
             "fill": {
              "color": "#C8D4E3"
             },
             "line": {
              "color": "white"
             }
            },
            "type": "table"
           }
          ]
         },
         "layout": {
          "annotationdefaults": {
           "arrowcolor": "#2a3f5f",
           "arrowhead": 0,
           "arrowwidth": 1
          },
          "coloraxis": {
           "colorbar": {
            "outlinewidth": 0,
            "ticks": ""
           }
          },
          "colorscale": {
           "diverging": [
            [
             0,
             "#8e0152"
            ],
            [
             0.1,
             "#c51b7d"
            ],
            [
             0.2,
             "#de77ae"
            ],
            [
             0.3,
             "#f1b6da"
            ],
            [
             0.4,
             "#fde0ef"
            ],
            [
             0.5,
             "#f7f7f7"
            ],
            [
             0.6,
             "#e6f5d0"
            ],
            [
             0.7,
             "#b8e186"
            ],
            [
             0.8,
             "#7fbc41"
            ],
            [
             0.9,
             "#4d9221"
            ],
            [
             1,
             "#276419"
            ]
           ],
           "sequential": [
            [
             0,
             "#0d0887"
            ],
            [
             0.1111111111111111,
             "#46039f"
            ],
            [
             0.2222222222222222,
             "#7201a8"
            ],
            [
             0.3333333333333333,
             "#9c179e"
            ],
            [
             0.4444444444444444,
             "#bd3786"
            ],
            [
             0.5555555555555556,
             "#d8576b"
            ],
            [
             0.6666666666666666,
             "#ed7953"
            ],
            [
             0.7777777777777778,
             "#fb9f3a"
            ],
            [
             0.8888888888888888,
             "#fdca26"
            ],
            [
             1,
             "#f0f921"
            ]
           ],
           "sequentialminus": [
            [
             0,
             "#0d0887"
            ],
            [
             0.1111111111111111,
             "#46039f"
            ],
            [
             0.2222222222222222,
             "#7201a8"
            ],
            [
             0.3333333333333333,
             "#9c179e"
            ],
            [
             0.4444444444444444,
             "#bd3786"
            ],
            [
             0.5555555555555556,
             "#d8576b"
            ],
            [
             0.6666666666666666,
             "#ed7953"
            ],
            [
             0.7777777777777778,
             "#fb9f3a"
            ],
            [
             0.8888888888888888,
             "#fdca26"
            ],
            [
             1,
             "#f0f921"
            ]
           ]
          },
          "colorway": [
           "#636efa",
           "#EF553B",
           "#00cc96",
           "#ab63fa",
           "#FFA15A",
           "#19d3f3",
           "#FF6692",
           "#B6E880",
           "#FF97FF",
           "#FECB52"
          ],
          "font": {
           "color": "#2a3f5f"
          },
          "geo": {
           "bgcolor": "white",
           "lakecolor": "white",
           "landcolor": "#E5ECF6",
           "showlakes": true,
           "showland": true,
           "subunitcolor": "white"
          },
          "hoverlabel": {
           "align": "left"
          },
          "hovermode": "closest",
          "mapbox": {
           "style": "light"
          },
          "paper_bgcolor": "white",
          "plot_bgcolor": "#E5ECF6",
          "polar": {
           "angularaxis": {
            "gridcolor": "white",
            "linecolor": "white",
            "ticks": ""
           },
           "bgcolor": "#E5ECF6",
           "radialaxis": {
            "gridcolor": "white",
            "linecolor": "white",
            "ticks": ""
           }
          },
          "scene": {
           "xaxis": {
            "backgroundcolor": "#E5ECF6",
            "gridcolor": "white",
            "gridwidth": 2,
            "linecolor": "white",
            "showbackground": true,
            "ticks": "",
            "zerolinecolor": "white"
           },
           "yaxis": {
            "backgroundcolor": "#E5ECF6",
            "gridcolor": "white",
            "gridwidth": 2,
            "linecolor": "white",
            "showbackground": true,
            "ticks": "",
            "zerolinecolor": "white"
           },
           "zaxis": {
            "backgroundcolor": "#E5ECF6",
            "gridcolor": "white",
            "gridwidth": 2,
            "linecolor": "white",
            "showbackground": true,
            "ticks": "",
            "zerolinecolor": "white"
           }
          },
          "shapedefaults": {
           "line": {
            "color": "#2a3f5f"
           }
          },
          "ternary": {
           "aaxis": {
            "gridcolor": "white",
            "linecolor": "white",
            "ticks": ""
           },
           "baxis": {
            "gridcolor": "white",
            "linecolor": "white",
            "ticks": ""
           },
           "bgcolor": "#E5ECF6",
           "caxis": {
            "gridcolor": "white",
            "linecolor": "white",
            "ticks": ""
           }
          },
          "title": {
           "x": 0.05
          },
          "xaxis": {
           "automargin": true,
           "gridcolor": "white",
           "linecolor": "white",
           "ticks": "",
           "title": {
            "standoff": 15
           },
           "zerolinecolor": "white",
           "zerolinewidth": 2
          },
          "yaxis": {
           "automargin": true,
           "gridcolor": "white",
           "linecolor": "white",
           "ticks": "",
           "title": {
            "standoff": 15
           },
           "zerolinecolor": "white",
           "zerolinewidth": 2
          }
         }
        },
        "title": {
         "text": "NHFS4"
        },
        "xaxis": {
         "anchor": "y",
         "domain": [
          0,
          1
         ],
         "title": {
          "text": "India/States/UTs"
         }
        },
        "yaxis": {
         "anchor": "x",
         "domain": [
          0,
          1
         ],
         "title": {
          "text": "value"
         }
        }
       }
      },
      "text/html": [
       "<div>\n",
       "        \n",
       "        \n",
       "            <div id=\"af0fd746-0cf9-4cc8-9fbf-30d980ff7411\" class=\"plotly-graph-div\" style=\"height:525px; width:100%;\"></div>\n",
       "            <script type=\"text/javascript\">\n",
       "                require([\"plotly\"], function(Plotly) {\n",
       "                    window.PLOTLYENV=window.PLOTLYENV || {};\n",
       "                    \n",
       "                if (document.getElementById(\"af0fd746-0cf9-4cc8-9fbf-30d980ff7411\")) {\n",
       "                    Plotly.newPlot(\n",
       "                        'af0fd746-0cf9-4cc8-9fbf-30d980ff7411',\n",
       "                        [{\"alignmentgroup\": \"True\", \"hovertemplate\": \"variable=health_insurance_urban<br>India/States/UTs=%{x}<br>value=%{y}<extra></extra>\", \"legendgroup\": \"health_insurance_urban\", \"marker\": {\"color\": \"#636efa\"}, \"name\": \"health_insurance_urban\", \"offsetgroup\": \"health_insurance_urban\", \"orientation\": \"v\", \"showlegend\": true, \"textposition\": \"auto\", \"type\": \"bar\", \"x\": [\"India\", \"Andhra Pradesh\", \"Assam\", \"Bihar\", \"Chattisgarh\", \"Gujarat\", \"Haryana\", \"Jharkhand\", \"Karnataka\", \"Kerala\", \"Madhya Pradesh\", \"Maharashtra\", \"Odisha\", \"Punjab\", \"Rajasthan\", \"Tamil Nadu\", \"Telangana\", \"Uttar Pradesh\", \"West Bengal\", \"Arunachal Pradesh\", \"Delhi\", \"Goa\", \"Himachal Pradesh\", \"Jammu & Kashmir\", \"Manipur\", \"Meghalaya\", \"Mizoram\", \"Nagaland\", \"Sikkim\", \"Tripura\", \"Uttarakhand\", \"Andaman and Nicobar Islands\", \"Dadra and Nagar Haveli\", \"Daman and Diu\", \"Lakshadweep\", \"Puducherry\"], \"xaxis\": \"x\", \"y\": [28.2, 61.1, 12.6, 9.8, 59.4, 22.9, 16.3, 13.7, 23.4, 45.3, 23.0, 16.2, 27.0, 19.8, 19.4, 59.2, 53.5, 7.9, 28.1, 54.3, 16.4, 18.5, 21.5, 5.9, 3.5, 23.2, 42.3, 4.3, 32.6, 31.7, 18.9, 7.7, 39.9, 16.0, 3.6, 38.1], \"yaxis\": \"y\"}, {\"alignmentgroup\": \"True\", \"hovertemplate\": \"variable=health_insurance<br>India/States/UTs=%{x}<br>value=%{y}<extra></extra>\", \"legendgroup\": \"health_insurance\", \"marker\": {\"color\": \"#EF553B\"}, \"name\": \"health_insurance\", \"offsetgroup\": \"health_insurance\", \"orientation\": \"v\", \"showlegend\": true, \"textposition\": \"auto\", \"type\": \"bar\", \"x\": [\"India\", \"Andhra Pradesh\", \"Assam\", \"Bihar\", \"Chattisgarh\", \"Gujarat\", \"Haryana\", \"Jharkhand\", \"Karnataka\", \"Kerala\", \"Madhya Pradesh\", \"Maharashtra\", \"Odisha\", \"Punjab\", \"Rajasthan\", \"Tamil Nadu\", \"Telangana\", \"Uttar Pradesh\", \"West Bengal\", \"Arunachal Pradesh\", \"Delhi\", \"Goa\", \"Himachal Pradesh\", \"Jammu & Kashmir\", \"Manipur\", \"Meghalaya\", \"Mizoram\", \"Nagaland\", \"Sikkim\", \"Tripura\", \"Uttarakhand\", \"Andaman and Nicobar Islands\", \"Dadra and Nagar Haveli\", \"Daman and Diu\", \"Lakshadweep\", \"Puducherry\"], \"xaxis\": \"x\", \"y\": [29.0, 80.5, 10.0, 12.7, 71.4, 23.3, 9.3, 13.2, 31.8, 49.8, 15.4, 13.8, 51.9, 22.1, 18.5, 69.1, 76.7, 5.4, 36.1, 59.7, 15.6, 11.4, 26.3, 3.4, 3.7, 37.9, 49.9, 7.0, 29.2, 69.5, 19.8, 4.1, 21.3, 20.4, 0.0, 20.9], \"yaxis\": \"y\"}],\n",
       "                        {\"barmode\": \"relative\", \"legend\": {\"title\": {\"text\": \"variable\"}, \"tracegroupgap\": 0}, \"template\": {\"data\": {\"bar\": [{\"error_x\": {\"color\": \"#2a3f5f\"}, \"error_y\": {\"color\": \"#2a3f5f\"}, \"marker\": {\"line\": {\"color\": \"#E5ECF6\", \"width\": 0.5}}, \"type\": \"bar\"}], \"barpolar\": [{\"marker\": {\"line\": {\"color\": \"#E5ECF6\", \"width\": 0.5}}, \"type\": \"barpolar\"}], \"carpet\": [{\"aaxis\": {\"endlinecolor\": \"#2a3f5f\", \"gridcolor\": \"white\", \"linecolor\": \"white\", \"minorgridcolor\": \"white\", \"startlinecolor\": \"#2a3f5f\"}, \"baxis\": {\"endlinecolor\": \"#2a3f5f\", \"gridcolor\": \"white\", \"linecolor\": \"white\", \"minorgridcolor\": \"white\", \"startlinecolor\": \"#2a3f5f\"}, \"type\": \"carpet\"}], \"choropleth\": [{\"colorbar\": {\"outlinewidth\": 0, \"ticks\": \"\"}, \"type\": \"choropleth\"}], \"contour\": [{\"colorbar\": {\"outlinewidth\": 0, \"ticks\": \"\"}, \"colorscale\": [[0.0, \"#0d0887\"], [0.1111111111111111, \"#46039f\"], [0.2222222222222222, \"#7201a8\"], [0.3333333333333333, \"#9c179e\"], [0.4444444444444444, \"#bd3786\"], [0.5555555555555556, \"#d8576b\"], [0.6666666666666666, \"#ed7953\"], [0.7777777777777778, \"#fb9f3a\"], [0.8888888888888888, \"#fdca26\"], [1.0, \"#f0f921\"]], \"type\": \"contour\"}], \"contourcarpet\": [{\"colorbar\": {\"outlinewidth\": 0, \"ticks\": \"\"}, \"type\": \"contourcarpet\"}], \"heatmap\": [{\"colorbar\": {\"outlinewidth\": 0, \"ticks\": \"\"}, \"colorscale\": [[0.0, \"#0d0887\"], [0.1111111111111111, \"#46039f\"], [0.2222222222222222, \"#7201a8\"], [0.3333333333333333, \"#9c179e\"], [0.4444444444444444, \"#bd3786\"], [0.5555555555555556, \"#d8576b\"], [0.6666666666666666, \"#ed7953\"], [0.7777777777777778, \"#fb9f3a\"], [0.8888888888888888, \"#fdca26\"], [1.0, \"#f0f921\"]], \"type\": \"heatmap\"}], \"heatmapgl\": [{\"colorbar\": {\"outlinewidth\": 0, \"ticks\": \"\"}, \"colorscale\": [[0.0, \"#0d0887\"], [0.1111111111111111, \"#46039f\"], [0.2222222222222222, \"#7201a8\"], [0.3333333333333333, \"#9c179e\"], [0.4444444444444444, \"#bd3786\"], [0.5555555555555556, \"#d8576b\"], [0.6666666666666666, \"#ed7953\"], [0.7777777777777778, \"#fb9f3a\"], [0.8888888888888888, \"#fdca26\"], [1.0, \"#f0f921\"]], \"type\": \"heatmapgl\"}], \"histogram\": [{\"marker\": {\"colorbar\": {\"outlinewidth\": 0, \"ticks\": \"\"}}, \"type\": \"histogram\"}], \"histogram2d\": [{\"colorbar\": {\"outlinewidth\": 0, \"ticks\": \"\"}, \"colorscale\": [[0.0, \"#0d0887\"], [0.1111111111111111, \"#46039f\"], [0.2222222222222222, \"#7201a8\"], [0.3333333333333333, \"#9c179e\"], [0.4444444444444444, \"#bd3786\"], [0.5555555555555556, \"#d8576b\"], [0.6666666666666666, \"#ed7953\"], [0.7777777777777778, \"#fb9f3a\"], [0.8888888888888888, \"#fdca26\"], [1.0, \"#f0f921\"]], \"type\": \"histogram2d\"}], \"histogram2dcontour\": [{\"colorbar\": {\"outlinewidth\": 0, \"ticks\": \"\"}, \"colorscale\": [[0.0, \"#0d0887\"], [0.1111111111111111, \"#46039f\"], [0.2222222222222222, \"#7201a8\"], [0.3333333333333333, \"#9c179e\"], [0.4444444444444444, \"#bd3786\"], [0.5555555555555556, \"#d8576b\"], [0.6666666666666666, \"#ed7953\"], [0.7777777777777778, \"#fb9f3a\"], [0.8888888888888888, \"#fdca26\"], [1.0, \"#f0f921\"]], \"type\": \"histogram2dcontour\"}], \"mesh3d\": [{\"colorbar\": {\"outlinewidth\": 0, \"ticks\": \"\"}, \"type\": \"mesh3d\"}], \"parcoords\": [{\"line\": {\"colorbar\": {\"outlinewidth\": 0, \"ticks\": \"\"}}, \"type\": \"parcoords\"}], \"pie\": [{\"automargin\": true, \"type\": \"pie\"}], \"scatter\": [{\"marker\": {\"colorbar\": {\"outlinewidth\": 0, \"ticks\": \"\"}}, \"type\": \"scatter\"}], \"scatter3d\": [{\"line\": {\"colorbar\": {\"outlinewidth\": 0, \"ticks\": \"\"}}, \"marker\": {\"colorbar\": {\"outlinewidth\": 0, \"ticks\": \"\"}}, \"type\": \"scatter3d\"}], \"scattercarpet\": [{\"marker\": {\"colorbar\": {\"outlinewidth\": 0, \"ticks\": \"\"}}, \"type\": \"scattercarpet\"}], \"scattergeo\": [{\"marker\": {\"colorbar\": {\"outlinewidth\": 0, \"ticks\": \"\"}}, \"type\": \"scattergeo\"}], \"scattergl\": [{\"marker\": {\"colorbar\": {\"outlinewidth\": 0, \"ticks\": \"\"}}, \"type\": \"scattergl\"}], \"scattermapbox\": [{\"marker\": {\"colorbar\": {\"outlinewidth\": 0, \"ticks\": \"\"}}, \"type\": \"scattermapbox\"}], \"scatterpolar\": [{\"marker\": {\"colorbar\": {\"outlinewidth\": 0, \"ticks\": \"\"}}, \"type\": \"scatterpolar\"}], \"scatterpolargl\": [{\"marker\": {\"colorbar\": {\"outlinewidth\": 0, \"ticks\": \"\"}}, \"type\": \"scatterpolargl\"}], \"scatterternary\": [{\"marker\": {\"colorbar\": {\"outlinewidth\": 0, \"ticks\": \"\"}}, \"type\": \"scatterternary\"}], \"surface\": [{\"colorbar\": {\"outlinewidth\": 0, \"ticks\": \"\"}, \"colorscale\": [[0.0, \"#0d0887\"], [0.1111111111111111, \"#46039f\"], [0.2222222222222222, \"#7201a8\"], [0.3333333333333333, \"#9c179e\"], [0.4444444444444444, \"#bd3786\"], [0.5555555555555556, \"#d8576b\"], [0.6666666666666666, \"#ed7953\"], [0.7777777777777778, \"#fb9f3a\"], [0.8888888888888888, \"#fdca26\"], [1.0, \"#f0f921\"]], \"type\": \"surface\"}], \"table\": [{\"cells\": {\"fill\": {\"color\": \"#EBF0F8\"}, \"line\": {\"color\": \"white\"}}, \"header\": {\"fill\": {\"color\": \"#C8D4E3\"}, \"line\": {\"color\": \"white\"}}, \"type\": \"table\"}]}, \"layout\": {\"annotationdefaults\": {\"arrowcolor\": \"#2a3f5f\", \"arrowhead\": 0, \"arrowwidth\": 1}, \"coloraxis\": {\"colorbar\": {\"outlinewidth\": 0, \"ticks\": \"\"}}, \"colorscale\": {\"diverging\": [[0, \"#8e0152\"], [0.1, \"#c51b7d\"], [0.2, \"#de77ae\"], [0.3, \"#f1b6da\"], [0.4, \"#fde0ef\"], [0.5, \"#f7f7f7\"], [0.6, \"#e6f5d0\"], [0.7, \"#b8e186\"], [0.8, \"#7fbc41\"], [0.9, \"#4d9221\"], [1, \"#276419\"]], \"sequential\": [[0.0, \"#0d0887\"], [0.1111111111111111, \"#46039f\"], [0.2222222222222222, \"#7201a8\"], [0.3333333333333333, \"#9c179e\"], [0.4444444444444444, \"#bd3786\"], [0.5555555555555556, \"#d8576b\"], [0.6666666666666666, \"#ed7953\"], [0.7777777777777778, \"#fb9f3a\"], [0.8888888888888888, \"#fdca26\"], [1.0, \"#f0f921\"]], \"sequentialminus\": [[0.0, \"#0d0887\"], [0.1111111111111111, \"#46039f\"], [0.2222222222222222, \"#7201a8\"], [0.3333333333333333, \"#9c179e\"], [0.4444444444444444, \"#bd3786\"], [0.5555555555555556, \"#d8576b\"], [0.6666666666666666, \"#ed7953\"], [0.7777777777777778, \"#fb9f3a\"], [0.8888888888888888, \"#fdca26\"], [1.0, \"#f0f921\"]]}, \"colorway\": [\"#636efa\", \"#EF553B\", \"#00cc96\", \"#ab63fa\", \"#FFA15A\", \"#19d3f3\", \"#FF6692\", \"#B6E880\", \"#FF97FF\", \"#FECB52\"], \"font\": {\"color\": \"#2a3f5f\"}, \"geo\": {\"bgcolor\": \"white\", \"lakecolor\": \"white\", \"landcolor\": \"#E5ECF6\", \"showlakes\": true, \"showland\": true, \"subunitcolor\": \"white\"}, \"hoverlabel\": {\"align\": \"left\"}, \"hovermode\": \"closest\", \"mapbox\": {\"style\": \"light\"}, \"paper_bgcolor\": \"white\", \"plot_bgcolor\": \"#E5ECF6\", \"polar\": {\"angularaxis\": {\"gridcolor\": \"white\", \"linecolor\": \"white\", \"ticks\": \"\"}, \"bgcolor\": \"#E5ECF6\", \"radialaxis\": {\"gridcolor\": \"white\", \"linecolor\": \"white\", \"ticks\": \"\"}}, \"scene\": {\"xaxis\": {\"backgroundcolor\": \"#E5ECF6\", \"gridcolor\": \"white\", \"gridwidth\": 2, \"linecolor\": \"white\", \"showbackground\": true, \"ticks\": \"\", \"zerolinecolor\": \"white\"}, \"yaxis\": {\"backgroundcolor\": \"#E5ECF6\", \"gridcolor\": \"white\", \"gridwidth\": 2, \"linecolor\": \"white\", \"showbackground\": true, \"ticks\": \"\", \"zerolinecolor\": \"white\"}, \"zaxis\": {\"backgroundcolor\": \"#E5ECF6\", \"gridcolor\": \"white\", \"gridwidth\": 2, \"linecolor\": \"white\", \"showbackground\": true, \"ticks\": \"\", \"zerolinecolor\": \"white\"}}, \"shapedefaults\": {\"line\": {\"color\": \"#2a3f5f\"}}, \"ternary\": {\"aaxis\": {\"gridcolor\": \"white\", \"linecolor\": \"white\", \"ticks\": \"\"}, \"baxis\": {\"gridcolor\": \"white\", \"linecolor\": \"white\", \"ticks\": \"\"}, \"bgcolor\": \"#E5ECF6\", \"caxis\": {\"gridcolor\": \"white\", \"linecolor\": \"white\", \"ticks\": \"\"}}, \"title\": {\"x\": 0.05}, \"xaxis\": {\"automargin\": true, \"gridcolor\": \"white\", \"linecolor\": \"white\", \"ticks\": \"\", \"title\": {\"standoff\": 15}, \"zerolinecolor\": \"white\", \"zerolinewidth\": 2}, \"yaxis\": {\"automargin\": true, \"gridcolor\": \"white\", \"linecolor\": \"white\", \"ticks\": \"\", \"title\": {\"standoff\": 15}, \"zerolinecolor\": \"white\", \"zerolinewidth\": 2}}}, \"title\": {\"text\": \"NHFS4\"}, \"xaxis\": {\"anchor\": \"y\", \"domain\": [0.0, 1.0], \"title\": {\"text\": \"India/States/UTs\"}}, \"yaxis\": {\"anchor\": \"x\", \"domain\": [0.0, 1.0], \"title\": {\"text\": \"value\"}}},\n",
       "                        {\"responsive\": true}\n",
       "                    ).then(function(){\n",
       "                            \n",
       "var gd = document.getElementById('af0fd746-0cf9-4cc8-9fbf-30d980ff7411');\n",
       "var x = new MutationObserver(function (mutations, observer) {{\n",
       "        var display = window.getComputedStyle(gd).display;\n",
       "        if (!display || display === 'none') {{\n",
       "            console.log([gd, 'removed!']);\n",
       "            Plotly.purge(gd);\n",
       "            observer.disconnect();\n",
       "        }}\n",
       "}});\n",
       "\n",
       "// Listen for the removal of the full notebook cells\n",
       "var notebookContainer = gd.closest('#notebook-container');\n",
       "if (notebookContainer) {{\n",
       "    x.observe(notebookContainer, {childList: true});\n",
       "}}\n",
       "\n",
       "// Listen for the clearing of the current output cell\n",
       "var outputEl = gd.closest('.output');\n",
       "if (outputEl) {{\n",
       "    x.observe(outputEl, {childList: true});\n",
       "}}\n",
       "\n",
       "                        })\n",
       "                };\n",
       "                });\n",
       "            </script>\n",
       "        </div>"
      ]
     },
     "metadata": {},
     "output_type": "display_data"
    }
   ],
   "source": [
    "import plotly.express as px\n",
    "fig = px.bar(z, x=\"India/States/UTs\", y=[\"health_insurance_urban\", \"health_insurance\"], title=\"NHFS4\")\n",
    "fig.show()"
   ]
  },
  {
   "cell_type": "code",
   "execution_count": 71,
   "metadata": {},
   "outputs": [
    {
     "data": {
      "text/html": [
       "<div>\n",
       "<style scoped>\n",
       "    .dataframe tbody tr th:only-of-type {\n",
       "        vertical-align: middle;\n",
       "    }\n",
       "\n",
       "    .dataframe tbody tr th {\n",
       "        vertical-align: top;\n",
       "    }\n",
       "\n",
       "    .dataframe thead th {\n",
       "        text-align: right;\n",
       "    }\n",
       "</style>\n",
       "<table border=\"1\" class=\"dataframe\">\n",
       "  <thead>\n",
       "    <tr style=\"text-align: right;\">\n",
       "      <th></th>\n",
       "      <th>India/States/UTs</th>\n",
       "      <th>Survey</th>\n",
       "      <th>Area</th>\n",
       "      <th>F_6above_school</th>\n",
       "      <th>Population below age 15 years</th>\n",
       "      <th>Sex ratio of the total population (females per 1000 males)</th>\n",
       "      <th>Sex ratio at birth for children born in the last five years</th>\n",
       "      <th>Children under age 5 years whose birth was registered</th>\n",
       "      <th>Households with electricity</th>\n",
       "      <th>Households with an improved drinking-water</th>\n",
       "      <th>Households using improved sanitation facility</th>\n",
       "      <th>Households using clean fuel for cooking</th>\n",
       "      <th>Households using iodized salt</th>\n",
       "      <th>health_insurance</th>\n",
       "    </tr>\n",
       "  </thead>\n",
       "  <tbody>\n",
       "    <tr>\n",
       "      <th>3</th>\n",
       "      <td>India</td>\n",
       "      <td>NFHS-3</td>\n",
       "      <td>Total</td>\n",
       "      <td>58.3</td>\n",
       "      <td>34.9</td>\n",
       "      <td>1000.0</td>\n",
       "      <td>914.0</td>\n",
       "      <td>41.2</td>\n",
       "      <td>67.9</td>\n",
       "      <td>87.6</td>\n",
       "      <td>29.1</td>\n",
       "      <td>25.5</td>\n",
       "      <td>76.1</td>\n",
       "      <td>4.8</td>\n",
       "    </tr>\n",
       "    <tr>\n",
       "      <th>11</th>\n",
       "      <td>Assam</td>\n",
       "      <td>NFHS-3</td>\n",
       "      <td>Total</td>\n",
       "      <td>70.2</td>\n",
       "      <td>34.9</td>\n",
       "      <td>1008.0</td>\n",
       "      <td>1033.0</td>\n",
       "      <td>43.0</td>\n",
       "      <td>38.1</td>\n",
       "      <td>72.5</td>\n",
       "      <td>30.7</td>\n",
       "      <td>22.7</td>\n",
       "      <td>97.2</td>\n",
       "      <td>2.3</td>\n",
       "    </tr>\n",
       "    <tr>\n",
       "      <th>15</th>\n",
       "      <td>Bihar</td>\n",
       "      <td>NFHS-3</td>\n",
       "      <td>Total</td>\n",
       "      <td>39.4</td>\n",
       "      <td>43.8</td>\n",
       "      <td>1083.0</td>\n",
       "      <td>893.0</td>\n",
       "      <td>5.8</td>\n",
       "      <td>27.7</td>\n",
       "      <td>96.1</td>\n",
       "      <td>14.6</td>\n",
       "      <td>9.9</td>\n",
       "      <td>94.7</td>\n",
       "      <td>0.9</td>\n",
       "    </tr>\n",
       "    <tr>\n",
       "      <th>19</th>\n",
       "      <td>Chattisgarh</td>\n",
       "      <td>NFHS-3</td>\n",
       "      <td>Total</td>\n",
       "      <td>53.4</td>\n",
       "      <td>35.6</td>\n",
       "      <td>1015.0</td>\n",
       "      <td>972.0</td>\n",
       "      <td>73.0</td>\n",
       "      <td>71.4</td>\n",
       "      <td>77.9</td>\n",
       "      <td>14.6</td>\n",
       "      <td>12.6</td>\n",
       "      <td>79.0</td>\n",
       "      <td>3.3</td>\n",
       "    </tr>\n",
       "    <tr>\n",
       "      <th>23</th>\n",
       "      <td>Gujarat</td>\n",
       "      <td>NFHS-3</td>\n",
       "      <td>Total</td>\n",
       "      <td>65.3</td>\n",
       "      <td>31.6</td>\n",
       "      <td>934.0</td>\n",
       "      <td>906.0</td>\n",
       "      <td>85.6</td>\n",
       "      <td>89.3</td>\n",
       "      <td>89.2</td>\n",
       "      <td>44.2</td>\n",
       "      <td>39.7</td>\n",
       "      <td>72.1</td>\n",
       "      <td>10.2</td>\n",
       "    </tr>\n",
       "  </tbody>\n",
       "</table>\n",
       "</div>"
      ],
      "text/plain": [
       "   India/States/UTs  Survey   Area  F_6above_school  \\\n",
       "3             India  NFHS-3  Total             58.3   \n",
       "11            Assam  NFHS-3  Total             70.2   \n",
       "15            Bihar  NFHS-3  Total             39.4   \n",
       "19      Chattisgarh  NFHS-3  Total             53.4   \n",
       "23          Gujarat  NFHS-3  Total             65.3   \n",
       "\n",
       "    Population below age 15 years  \\\n",
       "3                            34.9   \n",
       "11                           34.9   \n",
       "15                           43.8   \n",
       "19                           35.6   \n",
       "23                           31.6   \n",
       "\n",
       "    Sex ratio of the total population (females per 1000 males)  \\\n",
       "3                                              1000.0            \n",
       "11                                             1008.0            \n",
       "15                                             1083.0            \n",
       "19                                             1015.0            \n",
       "23                                              934.0            \n",
       "\n",
       "    Sex ratio at birth for children born in the last five years  \\\n",
       "3                                               914.0             \n",
       "11                                             1033.0             \n",
       "15                                              893.0             \n",
       "19                                              972.0             \n",
       "23                                              906.0             \n",
       "\n",
       "    Children under age 5 years whose birth was registered  \\\n",
       "3                                                41.2       \n",
       "11                                               43.0       \n",
       "15                                                5.8       \n",
       "19                                               73.0       \n",
       "23                                               85.6       \n",
       "\n",
       "    Households with electricity  Households with an improved drinking-water  \\\n",
       "3                          67.9                                        87.6   \n",
       "11                         38.1                                        72.5   \n",
       "15                         27.7                                        96.1   \n",
       "19                         71.4                                        77.9   \n",
       "23                         89.3                                        89.2   \n",
       "\n",
       "    Households using improved sanitation facility  \\\n",
       "3                                            29.1   \n",
       "11                                           30.7   \n",
       "15                                           14.6   \n",
       "19                                           14.6   \n",
       "23                                           44.2   \n",
       "\n",
       "    Households using clean fuel for cooking  Households using iodized salt  \\\n",
       "3                                      25.5                           76.1   \n",
       "11                                     22.7                           97.2   \n",
       "15                                      9.9                           94.7   \n",
       "19                                     12.6                           79.0   \n",
       "23                                     39.7                           72.1   \n",
       "\n",
       "    health_insurance  \n",
       "3                4.8  \n",
       "11               2.3  \n",
       "15               0.9  \n",
       "19               3.3  \n",
       "23              10.2  "
      ]
     },
     "execution_count": 71,
     "metadata": {},
     "output_type": "execute_result"
    }
   ],
   "source": [
    "health_insurance_NFHS3_Total=health_insurance1[(health_insurance1['Survey']=='NFHS-3')&(health_insurance1['Area']=='Total')]\n",
    "health_insurance_NFHS3_Total.head()"
   ]
  },
  {
   "cell_type": "code",
   "execution_count": 72,
   "metadata": {},
   "outputs": [
    {
     "data": {
      "text/html": [
       "<div>\n",
       "<style scoped>\n",
       "    .dataframe tbody tr th:only-of-type {\n",
       "        vertical-align: middle;\n",
       "    }\n",
       "\n",
       "    .dataframe tbody tr th {\n",
       "        vertical-align: top;\n",
       "    }\n",
       "\n",
       "    .dataframe thead th {\n",
       "        text-align: right;\n",
       "    }\n",
       "</style>\n",
       "<table border=\"1\" class=\"dataframe\">\n",
       "  <thead>\n",
       "    <tr style=\"text-align: right;\">\n",
       "      <th></th>\n",
       "      <th>India/States/UTs</th>\n",
       "      <th>Survey</th>\n",
       "      <th>Area</th>\n",
       "      <th>F_6above_school</th>\n",
       "      <th>Population below age 15 years</th>\n",
       "      <th>Sex ratio of the total population (females per 1000 males)</th>\n",
       "      <th>Sex ratio at birth for children born in the last five years</th>\n",
       "      <th>Children under age 5 years whose birth was registered</th>\n",
       "      <th>Households with electricity</th>\n",
       "      <th>Households with an improved drinking-water</th>\n",
       "      <th>Households using improved sanitation facility</th>\n",
       "      <th>Households using clean fuel for cooking</th>\n",
       "      <th>Households using iodized salt</th>\n",
       "      <th>health_insurance</th>\n",
       "    </tr>\n",
       "  </thead>\n",
       "  <tbody>\n",
       "    <tr>\n",
       "      <th>0</th>\n",
       "      <td>India</td>\n",
       "      <td>NFHS-4</td>\n",
       "      <td>Total</td>\n",
       "      <td>68.8</td>\n",
       "      <td>28.6</td>\n",
       "      <td>991.0</td>\n",
       "      <td>919.0</td>\n",
       "      <td>79.7</td>\n",
       "      <td>88.2</td>\n",
       "      <td>89.9</td>\n",
       "      <td>48.4</td>\n",
       "      <td>43.8</td>\n",
       "      <td>93.1</td>\n",
       "      <td>28.7</td>\n",
       "    </tr>\n",
       "    <tr>\n",
       "      <th>4</th>\n",
       "      <td>Andhra Pradesh</td>\n",
       "      <td>NFHS-4</td>\n",
       "      <td>Total</td>\n",
       "      <td>62.0</td>\n",
       "      <td>23.7</td>\n",
       "      <td>1020.0</td>\n",
       "      <td>914.0</td>\n",
       "      <td>82.7</td>\n",
       "      <td>98.8</td>\n",
       "      <td>72.7</td>\n",
       "      <td>53.6</td>\n",
       "      <td>62.0</td>\n",
       "      <td>81.6</td>\n",
       "      <td>74.6</td>\n",
       "    </tr>\n",
       "    <tr>\n",
       "      <th>8</th>\n",
       "      <td>Assam</td>\n",
       "      <td>NFHS-4</td>\n",
       "      <td>Total</td>\n",
       "      <td>75.0</td>\n",
       "      <td>30.3</td>\n",
       "      <td>993.0</td>\n",
       "      <td>929.0</td>\n",
       "      <td>94.2</td>\n",
       "      <td>78.2</td>\n",
       "      <td>83.8</td>\n",
       "      <td>47.7</td>\n",
       "      <td>25.1</td>\n",
       "      <td>99.6</td>\n",
       "      <td>10.4</td>\n",
       "    </tr>\n",
       "    <tr>\n",
       "      <th>12</th>\n",
       "      <td>Bihar</td>\n",
       "      <td>NFHS-4</td>\n",
       "      <td>Total</td>\n",
       "      <td>56.9</td>\n",
       "      <td>39.3</td>\n",
       "      <td>1062.0</td>\n",
       "      <td>934.0</td>\n",
       "      <td>60.7</td>\n",
       "      <td>58.6</td>\n",
       "      <td>98.2</td>\n",
       "      <td>25.2</td>\n",
       "      <td>17.8</td>\n",
       "      <td>93.6</td>\n",
       "      <td>12.3</td>\n",
       "    </tr>\n",
       "    <tr>\n",
       "      <th>16</th>\n",
       "      <td>Chattisgarh</td>\n",
       "      <td>NFHS-4</td>\n",
       "      <td>Total</td>\n",
       "      <td>67.6</td>\n",
       "      <td>29.2</td>\n",
       "      <td>1019.0</td>\n",
       "      <td>977.0</td>\n",
       "      <td>86.1</td>\n",
       "      <td>95.6</td>\n",
       "      <td>91.1</td>\n",
       "      <td>32.7</td>\n",
       "      <td>22.8</td>\n",
       "      <td>99.1</td>\n",
       "      <td>68.5</td>\n",
       "    </tr>\n",
       "  </tbody>\n",
       "</table>\n",
       "</div>"
      ],
      "text/plain": [
       "   India/States/UTs  Survey   Area  F_6above_school  \\\n",
       "0             India  NFHS-4  Total             68.8   \n",
       "4    Andhra Pradesh  NFHS-4  Total             62.0   \n",
       "8             Assam  NFHS-4  Total             75.0   \n",
       "12            Bihar  NFHS-4  Total             56.9   \n",
       "16      Chattisgarh  NFHS-4  Total             67.6   \n",
       "\n",
       "    Population below age 15 years  \\\n",
       "0                            28.6   \n",
       "4                            23.7   \n",
       "8                            30.3   \n",
       "12                           39.3   \n",
       "16                           29.2   \n",
       "\n",
       "    Sex ratio of the total population (females per 1000 males)  \\\n",
       "0                                               991.0            \n",
       "4                                              1020.0            \n",
       "8                                               993.0            \n",
       "12                                             1062.0            \n",
       "16                                             1019.0            \n",
       "\n",
       "    Sex ratio at birth for children born in the last five years  \\\n",
       "0                                               919.0             \n",
       "4                                               914.0             \n",
       "8                                               929.0             \n",
       "12                                              934.0             \n",
       "16                                              977.0             \n",
       "\n",
       "    Children under age 5 years whose birth was registered  \\\n",
       "0                                                79.7       \n",
       "4                                                82.7       \n",
       "8                                                94.2       \n",
       "12                                               60.7       \n",
       "16                                               86.1       \n",
       "\n",
       "    Households with electricity  Households with an improved drinking-water  \\\n",
       "0                          88.2                                        89.9   \n",
       "4                          98.8                                        72.7   \n",
       "8                          78.2                                        83.8   \n",
       "12                         58.6                                        98.2   \n",
       "16                         95.6                                        91.1   \n",
       "\n",
       "    Households using improved sanitation facility  \\\n",
       "0                                            48.4   \n",
       "4                                            53.6   \n",
       "8                                            47.7   \n",
       "12                                           25.2   \n",
       "16                                           32.7   \n",
       "\n",
       "    Households using clean fuel for cooking  Households using iodized salt  \\\n",
       "0                                      43.8                           93.1   \n",
       "4                                      62.0                           81.6   \n",
       "8                                      25.1                           99.6   \n",
       "12                                     17.8                           93.6   \n",
       "16                                     22.8                           99.1   \n",
       "\n",
       "    health_insurance  \n",
       "0               28.7  \n",
       "4               74.6  \n",
       "8               10.4  \n",
       "12              12.3  \n",
       "16              68.5  "
      ]
     },
     "execution_count": 72,
     "metadata": {},
     "output_type": "execute_result"
    }
   ],
   "source": [
    "health_insurance_NFHS4_Total=health_insurance1[(health_insurance1['Survey']=='NFHS-4')&(health_insurance1['Area']=='Total')]\n",
    "health_insurance_NFHS4_Total.head()"
   ]
  },
  {
   "cell_type": "code",
   "execution_count": 73,
   "metadata": {},
   "outputs": [
    {
     "data": {
      "text/html": [
       "<div>\n",
       "<style scoped>\n",
       "    .dataframe tbody tr th:only-of-type {\n",
       "        vertical-align: middle;\n",
       "    }\n",
       "\n",
       "    .dataframe tbody tr th {\n",
       "        vertical-align: top;\n",
       "    }\n",
       "\n",
       "    .dataframe thead th {\n",
       "        text-align: right;\n",
       "    }\n",
       "</style>\n",
       "<table border=\"1\" class=\"dataframe\">\n",
       "  <thead>\n",
       "    <tr style=\"text-align: right;\">\n",
       "      <th></th>\n",
       "      <th>India/States/UTs</th>\n",
       "      <th>health_insurance</th>\n",
       "    </tr>\n",
       "  </thead>\n",
       "  <tbody>\n",
       "    <tr>\n",
       "      <th>3</th>\n",
       "      <td>India</td>\n",
       "      <td>4.8</td>\n",
       "    </tr>\n",
       "    <tr>\n",
       "      <th>11</th>\n",
       "      <td>Assam</td>\n",
       "      <td>2.3</td>\n",
       "    </tr>\n",
       "    <tr>\n",
       "      <th>15</th>\n",
       "      <td>Bihar</td>\n",
       "      <td>0.9</td>\n",
       "    </tr>\n",
       "    <tr>\n",
       "      <th>19</th>\n",
       "      <td>Chattisgarh</td>\n",
       "      <td>3.3</td>\n",
       "    </tr>\n",
       "    <tr>\n",
       "      <th>23</th>\n",
       "      <td>Gujarat</td>\n",
       "      <td>10.2</td>\n",
       "    </tr>\n",
       "  </tbody>\n",
       "</table>\n",
       "</div>"
      ],
      "text/plain": [
       "   India/States/UTs  health_insurance\n",
       "3             India               4.8\n",
       "11            Assam               2.3\n",
       "15            Bihar               0.9\n",
       "19      Chattisgarh               3.3\n",
       "23          Gujarat              10.2"
      ]
     },
     "execution_count": 73,
     "metadata": {},
     "output_type": "execute_result"
    }
   ],
   "source": [
    "x_1_2005=health_insurance_NFHS3_Total[['India/States/UTs','health_insurance']]\n",
    "x_1_2005.head()"
   ]
  },
  {
   "cell_type": "code",
   "execution_count": 74,
   "metadata": {},
   "outputs": [
    {
     "data": {
      "text/html": [
       "<div>\n",
       "<style scoped>\n",
       "    .dataframe tbody tr th:only-of-type {\n",
       "        vertical-align: middle;\n",
       "    }\n",
       "\n",
       "    .dataframe tbody tr th {\n",
       "        vertical-align: top;\n",
       "    }\n",
       "\n",
       "    .dataframe thead th {\n",
       "        text-align: right;\n",
       "    }\n",
       "</style>\n",
       "<table border=\"1\" class=\"dataframe\">\n",
       "  <thead>\n",
       "    <tr style=\"text-align: right;\">\n",
       "      <th></th>\n",
       "      <th>India/States/UTs</th>\n",
       "      <th>health_insurance</th>\n",
       "    </tr>\n",
       "  </thead>\n",
       "  <tbody>\n",
       "    <tr>\n",
       "      <th>0</th>\n",
       "      <td>India</td>\n",
       "      <td>28.7</td>\n",
       "    </tr>\n",
       "    <tr>\n",
       "      <th>4</th>\n",
       "      <td>Andhra Pradesh</td>\n",
       "      <td>74.6</td>\n",
       "    </tr>\n",
       "    <tr>\n",
       "      <th>8</th>\n",
       "      <td>Assam</td>\n",
       "      <td>10.4</td>\n",
       "    </tr>\n",
       "    <tr>\n",
       "      <th>12</th>\n",
       "      <td>Bihar</td>\n",
       "      <td>12.3</td>\n",
       "    </tr>\n",
       "    <tr>\n",
       "      <th>16</th>\n",
       "      <td>Chattisgarh</td>\n",
       "      <td>68.5</td>\n",
       "    </tr>\n",
       "  </tbody>\n",
       "</table>\n",
       "</div>"
      ],
      "text/plain": [
       "   India/States/UTs  health_insurance\n",
       "0             India              28.7\n",
       "4    Andhra Pradesh              74.6\n",
       "8             Assam              10.4\n",
       "12            Bihar              12.3\n",
       "16      Chattisgarh              68.5"
      ]
     },
     "execution_count": 74,
     "metadata": {},
     "output_type": "execute_result"
    }
   ],
   "source": [
    "y_1_2015=health_insurance_NFHS4_Total[['India/States/UTs','health_insurance']]\n",
    "y_1_2015.head()"
   ]
  },
  {
   "cell_type": "code",
   "execution_count": 75,
   "metadata": {},
   "outputs": [
    {
     "data": {
      "text/html": [
       "<div>\n",
       "<style scoped>\n",
       "    .dataframe tbody tr th:only-of-type {\n",
       "        vertical-align: middle;\n",
       "    }\n",
       "\n",
       "    .dataframe tbody tr th {\n",
       "        vertical-align: top;\n",
       "    }\n",
       "\n",
       "    .dataframe thead th {\n",
       "        text-align: right;\n",
       "    }\n",
       "</style>\n",
       "<table border=\"1\" class=\"dataframe\">\n",
       "  <thead>\n",
       "    <tr style=\"text-align: right;\">\n",
       "      <th></th>\n",
       "      <th>India/States/UTs</th>\n",
       "      <th>health_insurance_x</th>\n",
       "      <th>health_insurance_y</th>\n",
       "    </tr>\n",
       "  </thead>\n",
       "  <tbody>\n",
       "    <tr>\n",
       "      <th>0</th>\n",
       "      <td>India</td>\n",
       "      <td>4.8</td>\n",
       "      <td>28.7</td>\n",
       "    </tr>\n",
       "    <tr>\n",
       "      <th>1</th>\n",
       "      <td>Assam</td>\n",
       "      <td>2.3</td>\n",
       "      <td>10.4</td>\n",
       "    </tr>\n",
       "    <tr>\n",
       "      <th>2</th>\n",
       "      <td>Bihar</td>\n",
       "      <td>0.9</td>\n",
       "      <td>12.3</td>\n",
       "    </tr>\n",
       "    <tr>\n",
       "      <th>3</th>\n",
       "      <td>Chattisgarh</td>\n",
       "      <td>3.3</td>\n",
       "      <td>68.5</td>\n",
       "    </tr>\n",
       "    <tr>\n",
       "      <th>4</th>\n",
       "      <td>Gujarat</td>\n",
       "      <td>10.2</td>\n",
       "      <td>23.1</td>\n",
       "    </tr>\n",
       "  </tbody>\n",
       "</table>\n",
       "</div>"
      ],
      "text/plain": [
       "  India/States/UTs  health_insurance_x  health_insurance_y\n",
       "0            India                 4.8                28.7\n",
       "1            Assam                 2.3                10.4\n",
       "2            Bihar                 0.9                12.3\n",
       "3      Chattisgarh                 3.3                68.5\n",
       "4          Gujarat                10.2                23.1"
      ]
     },
     "execution_count": 75,
     "metadata": {},
     "output_type": "execute_result"
    }
   ],
   "source": [
    "z_1_total= pd.merge(x_1_2005,y_1_2015, on=['India/States/UTs'],how=\"outer\")\n",
    "z_1_total.head()"
   ]
  },
  {
   "cell_type": "code",
   "execution_count": 76,
   "metadata": {},
   "outputs": [
    {
     "data": {
      "application/vnd.plotly.v1+json": {
       "config": {
        "plotlyServerURL": "https://plot.ly"
       },
       "data": [
        {
         "alignmentgroup": "True",
         "hovertemplate": "variable=health_insurance_x<br>India/States/UTs=%{x}<br>value=%{y}<extra></extra>",
         "legendgroup": "health_insurance_x",
         "marker": {
          "color": "#636efa"
         },
         "name": "health_insurance_x",
         "offsetgroup": "health_insurance_x",
         "orientation": "v",
         "showlegend": true,
         "textposition": "auto",
         "type": "bar",
         "x": [
          "India",
          "Assam",
          "Bihar",
          "Chattisgarh",
          "Gujarat",
          "Haryana",
          "Jharkhand",
          "Karnataka",
          "Kerala",
          "Madhya Pradesh",
          "Maharashtra",
          "Odisha",
          "Punjab",
          "Rajasthan",
          "Tamil Nadu",
          "Uttar Pradesh",
          "West Bengal",
          "Arunachal Pradesh",
          "Delhi",
          "Goa",
          "Himachal Pradesh",
          "Jammu & Kashmir",
          "Manipur",
          "Meghalaya",
          "Mizoram",
          "Nagaland",
          "Sikkim",
          "Tripura",
          "Uttarakhand",
          "Andhra Pradesh",
          "Telangana",
          "Andaman and Nicobar Islands",
          "Chandigarh",
          "Dadra and Nagar Haveli",
          "Daman and Diu",
          "Lakshadweep",
          "Puducherry"
         ],
         "xaxis": "x",
         "y": [
          4.8,
          2.3,
          0.9,
          3.3,
          10.2,
          6.7,
          4.6,
          10.3,
          8.9,
          4.8,
          7.1,
          1.6,
          6.8,
          4.5,
          4,
          1.2,
          6,
          7,
          13.9,
          11.1,
          5.5,
          4.9,
          6.7,
          0.7,
          2.2,
          1.6,
          7,
          0.9,
          6.6,
          null,
          null,
          null,
          null,
          null,
          null,
          null,
          null
         ],
         "yaxis": "y"
        },
        {
         "alignmentgroup": "True",
         "hovertemplate": "variable=health_insurance_y<br>India/States/UTs=%{x}<br>value=%{y}<extra></extra>",
         "legendgroup": "health_insurance_y",
         "marker": {
          "color": "#EF553B"
         },
         "name": "health_insurance_y",
         "offsetgroup": "health_insurance_y",
         "orientation": "v",
         "showlegend": true,
         "textposition": "auto",
         "type": "bar",
         "x": [
          "India",
          "Assam",
          "Bihar",
          "Chattisgarh",
          "Gujarat",
          "Haryana",
          "Jharkhand",
          "Karnataka",
          "Kerala",
          "Madhya Pradesh",
          "Maharashtra",
          "Odisha",
          "Punjab",
          "Rajasthan",
          "Tamil Nadu",
          "Uttar Pradesh",
          "West Bengal",
          "Arunachal Pradesh",
          "Delhi",
          "Goa",
          "Himachal Pradesh",
          "Jammu & Kashmir",
          "Manipur",
          "Meghalaya",
          "Mizoram",
          "Nagaland",
          "Sikkim",
          "Tripura",
          "Uttarakhand",
          "Andhra Pradesh",
          "Telangana",
          "Andaman and Nicobar Islands",
          "Chandigarh",
          "Dadra and Nagar Haveli",
          "Daman and Diu",
          "Lakshadweep",
          "Puducherry"
         ],
         "xaxis": "x",
         "y": [
          28.7,
          10.4,
          12.3,
          68.5,
          23.1,
          12.2,
          13.3,
          28.1,
          47.7,
          17.7,
          15,
          47.7,
          21.2,
          18.7,
          64.1,
          6.1,
          33.4,
          58.3,
          16.4,
          15.9,
          25.8,
          4.2,
          3.6,
          34.6,
          45.4,
          6.1,
          30.3,
          58.1,
          19.5,
          74.6,
          66.4,
          5.7,
          21.3,
          30.8,
          17,
          3.4,
          32.8
         ],
         "yaxis": "y"
        }
       ],
       "layout": {
        "barmode": "relative",
        "legend": {
         "title": {
          "text": "variable"
         },
         "tracegroupgap": 0
        },
        "template": {
         "data": {
          "bar": [
           {
            "error_x": {
             "color": "#2a3f5f"
            },
            "error_y": {
             "color": "#2a3f5f"
            },
            "marker": {
             "line": {
              "color": "#E5ECF6",
              "width": 0.5
             }
            },
            "type": "bar"
           }
          ],
          "barpolar": [
           {
            "marker": {
             "line": {
              "color": "#E5ECF6",
              "width": 0.5
             }
            },
            "type": "barpolar"
           }
          ],
          "carpet": [
           {
            "aaxis": {
             "endlinecolor": "#2a3f5f",
             "gridcolor": "white",
             "linecolor": "white",
             "minorgridcolor": "white",
             "startlinecolor": "#2a3f5f"
            },
            "baxis": {
             "endlinecolor": "#2a3f5f",
             "gridcolor": "white",
             "linecolor": "white",
             "minorgridcolor": "white",
             "startlinecolor": "#2a3f5f"
            },
            "type": "carpet"
           }
          ],
          "choropleth": [
           {
            "colorbar": {
             "outlinewidth": 0,
             "ticks": ""
            },
            "type": "choropleth"
           }
          ],
          "contour": [
           {
            "colorbar": {
             "outlinewidth": 0,
             "ticks": ""
            },
            "colorscale": [
             [
              0,
              "#0d0887"
             ],
             [
              0.1111111111111111,
              "#46039f"
             ],
             [
              0.2222222222222222,
              "#7201a8"
             ],
             [
              0.3333333333333333,
              "#9c179e"
             ],
             [
              0.4444444444444444,
              "#bd3786"
             ],
             [
              0.5555555555555556,
              "#d8576b"
             ],
             [
              0.6666666666666666,
              "#ed7953"
             ],
             [
              0.7777777777777778,
              "#fb9f3a"
             ],
             [
              0.8888888888888888,
              "#fdca26"
             ],
             [
              1,
              "#f0f921"
             ]
            ],
            "type": "contour"
           }
          ],
          "contourcarpet": [
           {
            "colorbar": {
             "outlinewidth": 0,
             "ticks": ""
            },
            "type": "contourcarpet"
           }
          ],
          "heatmap": [
           {
            "colorbar": {
             "outlinewidth": 0,
             "ticks": ""
            },
            "colorscale": [
             [
              0,
              "#0d0887"
             ],
             [
              0.1111111111111111,
              "#46039f"
             ],
             [
              0.2222222222222222,
              "#7201a8"
             ],
             [
              0.3333333333333333,
              "#9c179e"
             ],
             [
              0.4444444444444444,
              "#bd3786"
             ],
             [
              0.5555555555555556,
              "#d8576b"
             ],
             [
              0.6666666666666666,
              "#ed7953"
             ],
             [
              0.7777777777777778,
              "#fb9f3a"
             ],
             [
              0.8888888888888888,
              "#fdca26"
             ],
             [
              1,
              "#f0f921"
             ]
            ],
            "type": "heatmap"
           }
          ],
          "heatmapgl": [
           {
            "colorbar": {
             "outlinewidth": 0,
             "ticks": ""
            },
            "colorscale": [
             [
              0,
              "#0d0887"
             ],
             [
              0.1111111111111111,
              "#46039f"
             ],
             [
              0.2222222222222222,
              "#7201a8"
             ],
             [
              0.3333333333333333,
              "#9c179e"
             ],
             [
              0.4444444444444444,
              "#bd3786"
             ],
             [
              0.5555555555555556,
              "#d8576b"
             ],
             [
              0.6666666666666666,
              "#ed7953"
             ],
             [
              0.7777777777777778,
              "#fb9f3a"
             ],
             [
              0.8888888888888888,
              "#fdca26"
             ],
             [
              1,
              "#f0f921"
             ]
            ],
            "type": "heatmapgl"
           }
          ],
          "histogram": [
           {
            "marker": {
             "colorbar": {
              "outlinewidth": 0,
              "ticks": ""
             }
            },
            "type": "histogram"
           }
          ],
          "histogram2d": [
           {
            "colorbar": {
             "outlinewidth": 0,
             "ticks": ""
            },
            "colorscale": [
             [
              0,
              "#0d0887"
             ],
             [
              0.1111111111111111,
              "#46039f"
             ],
             [
              0.2222222222222222,
              "#7201a8"
             ],
             [
              0.3333333333333333,
              "#9c179e"
             ],
             [
              0.4444444444444444,
              "#bd3786"
             ],
             [
              0.5555555555555556,
              "#d8576b"
             ],
             [
              0.6666666666666666,
              "#ed7953"
             ],
             [
              0.7777777777777778,
              "#fb9f3a"
             ],
             [
              0.8888888888888888,
              "#fdca26"
             ],
             [
              1,
              "#f0f921"
             ]
            ],
            "type": "histogram2d"
           }
          ],
          "histogram2dcontour": [
           {
            "colorbar": {
             "outlinewidth": 0,
             "ticks": ""
            },
            "colorscale": [
             [
              0,
              "#0d0887"
             ],
             [
              0.1111111111111111,
              "#46039f"
             ],
             [
              0.2222222222222222,
              "#7201a8"
             ],
             [
              0.3333333333333333,
              "#9c179e"
             ],
             [
              0.4444444444444444,
              "#bd3786"
             ],
             [
              0.5555555555555556,
              "#d8576b"
             ],
             [
              0.6666666666666666,
              "#ed7953"
             ],
             [
              0.7777777777777778,
              "#fb9f3a"
             ],
             [
              0.8888888888888888,
              "#fdca26"
             ],
             [
              1,
              "#f0f921"
             ]
            ],
            "type": "histogram2dcontour"
           }
          ],
          "mesh3d": [
           {
            "colorbar": {
             "outlinewidth": 0,
             "ticks": ""
            },
            "type": "mesh3d"
           }
          ],
          "parcoords": [
           {
            "line": {
             "colorbar": {
              "outlinewidth": 0,
              "ticks": ""
             }
            },
            "type": "parcoords"
           }
          ],
          "pie": [
           {
            "automargin": true,
            "type": "pie"
           }
          ],
          "scatter": [
           {
            "marker": {
             "colorbar": {
              "outlinewidth": 0,
              "ticks": ""
             }
            },
            "type": "scatter"
           }
          ],
          "scatter3d": [
           {
            "line": {
             "colorbar": {
              "outlinewidth": 0,
              "ticks": ""
             }
            },
            "marker": {
             "colorbar": {
              "outlinewidth": 0,
              "ticks": ""
             }
            },
            "type": "scatter3d"
           }
          ],
          "scattercarpet": [
           {
            "marker": {
             "colorbar": {
              "outlinewidth": 0,
              "ticks": ""
             }
            },
            "type": "scattercarpet"
           }
          ],
          "scattergeo": [
           {
            "marker": {
             "colorbar": {
              "outlinewidth": 0,
              "ticks": ""
             }
            },
            "type": "scattergeo"
           }
          ],
          "scattergl": [
           {
            "marker": {
             "colorbar": {
              "outlinewidth": 0,
              "ticks": ""
             }
            },
            "type": "scattergl"
           }
          ],
          "scattermapbox": [
           {
            "marker": {
             "colorbar": {
              "outlinewidth": 0,
              "ticks": ""
             }
            },
            "type": "scattermapbox"
           }
          ],
          "scatterpolar": [
           {
            "marker": {
             "colorbar": {
              "outlinewidth": 0,
              "ticks": ""
             }
            },
            "type": "scatterpolar"
           }
          ],
          "scatterpolargl": [
           {
            "marker": {
             "colorbar": {
              "outlinewidth": 0,
              "ticks": ""
             }
            },
            "type": "scatterpolargl"
           }
          ],
          "scatterternary": [
           {
            "marker": {
             "colorbar": {
              "outlinewidth": 0,
              "ticks": ""
             }
            },
            "type": "scatterternary"
           }
          ],
          "surface": [
           {
            "colorbar": {
             "outlinewidth": 0,
             "ticks": ""
            },
            "colorscale": [
             [
              0,
              "#0d0887"
             ],
             [
              0.1111111111111111,
              "#46039f"
             ],
             [
              0.2222222222222222,
              "#7201a8"
             ],
             [
              0.3333333333333333,
              "#9c179e"
             ],
             [
              0.4444444444444444,
              "#bd3786"
             ],
             [
              0.5555555555555556,
              "#d8576b"
             ],
             [
              0.6666666666666666,
              "#ed7953"
             ],
             [
              0.7777777777777778,
              "#fb9f3a"
             ],
             [
              0.8888888888888888,
              "#fdca26"
             ],
             [
              1,
              "#f0f921"
             ]
            ],
            "type": "surface"
           }
          ],
          "table": [
           {
            "cells": {
             "fill": {
              "color": "#EBF0F8"
             },
             "line": {
              "color": "white"
             }
            },
            "header": {
             "fill": {
              "color": "#C8D4E3"
             },
             "line": {
              "color": "white"
             }
            },
            "type": "table"
           }
          ]
         },
         "layout": {
          "annotationdefaults": {
           "arrowcolor": "#2a3f5f",
           "arrowhead": 0,
           "arrowwidth": 1
          },
          "coloraxis": {
           "colorbar": {
            "outlinewidth": 0,
            "ticks": ""
           }
          },
          "colorscale": {
           "diverging": [
            [
             0,
             "#8e0152"
            ],
            [
             0.1,
             "#c51b7d"
            ],
            [
             0.2,
             "#de77ae"
            ],
            [
             0.3,
             "#f1b6da"
            ],
            [
             0.4,
             "#fde0ef"
            ],
            [
             0.5,
             "#f7f7f7"
            ],
            [
             0.6,
             "#e6f5d0"
            ],
            [
             0.7,
             "#b8e186"
            ],
            [
             0.8,
             "#7fbc41"
            ],
            [
             0.9,
             "#4d9221"
            ],
            [
             1,
             "#276419"
            ]
           ],
           "sequential": [
            [
             0,
             "#0d0887"
            ],
            [
             0.1111111111111111,
             "#46039f"
            ],
            [
             0.2222222222222222,
             "#7201a8"
            ],
            [
             0.3333333333333333,
             "#9c179e"
            ],
            [
             0.4444444444444444,
             "#bd3786"
            ],
            [
             0.5555555555555556,
             "#d8576b"
            ],
            [
             0.6666666666666666,
             "#ed7953"
            ],
            [
             0.7777777777777778,
             "#fb9f3a"
            ],
            [
             0.8888888888888888,
             "#fdca26"
            ],
            [
             1,
             "#f0f921"
            ]
           ],
           "sequentialminus": [
            [
             0,
             "#0d0887"
            ],
            [
             0.1111111111111111,
             "#46039f"
            ],
            [
             0.2222222222222222,
             "#7201a8"
            ],
            [
             0.3333333333333333,
             "#9c179e"
            ],
            [
             0.4444444444444444,
             "#bd3786"
            ],
            [
             0.5555555555555556,
             "#d8576b"
            ],
            [
             0.6666666666666666,
             "#ed7953"
            ],
            [
             0.7777777777777778,
             "#fb9f3a"
            ],
            [
             0.8888888888888888,
             "#fdca26"
            ],
            [
             1,
             "#f0f921"
            ]
           ]
          },
          "colorway": [
           "#636efa",
           "#EF553B",
           "#00cc96",
           "#ab63fa",
           "#FFA15A",
           "#19d3f3",
           "#FF6692",
           "#B6E880",
           "#FF97FF",
           "#FECB52"
          ],
          "font": {
           "color": "#2a3f5f"
          },
          "geo": {
           "bgcolor": "white",
           "lakecolor": "white",
           "landcolor": "#E5ECF6",
           "showlakes": true,
           "showland": true,
           "subunitcolor": "white"
          },
          "hoverlabel": {
           "align": "left"
          },
          "hovermode": "closest",
          "mapbox": {
           "style": "light"
          },
          "paper_bgcolor": "white",
          "plot_bgcolor": "#E5ECF6",
          "polar": {
           "angularaxis": {
            "gridcolor": "white",
            "linecolor": "white",
            "ticks": ""
           },
           "bgcolor": "#E5ECF6",
           "radialaxis": {
            "gridcolor": "white",
            "linecolor": "white",
            "ticks": ""
           }
          },
          "scene": {
           "xaxis": {
            "backgroundcolor": "#E5ECF6",
            "gridcolor": "white",
            "gridwidth": 2,
            "linecolor": "white",
            "showbackground": true,
            "ticks": "",
            "zerolinecolor": "white"
           },
           "yaxis": {
            "backgroundcolor": "#E5ECF6",
            "gridcolor": "white",
            "gridwidth": 2,
            "linecolor": "white",
            "showbackground": true,
            "ticks": "",
            "zerolinecolor": "white"
           },
           "zaxis": {
            "backgroundcolor": "#E5ECF6",
            "gridcolor": "white",
            "gridwidth": 2,
            "linecolor": "white",
            "showbackground": true,
            "ticks": "",
            "zerolinecolor": "white"
           }
          },
          "shapedefaults": {
           "line": {
            "color": "#2a3f5f"
           }
          },
          "ternary": {
           "aaxis": {
            "gridcolor": "white",
            "linecolor": "white",
            "ticks": ""
           },
           "baxis": {
            "gridcolor": "white",
            "linecolor": "white",
            "ticks": ""
           },
           "bgcolor": "#E5ECF6",
           "caxis": {
            "gridcolor": "white",
            "linecolor": "white",
            "ticks": ""
           }
          },
          "title": {
           "x": 0.05
          },
          "xaxis": {
           "automargin": true,
           "gridcolor": "white",
           "linecolor": "white",
           "ticks": "",
           "title": {
            "standoff": 15
           },
           "zerolinecolor": "white",
           "zerolinewidth": 2
          },
          "yaxis": {
           "automargin": true,
           "gridcolor": "white",
           "linecolor": "white",
           "ticks": "",
           "title": {
            "standoff": 15
           },
           "zerolinecolor": "white",
           "zerolinewidth": 2
          }
         }
        },
        "title": {
         "text": "Total 2005 vs 2015"
        },
        "xaxis": {
         "anchor": "y",
         "domain": [
          0,
          1
         ],
         "title": {
          "text": "India/States/UTs"
         }
        },
        "yaxis": {
         "anchor": "x",
         "domain": [
          0,
          1
         ],
         "title": {
          "text": "value"
         }
        }
       }
      },
      "text/html": [
       "<div>\n",
       "        \n",
       "        \n",
       "            <div id=\"1c4efb20-7b34-4436-832a-1aafb9ee17f5\" class=\"plotly-graph-div\" style=\"height:525px; width:100%;\"></div>\n",
       "            <script type=\"text/javascript\">\n",
       "                require([\"plotly\"], function(Plotly) {\n",
       "                    window.PLOTLYENV=window.PLOTLYENV || {};\n",
       "                    \n",
       "                if (document.getElementById(\"1c4efb20-7b34-4436-832a-1aafb9ee17f5\")) {\n",
       "                    Plotly.newPlot(\n",
       "                        '1c4efb20-7b34-4436-832a-1aafb9ee17f5',\n",
       "                        [{\"alignmentgroup\": \"True\", \"hovertemplate\": \"variable=health_insurance_x<br>India/States/UTs=%{x}<br>value=%{y}<extra></extra>\", \"legendgroup\": \"health_insurance_x\", \"marker\": {\"color\": \"#636efa\"}, \"name\": \"health_insurance_x\", \"offsetgroup\": \"health_insurance_x\", \"orientation\": \"v\", \"showlegend\": true, \"textposition\": \"auto\", \"type\": \"bar\", \"x\": [\"India\", \"Assam\", \"Bihar\", \"Chattisgarh\", \"Gujarat\", \"Haryana\", \"Jharkhand\", \"Karnataka\", \"Kerala\", \"Madhya Pradesh\", \"Maharashtra\", \"Odisha\", \"Punjab\", \"Rajasthan\", \"Tamil Nadu\", \"Uttar Pradesh\", \"West Bengal\", \"Arunachal Pradesh\", \"Delhi\", \"Goa\", \"Himachal Pradesh\", \"Jammu & Kashmir\", \"Manipur\", \"Meghalaya\", \"Mizoram\", \"Nagaland\", \"Sikkim\", \"Tripura\", \"Uttarakhand\", \"Andhra Pradesh\", \"Telangana\", \"Andaman and Nicobar Islands\", \"Chandigarh\", \"Dadra and Nagar Haveli\", \"Daman and Diu\", \"Lakshadweep\", \"Puducherry\"], \"xaxis\": \"x\", \"y\": [4.8, 2.3, 0.9, 3.3, 10.2, 6.7, 4.6, 10.3, 8.9, 4.8, 7.1, 1.6, 6.8, 4.5, 4.0, 1.2, 6.0, 7.0, 13.9, 11.1, 5.5, 4.9, 6.7, 0.7, 2.2, 1.6, 7.0, 0.9, 6.6, null, null, null, null, null, null, null, null], \"yaxis\": \"y\"}, {\"alignmentgroup\": \"True\", \"hovertemplate\": \"variable=health_insurance_y<br>India/States/UTs=%{x}<br>value=%{y}<extra></extra>\", \"legendgroup\": \"health_insurance_y\", \"marker\": {\"color\": \"#EF553B\"}, \"name\": \"health_insurance_y\", \"offsetgroup\": \"health_insurance_y\", \"orientation\": \"v\", \"showlegend\": true, \"textposition\": \"auto\", \"type\": \"bar\", \"x\": [\"India\", \"Assam\", \"Bihar\", \"Chattisgarh\", \"Gujarat\", \"Haryana\", \"Jharkhand\", \"Karnataka\", \"Kerala\", \"Madhya Pradesh\", \"Maharashtra\", \"Odisha\", \"Punjab\", \"Rajasthan\", \"Tamil Nadu\", \"Uttar Pradesh\", \"West Bengal\", \"Arunachal Pradesh\", \"Delhi\", \"Goa\", \"Himachal Pradesh\", \"Jammu & Kashmir\", \"Manipur\", \"Meghalaya\", \"Mizoram\", \"Nagaland\", \"Sikkim\", \"Tripura\", \"Uttarakhand\", \"Andhra Pradesh\", \"Telangana\", \"Andaman and Nicobar Islands\", \"Chandigarh\", \"Dadra and Nagar Haveli\", \"Daman and Diu\", \"Lakshadweep\", \"Puducherry\"], \"xaxis\": \"x\", \"y\": [28.7, 10.4, 12.3, 68.5, 23.1, 12.2, 13.3, 28.1, 47.7, 17.7, 15.0, 47.7, 21.2, 18.7, 64.1, 6.1, 33.4, 58.3, 16.4, 15.9, 25.8, 4.2, 3.6, 34.6, 45.4, 6.1, 30.3, 58.1, 19.5, 74.6, 66.4, 5.7, 21.3, 30.8, 17.0, 3.4, 32.8], \"yaxis\": \"y\"}],\n",
       "                        {\"barmode\": \"relative\", \"legend\": {\"title\": {\"text\": \"variable\"}, \"tracegroupgap\": 0}, \"template\": {\"data\": {\"bar\": [{\"error_x\": {\"color\": \"#2a3f5f\"}, \"error_y\": {\"color\": \"#2a3f5f\"}, \"marker\": {\"line\": {\"color\": \"#E5ECF6\", \"width\": 0.5}}, \"type\": \"bar\"}], \"barpolar\": [{\"marker\": {\"line\": {\"color\": \"#E5ECF6\", \"width\": 0.5}}, \"type\": \"barpolar\"}], \"carpet\": [{\"aaxis\": {\"endlinecolor\": \"#2a3f5f\", \"gridcolor\": \"white\", \"linecolor\": \"white\", \"minorgridcolor\": \"white\", \"startlinecolor\": \"#2a3f5f\"}, \"baxis\": {\"endlinecolor\": \"#2a3f5f\", \"gridcolor\": \"white\", \"linecolor\": \"white\", \"minorgridcolor\": \"white\", \"startlinecolor\": \"#2a3f5f\"}, \"type\": \"carpet\"}], \"choropleth\": [{\"colorbar\": {\"outlinewidth\": 0, \"ticks\": \"\"}, \"type\": \"choropleth\"}], \"contour\": [{\"colorbar\": {\"outlinewidth\": 0, \"ticks\": \"\"}, \"colorscale\": [[0.0, \"#0d0887\"], [0.1111111111111111, \"#46039f\"], [0.2222222222222222, \"#7201a8\"], [0.3333333333333333, \"#9c179e\"], [0.4444444444444444, \"#bd3786\"], [0.5555555555555556, \"#d8576b\"], [0.6666666666666666, \"#ed7953\"], [0.7777777777777778, \"#fb9f3a\"], [0.8888888888888888, \"#fdca26\"], [1.0, \"#f0f921\"]], \"type\": \"contour\"}], \"contourcarpet\": [{\"colorbar\": {\"outlinewidth\": 0, \"ticks\": \"\"}, \"type\": \"contourcarpet\"}], \"heatmap\": [{\"colorbar\": {\"outlinewidth\": 0, \"ticks\": \"\"}, \"colorscale\": [[0.0, \"#0d0887\"], [0.1111111111111111, \"#46039f\"], [0.2222222222222222, \"#7201a8\"], [0.3333333333333333, \"#9c179e\"], [0.4444444444444444, \"#bd3786\"], [0.5555555555555556, \"#d8576b\"], [0.6666666666666666, \"#ed7953\"], [0.7777777777777778, \"#fb9f3a\"], [0.8888888888888888, \"#fdca26\"], [1.0, \"#f0f921\"]], \"type\": \"heatmap\"}], \"heatmapgl\": [{\"colorbar\": {\"outlinewidth\": 0, \"ticks\": \"\"}, \"colorscale\": [[0.0, \"#0d0887\"], [0.1111111111111111, \"#46039f\"], [0.2222222222222222, \"#7201a8\"], [0.3333333333333333, \"#9c179e\"], [0.4444444444444444, \"#bd3786\"], [0.5555555555555556, \"#d8576b\"], [0.6666666666666666, \"#ed7953\"], [0.7777777777777778, \"#fb9f3a\"], [0.8888888888888888, \"#fdca26\"], [1.0, \"#f0f921\"]], \"type\": \"heatmapgl\"}], \"histogram\": [{\"marker\": {\"colorbar\": {\"outlinewidth\": 0, \"ticks\": \"\"}}, \"type\": \"histogram\"}], \"histogram2d\": [{\"colorbar\": {\"outlinewidth\": 0, \"ticks\": \"\"}, \"colorscale\": [[0.0, \"#0d0887\"], [0.1111111111111111, \"#46039f\"], [0.2222222222222222, \"#7201a8\"], [0.3333333333333333, \"#9c179e\"], [0.4444444444444444, \"#bd3786\"], [0.5555555555555556, \"#d8576b\"], [0.6666666666666666, \"#ed7953\"], [0.7777777777777778, \"#fb9f3a\"], [0.8888888888888888, \"#fdca26\"], [1.0, \"#f0f921\"]], \"type\": \"histogram2d\"}], \"histogram2dcontour\": [{\"colorbar\": {\"outlinewidth\": 0, \"ticks\": \"\"}, \"colorscale\": [[0.0, \"#0d0887\"], [0.1111111111111111, \"#46039f\"], [0.2222222222222222, \"#7201a8\"], [0.3333333333333333, \"#9c179e\"], [0.4444444444444444, \"#bd3786\"], [0.5555555555555556, \"#d8576b\"], [0.6666666666666666, \"#ed7953\"], [0.7777777777777778, \"#fb9f3a\"], [0.8888888888888888, \"#fdca26\"], [1.0, \"#f0f921\"]], \"type\": \"histogram2dcontour\"}], \"mesh3d\": [{\"colorbar\": {\"outlinewidth\": 0, \"ticks\": \"\"}, \"type\": \"mesh3d\"}], \"parcoords\": [{\"line\": {\"colorbar\": {\"outlinewidth\": 0, \"ticks\": \"\"}}, \"type\": \"parcoords\"}], \"pie\": [{\"automargin\": true, \"type\": \"pie\"}], \"scatter\": [{\"marker\": {\"colorbar\": {\"outlinewidth\": 0, \"ticks\": \"\"}}, \"type\": \"scatter\"}], \"scatter3d\": [{\"line\": {\"colorbar\": {\"outlinewidth\": 0, \"ticks\": \"\"}}, \"marker\": {\"colorbar\": {\"outlinewidth\": 0, \"ticks\": \"\"}}, \"type\": \"scatter3d\"}], \"scattercarpet\": [{\"marker\": {\"colorbar\": {\"outlinewidth\": 0, \"ticks\": \"\"}}, \"type\": \"scattercarpet\"}], \"scattergeo\": [{\"marker\": {\"colorbar\": {\"outlinewidth\": 0, \"ticks\": \"\"}}, \"type\": \"scattergeo\"}], \"scattergl\": [{\"marker\": {\"colorbar\": {\"outlinewidth\": 0, \"ticks\": \"\"}}, \"type\": \"scattergl\"}], \"scattermapbox\": [{\"marker\": {\"colorbar\": {\"outlinewidth\": 0, \"ticks\": \"\"}}, \"type\": \"scattermapbox\"}], \"scatterpolar\": [{\"marker\": {\"colorbar\": {\"outlinewidth\": 0, \"ticks\": \"\"}}, \"type\": \"scatterpolar\"}], \"scatterpolargl\": [{\"marker\": {\"colorbar\": {\"outlinewidth\": 0, \"ticks\": \"\"}}, \"type\": \"scatterpolargl\"}], \"scatterternary\": [{\"marker\": {\"colorbar\": {\"outlinewidth\": 0, \"ticks\": \"\"}}, \"type\": \"scatterternary\"}], \"surface\": [{\"colorbar\": {\"outlinewidth\": 0, \"ticks\": \"\"}, \"colorscale\": [[0.0, \"#0d0887\"], [0.1111111111111111, \"#46039f\"], [0.2222222222222222, \"#7201a8\"], [0.3333333333333333, \"#9c179e\"], [0.4444444444444444, \"#bd3786\"], [0.5555555555555556, \"#d8576b\"], [0.6666666666666666, \"#ed7953\"], [0.7777777777777778, \"#fb9f3a\"], [0.8888888888888888, \"#fdca26\"], [1.0, \"#f0f921\"]], \"type\": \"surface\"}], \"table\": [{\"cells\": {\"fill\": {\"color\": \"#EBF0F8\"}, \"line\": {\"color\": \"white\"}}, \"header\": {\"fill\": {\"color\": \"#C8D4E3\"}, \"line\": {\"color\": \"white\"}}, \"type\": \"table\"}]}, \"layout\": {\"annotationdefaults\": {\"arrowcolor\": \"#2a3f5f\", \"arrowhead\": 0, \"arrowwidth\": 1}, \"coloraxis\": {\"colorbar\": {\"outlinewidth\": 0, \"ticks\": \"\"}}, \"colorscale\": {\"diverging\": [[0, \"#8e0152\"], [0.1, \"#c51b7d\"], [0.2, \"#de77ae\"], [0.3, \"#f1b6da\"], [0.4, \"#fde0ef\"], [0.5, \"#f7f7f7\"], [0.6, \"#e6f5d0\"], [0.7, \"#b8e186\"], [0.8, \"#7fbc41\"], [0.9, \"#4d9221\"], [1, \"#276419\"]], \"sequential\": [[0.0, \"#0d0887\"], [0.1111111111111111, \"#46039f\"], [0.2222222222222222, \"#7201a8\"], [0.3333333333333333, \"#9c179e\"], [0.4444444444444444, \"#bd3786\"], [0.5555555555555556, \"#d8576b\"], [0.6666666666666666, \"#ed7953\"], [0.7777777777777778, \"#fb9f3a\"], [0.8888888888888888, \"#fdca26\"], [1.0, \"#f0f921\"]], \"sequentialminus\": [[0.0, \"#0d0887\"], [0.1111111111111111, \"#46039f\"], [0.2222222222222222, \"#7201a8\"], [0.3333333333333333, \"#9c179e\"], [0.4444444444444444, \"#bd3786\"], [0.5555555555555556, \"#d8576b\"], [0.6666666666666666, \"#ed7953\"], [0.7777777777777778, \"#fb9f3a\"], [0.8888888888888888, \"#fdca26\"], [1.0, \"#f0f921\"]]}, \"colorway\": [\"#636efa\", \"#EF553B\", \"#00cc96\", \"#ab63fa\", \"#FFA15A\", \"#19d3f3\", \"#FF6692\", \"#B6E880\", \"#FF97FF\", \"#FECB52\"], \"font\": {\"color\": \"#2a3f5f\"}, \"geo\": {\"bgcolor\": \"white\", \"lakecolor\": \"white\", \"landcolor\": \"#E5ECF6\", \"showlakes\": true, \"showland\": true, \"subunitcolor\": \"white\"}, \"hoverlabel\": {\"align\": \"left\"}, \"hovermode\": \"closest\", \"mapbox\": {\"style\": \"light\"}, \"paper_bgcolor\": \"white\", \"plot_bgcolor\": \"#E5ECF6\", \"polar\": {\"angularaxis\": {\"gridcolor\": \"white\", \"linecolor\": \"white\", \"ticks\": \"\"}, \"bgcolor\": \"#E5ECF6\", \"radialaxis\": {\"gridcolor\": \"white\", \"linecolor\": \"white\", \"ticks\": \"\"}}, \"scene\": {\"xaxis\": {\"backgroundcolor\": \"#E5ECF6\", \"gridcolor\": \"white\", \"gridwidth\": 2, \"linecolor\": \"white\", \"showbackground\": true, \"ticks\": \"\", \"zerolinecolor\": \"white\"}, \"yaxis\": {\"backgroundcolor\": \"#E5ECF6\", \"gridcolor\": \"white\", \"gridwidth\": 2, \"linecolor\": \"white\", \"showbackground\": true, \"ticks\": \"\", \"zerolinecolor\": \"white\"}, \"zaxis\": {\"backgroundcolor\": \"#E5ECF6\", \"gridcolor\": \"white\", \"gridwidth\": 2, \"linecolor\": \"white\", \"showbackground\": true, \"ticks\": \"\", \"zerolinecolor\": \"white\"}}, \"shapedefaults\": {\"line\": {\"color\": \"#2a3f5f\"}}, \"ternary\": {\"aaxis\": {\"gridcolor\": \"white\", \"linecolor\": \"white\", \"ticks\": \"\"}, \"baxis\": {\"gridcolor\": \"white\", \"linecolor\": \"white\", \"ticks\": \"\"}, \"bgcolor\": \"#E5ECF6\", \"caxis\": {\"gridcolor\": \"white\", \"linecolor\": \"white\", \"ticks\": \"\"}}, \"title\": {\"x\": 0.05}, \"xaxis\": {\"automargin\": true, \"gridcolor\": \"white\", \"linecolor\": \"white\", \"ticks\": \"\", \"title\": {\"standoff\": 15}, \"zerolinecolor\": \"white\", \"zerolinewidth\": 2}, \"yaxis\": {\"automargin\": true, \"gridcolor\": \"white\", \"linecolor\": \"white\", \"ticks\": \"\", \"title\": {\"standoff\": 15}, \"zerolinecolor\": \"white\", \"zerolinewidth\": 2}}}, \"title\": {\"text\": \"Total 2005 vs 2015\"}, \"xaxis\": {\"anchor\": \"y\", \"domain\": [0.0, 1.0], \"title\": {\"text\": \"India/States/UTs\"}}, \"yaxis\": {\"anchor\": \"x\", \"domain\": [0.0, 1.0], \"title\": {\"text\": \"value\"}}},\n",
       "                        {\"responsive\": true}\n",
       "                    ).then(function(){\n",
       "                            \n",
       "var gd = document.getElementById('1c4efb20-7b34-4436-832a-1aafb9ee17f5');\n",
       "var x = new MutationObserver(function (mutations, observer) {{\n",
       "        var display = window.getComputedStyle(gd).display;\n",
       "        if (!display || display === 'none') {{\n",
       "            console.log([gd, 'removed!']);\n",
       "            Plotly.purge(gd);\n",
       "            observer.disconnect();\n",
       "        }}\n",
       "}});\n",
       "\n",
       "// Listen for the removal of the full notebook cells\n",
       "var notebookContainer = gd.closest('#notebook-container');\n",
       "if (notebookContainer) {{\n",
       "    x.observe(notebookContainer, {childList: true});\n",
       "}}\n",
       "\n",
       "// Listen for the clearing of the current output cell\n",
       "var outputEl = gd.closest('.output');\n",
       "if (outputEl) {{\n",
       "    x.observe(outputEl, {childList: true});\n",
       "}}\n",
       "\n",
       "                        })\n",
       "                };\n",
       "                });\n",
       "            </script>\n",
       "        </div>"
      ]
     },
     "metadata": {},
     "output_type": "display_data"
    }
   ],
   "source": [
    "## NHFHS 3 & 4 Total\n",
    "fig = px.bar(z_1_total, x=\"India/States/UTs\", y=[\"health_insurance_x\", \"health_insurance_y\"], title=\"Total 2005 vs 2015\")\n",
    "fig.show()"
   ]
  },
  {
   "cell_type": "code",
   "execution_count": 77,
   "metadata": {},
   "outputs": [
    {
     "data": {
      "text/html": [
       "<div>\n",
       "<style scoped>\n",
       "    .dataframe tbody tr th:only-of-type {\n",
       "        vertical-align: middle;\n",
       "    }\n",
       "\n",
       "    .dataframe tbody tr th {\n",
       "        vertical-align: top;\n",
       "    }\n",
       "\n",
       "    .dataframe thead th {\n",
       "        text-align: right;\n",
       "    }\n",
       "</style>\n",
       "<table border=\"1\" class=\"dataframe\">\n",
       "  <thead>\n",
       "    <tr style=\"text-align: right;\">\n",
       "      <th></th>\n",
       "      <th>F_6above_school</th>\n",
       "      <th>Population below age 15 years</th>\n",
       "      <th>Sex ratio of the total population (females per 1000 males)</th>\n",
       "      <th>Sex ratio at birth for children born in the last five years</th>\n",
       "      <th>Children under age 5 years whose birth was registered</th>\n",
       "      <th>Households with electricity</th>\n",
       "      <th>Households with an improved drinking-water</th>\n",
       "      <th>Households using improved sanitation facility</th>\n",
       "      <th>Households using clean fuel for cooking</th>\n",
       "      <th>Households using iodized salt</th>\n",
       "      <th>health_insurance</th>\n",
       "    </tr>\n",
       "  </thead>\n",
       "  <tbody>\n",
       "    <tr>\n",
       "      <th>1</th>\n",
       "      <td>63.0</td>\n",
       "      <td>30.5</td>\n",
       "      <td>1009.0</td>\n",
       "      <td>927.0</td>\n",
       "      <td>76.1</td>\n",
       "      <td>83.2</td>\n",
       "      <td>89.3</td>\n",
       "      <td>36.7</td>\n",
       "      <td>24.0</td>\n",
       "      <td>91.4</td>\n",
       "      <td>29.0</td>\n",
       "    </tr>\n",
       "    <tr>\n",
       "      <th>5</th>\n",
       "      <td>56.6</td>\n",
       "      <td>23.9</td>\n",
       "      <td>1018.0</td>\n",
       "      <td>880.0</td>\n",
       "      <td>79.9</td>\n",
       "      <td>98.4</td>\n",
       "      <td>73.6</td>\n",
       "      <td>43.1</td>\n",
       "      <td>49.7</td>\n",
       "      <td>77.4</td>\n",
       "      <td>80.5</td>\n",
       "    </tr>\n",
       "    <tr>\n",
       "      <th>9</th>\n",
       "      <td>72.9</td>\n",
       "      <td>31.5</td>\n",
       "      <td>993.0</td>\n",
       "      <td>945.0</td>\n",
       "      <td>93.8</td>\n",
       "      <td>75.0</td>\n",
       "      <td>82.9</td>\n",
       "      <td>45.1</td>\n",
       "      <td>15.6</td>\n",
       "      <td>99.5</td>\n",
       "      <td>10.0</td>\n",
       "    </tr>\n",
       "    <tr>\n",
       "      <th>13</th>\n",
       "      <td>54.8</td>\n",
       "      <td>40.1</td>\n",
       "      <td>1075.0</td>\n",
       "      <td>933.0</td>\n",
       "      <td>60.3</td>\n",
       "      <td>54.1</td>\n",
       "      <td>98.2</td>\n",
       "      <td>20.7</td>\n",
       "      <td>10.8</td>\n",
       "      <td>93.0</td>\n",
       "      <td>12.7</td>\n",
       "    </tr>\n",
       "    <tr>\n",
       "      <th>17</th>\n",
       "      <td>63.7</td>\n",
       "      <td>30.1</td>\n",
       "      <td>1027.0</td>\n",
       "      <td>992.0</td>\n",
       "      <td>84.4</td>\n",
       "      <td>94.5</td>\n",
       "      <td>89.2</td>\n",
       "      <td>22.6</td>\n",
       "      <td>7.6</td>\n",
       "      <td>99.0</td>\n",
       "      <td>71.4</td>\n",
       "    </tr>\n",
       "  </tbody>\n",
       "</table>\n",
       "</div>"
      ],
      "text/plain": [
       "    F_6above_school  Population below age 15 years  \\\n",
       "1              63.0                           30.5   \n",
       "5              56.6                           23.9   \n",
       "9              72.9                           31.5   \n",
       "13             54.8                           40.1   \n",
       "17             63.7                           30.1   \n",
       "\n",
       "    Sex ratio of the total population (females per 1000 males)  \\\n",
       "1                                              1009.0            \n",
       "5                                              1018.0            \n",
       "9                                               993.0            \n",
       "13                                             1075.0            \n",
       "17                                             1027.0            \n",
       "\n",
       "    Sex ratio at birth for children born in the last five years  \\\n",
       "1                                               927.0             \n",
       "5                                               880.0             \n",
       "9                                               945.0             \n",
       "13                                              933.0             \n",
       "17                                              992.0             \n",
       "\n",
       "    Children under age 5 years whose birth was registered  \\\n",
       "1                                                76.1       \n",
       "5                                                79.9       \n",
       "9                                                93.8       \n",
       "13                                               60.3       \n",
       "17                                               84.4       \n",
       "\n",
       "    Households with electricity  Households with an improved drinking-water  \\\n",
       "1                          83.2                                        89.3   \n",
       "5                          98.4                                        73.6   \n",
       "9                          75.0                                        82.9   \n",
       "13                         54.1                                        98.2   \n",
       "17                         94.5                                        89.2   \n",
       "\n",
       "    Households using improved sanitation facility  \\\n",
       "1                                            36.7   \n",
       "5                                            43.1   \n",
       "9                                            45.1   \n",
       "13                                           20.7   \n",
       "17                                           22.6   \n",
       "\n",
       "    Households using clean fuel for cooking  Households using iodized salt  \\\n",
       "1                                      24.0                           91.4   \n",
       "5                                      49.7                           77.4   \n",
       "9                                      15.6                           99.5   \n",
       "13                                     10.8                           93.0   \n",
       "17                                      7.6                           99.0   \n",
       "\n",
       "    health_insurance  \n",
       "1               29.0  \n",
       "5               80.5  \n",
       "9               10.0  \n",
       "13              12.7  \n",
       "17              71.4  "
      ]
     },
     "execution_count": 77,
     "metadata": {},
     "output_type": "execute_result"
    }
   ],
   "source": [
    "## Pair plot Make a new dataframe with all the numeric collumns \n",
    "pair_plot = health_insurance_NFHS4_Rural[['F_6above_school','Population below age 15 years','Sex ratio of the total population (females per 1000 males)','Sex ratio at birth for children born in the last five years','Children under age 5 years whose birth was registered','Households with electricity','Households with an improved drinking-water','Households using improved sanitation facility','Households using clean fuel for cooking','Households using iodized salt','health_insurance']]\n",
    "pair_plot.head()"
   ]
  },
  {
   "cell_type": "code",
   "execution_count": 47,
   "metadata": {},
   "outputs": [
    {
     "data": {
      "application/vnd.plotly.v1+json": {
       "config": {
        "plotlyServerURL": "https://plot.ly"
       },
       "data": [
        {
         "dimensions": [
          {
           "axis": {
            "matches": true
           },
           "label": "F_6above_school",
           "values": [
            63
           ]
          },
          {
           "axis": {
            "matches": true
           },
           "label": "Households with electricity",
           "values": [
            83.2
           ]
          },
          {
           "axis": {
            "matches": true
           },
           "label": "Households with an improved drinking-water",
           "values": [
            89.3
           ]
          },
          {
           "axis": {
            "matches": true
           },
           "label": "Households using improved sanitation facility",
           "values": [
            36.7
           ]
          },
          {
           "axis": {
            "matches": true
           },
           "label": "Households using clean fuel for cooking",
           "values": [
            24
           ]
          },
          {
           "axis": {
            "matches": true
           },
           "label": "Households using iodized salt",
           "values": [
            91.4
           ]
          },
          {
           "axis": {
            "matches": true
           },
           "label": "health_insurance",
           "values": [
            29
           ]
          }
         ],
         "hovertemplate": "India/States/UTs=India<br>%{xaxis.title.text}=%{x}<br>%{yaxis.title.text}=%{y}<extra></extra>",
         "legendgroup": "India",
         "marker": {
          "color": "#636efa",
          "symbol": "circle"
         },
         "name": "India",
         "showlegend": true,
         "type": "splom"
        },
        {
         "dimensions": [
          {
           "axis": {
            "matches": true
           },
           "label": "F_6above_school",
           "values": [
            56.6
           ]
          },
          {
           "axis": {
            "matches": true
           },
           "label": "Households with electricity",
           "values": [
            98.4
           ]
          },
          {
           "axis": {
            "matches": true
           },
           "label": "Households with an improved drinking-water",
           "values": [
            73.6
           ]
          },
          {
           "axis": {
            "matches": true
           },
           "label": "Households using improved sanitation facility",
           "values": [
            43.1
           ]
          },
          {
           "axis": {
            "matches": true
           },
           "label": "Households using clean fuel for cooking",
           "values": [
            49.7
           ]
          },
          {
           "axis": {
            "matches": true
           },
           "label": "Households using iodized salt",
           "values": [
            77.4
           ]
          },
          {
           "axis": {
            "matches": true
           },
           "label": "health_insurance",
           "values": [
            80.5
           ]
          }
         ],
         "hovertemplate": "India/States/UTs=Andhra Pradesh<br>%{xaxis.title.text}=%{x}<br>%{yaxis.title.text}=%{y}<extra></extra>",
         "legendgroup": "Andhra Pradesh",
         "marker": {
          "color": "#EF553B",
          "symbol": "circle"
         },
         "name": "Andhra Pradesh",
         "showlegend": true,
         "type": "splom"
        },
        {
         "dimensions": [
          {
           "axis": {
            "matches": true
           },
           "label": "F_6above_school",
           "values": [
            72.9
           ]
          },
          {
           "axis": {
            "matches": true
           },
           "label": "Households with electricity",
           "values": [
            75
           ]
          },
          {
           "axis": {
            "matches": true
           },
           "label": "Households with an improved drinking-water",
           "values": [
            82.9
           ]
          },
          {
           "axis": {
            "matches": true
           },
           "label": "Households using improved sanitation facility",
           "values": [
            45.1
           ]
          },
          {
           "axis": {
            "matches": true
           },
           "label": "Households using clean fuel for cooking",
           "values": [
            15.6
           ]
          },
          {
           "axis": {
            "matches": true
           },
           "label": "Households using iodized salt",
           "values": [
            99.5
           ]
          },
          {
           "axis": {
            "matches": true
           },
           "label": "health_insurance",
           "values": [
            10
           ]
          }
         ],
         "hovertemplate": "India/States/UTs=Assam<br>%{xaxis.title.text}=%{x}<br>%{yaxis.title.text}=%{y}<extra></extra>",
         "legendgroup": "Assam",
         "marker": {
          "color": "#00cc96",
          "symbol": "circle"
         },
         "name": "Assam",
         "showlegend": true,
         "type": "splom"
        },
        {
         "dimensions": [
          {
           "axis": {
            "matches": true
           },
           "label": "F_6above_school",
           "values": [
            54.8
           ]
          },
          {
           "axis": {
            "matches": true
           },
           "label": "Households with electricity",
           "values": [
            54.1
           ]
          },
          {
           "axis": {
            "matches": true
           },
           "label": "Households with an improved drinking-water",
           "values": [
            98.2
           ]
          },
          {
           "axis": {
            "matches": true
           },
           "label": "Households using improved sanitation facility",
           "values": [
            20.7
           ]
          },
          {
           "axis": {
            "matches": true
           },
           "label": "Households using clean fuel for cooking",
           "values": [
            10.8
           ]
          },
          {
           "axis": {
            "matches": true
           },
           "label": "Households using iodized salt",
           "values": [
            93
           ]
          },
          {
           "axis": {
            "matches": true
           },
           "label": "health_insurance",
           "values": [
            12.7
           ]
          }
         ],
         "hovertemplate": "India/States/UTs=Bihar<br>%{xaxis.title.text}=%{x}<br>%{yaxis.title.text}=%{y}<extra></extra>",
         "legendgroup": "Bihar",
         "marker": {
          "color": "#ab63fa",
          "symbol": "circle"
         },
         "name": "Bihar",
         "showlegend": true,
         "type": "splom"
        },
        {
         "dimensions": [
          {
           "axis": {
            "matches": true
           },
           "label": "F_6above_school",
           "values": [
            63.7
           ]
          },
          {
           "axis": {
            "matches": true
           },
           "label": "Households with electricity",
           "values": [
            94.5
           ]
          },
          {
           "axis": {
            "matches": true
           },
           "label": "Households with an improved drinking-water",
           "values": [
            89.2
           ]
          },
          {
           "axis": {
            "matches": true
           },
           "label": "Households using improved sanitation facility",
           "values": [
            22.6
           ]
          },
          {
           "axis": {
            "matches": true
           },
           "label": "Households using clean fuel for cooking",
           "values": [
            7.6
           ]
          },
          {
           "axis": {
            "matches": true
           },
           "label": "Households using iodized salt",
           "values": [
            99
           ]
          },
          {
           "axis": {
            "matches": true
           },
           "label": "health_insurance",
           "values": [
            71.4
           ]
          }
         ],
         "hovertemplate": "India/States/UTs=Chattisgarh<br>%{xaxis.title.text}=%{x}<br>%{yaxis.title.text}=%{y}<extra></extra>",
         "legendgroup": "Chattisgarh",
         "marker": {
          "color": "#FFA15A",
          "symbol": "circle"
         },
         "name": "Chattisgarh",
         "showlegend": true,
         "type": "splom"
        },
        {
         "dimensions": [
          {
           "axis": {
            "matches": true
           },
           "label": "F_6above_school",
           "values": [
            64
           ]
          },
          {
           "axis": {
            "matches": true
           },
           "label": "Households with electricity",
           "values": [
            93.7
           ]
          },
          {
           "axis": {
            "matches": true
           },
           "label": "Households with an improved drinking-water",
           "values": [
            89.4
           ]
          },
          {
           "axis": {
            "matches": true
           },
           "label": "Households using improved sanitation facility",
           "values": [
            47
           ]
          },
          {
           "axis": {
            "matches": true
           },
           "label": "Households using clean fuel for cooking",
           "values": [
            26.9
           ]
          },
          {
           "axis": {
            "matches": true
           },
           "label": "Households using iodized salt",
           "values": [
            93.7
           ]
          },
          {
           "axis": {
            "matches": true
           },
           "label": "health_insurance",
           "values": [
            23.3
           ]
          }
         ],
         "hovertemplate": "India/States/UTs=Gujarat<br>%{xaxis.title.text}=%{x}<br>%{yaxis.title.text}=%{y}<extra></extra>",
         "legendgroup": "Gujarat",
         "marker": {
          "color": "#19d3f3",
          "symbol": "circle"
         },
         "name": "Gujarat",
         "showlegend": true,
         "type": "splom"
        },
        {
         "dimensions": [
          {
           "axis": {
            "matches": true
           },
           "label": "F_6above_school",
           "values": [
            65.6
           ]
          },
          {
           "axis": {
            "matches": true
           },
           "label": "Households with electricity",
           "values": [
            98.3
           ]
          },
          {
           "axis": {
            "matches": true
           },
           "label": "Households with an improved drinking-water",
           "values": [
            94.3
           ]
          },
          {
           "axis": {
            "matches": true
           },
           "label": "Households using improved sanitation facility",
           "values": [
            77.4
           ]
          },
          {
           "axis": {
            "matches": true
           },
           "label": "Households using clean fuel for cooking",
           "values": [
            28.9
           ]
          },
          {
           "axis": {
            "matches": true
           },
           "label": "Households using iodized salt",
           "values": [
            91.1
           ]
          },
          {
           "axis": {
            "matches": true
           },
           "label": "health_insurance",
           "values": [
            9.3
           ]
          }
         ],
         "hovertemplate": "India/States/UTs=Haryana<br>%{xaxis.title.text}=%{x}<br>%{yaxis.title.text}=%{y}<extra></extra>",
         "legendgroup": "Haryana",
         "marker": {
          "color": "#FF6692",
          "symbol": "circle"
         },
         "name": "Haryana",
         "showlegend": true,
         "type": "splom"
        },
        {
         "dimensions": [
          {
           "axis": {
            "matches": true
           },
           "label": "F_6above_school",
           "values": [
            55.7
           ]
          },
          {
           "axis": {
            "matches": true
           },
           "label": "Households with electricity",
           "values": [
            74.4
           ]
          },
          {
           "axis": {
            "matches": true
           },
           "label": "Households with an improved drinking-water",
           "values": [
            74
           ]
          },
          {
           "axis": {
            "matches": true
           },
           "label": "Households using improved sanitation facility",
           "values": [
            12.4
           ]
          },
          {
           "axis": {
            "matches": true
           },
           "label": "Households using clean fuel for cooking",
           "values": [
            6.3
           ]
          },
          {
           "axis": {
            "matches": true
           },
           "label": "Households using iodized salt",
           "values": [
            97.2
           ]
          },
          {
           "axis": {
            "matches": true
           },
           "label": "health_insurance",
           "values": [
            13.2
           ]
          }
         ],
         "hovertemplate": "India/States/UTs=Jharkhand<br>%{xaxis.title.text}=%{x}<br>%{yaxis.title.text}=%{y}<extra></extra>",
         "legendgroup": "Jharkhand",
         "marker": {
          "color": "#B6E880",
          "symbol": "circle"
         },
         "name": "Jharkhand",
         "showlegend": true,
         "type": "splom"
        },
        {
         "dimensions": [
          {
           "axis": {
            "matches": true
           },
           "label": "F_6above_school",
           "values": [
            63.1
           ]
          },
          {
           "axis": {
            "matches": true
           },
           "label": "Households with electricity",
           "values": [
            97
           ]
          },
          {
           "axis": {
            "matches": true
           },
           "label": "Households with an improved drinking-water",
           "values": [
            88.9
           ]
          },
          {
           "axis": {
            "matches": true
           },
           "label": "Households using improved sanitation facility",
           "values": [
            42.6
           ]
          },
          {
           "axis": {
            "matches": true
           },
           "label": "Households using clean fuel for cooking",
           "values": [
            32.1
           ]
          },
          {
           "axis": {
            "matches": true
           },
           "label": "Households using iodized salt",
           "values": [
            82
           ]
          },
          {
           "axis": {
            "matches": true
           },
           "label": "health_insurance",
           "values": [
            31.8
           ]
          }
         ],
         "hovertemplate": "India/States/UTs=Karnataka<br>%{xaxis.title.text}=%{x}<br>%{yaxis.title.text}=%{y}<extra></extra>",
         "legendgroup": "Karnataka",
         "marker": {
          "color": "#FF97FF",
          "symbol": "circle"
         },
         "name": "Karnataka",
         "showlegend": true,
         "type": "splom"
        },
        {
         "dimensions": [
          {
           "axis": {
            "matches": true
           },
           "label": "F_6above_school",
           "values": [
            94.5
           ]
          },
          {
           "axis": {
            "matches": true
           },
           "label": "Households with electricity",
           "values": [
            98.9
           ]
          },
          {
           "axis": {
            "matches": true
           },
           "label": "Households with an improved drinking-water",
           "values": [
            93
           ]
          },
          {
           "axis": {
            "matches": true
           },
           "label": "Households using improved sanitation facility",
           "values": [
            97.5
           ]
          },
          {
           "axis": {
            "matches": true
           },
           "label": "Households using clean fuel for cooking",
           "values": [
            50.6
           ]
          },
          {
           "axis": {
            "matches": true
           },
           "label": "Households using iodized salt",
           "values": [
            98.1
           ]
          },
          {
           "axis": {
            "matches": true
           },
           "label": "health_insurance",
           "values": [
            49.8
           ]
          }
         ],
         "hovertemplate": "India/States/UTs=Kerala<br>%{xaxis.title.text}=%{x}<br>%{yaxis.title.text}=%{y}<extra></extra>",
         "legendgroup": "Kerala",
         "marker": {
          "color": "#FECB52",
          "symbol": "circle"
         },
         "name": "Kerala",
         "showlegend": true,
         "type": "splom"
        },
        {
         "dimensions": [
          {
           "axis": {
            "matches": true
           },
           "label": "F_6above_school",
           "values": [
            58
           ]
          },
          {
           "axis": {
            "matches": true
           },
           "label": "Households with electricity",
           "values": [
            86.4
           ]
          },
          {
           "axis": {
            "matches": true
           },
           "label": "Households with an improved drinking-water",
           "values": [
            79.5
           ]
          },
          {
           "axis": {
            "matches": true
           },
           "label": "Households using improved sanitation facility",
           "values": [
            19.4
           ]
          },
          {
           "axis": {
            "matches": true
           },
           "label": "Households using clean fuel for cooking",
           "values": [
            9.9
           ]
          },
          {
           "axis": {
            "matches": true
           },
           "label": "Households using iodized salt",
           "values": [
            91.2
           ]
          },
          {
           "axis": {
            "matches": true
           },
           "label": "health_insurance",
           "values": [
            15.4
           ]
          }
         ],
         "hovertemplate": "India/States/UTs=Madhya Pradesh<br>%{xaxis.title.text}=%{x}<br>%{yaxis.title.text}=%{y}<extra></extra>",
         "legendgroup": "Madhya Pradesh",
         "marker": {
          "color": "#636efa",
          "symbol": "circle"
         },
         "name": "Madhya Pradesh",
         "showlegend": true,
         "type": "splom"
        },
        {
         "dimensions": [
          {
           "axis": {
            "matches": true
           },
           "label": "F_6above_school",
           "values": [
            70.3
           ]
          },
          {
           "axis": {
            "matches": true
           },
           "label": "Households with electricity",
           "values": [
            90
           ]
          },
          {
           "axis": {
            "matches": true
           },
           "label": "Households with an improved drinking-water",
           "values": [
            85.6
           ]
          },
          {
           "axis": {
            "matches": true
           },
           "label": "Households using improved sanitation facility",
           "values": [
            44.2
           ]
          },
          {
           "axis": {
            "matches": true
           },
           "label": "Households using clean fuel for cooking",
           "values": [
            33.7
           ]
          },
          {
           "axis": {
            "matches": true
           },
           "label": "Households using iodized salt",
           "values": [
            94.4
           ]
          },
          {
           "axis": {
            "matches": true
           },
           "label": "health_insurance",
           "values": [
            13.8
           ]
          }
         ],
         "hovertemplate": "India/States/UTs=Maharashtra<br>%{xaxis.title.text}=%{x}<br>%{yaxis.title.text}=%{y}<extra></extra>",
         "legendgroup": "Maharashtra",
         "marker": {
          "color": "#EF553B",
          "symbol": "circle"
         },
         "name": "Maharashtra",
         "showlegend": true,
         "type": "splom"
        },
        {
         "dimensions": [
          {
           "axis": {
            "matches": true
           },
           "label": "F_6above_school",
           "values": [
            65.3
           ]
          },
          {
           "axis": {
            "matches": true
           },
           "label": "Households with electricity",
           "values": [
            83.8
           ]
          },
          {
           "axis": {
            "matches": true
           },
           "label": "Households with an improved drinking-water",
           "values": [
            87.5
           ]
          },
          {
           "axis": {
            "matches": true
           },
           "label": "Households using improved sanitation facility",
           "values": [
            23
           ]
          },
          {
           "axis": {
            "matches": true
           },
           "label": "Households using clean fuel for cooking",
           "values": [
            10.7
           ]
          },
          {
           "axis": {
            "matches": true
           },
           "label": "Households using iodized salt",
           "values": [
            92
           ]
          },
          {
           "axis": {
            "matches": true
           },
           "label": "health_insurance",
           "values": [
            51.9
           ]
          }
         ],
         "hovertemplate": "India/States/UTs=Odisha<br>%{xaxis.title.text}=%{x}<br>%{yaxis.title.text}=%{y}<extra></extra>",
         "legendgroup": "Odisha",
         "marker": {
          "color": "#00cc96",
          "symbol": "circle"
         },
         "name": "Odisha",
         "showlegend": true,
         "type": "splom"
        },
        {
         "dimensions": [
          {
           "axis": {
            "matches": true
           },
           "label": "F_6above_school",
           "values": [
            71.4
           ]
          },
          {
           "axis": {
            "matches": true
           },
           "label": "Households with electricity",
           "values": [
            99.6
           ]
          },
          {
           "axis": {
            "matches": true
           },
           "label": "Households with an improved drinking-water",
           "values": [
            99
           ]
          },
          {
           "axis": {
            "matches": true
           },
           "label": "Households using improved sanitation facility",
           "values": [
            79.1
           ]
          },
          {
           "axis": {
            "matches": true
           },
           "label": "Households using clean fuel for cooking",
           "values": [
            49.4
           ]
          },
          {
           "axis": {
            "matches": true
           },
           "label": "Households using iodized salt",
           "values": [
            98.1
           ]
          },
          {
           "axis": {
            "matches": true
           },
           "label": "health_insurance",
           "values": [
            22.1
           ]
          }
         ],
         "hovertemplate": "India/States/UTs=Punjab<br>%{xaxis.title.text}=%{x}<br>%{yaxis.title.text}=%{y}<extra></extra>",
         "legendgroup": "Punjab",
         "marker": {
          "color": "#ab63fa",
          "symbol": "circle"
         },
         "name": "Punjab",
         "showlegend": true,
         "type": "splom"
        },
        {
         "dimensions": [
          {
           "axis": {
            "matches": true
           },
           "label": "F_6above_school",
           "values": [
            52
           ]
          },
          {
           "axis": {
            "matches": true
           },
           "label": "Households with electricity",
           "values": [
            88.4
           ]
          },
          {
           "axis": {
            "matches": true
           },
           "label": "Households with an improved drinking-water",
           "values": [
            83.3
           ]
          },
          {
           "axis": {
            "matches": true
           },
           "label": "Households using improved sanitation facility",
           "values": [
            35.6
           ]
          },
          {
           "axis": {
            "matches": true
           },
           "label": "Households using clean fuel for cooking",
           "values": [
            15.2
           ]
          },
          {
           "axis": {
            "matches": true
           },
           "label": "Households using iodized salt",
           "values": [
            92
           ]
          },
          {
           "axis": {
            "matches": true
           },
           "label": "health_insurance",
           "values": [
            18.5
           ]
          }
         ],
         "hovertemplate": "India/States/UTs=Rajasthan<br>%{xaxis.title.text}=%{x}<br>%{yaxis.title.text}=%{y}<extra></extra>",
         "legendgroup": "Rajasthan",
         "marker": {
          "color": "#FFA15A",
          "symbol": "circle"
         },
         "name": "Rajasthan",
         "showlegend": true,
         "type": "splom"
        },
        {
         "dimensions": [
          {
           "axis": {
            "matches": true
           },
           "label": "F_6above_school",
           "values": [
            70.7
           ]
          },
          {
           "axis": {
            "matches": true
           },
           "label": "Households with electricity",
           "values": [
            98.3
           ]
          },
          {
           "axis": {
            "matches": true
           },
           "label": "Households with an improved drinking-water",
           "values": [
            94.5
           ]
          },
          {
           "axis": {
            "matches": true
           },
           "label": "Households using improved sanitation facility",
           "values": [
            34
           ]
          },
          {
           "axis": {
            "matches": true
           },
           "label": "Households using clean fuel for cooking",
           "values": [
            58
           ]
          },
          {
           "axis": {
            "matches": true
           },
           "label": "Households using iodized salt",
           "values": [
            76.2
           ]
          },
          {
           "axis": {
            "matches": true
           },
           "label": "health_insurance",
           "values": [
            69.1
           ]
          }
         ],
         "hovertemplate": "India/States/UTs=Tamil Nadu<br>%{xaxis.title.text}=%{x}<br>%{yaxis.title.text}=%{y}<extra></extra>",
         "legendgroup": "Tamil Nadu",
         "marker": {
          "color": "#19d3f3",
          "symbol": "circle"
         },
         "name": "Tamil Nadu",
         "showlegend": true,
         "type": "splom"
        },
        {
         "dimensions": [
          {
           "axis": {
            "matches": true
           },
           "label": "F_6above_school",
           "values": [
            50.4
           ]
          },
          {
           "axis": {
            "matches": true
           },
           "label": "Households with electricity",
           "values": [
            97.2
           ]
          },
          {
           "axis": {
            "matches": true
           },
           "label": "Households with an improved drinking-water",
           "values": [
            75.6
           ]
          },
          {
           "axis": {
            "matches": true
           },
           "label": "Households using improved sanitation facility",
           "values": [
            38.9
           ]
          },
          {
           "axis": {
            "matches": true
           },
           "label": "Households using clean fuel for cooking",
           "values": [
            48.2
           ]
          },
          {
           "axis": {
            "matches": true
           },
           "label": "Households using iodized salt",
           "values": [
            93
           ]
          },
          {
           "axis": {
            "matches": true
           },
           "label": "health_insurance",
           "values": [
            76.7
           ]
          }
         ],
         "hovertemplate": "India/States/UTs=Telangana<br>%{xaxis.title.text}=%{x}<br>%{yaxis.title.text}=%{y}<extra></extra>",
         "legendgroup": "Telangana",
         "marker": {
          "color": "#FF6692",
          "symbol": "circle"
         },
         "name": "Telangana",
         "showlegend": true,
         "type": "splom"
        },
        {
         "dimensions": [
          {
           "axis": {
            "matches": true
           },
           "label": "F_6above_school",
           "values": [
            59.6
           ]
          },
          {
           "axis": {
            "matches": true
           },
           "label": "Households with electricity",
           "values": [
            62.3
           ]
          },
          {
           "axis": {
            "matches": true
           },
           "label": "Households with an improved drinking-water",
           "values": [
            97.8
           ]
          },
          {
           "axis": {
            "matches": true
           },
           "label": "Households using improved sanitation facility",
           "values": [
            23.2
           ]
          },
          {
           "axis": {
            "matches": true
           },
           "label": "Households using clean fuel for cooking",
           "values": [
            16.4
           ]
          },
          {
           "axis": {
            "matches": true
           },
           "label": "Households using iodized salt",
           "values": [
            92.4
           ]
          },
          {
           "axis": {
            "matches": true
           },
           "label": "health_insurance",
           "values": [
            5.4
           ]
          }
         ],
         "hovertemplate": "India/States/UTs=Uttar Pradesh<br>%{xaxis.title.text}=%{x}<br>%{yaxis.title.text}=%{y}<extra></extra>",
         "legendgroup": "Uttar Pradesh",
         "marker": {
          "color": "#B6E880",
          "symbol": "circle"
         },
         "name": "Uttar Pradesh",
         "showlegend": true,
         "type": "splom"
        },
        {
         "dimensions": [
          {
           "axis": {
            "matches": true
           },
           "label": "F_6above_school",
           "values": [
            70.4
           ]
          },
          {
           "axis": {
            "matches": true
           },
           "label": "Households with electricity",
           "values": [
            92
           ]
          },
          {
           "axis": {
            "matches": true
           },
           "label": "Households with an improved drinking-water",
           "values": [
            95.1
           ]
          },
          {
           "axis": {
            "matches": true
           },
           "label": "Households using improved sanitation facility",
           "values": [
            45.5
           ]
          },
          {
           "axis": {
            "matches": true
           },
           "label": "Households using clean fuel for cooking",
           "values": [
            11.3
           ]
          },
          {
           "axis": {
            "matches": true
           },
           "label": "Households using iodized salt",
           "values": [
            93
           ]
          },
          {
           "axis": {
            "matches": true
           },
           "label": "health_insurance",
           "values": [
            36.1
           ]
          }
         ],
         "hovertemplate": "India/States/UTs=West Bengal<br>%{xaxis.title.text}=%{x}<br>%{yaxis.title.text}=%{y}<extra></extra>",
         "legendgroup": "West Bengal",
         "marker": {
          "color": "#FF97FF",
          "symbol": "circle"
         },
         "name": "West Bengal",
         "showlegend": true,
         "type": "splom"
        },
        {
         "dimensions": [
          {
           "axis": {
            "matches": true
           },
           "label": "F_6above_school",
           "values": [
            62.5
           ]
          },
          {
           "axis": {
            "matches": true
           },
           "label": "Households with electricity",
           "values": [
            85
           ]
          },
          {
           "axis": {
            "matches": true
           },
           "label": "Households with an improved drinking-water",
           "values": [
            85
           ]
          },
          {
           "axis": {
            "matches": true
           },
           "label": "Households using improved sanitation facility",
           "values": [
            57.1
           ]
          },
          {
           "axis": {
            "matches": true
           },
           "label": "Households using clean fuel for cooking",
           "values": [
            30
           ]
          },
          {
           "axis": {
            "matches": true
           },
           "label": "Households using iodized salt",
           "values": [
            99.3
           ]
          },
          {
           "axis": {
            "matches": true
           },
           "label": "health_insurance",
           "values": [
            59.7
           ]
          }
         ],
         "hovertemplate": "India/States/UTs=Arunachal Pradesh<br>%{xaxis.title.text}=%{x}<br>%{yaxis.title.text}=%{y}<extra></extra>",
         "legendgroup": "Arunachal Pradesh",
         "marker": {
          "color": "#FECB52",
          "symbol": "circle"
         },
         "name": "Arunachal Pradesh",
         "showlegend": true,
         "type": "splom"
        },
        {
         "dimensions": [
          {
           "axis": {
            "matches": true
           },
           "label": "F_6above_school",
           "values": [
            78.5
           ]
          },
          {
           "axis": {
            "matches": true
           },
           "label": "Households with electricity",
           "values": [
            100
           ]
          },
          {
           "axis": {
            "matches": true
           },
           "label": "Households with an improved drinking-water",
           "values": [
            69.7
           ]
          },
          {
           "axis": {
            "matches": true
           },
           "label": "Households using improved sanitation facility",
           "values": [
            87.7
           ]
          },
          {
           "axis": {
            "matches": true
           },
           "label": "Households using clean fuel for cooking",
           "values": [
            80.8
           ]
          },
          {
           "axis": {
            "matches": true
           },
           "label": "Households using iodized salt",
           "values": [
            99.5
           ]
          },
          {
           "axis": {
            "matches": true
           },
           "label": "health_insurance",
           "values": [
            15.6
           ]
          }
         ],
         "hovertemplate": "India/States/UTs=Delhi<br>%{xaxis.title.text}=%{x}<br>%{yaxis.title.text}=%{y}<extra></extra>",
         "legendgroup": "Delhi",
         "marker": {
          "color": "#636efa",
          "symbol": "circle"
         },
         "name": "Delhi",
         "showlegend": true,
         "type": "splom"
        },
        {
         "dimensions": [
          {
           "axis": {
            "matches": true
           },
           "label": "F_6above_school",
           "values": [
            81.6
           ]
          },
          {
           "axis": {
            "matches": true
           },
           "label": "Households with electricity",
           "values": [
            99.9
           ]
          },
          {
           "axis": {
            "matches": true
           },
           "label": "Households with an improved drinking-water",
           "values": [
            93.7
           ]
          },
          {
           "axis": {
            "matches": true
           },
           "label": "Households using improved sanitation facility",
           "values": [
            80.8
           ]
          },
          {
           "axis": {
            "matches": true
           },
           "label": "Households using clean fuel for cooking",
           "values": [
            72
           ]
          },
          {
           "axis": {
            "matches": true
           },
           "label": "Households using iodized salt",
           "values": [
            92.5
           ]
          },
          {
           "axis": {
            "matches": true
           },
           "label": "health_insurance",
           "values": [
            11.4
           ]
          }
         ],
         "hovertemplate": "India/States/UTs=Goa<br>%{xaxis.title.text}=%{x}<br>%{yaxis.title.text}=%{y}<extra></extra>",
         "legendgroup": "Goa",
         "marker": {
          "color": "#EF553B",
          "symbol": "circle"
         },
         "name": "Goa",
         "showlegend": true,
         "type": "splom"
        },
        {
         "dimensions": [
          {
           "axis": {
            "matches": true
           },
           "label": "F_6above_school",
           "values": [
            77.9
           ]
          },
          {
           "axis": {
            "matches": true
           },
           "label": "Households with electricity",
           "values": [
            99.5
           ]
          },
          {
           "axis": {
            "matches": true
           },
           "label": "Households with an improved drinking-water",
           "values": [
            94.9
           ]
          },
          {
           "axis": {
            "matches": true
           },
           "label": "Households using improved sanitation facility",
           "values": [
            69.6
           ]
          },
          {
           "axis": {
            "matches": true
           },
           "label": "Households using clean fuel for cooking",
           "values": [
            30
           ]
          },
          {
           "axis": {
            "matches": true
           },
           "label": "Households using iodized salt",
           "values": [
            99.1
           ]
          },
          {
           "axis": {
            "matches": true
           },
           "label": "health_insurance",
           "values": [
            26.3
           ]
          }
         ],
         "hovertemplate": "India/States/UTs=Himachal Pradesh<br>%{xaxis.title.text}=%{x}<br>%{yaxis.title.text}=%{y}<extra></extra>",
         "legendgroup": "Himachal Pradesh",
         "marker": {
          "color": "#00cc96",
          "symbol": "circle"
         },
         "name": "Himachal Pradesh",
         "showlegend": true,
         "type": "splom"
        },
        {
         "dimensions": [
          {
           "axis": {
            "matches": true
           },
           "label": "F_6above_school",
           "values": [
            63
           ]
          },
          {
           "axis": {
            "matches": true
           },
           "label": "Households with electricity",
           "values": [
            96.3
           ]
          },
          {
           "axis": {
            "matches": true
           },
           "label": "Households with an improved drinking-water",
           "values": [
            85
           ]
          },
          {
           "axis": {
            "matches": true
           },
           "label": "Households using improved sanitation facility",
           "values": [
            45.9
           ]
          },
          {
           "axis": {
            "matches": true
           },
           "label": "Households using clean fuel for cooking",
           "values": [
            41.6
           ]
          },
          {
           "axis": {
            "matches": true
           },
           "label": "Households using iodized salt",
           "values": [
            93.5
           ]
          },
          {
           "axis": {
            "matches": true
           },
           "label": "health_insurance",
           "values": [
            3.4
           ]
          }
         ],
         "hovertemplate": "India/States/UTs=Jammu & Kashmir<br>%{xaxis.title.text}=%{x}<br>%{yaxis.title.text}=%{y}<extra></extra>",
         "legendgroup": "Jammu & Kashmir",
         "marker": {
          "color": "#ab63fa",
          "symbol": "circle"
         },
         "name": "Jammu & Kashmir",
         "showlegend": true,
         "type": "splom"
        },
        {
         "dimensions": [
          {
           "axis": {
            "matches": true
           },
           "label": "F_6above_school",
           "values": [
            79
           ]
          },
          {
           "axis": {
            "matches": true
           },
           "label": "Households with electricity",
           "values": [
            90.1
           ]
          },
          {
           "axis": {
            "matches": true
           },
           "label": "Households with an improved drinking-water",
           "values": [
            38
           ]
          },
          {
           "axis": {
            "matches": true
           },
           "label": "Households using improved sanitation facility",
           "values": [
            51.3
           ]
          },
          {
           "axis": {
            "matches": true
           },
           "label": "Households using clean fuel for cooking",
           "values": [
            28
           ]
          },
          {
           "axis": {
            "matches": true
           },
           "label": "Households using iodized salt",
           "values": [
            99.4
           ]
          },
          {
           "axis": {
            "matches": true
           },
           "label": "health_insurance",
           "values": [
            3.7
           ]
          }
         ],
         "hovertemplate": "India/States/UTs=Manipur<br>%{xaxis.title.text}=%{x}<br>%{yaxis.title.text}=%{y}<extra></extra>",
         "legendgroup": "Manipur",
         "marker": {
          "color": "#FFA15A",
          "symbol": "circle"
         },
         "name": "Manipur",
         "showlegend": true,
         "type": "splom"
        },
        {
         "dimensions": [
          {
           "axis": {
            "matches": true
           },
           "label": "F_6above_school",
           "values": [
            80.2
           ]
          },
          {
           "axis": {
            "matches": true
           },
           "label": "Households with electricity",
           "values": [
            89.2
           ]
          },
          {
           "axis": {
            "matches": true
           },
           "label": "Households with an improved drinking-water",
           "values": [
            62.9
           ]
          },
          {
           "axis": {
            "matches": true
           },
           "label": "Households using improved sanitation facility",
           "values": [
            58.1
           ]
          },
          {
           "axis": {
            "matches": true
           },
           "label": "Households using clean fuel for cooking",
           "values": [
            9.3
           ]
          },
          {
           "axis": {
            "matches": true
           },
           "label": "Households using iodized salt",
           "values": [
            99.3
           ]
          },
          {
           "axis": {
            "matches": true
           },
           "label": "health_insurance",
           "values": [
            37.9
           ]
          }
         ],
         "hovertemplate": "India/States/UTs=Meghalaya<br>%{xaxis.title.text}=%{x}<br>%{yaxis.title.text}=%{y}<extra></extra>",
         "legendgroup": "Meghalaya",
         "marker": {
          "color": "#19d3f3",
          "symbol": "circle"
         },
         "name": "Meghalaya",
         "showlegend": true,
         "type": "splom"
        },
        {
         "dimensions": [
          {
           "axis": {
            "matches": true
           },
           "label": "F_6above_school",
           "values": [
            84.3
           ]
          },
          {
           "axis": {
            "matches": true
           },
           "label": "Households with electricity",
           "values": [
            90.5
           ]
          },
          {
           "axis": {
            "matches": true
           },
           "label": "Households with an improved drinking-water",
           "values": [
            87.8
           ]
          },
          {
           "axis": {
            "matches": true
           },
           "label": "Households using improved sanitation facility",
           "values": [
            73.1
           ]
          },
          {
           "axis": {
            "matches": true
           },
           "label": "Households using clean fuel for cooking",
           "values": [
            29.9
           ]
          },
          {
           "axis": {
            "matches": true
           },
           "label": "Households using iodized salt",
           "values": [
            98.6
           ]
          },
          {
           "axis": {
            "matches": true
           },
           "label": "health_insurance",
           "values": [
            49.9
           ]
          }
         ],
         "hovertemplate": "India/States/UTs=Mizoram<br>%{xaxis.title.text}=%{x}<br>%{yaxis.title.text}=%{y}<extra></extra>",
         "legendgroup": "Mizoram",
         "marker": {
          "color": "#FF6692",
          "symbol": "circle"
         },
         "name": "Mizoram",
         "showlegend": true,
         "type": "splom"
        },
        {
         "dimensions": [
          {
           "axis": {
            "matches": true
           },
           "label": "F_6above_school",
           "values": [
            75.6
           ]
          },
          {
           "axis": {
            "matches": true
           },
           "label": "Households with electricity",
           "values": [
            95.6
           ]
          },
          {
           "axis": {
            "matches": true
           },
           "label": "Households with an improved drinking-water",
           "values": [
            80.9
           ]
          },
          {
           "axis": {
            "matches": true
           },
           "label": "Households using improved sanitation facility",
           "values": [
            79
           ]
          },
          {
           "axis": {
            "matches": true
           },
           "label": "Households using clean fuel for cooking",
           "values": [
            14.4
           ]
          },
          {
           "axis": {
            "matches": true
           },
           "label": "Households using iodized salt",
           "values": [
            99.4
           ]
          },
          {
           "axis": {
            "matches": true
           },
           "label": "health_insurance",
           "values": [
            7
           ]
          }
         ],
         "hovertemplate": "India/States/UTs=Nagaland<br>%{xaxis.title.text}=%{x}<br>%{yaxis.title.text}=%{y}<extra></extra>",
         "legendgroup": "Nagaland",
         "marker": {
          "color": "#B6E880",
          "symbol": "circle"
         },
         "name": "Nagaland",
         "showlegend": true,
         "type": "splom"
        },
        {
         "dimensions": [
          {
           "axis": {
            "matches": true
           },
           "label": "F_6above_school",
           "values": [
            77.2
           ]
          },
          {
           "axis": {
            "matches": true
           },
           "label": "Households with electricity",
           "values": [
            99.6
           ]
          },
          {
           "axis": {
            "matches": true
           },
           "label": "Households with an improved drinking-water",
           "values": [
            96.8
           ]
          },
          {
           "axis": {
            "matches": true
           },
           "label": "Households using improved sanitation facility",
           "values": [
            94.2
           ]
          },
          {
           "axis": {
            "matches": true
           },
           "label": "Households using clean fuel for cooking",
           "values": [
            42.4
           ]
          },
          {
           "axis": {
            "matches": true
           },
           "label": "Households using iodized salt",
           "values": [
            99.5
           ]
          },
          {
           "axis": {
            "matches": true
           },
           "label": "health_insurance",
           "values": [
            29.2
           ]
          }
         ],
         "hovertemplate": "India/States/UTs=Sikkim<br>%{xaxis.title.text}=%{x}<br>%{yaxis.title.text}=%{y}<extra></extra>",
         "legendgroup": "Sikkim",
         "marker": {
          "color": "#FF97FF",
          "symbol": "circle"
         },
         "name": "Sikkim",
         "showlegend": true,
         "type": "splom"
        },
        {
         "dimensions": [
          {
           "axis": {
            "matches": true
           },
           "label": "F_6above_school",
           "values": [
            78.7
           ]
          },
          {
           "axis": {
            "matches": true
           },
           "label": "Households with electricity",
           "values": [
            90
           ]
          },
          {
           "axis": {
            "matches": true
           },
           "label": "Households with an improved drinking-water",
           "values": [
            82.8
           ]
          },
          {
           "axis": {
            "matches": true
           },
           "label": "Households using improved sanitation facility",
           "values": [
            59.6
           ]
          },
          {
           "axis": {
            "matches": true
           },
           "label": "Households using clean fuel for cooking",
           "values": [
            16
           ]
          },
          {
           "axis": {
            "matches": true
           },
           "label": "Households using iodized salt",
           "values": [
            98.8
           ]
          },
          {
           "axis": {
            "matches": true
           },
           "label": "health_insurance",
           "values": [
            69.5
           ]
          }
         ],
         "hovertemplate": "India/States/UTs=Tripura<br>%{xaxis.title.text}=%{x}<br>%{yaxis.title.text}=%{y}<extra></extra>",
         "legendgroup": "Tripura",
         "marker": {
          "color": "#FECB52",
          "symbol": "circle"
         },
         "name": "Tripura",
         "showlegend": true,
         "type": "splom"
        },
        {
         "dimensions": [
          {
           "axis": {
            "matches": true
           },
           "label": "F_6above_school",
           "values": [
            68.9
           ]
          },
          {
           "axis": {
            "matches": true
           },
           "label": "Households with electricity",
           "values": [
            96.5
           ]
          },
          {
           "axis": {
            "matches": true
           },
           "label": "Households with an improved drinking-water",
           "values": [
            89.5
           ]
          },
          {
           "axis": {
            "matches": true
           },
           "label": "Households using improved sanitation facility",
           "values": [
            59.6
           ]
          },
          {
           "axis": {
            "matches": true
           },
           "label": "Households using clean fuel for cooking",
           "values": [
            31.1
           ]
          },
          {
           "axis": {
            "matches": true
           },
           "label": "Households using iodized salt",
           "values": [
            93.5
           ]
          },
          {
           "axis": {
            "matches": true
           },
           "label": "health_insurance",
           "values": [
            19.8
           ]
          }
         ],
         "hovertemplate": "India/States/UTs=Uttarakhand<br>%{xaxis.title.text}=%{x}<br>%{yaxis.title.text}=%{y}<extra></extra>",
         "legendgroup": "Uttarakhand",
         "marker": {
          "color": "#636efa",
          "symbol": "circle"
         },
         "name": "Uttarakhand",
         "showlegend": true,
         "type": "splom"
        },
        {
         "dimensions": [
          {
           "axis": {
            "matches": true
           },
           "label": "F_6above_school",
           "values": [
            82.6
           ]
          },
          {
           "axis": {
            "matches": true
           },
           "label": "Households with electricity",
           "values": [
            95
           ]
          },
          {
           "axis": {
            "matches": true
           },
           "label": "Households with an improved drinking-water",
           "values": [
            89.9
           ]
          },
          {
           "axis": {
            "matches": true
           },
           "label": "Households using improved sanitation facility",
           "values": [
            64.4
           ]
          },
          {
           "axis": {
            "matches": true
           },
           "label": "Households using clean fuel for cooking",
           "values": [
            47.2
           ]
          },
          {
           "axis": {
            "matches": true
           },
           "label": "Households using iodized salt",
           "values": [
            99.5
           ]
          },
          {
           "axis": {
            "matches": true
           },
           "label": "health_insurance",
           "values": [
            4.1
           ]
          }
         ],
         "hovertemplate": "India/States/UTs=Andaman and Nicobar Islands<br>%{xaxis.title.text}=%{x}<br>%{yaxis.title.text}=%{y}<extra></extra>",
         "legendgroup": "Andaman and Nicobar Islands",
         "marker": {
          "color": "#EF553B",
          "symbol": "circle"
         },
         "name": "Andaman and Nicobar Islands",
         "showlegend": true,
         "type": "splom"
        },
        {
         "dimensions": [
          {
           "axis": {
            "matches": true
           },
           "label": "F_6above_school",
           "values": [
            56.8
           ]
          },
          {
           "axis": {
            "matches": true
           },
           "label": "Households with electricity",
           "values": [
            95.5
           ]
          },
          {
           "axis": {
            "matches": true
           },
           "label": "Households with an improved drinking-water",
           "values": [
            74.7
           ]
          },
          {
           "axis": {
            "matches": true
           },
           "label": "Households using improved sanitation facility",
           "values": [
            11.7
           ]
          },
          {
           "axis": {
            "matches": true
           },
           "label": "Households using clean fuel for cooking",
           "values": [
            22.3
           ]
          },
          {
           "axis": {
            "matches": true
           },
           "label": "Households using iodized salt",
           "values": [
            44.7
           ]
          },
          {
           "axis": {
            "matches": true
           },
           "label": "health_insurance",
           "values": [
            21.3
           ]
          }
         ],
         "hovertemplate": "India/States/UTs=Dadra and Nagar Haveli<br>%{xaxis.title.text}=%{x}<br>%{yaxis.title.text}=%{y}<extra></extra>",
         "legendgroup": "Dadra and Nagar Haveli",
         "marker": {
          "color": "#00cc96",
          "symbol": "circle"
         },
         "name": "Dadra and Nagar Haveli",
         "showlegend": true,
         "type": "splom"
        },
        {
         "dimensions": [
          {
           "axis": {
            "matches": true
           },
           "label": "F_6above_school",
           "values": [
            74.6
           ]
          },
          {
           "axis": {
            "matches": true
           },
           "label": "Households with electricity",
           "values": [
            99.8
           ]
          },
          {
           "axis": {
            "matches": true
           },
           "label": "Households with an improved drinking-water",
           "values": [
            88
           ]
          },
          {
           "axis": {
            "matches": true
           },
           "label": "Households using improved sanitation facility",
           "values": [
            68.5
           ]
          },
          {
           "axis": {
            "matches": true
           },
           "label": "Households using clean fuel for cooking",
           "values": [
            65.6
           ]
          },
          {
           "axis": {
            "matches": true
           },
           "label": "Households using iodized salt",
           "values": [
            89
           ]
          },
          {
           "axis": {
            "matches": true
           },
           "label": "health_insurance",
           "values": [
            20.4
           ]
          }
         ],
         "hovertemplate": "India/States/UTs=Daman and Diu<br>%{xaxis.title.text}=%{x}<br>%{yaxis.title.text}=%{y}<extra></extra>",
         "legendgroup": "Daman and Diu",
         "marker": {
          "color": "#ab63fa",
          "symbol": "circle"
         },
         "name": "Daman and Diu",
         "showlegend": true,
         "type": "splom"
        },
        {
         "dimensions": [
          {
           "axis": {
            "matches": true
           },
           "label": "F_6above_school",
           "values": [
            96.9
           ]
          },
          {
           "axis": {
            "matches": true
           },
           "label": "Households with electricity",
           "values": [
            100
           ]
          },
          {
           "axis": {
            "matches": true
           },
           "label": "Households with an improved drinking-water",
           "values": [
            97.1
           ]
          },
          {
           "axis": {
            "matches": true
           },
           "label": "Households using improved sanitation facility",
           "values": [
            99.6
           ]
          },
          {
           "axis": {
            "matches": true
           },
           "label": "Households using clean fuel for cooking",
           "values": [
            16.5
           ]
          },
          {
           "axis": {
            "matches": true
           },
           "label": "Households using iodized salt",
           "values": [
            99.4
           ]
          },
          {
           "axis": {
            "matches": true
           },
           "label": "health_insurance",
           "values": [
            0
           ]
          }
         ],
         "hovertemplate": "India/States/UTs=Lakshadweep<br>%{xaxis.title.text}=%{x}<br>%{yaxis.title.text}=%{y}<extra></extra>",
         "legendgroup": "Lakshadweep",
         "marker": {
          "color": "#FFA15A",
          "symbol": "circle"
         },
         "name": "Lakshadweep",
         "showlegend": true,
         "type": "splom"
        },
        {
         "dimensions": [
          {
           "axis": {
            "matches": true
           },
           "label": "F_6above_school",
           "values": [
            77.7
           ]
          },
          {
           "axis": {
            "matches": true
           },
           "label": "Households with electricity",
           "values": [
            99.2
           ]
          },
          {
           "axis": {
            "matches": true
           },
           "label": "Households with an improved drinking-water",
           "values": [
            99
           ]
          },
          {
           "axis": {
            "matches": true
           },
           "label": "Households using improved sanitation facility",
           "values": [
            46.1
           ]
          },
          {
           "axis": {
            "matches": true
           },
           "label": "Households using clean fuel for cooking",
           "values": [
            69.4
           ]
          },
          {
           "axis": {
            "matches": true
           },
           "label": "Households using iodized salt",
           "values": [
            84.4
           ]
          },
          {
           "axis": {
            "matches": true
           },
           "label": "health_insurance",
           "values": [
            20.9
           ]
          }
         ],
         "hovertemplate": "India/States/UTs=Puducherry<br>%{xaxis.title.text}=%{x}<br>%{yaxis.title.text}=%{y}<extra></extra>",
         "legendgroup": "Puducherry",
         "marker": {
          "color": "#19d3f3",
          "symbol": "circle"
         },
         "name": "Puducherry",
         "showlegend": true,
         "type": "splom"
        }
       ],
       "layout": {
        "dragmode": "select",
        "legend": {
         "title": {
          "text": "India/States/UTs"
         },
         "tracegroupgap": 0
        },
        "margin": {
         "t": 60
        },
        "template": {
         "data": {
          "bar": [
           {
            "error_x": {
             "color": "#2a3f5f"
            },
            "error_y": {
             "color": "#2a3f5f"
            },
            "marker": {
             "line": {
              "color": "#E5ECF6",
              "width": 0.5
             }
            },
            "type": "bar"
           }
          ],
          "barpolar": [
           {
            "marker": {
             "line": {
              "color": "#E5ECF6",
              "width": 0.5
             }
            },
            "type": "barpolar"
           }
          ],
          "carpet": [
           {
            "aaxis": {
             "endlinecolor": "#2a3f5f",
             "gridcolor": "white",
             "linecolor": "white",
             "minorgridcolor": "white",
             "startlinecolor": "#2a3f5f"
            },
            "baxis": {
             "endlinecolor": "#2a3f5f",
             "gridcolor": "white",
             "linecolor": "white",
             "minorgridcolor": "white",
             "startlinecolor": "#2a3f5f"
            },
            "type": "carpet"
           }
          ],
          "choropleth": [
           {
            "colorbar": {
             "outlinewidth": 0,
             "ticks": ""
            },
            "type": "choropleth"
           }
          ],
          "contour": [
           {
            "colorbar": {
             "outlinewidth": 0,
             "ticks": ""
            },
            "colorscale": [
             [
              0,
              "#0d0887"
             ],
             [
              0.1111111111111111,
              "#46039f"
             ],
             [
              0.2222222222222222,
              "#7201a8"
             ],
             [
              0.3333333333333333,
              "#9c179e"
             ],
             [
              0.4444444444444444,
              "#bd3786"
             ],
             [
              0.5555555555555556,
              "#d8576b"
             ],
             [
              0.6666666666666666,
              "#ed7953"
             ],
             [
              0.7777777777777778,
              "#fb9f3a"
             ],
             [
              0.8888888888888888,
              "#fdca26"
             ],
             [
              1,
              "#f0f921"
             ]
            ],
            "type": "contour"
           }
          ],
          "contourcarpet": [
           {
            "colorbar": {
             "outlinewidth": 0,
             "ticks": ""
            },
            "type": "contourcarpet"
           }
          ],
          "heatmap": [
           {
            "colorbar": {
             "outlinewidth": 0,
             "ticks": ""
            },
            "colorscale": [
             [
              0,
              "#0d0887"
             ],
             [
              0.1111111111111111,
              "#46039f"
             ],
             [
              0.2222222222222222,
              "#7201a8"
             ],
             [
              0.3333333333333333,
              "#9c179e"
             ],
             [
              0.4444444444444444,
              "#bd3786"
             ],
             [
              0.5555555555555556,
              "#d8576b"
             ],
             [
              0.6666666666666666,
              "#ed7953"
             ],
             [
              0.7777777777777778,
              "#fb9f3a"
             ],
             [
              0.8888888888888888,
              "#fdca26"
             ],
             [
              1,
              "#f0f921"
             ]
            ],
            "type": "heatmap"
           }
          ],
          "heatmapgl": [
           {
            "colorbar": {
             "outlinewidth": 0,
             "ticks": ""
            },
            "colorscale": [
             [
              0,
              "#0d0887"
             ],
             [
              0.1111111111111111,
              "#46039f"
             ],
             [
              0.2222222222222222,
              "#7201a8"
             ],
             [
              0.3333333333333333,
              "#9c179e"
             ],
             [
              0.4444444444444444,
              "#bd3786"
             ],
             [
              0.5555555555555556,
              "#d8576b"
             ],
             [
              0.6666666666666666,
              "#ed7953"
             ],
             [
              0.7777777777777778,
              "#fb9f3a"
             ],
             [
              0.8888888888888888,
              "#fdca26"
             ],
             [
              1,
              "#f0f921"
             ]
            ],
            "type": "heatmapgl"
           }
          ],
          "histogram": [
           {
            "marker": {
             "colorbar": {
              "outlinewidth": 0,
              "ticks": ""
             }
            },
            "type": "histogram"
           }
          ],
          "histogram2d": [
           {
            "colorbar": {
             "outlinewidth": 0,
             "ticks": ""
            },
            "colorscale": [
             [
              0,
              "#0d0887"
             ],
             [
              0.1111111111111111,
              "#46039f"
             ],
             [
              0.2222222222222222,
              "#7201a8"
             ],
             [
              0.3333333333333333,
              "#9c179e"
             ],
             [
              0.4444444444444444,
              "#bd3786"
             ],
             [
              0.5555555555555556,
              "#d8576b"
             ],
             [
              0.6666666666666666,
              "#ed7953"
             ],
             [
              0.7777777777777778,
              "#fb9f3a"
             ],
             [
              0.8888888888888888,
              "#fdca26"
             ],
             [
              1,
              "#f0f921"
             ]
            ],
            "type": "histogram2d"
           }
          ],
          "histogram2dcontour": [
           {
            "colorbar": {
             "outlinewidth": 0,
             "ticks": ""
            },
            "colorscale": [
             [
              0,
              "#0d0887"
             ],
             [
              0.1111111111111111,
              "#46039f"
             ],
             [
              0.2222222222222222,
              "#7201a8"
             ],
             [
              0.3333333333333333,
              "#9c179e"
             ],
             [
              0.4444444444444444,
              "#bd3786"
             ],
             [
              0.5555555555555556,
              "#d8576b"
             ],
             [
              0.6666666666666666,
              "#ed7953"
             ],
             [
              0.7777777777777778,
              "#fb9f3a"
             ],
             [
              0.8888888888888888,
              "#fdca26"
             ],
             [
              1,
              "#f0f921"
             ]
            ],
            "type": "histogram2dcontour"
           }
          ],
          "mesh3d": [
           {
            "colorbar": {
             "outlinewidth": 0,
             "ticks": ""
            },
            "type": "mesh3d"
           }
          ],
          "parcoords": [
           {
            "line": {
             "colorbar": {
              "outlinewidth": 0,
              "ticks": ""
             }
            },
            "type": "parcoords"
           }
          ],
          "pie": [
           {
            "automargin": true,
            "type": "pie"
           }
          ],
          "scatter": [
           {
            "marker": {
             "colorbar": {
              "outlinewidth": 0,
              "ticks": ""
             }
            },
            "type": "scatter"
           }
          ],
          "scatter3d": [
           {
            "line": {
             "colorbar": {
              "outlinewidth": 0,
              "ticks": ""
             }
            },
            "marker": {
             "colorbar": {
              "outlinewidth": 0,
              "ticks": ""
             }
            },
            "type": "scatter3d"
           }
          ],
          "scattercarpet": [
           {
            "marker": {
             "colorbar": {
              "outlinewidth": 0,
              "ticks": ""
             }
            },
            "type": "scattercarpet"
           }
          ],
          "scattergeo": [
           {
            "marker": {
             "colorbar": {
              "outlinewidth": 0,
              "ticks": ""
             }
            },
            "type": "scattergeo"
           }
          ],
          "scattergl": [
           {
            "marker": {
             "colorbar": {
              "outlinewidth": 0,
              "ticks": ""
             }
            },
            "type": "scattergl"
           }
          ],
          "scattermapbox": [
           {
            "marker": {
             "colorbar": {
              "outlinewidth": 0,
              "ticks": ""
             }
            },
            "type": "scattermapbox"
           }
          ],
          "scatterpolar": [
           {
            "marker": {
             "colorbar": {
              "outlinewidth": 0,
              "ticks": ""
             }
            },
            "type": "scatterpolar"
           }
          ],
          "scatterpolargl": [
           {
            "marker": {
             "colorbar": {
              "outlinewidth": 0,
              "ticks": ""
             }
            },
            "type": "scatterpolargl"
           }
          ],
          "scatterternary": [
           {
            "marker": {
             "colorbar": {
              "outlinewidth": 0,
              "ticks": ""
             }
            },
            "type": "scatterternary"
           }
          ],
          "surface": [
           {
            "colorbar": {
             "outlinewidth": 0,
             "ticks": ""
            },
            "colorscale": [
             [
              0,
              "#0d0887"
             ],
             [
              0.1111111111111111,
              "#46039f"
             ],
             [
              0.2222222222222222,
              "#7201a8"
             ],
             [
              0.3333333333333333,
              "#9c179e"
             ],
             [
              0.4444444444444444,
              "#bd3786"
             ],
             [
              0.5555555555555556,
              "#d8576b"
             ],
             [
              0.6666666666666666,
              "#ed7953"
             ],
             [
              0.7777777777777778,
              "#fb9f3a"
             ],
             [
              0.8888888888888888,
              "#fdca26"
             ],
             [
              1,
              "#f0f921"
             ]
            ],
            "type": "surface"
           }
          ],
          "table": [
           {
            "cells": {
             "fill": {
              "color": "#EBF0F8"
             },
             "line": {
              "color": "white"
             }
            },
            "header": {
             "fill": {
              "color": "#C8D4E3"
             },
             "line": {
              "color": "white"
             }
            },
            "type": "table"
           }
          ]
         },
         "layout": {
          "annotationdefaults": {
           "arrowcolor": "#2a3f5f",
           "arrowhead": 0,
           "arrowwidth": 1
          },
          "coloraxis": {
           "colorbar": {
            "outlinewidth": 0,
            "ticks": ""
           }
          },
          "colorscale": {
           "diverging": [
            [
             0,
             "#8e0152"
            ],
            [
             0.1,
             "#c51b7d"
            ],
            [
             0.2,
             "#de77ae"
            ],
            [
             0.3,
             "#f1b6da"
            ],
            [
             0.4,
             "#fde0ef"
            ],
            [
             0.5,
             "#f7f7f7"
            ],
            [
             0.6,
             "#e6f5d0"
            ],
            [
             0.7,
             "#b8e186"
            ],
            [
             0.8,
             "#7fbc41"
            ],
            [
             0.9,
             "#4d9221"
            ],
            [
             1,
             "#276419"
            ]
           ],
           "sequential": [
            [
             0,
             "#0d0887"
            ],
            [
             0.1111111111111111,
             "#46039f"
            ],
            [
             0.2222222222222222,
             "#7201a8"
            ],
            [
             0.3333333333333333,
             "#9c179e"
            ],
            [
             0.4444444444444444,
             "#bd3786"
            ],
            [
             0.5555555555555556,
             "#d8576b"
            ],
            [
             0.6666666666666666,
             "#ed7953"
            ],
            [
             0.7777777777777778,
             "#fb9f3a"
            ],
            [
             0.8888888888888888,
             "#fdca26"
            ],
            [
             1,
             "#f0f921"
            ]
           ],
           "sequentialminus": [
            [
             0,
             "#0d0887"
            ],
            [
             0.1111111111111111,
             "#46039f"
            ],
            [
             0.2222222222222222,
             "#7201a8"
            ],
            [
             0.3333333333333333,
             "#9c179e"
            ],
            [
             0.4444444444444444,
             "#bd3786"
            ],
            [
             0.5555555555555556,
             "#d8576b"
            ],
            [
             0.6666666666666666,
             "#ed7953"
            ],
            [
             0.7777777777777778,
             "#fb9f3a"
            ],
            [
             0.8888888888888888,
             "#fdca26"
            ],
            [
             1,
             "#f0f921"
            ]
           ]
          },
          "colorway": [
           "#636efa",
           "#EF553B",
           "#00cc96",
           "#ab63fa",
           "#FFA15A",
           "#19d3f3",
           "#FF6692",
           "#B6E880",
           "#FF97FF",
           "#FECB52"
          ],
          "font": {
           "color": "#2a3f5f"
          },
          "geo": {
           "bgcolor": "white",
           "lakecolor": "white",
           "landcolor": "#E5ECF6",
           "showlakes": true,
           "showland": true,
           "subunitcolor": "white"
          },
          "hoverlabel": {
           "align": "left"
          },
          "hovermode": "closest",
          "mapbox": {
           "style": "light"
          },
          "paper_bgcolor": "white",
          "plot_bgcolor": "#E5ECF6",
          "polar": {
           "angularaxis": {
            "gridcolor": "white",
            "linecolor": "white",
            "ticks": ""
           },
           "bgcolor": "#E5ECF6",
           "radialaxis": {
            "gridcolor": "white",
            "linecolor": "white",
            "ticks": ""
           }
          },
          "scene": {
           "xaxis": {
            "backgroundcolor": "#E5ECF6",
            "gridcolor": "white",
            "gridwidth": 2,
            "linecolor": "white",
            "showbackground": true,
            "ticks": "",
            "zerolinecolor": "white"
           },
           "yaxis": {
            "backgroundcolor": "#E5ECF6",
            "gridcolor": "white",
            "gridwidth": 2,
            "linecolor": "white",
            "showbackground": true,
            "ticks": "",
            "zerolinecolor": "white"
           },
           "zaxis": {
            "backgroundcolor": "#E5ECF6",
            "gridcolor": "white",
            "gridwidth": 2,
            "linecolor": "white",
            "showbackground": true,
            "ticks": "",
            "zerolinecolor": "white"
           }
          },
          "shapedefaults": {
           "line": {
            "color": "#2a3f5f"
           }
          },
          "ternary": {
           "aaxis": {
            "gridcolor": "white",
            "linecolor": "white",
            "ticks": ""
           },
           "baxis": {
            "gridcolor": "white",
            "linecolor": "white",
            "ticks": ""
           },
           "bgcolor": "#E5ECF6",
           "caxis": {
            "gridcolor": "white",
            "linecolor": "white",
            "ticks": ""
           }
          },
          "title": {
           "x": 0.05
          },
          "xaxis": {
           "automargin": true,
           "gridcolor": "white",
           "linecolor": "white",
           "ticks": "",
           "title": {
            "standoff": 15
           },
           "zerolinecolor": "white",
           "zerolinewidth": 2
          },
          "yaxis": {
           "automargin": true,
           "gridcolor": "white",
           "linecolor": "white",
           "ticks": "",
           "title": {
            "standoff": 15
           },
           "zerolinecolor": "white",
           "zerolinewidth": 2
          }
         }
        }
       }
      },
      "text/html": [
       "<div>\n",
       "        \n",
       "        \n",
       "            <div id=\"f1036d8f-7f8c-4fbf-94c0-9dddd16a118b\" class=\"plotly-graph-div\" style=\"height:525px; width:100%;\"></div>\n",
       "            <script type=\"text/javascript\">\n",
       "                require([\"plotly\"], function(Plotly) {\n",
       "                    window.PLOTLYENV=window.PLOTLYENV || {};\n",
       "                    \n",
       "                if (document.getElementById(\"f1036d8f-7f8c-4fbf-94c0-9dddd16a118b\")) {\n",
       "                    Plotly.newPlot(\n",
       "                        'f1036d8f-7f8c-4fbf-94c0-9dddd16a118b',\n",
       "                        [{\"dimensions\": [{\"axis\": {\"matches\": true}, \"label\": \"F_6above_school\", \"values\": [63.0]}, {\"axis\": {\"matches\": true}, \"label\": \"Households with electricity\", \"values\": [83.2]}, {\"axis\": {\"matches\": true}, \"label\": \"Households with an improved drinking-water\", \"values\": [89.3]}, {\"axis\": {\"matches\": true}, \"label\": \"Households using improved sanitation facility\", \"values\": [36.7]}, {\"axis\": {\"matches\": true}, \"label\": \"Households using clean fuel for cooking\", \"values\": [24.0]}, {\"axis\": {\"matches\": true}, \"label\": \"Households using iodized salt\", \"values\": [91.4]}, {\"axis\": {\"matches\": true}, \"label\": \"health_insurance\", \"values\": [29.0]}], \"hovertemplate\": \"India/States/UTs=India<br>%{xaxis.title.text}=%{x}<br>%{yaxis.title.text}=%{y}<extra></extra>\", \"legendgroup\": \"India\", \"marker\": {\"color\": \"#636efa\", \"symbol\": \"circle\"}, \"name\": \"India\", \"showlegend\": true, \"type\": \"splom\"}, {\"dimensions\": [{\"axis\": {\"matches\": true}, \"label\": \"F_6above_school\", \"values\": [56.6]}, {\"axis\": {\"matches\": true}, \"label\": \"Households with electricity\", \"values\": [98.4]}, {\"axis\": {\"matches\": true}, \"label\": \"Households with an improved drinking-water\", \"values\": [73.6]}, {\"axis\": {\"matches\": true}, \"label\": \"Households using improved sanitation facility\", \"values\": [43.1]}, {\"axis\": {\"matches\": true}, \"label\": \"Households using clean fuel for cooking\", \"values\": [49.7]}, {\"axis\": {\"matches\": true}, \"label\": \"Households using iodized salt\", \"values\": [77.4]}, {\"axis\": {\"matches\": true}, \"label\": \"health_insurance\", \"values\": [80.5]}], \"hovertemplate\": \"India/States/UTs=Andhra Pradesh<br>%{xaxis.title.text}=%{x}<br>%{yaxis.title.text}=%{y}<extra></extra>\", \"legendgroup\": \"Andhra Pradesh\", \"marker\": {\"color\": \"#EF553B\", \"symbol\": \"circle\"}, \"name\": \"Andhra Pradesh\", \"showlegend\": true, \"type\": \"splom\"}, {\"dimensions\": [{\"axis\": {\"matches\": true}, \"label\": \"F_6above_school\", \"values\": [72.9]}, {\"axis\": {\"matches\": true}, \"label\": \"Households with electricity\", \"values\": [75.0]}, {\"axis\": {\"matches\": true}, \"label\": \"Households with an improved drinking-water\", \"values\": [82.9]}, {\"axis\": {\"matches\": true}, \"label\": \"Households using improved sanitation facility\", \"values\": [45.1]}, {\"axis\": {\"matches\": true}, \"label\": \"Households using clean fuel for cooking\", \"values\": [15.6]}, {\"axis\": {\"matches\": true}, \"label\": \"Households using iodized salt\", \"values\": [99.5]}, {\"axis\": {\"matches\": true}, \"label\": \"health_insurance\", \"values\": [10.0]}], \"hovertemplate\": \"India/States/UTs=Assam<br>%{xaxis.title.text}=%{x}<br>%{yaxis.title.text}=%{y}<extra></extra>\", \"legendgroup\": \"Assam\", \"marker\": {\"color\": \"#00cc96\", \"symbol\": \"circle\"}, \"name\": \"Assam\", \"showlegend\": true, \"type\": \"splom\"}, {\"dimensions\": [{\"axis\": {\"matches\": true}, \"label\": \"F_6above_school\", \"values\": [54.8]}, {\"axis\": {\"matches\": true}, \"label\": \"Households with electricity\", \"values\": [54.1]}, {\"axis\": {\"matches\": true}, \"label\": \"Households with an improved drinking-water\", \"values\": [98.2]}, {\"axis\": {\"matches\": true}, \"label\": \"Households using improved sanitation facility\", \"values\": [20.7]}, {\"axis\": {\"matches\": true}, \"label\": \"Households using clean fuel for cooking\", \"values\": [10.8]}, {\"axis\": {\"matches\": true}, \"label\": \"Households using iodized salt\", \"values\": [93.0]}, {\"axis\": {\"matches\": true}, \"label\": \"health_insurance\", \"values\": [12.7]}], \"hovertemplate\": \"India/States/UTs=Bihar<br>%{xaxis.title.text}=%{x}<br>%{yaxis.title.text}=%{y}<extra></extra>\", \"legendgroup\": \"Bihar\", \"marker\": {\"color\": \"#ab63fa\", \"symbol\": \"circle\"}, \"name\": \"Bihar\", \"showlegend\": true, \"type\": \"splom\"}, {\"dimensions\": [{\"axis\": {\"matches\": true}, \"label\": \"F_6above_school\", \"values\": [63.7]}, {\"axis\": {\"matches\": true}, \"label\": \"Households with electricity\", \"values\": [94.5]}, {\"axis\": {\"matches\": true}, \"label\": \"Households with an improved drinking-water\", \"values\": [89.2]}, {\"axis\": {\"matches\": true}, \"label\": \"Households using improved sanitation facility\", \"values\": [22.6]}, {\"axis\": {\"matches\": true}, \"label\": \"Households using clean fuel for cooking\", \"values\": [7.6]}, {\"axis\": {\"matches\": true}, \"label\": \"Households using iodized salt\", \"values\": [99.0]}, {\"axis\": {\"matches\": true}, \"label\": \"health_insurance\", \"values\": [71.4]}], \"hovertemplate\": \"India/States/UTs=Chattisgarh<br>%{xaxis.title.text}=%{x}<br>%{yaxis.title.text}=%{y}<extra></extra>\", \"legendgroup\": \"Chattisgarh\", \"marker\": {\"color\": \"#FFA15A\", \"symbol\": \"circle\"}, \"name\": \"Chattisgarh\", \"showlegend\": true, \"type\": \"splom\"}, {\"dimensions\": [{\"axis\": {\"matches\": true}, \"label\": \"F_6above_school\", \"values\": [64.0]}, {\"axis\": {\"matches\": true}, \"label\": \"Households with electricity\", \"values\": [93.7]}, {\"axis\": {\"matches\": true}, \"label\": \"Households with an improved drinking-water\", \"values\": [89.4]}, {\"axis\": {\"matches\": true}, \"label\": \"Households using improved sanitation facility\", \"values\": [47.0]}, {\"axis\": {\"matches\": true}, \"label\": \"Households using clean fuel for cooking\", \"values\": [26.9]}, {\"axis\": {\"matches\": true}, \"label\": \"Households using iodized salt\", \"values\": [93.7]}, {\"axis\": {\"matches\": true}, \"label\": \"health_insurance\", \"values\": [23.3]}], \"hovertemplate\": \"India/States/UTs=Gujarat<br>%{xaxis.title.text}=%{x}<br>%{yaxis.title.text}=%{y}<extra></extra>\", \"legendgroup\": \"Gujarat\", \"marker\": {\"color\": \"#19d3f3\", \"symbol\": \"circle\"}, \"name\": \"Gujarat\", \"showlegend\": true, \"type\": \"splom\"}, {\"dimensions\": [{\"axis\": {\"matches\": true}, \"label\": \"F_6above_school\", \"values\": [65.6]}, {\"axis\": {\"matches\": true}, \"label\": \"Households with electricity\", \"values\": [98.3]}, {\"axis\": {\"matches\": true}, \"label\": \"Households with an improved drinking-water\", \"values\": [94.3]}, {\"axis\": {\"matches\": true}, \"label\": \"Households using improved sanitation facility\", \"values\": [77.4]}, {\"axis\": {\"matches\": true}, \"label\": \"Households using clean fuel for cooking\", \"values\": [28.9]}, {\"axis\": {\"matches\": true}, \"label\": \"Households using iodized salt\", \"values\": [91.1]}, {\"axis\": {\"matches\": true}, \"label\": \"health_insurance\", \"values\": [9.3]}], \"hovertemplate\": \"India/States/UTs=Haryana<br>%{xaxis.title.text}=%{x}<br>%{yaxis.title.text}=%{y}<extra></extra>\", \"legendgroup\": \"Haryana\", \"marker\": {\"color\": \"#FF6692\", \"symbol\": \"circle\"}, \"name\": \"Haryana\", \"showlegend\": true, \"type\": \"splom\"}, {\"dimensions\": [{\"axis\": {\"matches\": true}, \"label\": \"F_6above_school\", \"values\": [55.7]}, {\"axis\": {\"matches\": true}, \"label\": \"Households with electricity\", \"values\": [74.4]}, {\"axis\": {\"matches\": true}, \"label\": \"Households with an improved drinking-water\", \"values\": [74.0]}, {\"axis\": {\"matches\": true}, \"label\": \"Households using improved sanitation facility\", \"values\": [12.4]}, {\"axis\": {\"matches\": true}, \"label\": \"Households using clean fuel for cooking\", \"values\": [6.3]}, {\"axis\": {\"matches\": true}, \"label\": \"Households using iodized salt\", \"values\": [97.2]}, {\"axis\": {\"matches\": true}, \"label\": \"health_insurance\", \"values\": [13.2]}], \"hovertemplate\": \"India/States/UTs=Jharkhand<br>%{xaxis.title.text}=%{x}<br>%{yaxis.title.text}=%{y}<extra></extra>\", \"legendgroup\": \"Jharkhand\", \"marker\": {\"color\": \"#B6E880\", \"symbol\": \"circle\"}, \"name\": \"Jharkhand\", \"showlegend\": true, \"type\": \"splom\"}, {\"dimensions\": [{\"axis\": {\"matches\": true}, \"label\": \"F_6above_school\", \"values\": [63.1]}, {\"axis\": {\"matches\": true}, \"label\": \"Households with electricity\", \"values\": [97.0]}, {\"axis\": {\"matches\": true}, \"label\": \"Households with an improved drinking-water\", \"values\": [88.9]}, {\"axis\": {\"matches\": true}, \"label\": \"Households using improved sanitation facility\", \"values\": [42.6]}, {\"axis\": {\"matches\": true}, \"label\": \"Households using clean fuel for cooking\", \"values\": [32.1]}, {\"axis\": {\"matches\": true}, \"label\": \"Households using iodized salt\", \"values\": [82.0]}, {\"axis\": {\"matches\": true}, \"label\": \"health_insurance\", \"values\": [31.8]}], \"hovertemplate\": \"India/States/UTs=Karnataka<br>%{xaxis.title.text}=%{x}<br>%{yaxis.title.text}=%{y}<extra></extra>\", \"legendgroup\": \"Karnataka\", \"marker\": {\"color\": \"#FF97FF\", \"symbol\": \"circle\"}, \"name\": \"Karnataka\", \"showlegend\": true, \"type\": \"splom\"}, {\"dimensions\": [{\"axis\": {\"matches\": true}, \"label\": \"F_6above_school\", \"values\": [94.5]}, {\"axis\": {\"matches\": true}, \"label\": \"Households with electricity\", \"values\": [98.9]}, {\"axis\": {\"matches\": true}, \"label\": \"Households with an improved drinking-water\", \"values\": [93.0]}, {\"axis\": {\"matches\": true}, \"label\": \"Households using improved sanitation facility\", \"values\": [97.5]}, {\"axis\": {\"matches\": true}, \"label\": \"Households using clean fuel for cooking\", \"values\": [50.6]}, {\"axis\": {\"matches\": true}, \"label\": \"Households using iodized salt\", \"values\": [98.1]}, {\"axis\": {\"matches\": true}, \"label\": \"health_insurance\", \"values\": [49.8]}], \"hovertemplate\": \"India/States/UTs=Kerala<br>%{xaxis.title.text}=%{x}<br>%{yaxis.title.text}=%{y}<extra></extra>\", \"legendgroup\": \"Kerala\", \"marker\": {\"color\": \"#FECB52\", \"symbol\": \"circle\"}, \"name\": \"Kerala\", \"showlegend\": true, \"type\": \"splom\"}, {\"dimensions\": [{\"axis\": {\"matches\": true}, \"label\": \"F_6above_school\", \"values\": [58.0]}, {\"axis\": {\"matches\": true}, \"label\": \"Households with electricity\", \"values\": [86.4]}, {\"axis\": {\"matches\": true}, \"label\": \"Households with an improved drinking-water\", \"values\": [79.5]}, {\"axis\": {\"matches\": true}, \"label\": \"Households using improved sanitation facility\", \"values\": [19.4]}, {\"axis\": {\"matches\": true}, \"label\": \"Households using clean fuel for cooking\", \"values\": [9.9]}, {\"axis\": {\"matches\": true}, \"label\": \"Households using iodized salt\", \"values\": [91.2]}, {\"axis\": {\"matches\": true}, \"label\": \"health_insurance\", \"values\": [15.4]}], \"hovertemplate\": \"India/States/UTs=Madhya Pradesh<br>%{xaxis.title.text}=%{x}<br>%{yaxis.title.text}=%{y}<extra></extra>\", \"legendgroup\": \"Madhya Pradesh\", \"marker\": {\"color\": \"#636efa\", \"symbol\": \"circle\"}, \"name\": \"Madhya Pradesh\", \"showlegend\": true, \"type\": \"splom\"}, {\"dimensions\": [{\"axis\": {\"matches\": true}, \"label\": \"F_6above_school\", \"values\": [70.3]}, {\"axis\": {\"matches\": true}, \"label\": \"Households with electricity\", \"values\": [90.0]}, {\"axis\": {\"matches\": true}, \"label\": \"Households with an improved drinking-water\", \"values\": [85.6]}, {\"axis\": {\"matches\": true}, \"label\": \"Households using improved sanitation facility\", \"values\": [44.2]}, {\"axis\": {\"matches\": true}, \"label\": \"Households using clean fuel for cooking\", \"values\": [33.7]}, {\"axis\": {\"matches\": true}, \"label\": \"Households using iodized salt\", \"values\": [94.4]}, {\"axis\": {\"matches\": true}, \"label\": \"health_insurance\", \"values\": [13.8]}], \"hovertemplate\": \"India/States/UTs=Maharashtra<br>%{xaxis.title.text}=%{x}<br>%{yaxis.title.text}=%{y}<extra></extra>\", \"legendgroup\": \"Maharashtra\", \"marker\": {\"color\": \"#EF553B\", \"symbol\": \"circle\"}, \"name\": \"Maharashtra\", \"showlegend\": true, \"type\": \"splom\"}, {\"dimensions\": [{\"axis\": {\"matches\": true}, \"label\": \"F_6above_school\", \"values\": [65.3]}, {\"axis\": {\"matches\": true}, \"label\": \"Households with electricity\", \"values\": [83.8]}, {\"axis\": {\"matches\": true}, \"label\": \"Households with an improved drinking-water\", \"values\": [87.5]}, {\"axis\": {\"matches\": true}, \"label\": \"Households using improved sanitation facility\", \"values\": [23.0]}, {\"axis\": {\"matches\": true}, \"label\": \"Households using clean fuel for cooking\", \"values\": [10.7]}, {\"axis\": {\"matches\": true}, \"label\": \"Households using iodized salt\", \"values\": [92.0]}, {\"axis\": {\"matches\": true}, \"label\": \"health_insurance\", \"values\": [51.9]}], \"hovertemplate\": \"India/States/UTs=Odisha<br>%{xaxis.title.text}=%{x}<br>%{yaxis.title.text}=%{y}<extra></extra>\", \"legendgroup\": \"Odisha\", \"marker\": {\"color\": \"#00cc96\", \"symbol\": \"circle\"}, \"name\": \"Odisha\", \"showlegend\": true, \"type\": \"splom\"}, {\"dimensions\": [{\"axis\": {\"matches\": true}, \"label\": \"F_6above_school\", \"values\": [71.4]}, {\"axis\": {\"matches\": true}, \"label\": \"Households with electricity\", \"values\": [99.6]}, {\"axis\": {\"matches\": true}, \"label\": \"Households with an improved drinking-water\", \"values\": [99.0]}, {\"axis\": {\"matches\": true}, \"label\": \"Households using improved sanitation facility\", \"values\": [79.1]}, {\"axis\": {\"matches\": true}, \"label\": \"Households using clean fuel for cooking\", \"values\": [49.4]}, {\"axis\": {\"matches\": true}, \"label\": \"Households using iodized salt\", \"values\": [98.1]}, {\"axis\": {\"matches\": true}, \"label\": \"health_insurance\", \"values\": [22.1]}], \"hovertemplate\": \"India/States/UTs=Punjab<br>%{xaxis.title.text}=%{x}<br>%{yaxis.title.text}=%{y}<extra></extra>\", \"legendgroup\": \"Punjab\", \"marker\": {\"color\": \"#ab63fa\", \"symbol\": \"circle\"}, \"name\": \"Punjab\", \"showlegend\": true, \"type\": \"splom\"}, {\"dimensions\": [{\"axis\": {\"matches\": true}, \"label\": \"F_6above_school\", \"values\": [52.0]}, {\"axis\": {\"matches\": true}, \"label\": \"Households with electricity\", \"values\": [88.4]}, {\"axis\": {\"matches\": true}, \"label\": \"Households with an improved drinking-water\", \"values\": [83.3]}, {\"axis\": {\"matches\": true}, \"label\": \"Households using improved sanitation facility\", \"values\": [35.6]}, {\"axis\": {\"matches\": true}, \"label\": \"Households using clean fuel for cooking\", \"values\": [15.2]}, {\"axis\": {\"matches\": true}, \"label\": \"Households using iodized salt\", \"values\": [92.0]}, {\"axis\": {\"matches\": true}, \"label\": \"health_insurance\", \"values\": [18.5]}], \"hovertemplate\": \"India/States/UTs=Rajasthan<br>%{xaxis.title.text}=%{x}<br>%{yaxis.title.text}=%{y}<extra></extra>\", \"legendgroup\": \"Rajasthan\", \"marker\": {\"color\": \"#FFA15A\", \"symbol\": \"circle\"}, \"name\": \"Rajasthan\", \"showlegend\": true, \"type\": \"splom\"}, {\"dimensions\": [{\"axis\": {\"matches\": true}, \"label\": \"F_6above_school\", \"values\": [70.7]}, {\"axis\": {\"matches\": true}, \"label\": \"Households with electricity\", \"values\": [98.3]}, {\"axis\": {\"matches\": true}, \"label\": \"Households with an improved drinking-water\", \"values\": [94.5]}, {\"axis\": {\"matches\": true}, \"label\": \"Households using improved sanitation facility\", \"values\": [34.0]}, {\"axis\": {\"matches\": true}, \"label\": \"Households using clean fuel for cooking\", \"values\": [58.0]}, {\"axis\": {\"matches\": true}, \"label\": \"Households using iodized salt\", \"values\": [76.2]}, {\"axis\": {\"matches\": true}, \"label\": \"health_insurance\", \"values\": [69.1]}], \"hovertemplate\": \"India/States/UTs=Tamil Nadu<br>%{xaxis.title.text}=%{x}<br>%{yaxis.title.text}=%{y}<extra></extra>\", \"legendgroup\": \"Tamil Nadu\", \"marker\": {\"color\": \"#19d3f3\", \"symbol\": \"circle\"}, \"name\": \"Tamil Nadu\", \"showlegend\": true, \"type\": \"splom\"}, {\"dimensions\": [{\"axis\": {\"matches\": true}, \"label\": \"F_6above_school\", \"values\": [50.4]}, {\"axis\": {\"matches\": true}, \"label\": \"Households with electricity\", \"values\": [97.2]}, {\"axis\": {\"matches\": true}, \"label\": \"Households with an improved drinking-water\", \"values\": [75.6]}, {\"axis\": {\"matches\": true}, \"label\": \"Households using improved sanitation facility\", \"values\": [38.9]}, {\"axis\": {\"matches\": true}, \"label\": \"Households using clean fuel for cooking\", \"values\": [48.2]}, {\"axis\": {\"matches\": true}, \"label\": \"Households using iodized salt\", \"values\": [93.0]}, {\"axis\": {\"matches\": true}, \"label\": \"health_insurance\", \"values\": [76.7]}], \"hovertemplate\": \"India/States/UTs=Telangana<br>%{xaxis.title.text}=%{x}<br>%{yaxis.title.text}=%{y}<extra></extra>\", \"legendgroup\": \"Telangana\", \"marker\": {\"color\": \"#FF6692\", \"symbol\": \"circle\"}, \"name\": \"Telangana\", \"showlegend\": true, \"type\": \"splom\"}, {\"dimensions\": [{\"axis\": {\"matches\": true}, \"label\": \"F_6above_school\", \"values\": [59.6]}, {\"axis\": {\"matches\": true}, \"label\": \"Households with electricity\", \"values\": [62.3]}, {\"axis\": {\"matches\": true}, \"label\": \"Households with an improved drinking-water\", \"values\": [97.8]}, {\"axis\": {\"matches\": true}, \"label\": \"Households using improved sanitation facility\", \"values\": [23.2]}, {\"axis\": {\"matches\": true}, \"label\": \"Households using clean fuel for cooking\", \"values\": [16.4]}, {\"axis\": {\"matches\": true}, \"label\": \"Households using iodized salt\", \"values\": [92.4]}, {\"axis\": {\"matches\": true}, \"label\": \"health_insurance\", \"values\": [5.4]}], \"hovertemplate\": \"India/States/UTs=Uttar Pradesh<br>%{xaxis.title.text}=%{x}<br>%{yaxis.title.text}=%{y}<extra></extra>\", \"legendgroup\": \"Uttar Pradesh\", \"marker\": {\"color\": \"#B6E880\", \"symbol\": \"circle\"}, \"name\": \"Uttar Pradesh\", \"showlegend\": true, \"type\": \"splom\"}, {\"dimensions\": [{\"axis\": {\"matches\": true}, \"label\": \"F_6above_school\", \"values\": [70.4]}, {\"axis\": {\"matches\": true}, \"label\": \"Households with electricity\", \"values\": [92.0]}, {\"axis\": {\"matches\": true}, \"label\": \"Households with an improved drinking-water\", \"values\": [95.1]}, {\"axis\": {\"matches\": true}, \"label\": \"Households using improved sanitation facility\", \"values\": [45.5]}, {\"axis\": {\"matches\": true}, \"label\": \"Households using clean fuel for cooking\", \"values\": [11.3]}, {\"axis\": {\"matches\": true}, \"label\": \"Households using iodized salt\", \"values\": [93.0]}, {\"axis\": {\"matches\": true}, \"label\": \"health_insurance\", \"values\": [36.1]}], \"hovertemplate\": \"India/States/UTs=West Bengal<br>%{xaxis.title.text}=%{x}<br>%{yaxis.title.text}=%{y}<extra></extra>\", \"legendgroup\": \"West Bengal\", \"marker\": {\"color\": \"#FF97FF\", \"symbol\": \"circle\"}, \"name\": \"West Bengal\", \"showlegend\": true, \"type\": \"splom\"}, {\"dimensions\": [{\"axis\": {\"matches\": true}, \"label\": \"F_6above_school\", \"values\": [62.5]}, {\"axis\": {\"matches\": true}, \"label\": \"Households with electricity\", \"values\": [85.0]}, {\"axis\": {\"matches\": true}, \"label\": \"Households with an improved drinking-water\", \"values\": [85.0]}, {\"axis\": {\"matches\": true}, \"label\": \"Households using improved sanitation facility\", \"values\": [57.1]}, {\"axis\": {\"matches\": true}, \"label\": \"Households using clean fuel for cooking\", \"values\": [30.0]}, {\"axis\": {\"matches\": true}, \"label\": \"Households using iodized salt\", \"values\": [99.3]}, {\"axis\": {\"matches\": true}, \"label\": \"health_insurance\", \"values\": [59.7]}], \"hovertemplate\": \"India/States/UTs=Arunachal Pradesh<br>%{xaxis.title.text}=%{x}<br>%{yaxis.title.text}=%{y}<extra></extra>\", \"legendgroup\": \"Arunachal Pradesh\", \"marker\": {\"color\": \"#FECB52\", \"symbol\": \"circle\"}, \"name\": \"Arunachal Pradesh\", \"showlegend\": true, \"type\": \"splom\"}, {\"dimensions\": [{\"axis\": {\"matches\": true}, \"label\": \"F_6above_school\", \"values\": [78.5]}, {\"axis\": {\"matches\": true}, \"label\": \"Households with electricity\", \"values\": [100.0]}, {\"axis\": {\"matches\": true}, \"label\": \"Households with an improved drinking-water\", \"values\": [69.7]}, {\"axis\": {\"matches\": true}, \"label\": \"Households using improved sanitation facility\", \"values\": [87.7]}, {\"axis\": {\"matches\": true}, \"label\": \"Households using clean fuel for cooking\", \"values\": [80.8]}, {\"axis\": {\"matches\": true}, \"label\": \"Households using iodized salt\", \"values\": [99.5]}, {\"axis\": {\"matches\": true}, \"label\": \"health_insurance\", \"values\": [15.6]}], \"hovertemplate\": \"India/States/UTs=Delhi<br>%{xaxis.title.text}=%{x}<br>%{yaxis.title.text}=%{y}<extra></extra>\", \"legendgroup\": \"Delhi\", \"marker\": {\"color\": \"#636efa\", \"symbol\": \"circle\"}, \"name\": \"Delhi\", \"showlegend\": true, \"type\": \"splom\"}, {\"dimensions\": [{\"axis\": {\"matches\": true}, \"label\": \"F_6above_school\", \"values\": [81.6]}, {\"axis\": {\"matches\": true}, \"label\": \"Households with electricity\", \"values\": [99.9]}, {\"axis\": {\"matches\": true}, \"label\": \"Households with an improved drinking-water\", \"values\": [93.7]}, {\"axis\": {\"matches\": true}, \"label\": \"Households using improved sanitation facility\", \"values\": [80.8]}, {\"axis\": {\"matches\": true}, \"label\": \"Households using clean fuel for cooking\", \"values\": [72.0]}, {\"axis\": {\"matches\": true}, \"label\": \"Households using iodized salt\", \"values\": [92.5]}, {\"axis\": {\"matches\": true}, \"label\": \"health_insurance\", \"values\": [11.4]}], \"hovertemplate\": \"India/States/UTs=Goa<br>%{xaxis.title.text}=%{x}<br>%{yaxis.title.text}=%{y}<extra></extra>\", \"legendgroup\": \"Goa\", \"marker\": {\"color\": \"#EF553B\", \"symbol\": \"circle\"}, \"name\": \"Goa\", \"showlegend\": true, \"type\": \"splom\"}, {\"dimensions\": [{\"axis\": {\"matches\": true}, \"label\": \"F_6above_school\", \"values\": [77.9]}, {\"axis\": {\"matches\": true}, \"label\": \"Households with electricity\", \"values\": [99.5]}, {\"axis\": {\"matches\": true}, \"label\": \"Households with an improved drinking-water\", \"values\": [94.9]}, {\"axis\": {\"matches\": true}, \"label\": \"Households using improved sanitation facility\", \"values\": [69.6]}, {\"axis\": {\"matches\": true}, \"label\": \"Households using clean fuel for cooking\", \"values\": [30.0]}, {\"axis\": {\"matches\": true}, \"label\": \"Households using iodized salt\", \"values\": [99.1]}, {\"axis\": {\"matches\": true}, \"label\": \"health_insurance\", \"values\": [26.3]}], \"hovertemplate\": \"India/States/UTs=Himachal Pradesh<br>%{xaxis.title.text}=%{x}<br>%{yaxis.title.text}=%{y}<extra></extra>\", \"legendgroup\": \"Himachal Pradesh\", \"marker\": {\"color\": \"#00cc96\", \"symbol\": \"circle\"}, \"name\": \"Himachal Pradesh\", \"showlegend\": true, \"type\": \"splom\"}, {\"dimensions\": [{\"axis\": {\"matches\": true}, \"label\": \"F_6above_school\", \"values\": [63.0]}, {\"axis\": {\"matches\": true}, \"label\": \"Households with electricity\", \"values\": [96.3]}, {\"axis\": {\"matches\": true}, \"label\": \"Households with an improved drinking-water\", \"values\": [85.0]}, {\"axis\": {\"matches\": true}, \"label\": \"Households using improved sanitation facility\", \"values\": [45.9]}, {\"axis\": {\"matches\": true}, \"label\": \"Households using clean fuel for cooking\", \"values\": [41.6]}, {\"axis\": {\"matches\": true}, \"label\": \"Households using iodized salt\", \"values\": [93.5]}, {\"axis\": {\"matches\": true}, \"label\": \"health_insurance\", \"values\": [3.4]}], \"hovertemplate\": \"India/States/UTs=Jammu & Kashmir<br>%{xaxis.title.text}=%{x}<br>%{yaxis.title.text}=%{y}<extra></extra>\", \"legendgroup\": \"Jammu & Kashmir\", \"marker\": {\"color\": \"#ab63fa\", \"symbol\": \"circle\"}, \"name\": \"Jammu & Kashmir\", \"showlegend\": true, \"type\": \"splom\"}, {\"dimensions\": [{\"axis\": {\"matches\": true}, \"label\": \"F_6above_school\", \"values\": [79.0]}, {\"axis\": {\"matches\": true}, \"label\": \"Households with electricity\", \"values\": [90.1]}, {\"axis\": {\"matches\": true}, \"label\": \"Households with an improved drinking-water\", \"values\": [38.0]}, {\"axis\": {\"matches\": true}, \"label\": \"Households using improved sanitation facility\", \"values\": [51.3]}, {\"axis\": {\"matches\": true}, \"label\": \"Households using clean fuel for cooking\", \"values\": [28.0]}, {\"axis\": {\"matches\": true}, \"label\": \"Households using iodized salt\", \"values\": [99.4]}, {\"axis\": {\"matches\": true}, \"label\": \"health_insurance\", \"values\": [3.7]}], \"hovertemplate\": \"India/States/UTs=Manipur<br>%{xaxis.title.text}=%{x}<br>%{yaxis.title.text}=%{y}<extra></extra>\", \"legendgroup\": \"Manipur\", \"marker\": {\"color\": \"#FFA15A\", \"symbol\": \"circle\"}, \"name\": \"Manipur\", \"showlegend\": true, \"type\": \"splom\"}, {\"dimensions\": [{\"axis\": {\"matches\": true}, \"label\": \"F_6above_school\", \"values\": [80.2]}, {\"axis\": {\"matches\": true}, \"label\": \"Households with electricity\", \"values\": [89.2]}, {\"axis\": {\"matches\": true}, \"label\": \"Households with an improved drinking-water\", \"values\": [62.9]}, {\"axis\": {\"matches\": true}, \"label\": \"Households using improved sanitation facility\", \"values\": [58.1]}, {\"axis\": {\"matches\": true}, \"label\": \"Households using clean fuel for cooking\", \"values\": [9.3]}, {\"axis\": {\"matches\": true}, \"label\": \"Households using iodized salt\", \"values\": [99.3]}, {\"axis\": {\"matches\": true}, \"label\": \"health_insurance\", \"values\": [37.9]}], \"hovertemplate\": \"India/States/UTs=Meghalaya<br>%{xaxis.title.text}=%{x}<br>%{yaxis.title.text}=%{y}<extra></extra>\", \"legendgroup\": \"Meghalaya\", \"marker\": {\"color\": \"#19d3f3\", \"symbol\": \"circle\"}, \"name\": \"Meghalaya\", \"showlegend\": true, \"type\": \"splom\"}, {\"dimensions\": [{\"axis\": {\"matches\": true}, \"label\": \"F_6above_school\", \"values\": [84.3]}, {\"axis\": {\"matches\": true}, \"label\": \"Households with electricity\", \"values\": [90.5]}, {\"axis\": {\"matches\": true}, \"label\": \"Households with an improved drinking-water\", \"values\": [87.8]}, {\"axis\": {\"matches\": true}, \"label\": \"Households using improved sanitation facility\", \"values\": [73.1]}, {\"axis\": {\"matches\": true}, \"label\": \"Households using clean fuel for cooking\", \"values\": [29.9]}, {\"axis\": {\"matches\": true}, \"label\": \"Households using iodized salt\", \"values\": [98.6]}, {\"axis\": {\"matches\": true}, \"label\": \"health_insurance\", \"values\": [49.9]}], \"hovertemplate\": \"India/States/UTs=Mizoram<br>%{xaxis.title.text}=%{x}<br>%{yaxis.title.text}=%{y}<extra></extra>\", \"legendgroup\": \"Mizoram\", \"marker\": {\"color\": \"#FF6692\", \"symbol\": \"circle\"}, \"name\": \"Mizoram\", \"showlegend\": true, \"type\": \"splom\"}, {\"dimensions\": [{\"axis\": {\"matches\": true}, \"label\": \"F_6above_school\", \"values\": [75.6]}, {\"axis\": {\"matches\": true}, \"label\": \"Households with electricity\", \"values\": [95.6]}, {\"axis\": {\"matches\": true}, \"label\": \"Households with an improved drinking-water\", \"values\": [80.9]}, {\"axis\": {\"matches\": true}, \"label\": \"Households using improved sanitation facility\", \"values\": [79.0]}, {\"axis\": {\"matches\": true}, \"label\": \"Households using clean fuel for cooking\", \"values\": [14.4]}, {\"axis\": {\"matches\": true}, \"label\": \"Households using iodized salt\", \"values\": [99.4]}, {\"axis\": {\"matches\": true}, \"label\": \"health_insurance\", \"values\": [7.0]}], \"hovertemplate\": \"India/States/UTs=Nagaland<br>%{xaxis.title.text}=%{x}<br>%{yaxis.title.text}=%{y}<extra></extra>\", \"legendgroup\": \"Nagaland\", \"marker\": {\"color\": \"#B6E880\", \"symbol\": \"circle\"}, \"name\": \"Nagaland\", \"showlegend\": true, \"type\": \"splom\"}, {\"dimensions\": [{\"axis\": {\"matches\": true}, \"label\": \"F_6above_school\", \"values\": [77.2]}, {\"axis\": {\"matches\": true}, \"label\": \"Households with electricity\", \"values\": [99.6]}, {\"axis\": {\"matches\": true}, \"label\": \"Households with an improved drinking-water\", \"values\": [96.8]}, {\"axis\": {\"matches\": true}, \"label\": \"Households using improved sanitation facility\", \"values\": [94.2]}, {\"axis\": {\"matches\": true}, \"label\": \"Households using clean fuel for cooking\", \"values\": [42.4]}, {\"axis\": {\"matches\": true}, \"label\": \"Households using iodized salt\", \"values\": [99.5]}, {\"axis\": {\"matches\": true}, \"label\": \"health_insurance\", \"values\": [29.2]}], \"hovertemplate\": \"India/States/UTs=Sikkim<br>%{xaxis.title.text}=%{x}<br>%{yaxis.title.text}=%{y}<extra></extra>\", \"legendgroup\": \"Sikkim\", \"marker\": {\"color\": \"#FF97FF\", \"symbol\": \"circle\"}, \"name\": \"Sikkim\", \"showlegend\": true, \"type\": \"splom\"}, {\"dimensions\": [{\"axis\": {\"matches\": true}, \"label\": \"F_6above_school\", \"values\": [78.7]}, {\"axis\": {\"matches\": true}, \"label\": \"Households with electricity\", \"values\": [90.0]}, {\"axis\": {\"matches\": true}, \"label\": \"Households with an improved drinking-water\", \"values\": [82.8]}, {\"axis\": {\"matches\": true}, \"label\": \"Households using improved sanitation facility\", \"values\": [59.6]}, {\"axis\": {\"matches\": true}, \"label\": \"Households using clean fuel for cooking\", \"values\": [16.0]}, {\"axis\": {\"matches\": true}, \"label\": \"Households using iodized salt\", \"values\": [98.8]}, {\"axis\": {\"matches\": true}, \"label\": \"health_insurance\", \"values\": [69.5]}], \"hovertemplate\": \"India/States/UTs=Tripura<br>%{xaxis.title.text}=%{x}<br>%{yaxis.title.text}=%{y}<extra></extra>\", \"legendgroup\": \"Tripura\", \"marker\": {\"color\": \"#FECB52\", \"symbol\": \"circle\"}, \"name\": \"Tripura\", \"showlegend\": true, \"type\": \"splom\"}, {\"dimensions\": [{\"axis\": {\"matches\": true}, \"label\": \"F_6above_school\", \"values\": [68.9]}, {\"axis\": {\"matches\": true}, \"label\": \"Households with electricity\", \"values\": [96.5]}, {\"axis\": {\"matches\": true}, \"label\": \"Households with an improved drinking-water\", \"values\": [89.5]}, {\"axis\": {\"matches\": true}, \"label\": \"Households using improved sanitation facility\", \"values\": [59.6]}, {\"axis\": {\"matches\": true}, \"label\": \"Households using clean fuel for cooking\", \"values\": [31.1]}, {\"axis\": {\"matches\": true}, \"label\": \"Households using iodized salt\", \"values\": [93.5]}, {\"axis\": {\"matches\": true}, \"label\": \"health_insurance\", \"values\": [19.8]}], \"hovertemplate\": \"India/States/UTs=Uttarakhand<br>%{xaxis.title.text}=%{x}<br>%{yaxis.title.text}=%{y}<extra></extra>\", \"legendgroup\": \"Uttarakhand\", \"marker\": {\"color\": \"#636efa\", \"symbol\": \"circle\"}, \"name\": \"Uttarakhand\", \"showlegend\": true, \"type\": \"splom\"}, {\"dimensions\": [{\"axis\": {\"matches\": true}, \"label\": \"F_6above_school\", \"values\": [82.6]}, {\"axis\": {\"matches\": true}, \"label\": \"Households with electricity\", \"values\": [95.0]}, {\"axis\": {\"matches\": true}, \"label\": \"Households with an improved drinking-water\", \"values\": [89.9]}, {\"axis\": {\"matches\": true}, \"label\": \"Households using improved sanitation facility\", \"values\": [64.4]}, {\"axis\": {\"matches\": true}, \"label\": \"Households using clean fuel for cooking\", \"values\": [47.2]}, {\"axis\": {\"matches\": true}, \"label\": \"Households using iodized salt\", \"values\": [99.5]}, {\"axis\": {\"matches\": true}, \"label\": \"health_insurance\", \"values\": [4.1]}], \"hovertemplate\": \"India/States/UTs=Andaman and Nicobar Islands<br>%{xaxis.title.text}=%{x}<br>%{yaxis.title.text}=%{y}<extra></extra>\", \"legendgroup\": \"Andaman and Nicobar Islands\", \"marker\": {\"color\": \"#EF553B\", \"symbol\": \"circle\"}, \"name\": \"Andaman and Nicobar Islands\", \"showlegend\": true, \"type\": \"splom\"}, {\"dimensions\": [{\"axis\": {\"matches\": true}, \"label\": \"F_6above_school\", \"values\": [56.8]}, {\"axis\": {\"matches\": true}, \"label\": \"Households with electricity\", \"values\": [95.5]}, {\"axis\": {\"matches\": true}, \"label\": \"Households with an improved drinking-water\", \"values\": [74.7]}, {\"axis\": {\"matches\": true}, \"label\": \"Households using improved sanitation facility\", \"values\": [11.7]}, {\"axis\": {\"matches\": true}, \"label\": \"Households using clean fuel for cooking\", \"values\": [22.3]}, {\"axis\": {\"matches\": true}, \"label\": \"Households using iodized salt\", \"values\": [44.7]}, {\"axis\": {\"matches\": true}, \"label\": \"health_insurance\", \"values\": [21.3]}], \"hovertemplate\": \"India/States/UTs=Dadra and Nagar Haveli<br>%{xaxis.title.text}=%{x}<br>%{yaxis.title.text}=%{y}<extra></extra>\", \"legendgroup\": \"Dadra and Nagar Haveli\", \"marker\": {\"color\": \"#00cc96\", \"symbol\": \"circle\"}, \"name\": \"Dadra and Nagar Haveli\", \"showlegend\": true, \"type\": \"splom\"}, {\"dimensions\": [{\"axis\": {\"matches\": true}, \"label\": \"F_6above_school\", \"values\": [74.6]}, {\"axis\": {\"matches\": true}, \"label\": \"Households with electricity\", \"values\": [99.8]}, {\"axis\": {\"matches\": true}, \"label\": \"Households with an improved drinking-water\", \"values\": [88.0]}, {\"axis\": {\"matches\": true}, \"label\": \"Households using improved sanitation facility\", \"values\": [68.5]}, {\"axis\": {\"matches\": true}, \"label\": \"Households using clean fuel for cooking\", \"values\": [65.6]}, {\"axis\": {\"matches\": true}, \"label\": \"Households using iodized salt\", \"values\": [89.0]}, {\"axis\": {\"matches\": true}, \"label\": \"health_insurance\", \"values\": [20.4]}], \"hovertemplate\": \"India/States/UTs=Daman and Diu<br>%{xaxis.title.text}=%{x}<br>%{yaxis.title.text}=%{y}<extra></extra>\", \"legendgroup\": \"Daman and Diu\", \"marker\": {\"color\": \"#ab63fa\", \"symbol\": \"circle\"}, \"name\": \"Daman and Diu\", \"showlegend\": true, \"type\": \"splom\"}, {\"dimensions\": [{\"axis\": {\"matches\": true}, \"label\": \"F_6above_school\", \"values\": [96.9]}, {\"axis\": {\"matches\": true}, \"label\": \"Households with electricity\", \"values\": [100.0]}, {\"axis\": {\"matches\": true}, \"label\": \"Households with an improved drinking-water\", \"values\": [97.1]}, {\"axis\": {\"matches\": true}, \"label\": \"Households using improved sanitation facility\", \"values\": [99.6]}, {\"axis\": {\"matches\": true}, \"label\": \"Households using clean fuel for cooking\", \"values\": [16.5]}, {\"axis\": {\"matches\": true}, \"label\": \"Households using iodized salt\", \"values\": [99.4]}, {\"axis\": {\"matches\": true}, \"label\": \"health_insurance\", \"values\": [0.0]}], \"hovertemplate\": \"India/States/UTs=Lakshadweep<br>%{xaxis.title.text}=%{x}<br>%{yaxis.title.text}=%{y}<extra></extra>\", \"legendgroup\": \"Lakshadweep\", \"marker\": {\"color\": \"#FFA15A\", \"symbol\": \"circle\"}, \"name\": \"Lakshadweep\", \"showlegend\": true, \"type\": \"splom\"}, {\"dimensions\": [{\"axis\": {\"matches\": true}, \"label\": \"F_6above_school\", \"values\": [77.7]}, {\"axis\": {\"matches\": true}, \"label\": \"Households with electricity\", \"values\": [99.2]}, {\"axis\": {\"matches\": true}, \"label\": \"Households with an improved drinking-water\", \"values\": [99.0]}, {\"axis\": {\"matches\": true}, \"label\": \"Households using improved sanitation facility\", \"values\": [46.1]}, {\"axis\": {\"matches\": true}, \"label\": \"Households using clean fuel for cooking\", \"values\": [69.4]}, {\"axis\": {\"matches\": true}, \"label\": \"Households using iodized salt\", \"values\": [84.4]}, {\"axis\": {\"matches\": true}, \"label\": \"health_insurance\", \"values\": [20.9]}], \"hovertemplate\": \"India/States/UTs=Puducherry<br>%{xaxis.title.text}=%{x}<br>%{yaxis.title.text}=%{y}<extra></extra>\", \"legendgroup\": \"Puducherry\", \"marker\": {\"color\": \"#19d3f3\", \"symbol\": \"circle\"}, \"name\": \"Puducherry\", \"showlegend\": true, \"type\": \"splom\"}],\n",
       "                        {\"dragmode\": \"select\", \"legend\": {\"title\": {\"text\": \"India/States/UTs\"}, \"tracegroupgap\": 0}, \"margin\": {\"t\": 60}, \"template\": {\"data\": {\"bar\": [{\"error_x\": {\"color\": \"#2a3f5f\"}, \"error_y\": {\"color\": \"#2a3f5f\"}, \"marker\": {\"line\": {\"color\": \"#E5ECF6\", \"width\": 0.5}}, \"type\": \"bar\"}], \"barpolar\": [{\"marker\": {\"line\": {\"color\": \"#E5ECF6\", \"width\": 0.5}}, \"type\": \"barpolar\"}], \"carpet\": [{\"aaxis\": {\"endlinecolor\": \"#2a3f5f\", \"gridcolor\": \"white\", \"linecolor\": \"white\", \"minorgridcolor\": \"white\", \"startlinecolor\": \"#2a3f5f\"}, \"baxis\": {\"endlinecolor\": \"#2a3f5f\", \"gridcolor\": \"white\", \"linecolor\": \"white\", \"minorgridcolor\": \"white\", \"startlinecolor\": \"#2a3f5f\"}, \"type\": \"carpet\"}], \"choropleth\": [{\"colorbar\": {\"outlinewidth\": 0, \"ticks\": \"\"}, \"type\": \"choropleth\"}], \"contour\": [{\"colorbar\": {\"outlinewidth\": 0, \"ticks\": \"\"}, \"colorscale\": [[0.0, \"#0d0887\"], [0.1111111111111111, \"#46039f\"], [0.2222222222222222, \"#7201a8\"], [0.3333333333333333, \"#9c179e\"], [0.4444444444444444, \"#bd3786\"], [0.5555555555555556, \"#d8576b\"], [0.6666666666666666, \"#ed7953\"], [0.7777777777777778, \"#fb9f3a\"], [0.8888888888888888, \"#fdca26\"], [1.0, \"#f0f921\"]], \"type\": \"contour\"}], \"contourcarpet\": [{\"colorbar\": {\"outlinewidth\": 0, \"ticks\": \"\"}, \"type\": \"contourcarpet\"}], \"heatmap\": [{\"colorbar\": {\"outlinewidth\": 0, \"ticks\": \"\"}, \"colorscale\": [[0.0, \"#0d0887\"], [0.1111111111111111, \"#46039f\"], [0.2222222222222222, \"#7201a8\"], [0.3333333333333333, \"#9c179e\"], [0.4444444444444444, \"#bd3786\"], [0.5555555555555556, \"#d8576b\"], [0.6666666666666666, \"#ed7953\"], [0.7777777777777778, \"#fb9f3a\"], [0.8888888888888888, \"#fdca26\"], [1.0, \"#f0f921\"]], \"type\": \"heatmap\"}], \"heatmapgl\": [{\"colorbar\": {\"outlinewidth\": 0, \"ticks\": \"\"}, \"colorscale\": [[0.0, \"#0d0887\"], [0.1111111111111111, \"#46039f\"], [0.2222222222222222, \"#7201a8\"], [0.3333333333333333, \"#9c179e\"], [0.4444444444444444, \"#bd3786\"], [0.5555555555555556, \"#d8576b\"], [0.6666666666666666, \"#ed7953\"], [0.7777777777777778, \"#fb9f3a\"], [0.8888888888888888, \"#fdca26\"], [1.0, \"#f0f921\"]], \"type\": \"heatmapgl\"}], \"histogram\": [{\"marker\": {\"colorbar\": {\"outlinewidth\": 0, \"ticks\": \"\"}}, \"type\": \"histogram\"}], \"histogram2d\": [{\"colorbar\": {\"outlinewidth\": 0, \"ticks\": \"\"}, \"colorscale\": [[0.0, \"#0d0887\"], [0.1111111111111111, \"#46039f\"], [0.2222222222222222, \"#7201a8\"], [0.3333333333333333, \"#9c179e\"], [0.4444444444444444, \"#bd3786\"], [0.5555555555555556, \"#d8576b\"], [0.6666666666666666, \"#ed7953\"], [0.7777777777777778, \"#fb9f3a\"], [0.8888888888888888, \"#fdca26\"], [1.0, \"#f0f921\"]], \"type\": \"histogram2d\"}], \"histogram2dcontour\": [{\"colorbar\": {\"outlinewidth\": 0, \"ticks\": \"\"}, \"colorscale\": [[0.0, \"#0d0887\"], [0.1111111111111111, \"#46039f\"], [0.2222222222222222, \"#7201a8\"], [0.3333333333333333, \"#9c179e\"], [0.4444444444444444, \"#bd3786\"], [0.5555555555555556, \"#d8576b\"], [0.6666666666666666, \"#ed7953\"], [0.7777777777777778, \"#fb9f3a\"], [0.8888888888888888, \"#fdca26\"], [1.0, \"#f0f921\"]], \"type\": \"histogram2dcontour\"}], \"mesh3d\": [{\"colorbar\": {\"outlinewidth\": 0, \"ticks\": \"\"}, \"type\": \"mesh3d\"}], \"parcoords\": [{\"line\": {\"colorbar\": {\"outlinewidth\": 0, \"ticks\": \"\"}}, \"type\": \"parcoords\"}], \"pie\": [{\"automargin\": true, \"type\": \"pie\"}], \"scatter\": [{\"marker\": {\"colorbar\": {\"outlinewidth\": 0, \"ticks\": \"\"}}, \"type\": \"scatter\"}], \"scatter3d\": [{\"line\": {\"colorbar\": {\"outlinewidth\": 0, \"ticks\": \"\"}}, \"marker\": {\"colorbar\": {\"outlinewidth\": 0, \"ticks\": \"\"}}, \"type\": \"scatter3d\"}], \"scattercarpet\": [{\"marker\": {\"colorbar\": {\"outlinewidth\": 0, \"ticks\": \"\"}}, \"type\": \"scattercarpet\"}], \"scattergeo\": [{\"marker\": {\"colorbar\": {\"outlinewidth\": 0, \"ticks\": \"\"}}, \"type\": \"scattergeo\"}], \"scattergl\": [{\"marker\": {\"colorbar\": {\"outlinewidth\": 0, \"ticks\": \"\"}}, \"type\": \"scattergl\"}], \"scattermapbox\": [{\"marker\": {\"colorbar\": {\"outlinewidth\": 0, \"ticks\": \"\"}}, \"type\": \"scattermapbox\"}], \"scatterpolar\": [{\"marker\": {\"colorbar\": {\"outlinewidth\": 0, \"ticks\": \"\"}}, \"type\": \"scatterpolar\"}], \"scatterpolargl\": [{\"marker\": {\"colorbar\": {\"outlinewidth\": 0, \"ticks\": \"\"}}, \"type\": \"scatterpolargl\"}], \"scatterternary\": [{\"marker\": {\"colorbar\": {\"outlinewidth\": 0, \"ticks\": \"\"}}, \"type\": \"scatterternary\"}], \"surface\": [{\"colorbar\": {\"outlinewidth\": 0, \"ticks\": \"\"}, \"colorscale\": [[0.0, \"#0d0887\"], [0.1111111111111111, \"#46039f\"], [0.2222222222222222, \"#7201a8\"], [0.3333333333333333, \"#9c179e\"], [0.4444444444444444, \"#bd3786\"], [0.5555555555555556, \"#d8576b\"], [0.6666666666666666, \"#ed7953\"], [0.7777777777777778, \"#fb9f3a\"], [0.8888888888888888, \"#fdca26\"], [1.0, \"#f0f921\"]], \"type\": \"surface\"}], \"table\": [{\"cells\": {\"fill\": {\"color\": \"#EBF0F8\"}, \"line\": {\"color\": \"white\"}}, \"header\": {\"fill\": {\"color\": \"#C8D4E3\"}, \"line\": {\"color\": \"white\"}}, \"type\": \"table\"}]}, \"layout\": {\"annotationdefaults\": {\"arrowcolor\": \"#2a3f5f\", \"arrowhead\": 0, \"arrowwidth\": 1}, \"coloraxis\": {\"colorbar\": {\"outlinewidth\": 0, \"ticks\": \"\"}}, \"colorscale\": {\"diverging\": [[0, \"#8e0152\"], [0.1, \"#c51b7d\"], [0.2, \"#de77ae\"], [0.3, \"#f1b6da\"], [0.4, \"#fde0ef\"], [0.5, \"#f7f7f7\"], [0.6, \"#e6f5d0\"], [0.7, \"#b8e186\"], [0.8, \"#7fbc41\"], [0.9, \"#4d9221\"], [1, \"#276419\"]], \"sequential\": [[0.0, \"#0d0887\"], [0.1111111111111111, \"#46039f\"], [0.2222222222222222, \"#7201a8\"], [0.3333333333333333, \"#9c179e\"], [0.4444444444444444, \"#bd3786\"], [0.5555555555555556, \"#d8576b\"], [0.6666666666666666, \"#ed7953\"], [0.7777777777777778, \"#fb9f3a\"], [0.8888888888888888, \"#fdca26\"], [1.0, \"#f0f921\"]], \"sequentialminus\": [[0.0, \"#0d0887\"], [0.1111111111111111, \"#46039f\"], [0.2222222222222222, \"#7201a8\"], [0.3333333333333333, \"#9c179e\"], [0.4444444444444444, \"#bd3786\"], [0.5555555555555556, \"#d8576b\"], [0.6666666666666666, \"#ed7953\"], [0.7777777777777778, \"#fb9f3a\"], [0.8888888888888888, \"#fdca26\"], [1.0, \"#f0f921\"]]}, \"colorway\": [\"#636efa\", \"#EF553B\", \"#00cc96\", \"#ab63fa\", \"#FFA15A\", \"#19d3f3\", \"#FF6692\", \"#B6E880\", \"#FF97FF\", \"#FECB52\"], \"font\": {\"color\": \"#2a3f5f\"}, \"geo\": {\"bgcolor\": \"white\", \"lakecolor\": \"white\", \"landcolor\": \"#E5ECF6\", \"showlakes\": true, \"showland\": true, \"subunitcolor\": \"white\"}, \"hoverlabel\": {\"align\": \"left\"}, \"hovermode\": \"closest\", \"mapbox\": {\"style\": \"light\"}, \"paper_bgcolor\": \"white\", \"plot_bgcolor\": \"#E5ECF6\", \"polar\": {\"angularaxis\": {\"gridcolor\": \"white\", \"linecolor\": \"white\", \"ticks\": \"\"}, \"bgcolor\": \"#E5ECF6\", \"radialaxis\": {\"gridcolor\": \"white\", \"linecolor\": \"white\", \"ticks\": \"\"}}, \"scene\": {\"xaxis\": {\"backgroundcolor\": \"#E5ECF6\", \"gridcolor\": \"white\", \"gridwidth\": 2, \"linecolor\": \"white\", \"showbackground\": true, \"ticks\": \"\", \"zerolinecolor\": \"white\"}, \"yaxis\": {\"backgroundcolor\": \"#E5ECF6\", \"gridcolor\": \"white\", \"gridwidth\": 2, \"linecolor\": \"white\", \"showbackground\": true, \"ticks\": \"\", \"zerolinecolor\": \"white\"}, \"zaxis\": {\"backgroundcolor\": \"#E5ECF6\", \"gridcolor\": \"white\", \"gridwidth\": 2, \"linecolor\": \"white\", \"showbackground\": true, \"ticks\": \"\", \"zerolinecolor\": \"white\"}}, \"shapedefaults\": {\"line\": {\"color\": \"#2a3f5f\"}}, \"ternary\": {\"aaxis\": {\"gridcolor\": \"white\", \"linecolor\": \"white\", \"ticks\": \"\"}, \"baxis\": {\"gridcolor\": \"white\", \"linecolor\": \"white\", \"ticks\": \"\"}, \"bgcolor\": \"#E5ECF6\", \"caxis\": {\"gridcolor\": \"white\", \"linecolor\": \"white\", \"ticks\": \"\"}}, \"title\": {\"x\": 0.05}, \"xaxis\": {\"automargin\": true, \"gridcolor\": \"white\", \"linecolor\": \"white\", \"ticks\": \"\", \"title\": {\"standoff\": 15}, \"zerolinecolor\": \"white\", \"zerolinewidth\": 2}, \"yaxis\": {\"automargin\": true, \"gridcolor\": \"white\", \"linecolor\": \"white\", \"ticks\": \"\", \"title\": {\"standoff\": 15}, \"zerolinecolor\": \"white\", \"zerolinewidth\": 2}}}},\n",
       "                        {\"responsive\": true}\n",
       "                    ).then(function(){\n",
       "                            \n",
       "var gd = document.getElementById('f1036d8f-7f8c-4fbf-94c0-9dddd16a118b');\n",
       "var x = new MutationObserver(function (mutations, observer) {{\n",
       "        var display = window.getComputedStyle(gd).display;\n",
       "        if (!display || display === 'none') {{\n",
       "            console.log([gd, 'removed!']);\n",
       "            Plotly.purge(gd);\n",
       "            observer.disconnect();\n",
       "        }}\n",
       "}});\n",
       "\n",
       "// Listen for the removal of the full notebook cells\n",
       "var notebookContainer = gd.closest('#notebook-container');\n",
       "if (notebookContainer) {{\n",
       "    x.observe(notebookContainer, {childList: true});\n",
       "}}\n",
       "\n",
       "// Listen for the clearing of the current output cell\n",
       "var outputEl = gd.closest('.output');\n",
       "if (outputEl) {{\n",
       "    x.observe(outputEl, {childList: true});\n",
       "}}\n",
       "\n",
       "                        })\n",
       "                };\n",
       "                });\n",
       "            </script>\n",
       "        </div>"
      ]
     },
     "metadata": {},
     "output_type": "display_data"
    }
   ],
   "source": [
    "fig = px.scatter_matrix(health_insurance_NFHS4_Rural,\n",
    "    dimensions=['F_6above_school','Households with electricity','Households with an improved drinking-water','Households using improved sanitation facility','Households using clean fuel for cooking','Households using iodized salt','health_insurance'],\n",
    "    color=\"India/States/UTs\")\n",
    "fig.show()\n"
   ]
  },
  {
   "cell_type": "code",
   "execution_count": 79,
   "metadata": {},
   "outputs": [
    {
     "data": {
      "image/png": "[encoded data removed]",
      "text/plain": [
       "<Figure size 1260x1260 with 56 Axes>"
      ]
     },
     "metadata": {
      "needs_background": "light"
     },
     "output_type": "display_data"
    }
   ],
   "source": [
    "import seaborn as sns\n",
    "sns.pairplot(health_insurance_NFHS4_Rural[['F_6above_school','Households with electricity','Households with an improved drinking-water','Households using improved sanitation facility','Households using clean fuel for cooking','Households using iodized salt','health_insurance']])\n",
    "plt.xticks(rotation = 45)\n",
    "plt.show()\n"
   ]
  },
  {
   "cell_type": "code",
   "execution_count": 80,
   "metadata": {},
   "outputs": [
    {
     "data": {
      "application/vnd.plotly.v1+json": {
       "config": {
        "plotlyServerURL": "https://plot.ly"
       },
       "data": [
        {
         "hovertemplate": "India/States/UTs=India<br>health_insurance=%{x}<br>Households with electricity=%{y}<br>F_6above_school=%{marker.size}<extra></extra>",
         "legendgroup": "India",
         "marker": {
          "color": "#636efa",
          "size": [
           63
          ],
          "sizemode": "area",
          "sizeref": 0.24225000000000002,
          "symbol": "circle"
         },
         "mode": "markers",
         "name": "India",
         "orientation": "v",
         "showlegend": true,
         "type": "scatter",
         "x": [
          29
         ],
         "xaxis": "x",
         "y": [
          83.2
         ],
         "yaxis": "y"
        },
        {
         "hovertemplate": "India/States/UTs=Andhra Pradesh<br>health_insurance=%{x}<br>Households with electricity=%{y}<br>F_6above_school=%{marker.size}<extra></extra>",
         "legendgroup": "Andhra Pradesh",
         "marker": {
          "color": "#EF553B",
          "size": [
           56.6
          ],
          "sizemode": "area",
          "sizeref": 0.24225000000000002,
          "symbol": "circle"
         },
         "mode": "markers",
         "name": "Andhra Pradesh",
         "orientation": "v",
         "showlegend": true,
         "type": "scatter",
         "x": [
          80.5
         ],
         "xaxis": "x",
         "y": [
          98.4
         ],
         "yaxis": "y"
        },
        {
         "hovertemplate": "India/States/UTs=Assam<br>health_insurance=%{x}<br>Households with electricity=%{y}<br>F_6above_school=%{marker.size}<extra></extra>",
         "legendgroup": "Assam",
         "marker": {
          "color": "#00cc96",
          "size": [
           72.9
          ],
          "sizemode": "area",
          "sizeref": 0.24225000000000002,
          "symbol": "circle"
         },
         "mode": "markers",
         "name": "Assam",
         "orientation": "v",
         "showlegend": true,
         "type": "scatter",
         "x": [
          10
         ],
         "xaxis": "x",
         "y": [
          75
         ],
         "yaxis": "y"
        },
        {
         "hovertemplate": "India/States/UTs=Bihar<br>health_insurance=%{x}<br>Households with electricity=%{y}<br>F_6above_school=%{marker.size}<extra></extra>",
         "legendgroup": "Bihar",
         "marker": {
          "color": "#ab63fa",
          "size": [
           54.8
          ],
          "sizemode": "area",
          "sizeref": 0.24225000000000002,
          "symbol": "circle"
         },
         "mode": "markers",
         "name": "Bihar",
         "orientation": "v",
         "showlegend": true,
         "type": "scatter",
         "x": [
          12.7
         ],
         "xaxis": "x",
         "y": [
          54.1
         ],
         "yaxis": "y"
        },
        {
         "hovertemplate": "India/States/UTs=Chattisgarh<br>health_insurance=%{x}<br>Households with electricity=%{y}<br>F_6above_school=%{marker.size}<extra></extra>",
         "legendgroup": "Chattisgarh",
         "marker": {
          "color": "#FFA15A",
          "size": [
           63.7
          ],
          "sizemode": "area",
          "sizeref": 0.24225000000000002,
          "symbol": "circle"
         },
         "mode": "markers",
         "name": "Chattisgarh",
         "orientation": "v",
         "showlegend": true,
         "type": "scatter",
         "x": [
          71.4
         ],
         "xaxis": "x",
         "y": [
          94.5
         ],
         "yaxis": "y"
        },
        {
         "hovertemplate": "India/States/UTs=Gujarat<br>health_insurance=%{x}<br>Households with electricity=%{y}<br>F_6above_school=%{marker.size}<extra></extra>",
         "legendgroup": "Gujarat",
         "marker": {
          "color": "#19d3f3",
          "size": [
           64
          ],
          "sizemode": "area",
          "sizeref": 0.24225000000000002,
          "symbol": "circle"
         },
         "mode": "markers",
         "name": "Gujarat",
         "orientation": "v",
         "showlegend": true,
         "type": "scatter",
         "x": [
          23.3
         ],
         "xaxis": "x",
         "y": [
          93.7
         ],
         "yaxis": "y"
        },
        {
         "hovertemplate": "India/States/UTs=Haryana<br>health_insurance=%{x}<br>Households with electricity=%{y}<br>F_6above_school=%{marker.size}<extra></extra>",
         "legendgroup": "Haryana",
         "marker": {
          "color": "#FF6692",
          "size": [
           65.6
          ],
          "sizemode": "area",
          "sizeref": 0.24225000000000002,
          "symbol": "circle"
         },
         "mode": "markers",
         "name": "Haryana",
         "orientation": "v",
         "showlegend": true,
         "type": "scatter",
         "x": [
          9.3
         ],
         "xaxis": "x",
         "y": [
          98.3
         ],
         "yaxis": "y"
        },
        {
         "hovertemplate": "India/States/UTs=Jharkhand<br>health_insurance=%{x}<br>Households with electricity=%{y}<br>F_6above_school=%{marker.size}<extra></extra>",
         "legendgroup": "Jharkhand",
         "marker": {
          "color": "#B6E880",
          "size": [
           55.7
          ],
          "sizemode": "area",
          "sizeref": 0.24225000000000002,
          "symbol": "circle"
         },
         "mode": "markers",
         "name": "Jharkhand",
         "orientation": "v",
         "showlegend": true,
         "type": "scatter",
         "x": [
          13.2
         ],
         "xaxis": "x",
         "y": [
          74.4
         ],
         "yaxis": "y"
        },
        {
         "hovertemplate": "India/States/UTs=Karnataka<br>health_insurance=%{x}<br>Households with electricity=%{y}<br>F_6above_school=%{marker.size}<extra></extra>",
         "legendgroup": "Karnataka",
         "marker": {
          "color": "#FF97FF",
          "size": [
           63.1
          ],
          "sizemode": "area",
          "sizeref": 0.24225000000000002,
          "symbol": "circle"
         },
         "mode": "markers",
         "name": "Karnataka",
         "orientation": "v",
         "showlegend": true,
         "type": "scatter",
         "x": [
          31.8
         ],
         "xaxis": "x",
         "y": [
          97
         ],
         "yaxis": "y"
        },
        {
         "hovertemplate": "India/States/UTs=Kerala<br>health_insurance=%{x}<br>Households with electricity=%{y}<br>F_6above_school=%{marker.size}<extra></extra>",
         "legendgroup": "Kerala",
         "marker": {
          "color": "#FECB52",
          "size": [
           94.5
          ],
          "sizemode": "area",
          "sizeref": 0.24225000000000002,
          "symbol": "circle"
         },
         "mode": "markers",
         "name": "Kerala",
         "orientation": "v",
         "showlegend": true,
         "type": "scatter",
         "x": [
          49.8
         ],
         "xaxis": "x",
         "y": [
          98.9
         ],
         "yaxis": "y"
        },
        {
         "hovertemplate": "India/States/UTs=Madhya Pradesh<br>health_insurance=%{x}<br>Households with electricity=%{y}<br>F_6above_school=%{marker.size}<extra></extra>",
         "legendgroup": "Madhya Pradesh",
         "marker": {
          "color": "#636efa",
          "size": [
           58
          ],
          "sizemode": "area",
          "sizeref": 0.24225000000000002,
          "symbol": "circle"
         },
         "mode": "markers",
         "name": "Madhya Pradesh",
         "orientation": "v",
         "showlegend": true,
         "type": "scatter",
         "x": [
          15.4
         ],
         "xaxis": "x",
         "y": [
          86.4
         ],
         "yaxis": "y"
        },
        {
         "hovertemplate": "India/States/UTs=Maharashtra<br>health_insurance=%{x}<br>Households with electricity=%{y}<br>F_6above_school=%{marker.size}<extra></extra>",
         "legendgroup": "Maharashtra",
         "marker": {
          "color": "#EF553B",
          "size": [
           70.3
          ],
          "sizemode": "area",
          "sizeref": 0.24225000000000002,
          "symbol": "circle"
         },
         "mode": "markers",
         "name": "Maharashtra",
         "orientation": "v",
         "showlegend": true,
         "type": "scatter",
         "x": [
          13.8
         ],
         "xaxis": "x",
         "y": [
          90
         ],
         "yaxis": "y"
        },
        {
         "hovertemplate": "India/States/UTs=Odisha<br>health_insurance=%{x}<br>Households with electricity=%{y}<br>F_6above_school=%{marker.size}<extra></extra>",
         "legendgroup": "Odisha",
         "marker": {
          "color": "#00cc96",
          "size": [
           65.3
          ],
          "sizemode": "area",
          "sizeref": 0.24225000000000002,
          "symbol": "circle"
         },
         "mode": "markers",
         "name": "Odisha",
         "orientation": "v",
         "showlegend": true,
         "type": "scatter",
         "x": [
          51.9
         ],
         "xaxis": "x",
         "y": [
          83.8
         ],
         "yaxis": "y"
        },
        {
         "hovertemplate": "India/States/UTs=Punjab<br>health_insurance=%{x}<br>Households with electricity=%{y}<br>F_6above_school=%{marker.size}<extra></extra>",
         "legendgroup": "Punjab",
         "marker": {
          "color": "#ab63fa",
          "size": [
           71.4
          ],
          "sizemode": "area",
          "sizeref": 0.24225000000000002,
          "symbol": "circle"
         },
         "mode": "markers",
         "name": "Punjab",
         "orientation": "v",
         "showlegend": true,
         "type": "scatter",
         "x": [
          22.1
         ],
         "xaxis": "x",
         "y": [
          99.6
         ],
         "yaxis": "y"
        },
        {
         "hovertemplate": "India/States/UTs=Rajasthan<br>health_insurance=%{x}<br>Households with electricity=%{y}<br>F_6above_school=%{marker.size}<extra></extra>",
         "legendgroup": "Rajasthan",
         "marker": {
          "color": "#FFA15A",
          "size": [
           52
          ],
          "sizemode": "area",
          "sizeref": 0.24225000000000002,
          "symbol": "circle"
         },
         "mode": "markers",
         "name": "Rajasthan",
         "orientation": "v",
         "showlegend": true,
         "type": "scatter",
         "x": [
          18.5
         ],
         "xaxis": "x",
         "y": [
          88.4
         ],
         "yaxis": "y"
        },
        {
         "hovertemplate": "India/States/UTs=Tamil Nadu<br>health_insurance=%{x}<br>Households with electricity=%{y}<br>F_6above_school=%{marker.size}<extra></extra>",
         "legendgroup": "Tamil Nadu",
         "marker": {
          "color": "#19d3f3",
          "size": [
           70.7
          ],
          "sizemode": "area",
          "sizeref": 0.24225000000000002,
          "symbol": "circle"
         },
         "mode": "markers",
         "name": "Tamil Nadu",
         "orientation": "v",
         "showlegend": true,
         "type": "scatter",
         "x": [
          69.1
         ],
         "xaxis": "x",
         "y": [
          98.3
         ],
         "yaxis": "y"
        },
        {
         "hovertemplate": "India/States/UTs=Telangana<br>health_insurance=%{x}<br>Households with electricity=%{y}<br>F_6above_school=%{marker.size}<extra></extra>",
         "legendgroup": "Telangana",
         "marker": {
          "color": "#FF6692",
          "size": [
           50.4
          ],
          "sizemode": "area",
          "sizeref": 0.24225000000000002,
          "symbol": "circle"
         },
         "mode": "markers",
         "name": "Telangana",
         "orientation": "v",
         "showlegend": true,
         "type": "scatter",
         "x": [
          76.7
         ],
         "xaxis": "x",
         "y": [
          97.2
         ],
         "yaxis": "y"
        },
        {
         "hovertemplate": "India/States/UTs=Uttar Pradesh<br>health_insurance=%{x}<br>Households with electricity=%{y}<br>F_6above_school=%{marker.size}<extra></extra>",
         "legendgroup": "Uttar Pradesh",
         "marker": {
          "color": "#B6E880",
          "size": [
           59.6
          ],
          "sizemode": "area",
          "sizeref": 0.24225000000000002,
          "symbol": "circle"
         },
         "mode": "markers",
         "name": "Uttar Pradesh",
         "orientation": "v",
         "showlegend": true,
         "type": "scatter",
         "x": [
          5.4
         ],
         "xaxis": "x",
         "y": [
          62.3
         ],
         "yaxis": "y"
        },
        {
         "hovertemplate": "India/States/UTs=West Bengal<br>health_insurance=%{x}<br>Households with electricity=%{y}<br>F_6above_school=%{marker.size}<extra></extra>",
         "legendgroup": "West Bengal",
         "marker": {
          "color": "#FF97FF",
          "size": [
           70.4
          ],
          "sizemode": "area",
          "sizeref": 0.24225000000000002,
          "symbol": "circle"
         },
         "mode": "markers",
         "name": "West Bengal",
         "orientation": "v",
         "showlegend": true,
         "type": "scatter",
         "x": [
          36.1
         ],
         "xaxis": "x",
         "y": [
          92
         ],
         "yaxis": "y"
        },
        {
         "hovertemplate": "India/States/UTs=Arunachal Pradesh<br>health_insurance=%{x}<br>Households with electricity=%{y}<br>F_6above_school=%{marker.size}<extra></extra>",
         "legendgroup": "Arunachal Pradesh",
         "marker": {
          "color": "#FECB52",
          "size": [
           62.5
          ],
          "sizemode": "area",
          "sizeref": 0.24225000000000002,
          "symbol": "circle"
         },
         "mode": "markers",
         "name": "Arunachal Pradesh",
         "orientation": "v",
         "showlegend": true,
         "type": "scatter",
         "x": [
          59.7
         ],
         "xaxis": "x",
         "y": [
          85
         ],
         "yaxis": "y"
        },
        {
         "hovertemplate": "India/States/UTs=Delhi<br>health_insurance=%{x}<br>Households with electricity=%{y}<br>F_6above_school=%{marker.size}<extra></extra>",
         "legendgroup": "Delhi",
         "marker": {
          "color": "#636efa",
          "size": [
           78.5
          ],
          "sizemode": "area",
          "sizeref": 0.24225000000000002,
          "symbol": "circle"
         },
         "mode": "markers",
         "name": "Delhi",
         "orientation": "v",
         "showlegend": true,
         "type": "scatter",
         "x": [
          15.6
         ],
         "xaxis": "x",
         "y": [
          100
         ],
         "yaxis": "y"
        },
        {
         "hovertemplate": "India/States/UTs=Goa<br>health_insurance=%{x}<br>Households with electricity=%{y}<br>F_6above_school=%{marker.size}<extra></extra>",
         "legendgroup": "Goa",
         "marker": {
          "color": "#EF553B",
          "size": [
           81.6
          ],
          "sizemode": "area",
          "sizeref": 0.24225000000000002,
          "symbol": "circle"
         },
         "mode": "markers",
         "name": "Goa",
         "orientation": "v",
         "showlegend": true,
         "type": "scatter",
         "x": [
          11.4
         ],
         "xaxis": "x",
         "y": [
          99.9
         ],
         "yaxis": "y"
        },
        {
         "hovertemplate": "India/States/UTs=Himachal Pradesh<br>health_insurance=%{x}<br>Households with electricity=%{y}<br>F_6above_school=%{marker.size}<extra></extra>",
         "legendgroup": "Himachal Pradesh",
         "marker": {
          "color": "#00cc96",
          "size": [
           77.9
          ],
          "sizemode": "area",
          "sizeref": 0.24225000000000002,
          "symbol": "circle"
         },
         "mode": "markers",
         "name": "Himachal Pradesh",
         "orientation": "v",
         "showlegend": true,
         "type": "scatter",
         "x": [
          26.3
         ],
         "xaxis": "x",
         "y": [
          99.5
         ],
         "yaxis": "y"
        },
        {
         "hovertemplate": "India/States/UTs=Jammu & Kashmir<br>health_insurance=%{x}<br>Households with electricity=%{y}<br>F_6above_school=%{marker.size}<extra></extra>",
         "legendgroup": "Jammu & Kashmir",
         "marker": {
          "color": "#ab63fa",
          "size": [
           63
          ],
          "sizemode": "area",
          "sizeref": 0.24225000000000002,
          "symbol": "circle"
         },
         "mode": "markers",
         "name": "Jammu & Kashmir",
         "orientation": "v",
         "showlegend": true,
         "type": "scatter",
         "x": [
          3.4
         ],
         "xaxis": "x",
         "y": [
          96.3
         ],
         "yaxis": "y"
        },
        {
         "hovertemplate": "India/States/UTs=Manipur<br>health_insurance=%{x}<br>Households with electricity=%{y}<br>F_6above_school=%{marker.size}<extra></extra>",
         "legendgroup": "Manipur",
         "marker": {
          "color": "#FFA15A",
          "size": [
           79
          ],
          "sizemode": "area",
          "sizeref": 0.24225000000000002,
          "symbol": "circle"
         },
         "mode": "markers",
         "name": "Manipur",
         "orientation": "v",
         "showlegend": true,
         "type": "scatter",
         "x": [
          3.7
         ],
         "xaxis": "x",
         "y": [
          90.1
         ],
         "yaxis": "y"
        },
        {
         "hovertemplate": "India/States/UTs=Meghalaya<br>health_insurance=%{x}<br>Households with electricity=%{y}<br>F_6above_school=%{marker.size}<extra></extra>",
         "legendgroup": "Meghalaya",
         "marker": {
          "color": "#19d3f3",
          "size": [
           80.2
          ],
          "sizemode": "area",
          "sizeref": 0.24225000000000002,
          "symbol": "circle"
         },
         "mode": "markers",
         "name": "Meghalaya",
         "orientation": "v",
         "showlegend": true,
         "type": "scatter",
         "x": [
          37.9
         ],
         "xaxis": "x",
         "y": [
          89.2
         ],
         "yaxis": "y"
        },
        {
         "hovertemplate": "India/States/UTs=Mizoram<br>health_insurance=%{x}<br>Households with electricity=%{y}<br>F_6above_school=%{marker.size}<extra></extra>",
         "legendgroup": "Mizoram",
         "marker": {
          "color": "#FF6692",
          "size": [
           84.3
          ],
          "sizemode": "area",
          "sizeref": 0.24225000000000002,
          "symbol": "circle"
         },
         "mode": "markers",
         "name": "Mizoram",
         "orientation": "v",
         "showlegend": true,
         "type": "scatter",
         "x": [
          49.9
         ],
         "xaxis": "x",
         "y": [
          90.5
         ],
         "yaxis": "y"
        },
        {
         "hovertemplate": "India/States/UTs=Nagaland<br>health_insurance=%{x}<br>Households with electricity=%{y}<br>F_6above_school=%{marker.size}<extra></extra>",
         "legendgroup": "Nagaland",
         "marker": {
          "color": "#B6E880",
          "size": [
           75.6
          ],
          "sizemode": "area",
          "sizeref": 0.24225000000000002,
          "symbol": "circle"
         },
         "mode": "markers",
         "name": "Nagaland",
         "orientation": "v",
         "showlegend": true,
         "type": "scatter",
         "x": [
          7
         ],
         "xaxis": "x",
         "y": [
          95.6
         ],
         "yaxis": "y"
        },
        {
         "hovertemplate": "India/States/UTs=Sikkim<br>health_insurance=%{x}<br>Households with electricity=%{y}<br>F_6above_school=%{marker.size}<extra></extra>",
         "legendgroup": "Sikkim",
         "marker": {
          "color": "#FF97FF",
          "size": [
           77.2
          ],
          "sizemode": "area",
          "sizeref": 0.24225000000000002,
          "symbol": "circle"
         },
         "mode": "markers",
         "name": "Sikkim",
         "orientation": "v",
         "showlegend": true,
         "type": "scatter",
         "x": [
          29.2
         ],
         "xaxis": "x",
         "y": [
          99.6
         ],
         "yaxis": "y"
        },
        {
         "hovertemplate": "India/States/UTs=Tripura<br>health_insurance=%{x}<br>Households with electricity=%{y}<br>F_6above_school=%{marker.size}<extra></extra>",
         "legendgroup": "Tripura",
         "marker": {
          "color": "#FECB52",
          "size": [
           78.7
          ],
          "sizemode": "area",
          "sizeref": 0.24225000000000002,
          "symbol": "circle"
         },
         "mode": "markers",
         "name": "Tripura",
         "orientation": "v",
         "showlegend": true,
         "type": "scatter",
         "x": [
          69.5
         ],
         "xaxis": "x",
         "y": [
          90
         ],
         "yaxis": "y"
        },
        {
         "hovertemplate": "India/States/UTs=Uttarakhand<br>health_insurance=%{x}<br>Households with electricity=%{y}<br>F_6above_school=%{marker.size}<extra></extra>",
         "legendgroup": "Uttarakhand",
         "marker": {
          "color": "#636efa",
          "size": [
           68.9
          ],
          "sizemode": "area",
          "sizeref": 0.24225000000000002,
          "symbol": "circle"
         },
         "mode": "markers",
         "name": "Uttarakhand",
         "orientation": "v",
         "showlegend": true,
         "type": "scatter",
         "x": [
          19.8
         ],
         "xaxis": "x",
         "y": [
          96.5
         ],
         "yaxis": "y"
        },
        {
         "hovertemplate": "India/States/UTs=Andaman and Nicobar Islands<br>health_insurance=%{x}<br>Households with electricity=%{y}<br>F_6above_school=%{marker.size}<extra></extra>",
         "legendgroup": "Andaman and Nicobar Islands",
         "marker": {
          "color": "#EF553B",
          "size": [
           82.6
          ],
          "sizemode": "area",
          "sizeref": 0.24225000000000002,
          "symbol": "circle"
         },
         "mode": "markers",
         "name": "Andaman and Nicobar Islands",
         "orientation": "v",
         "showlegend": true,
         "type": "scatter",
         "x": [
          4.1
         ],
         "xaxis": "x",
         "y": [
          95
         ],
         "yaxis": "y"
        },
        {
         "hovertemplate": "India/States/UTs=Dadra and Nagar Haveli<br>health_insurance=%{x}<br>Households with electricity=%{y}<br>F_6above_school=%{marker.size}<extra></extra>",
         "legendgroup": "Dadra and Nagar Haveli",
         "marker": {
          "color": "#00cc96",
          "size": [
           56.8
          ],
          "sizemode": "area",
          "sizeref": 0.24225000000000002,
          "symbol": "circle"
         },
         "mode": "markers",
         "name": "Dadra and Nagar Haveli",
         "orientation": "v",
         "showlegend": true,
         "type": "scatter",
         "x": [
          21.3
         ],
         "xaxis": "x",
         "y": [
          95.5
         ],
         "yaxis": "y"
        },
        {
         "hovertemplate": "India/States/UTs=Daman and Diu<br>health_insurance=%{x}<br>Households with electricity=%{y}<br>F_6above_school=%{marker.size}<extra></extra>",
         "legendgroup": "Daman and Diu",
         "marker": {
          "color": "#ab63fa",
          "size": [
           74.6
          ],
          "sizemode": "area",
          "sizeref": 0.24225000000000002,
          "symbol": "circle"
         },
         "mode": "markers",
         "name": "Daman and Diu",
         "orientation": "v",
         "showlegend": true,
         "type": "scatter",
         "x": [
          20.4
         ],
         "xaxis": "x",
         "y": [
          99.8
         ],
         "yaxis": "y"
        },
        {
         "hovertemplate": "India/States/UTs=Lakshadweep<br>health_insurance=%{x}<br>Households with electricity=%{y}<br>F_6above_school=%{marker.size}<extra></extra>",
         "legendgroup": "Lakshadweep",
         "marker": {
          "color": "#FFA15A",
          "size": [
           96.9
          ],
          "sizemode": "area",
          "sizeref": 0.24225000000000002,
          "symbol": "circle"
         },
         "mode": "markers",
         "name": "Lakshadweep",
         "orientation": "v",
         "showlegend": true,
         "type": "scatter",
         "x": [
          0
         ],
         "xaxis": "x",
         "y": [
          100
         ],
         "yaxis": "y"
        },
        {
         "hovertemplate": "India/States/UTs=Puducherry<br>health_insurance=%{x}<br>Households with electricity=%{y}<br>F_6above_school=%{marker.size}<extra></extra>",
         "legendgroup": "Puducherry",
         "marker": {
          "color": "#19d3f3",
          "size": [
           77.7
          ],
          "sizemode": "area",
          "sizeref": 0.24225000000000002,
          "symbol": "circle"
         },
         "mode": "markers",
         "name": "Puducherry",
         "orientation": "v",
         "showlegend": true,
         "type": "scatter",
         "x": [
          20.9
         ],
         "xaxis": "x",
         "y": [
          99.2
         ],
         "yaxis": "y"
        }
       ],
       "layout": {
        "legend": {
         "itemsizing": "constant",
         "title": {
          "text": "India/States/UTs"
         },
         "tracegroupgap": 0
        },
        "margin": {
         "t": 60
        },
        "template": {
         "data": {
          "bar": [
           {
            "error_x": {
             "color": "#2a3f5f"
            },
            "error_y": {
             "color": "#2a3f5f"
            },
            "marker": {
             "line": {
              "color": "#E5ECF6",
              "width": 0.5
             }
            },
            "type": "bar"
           }
          ],
          "barpolar": [
           {
            "marker": {
             "line": {
              "color": "#E5ECF6",
              "width": 0.5
             }
            },
            "type": "barpolar"
           }
          ],
          "carpet": [
           {
            "aaxis": {
             "endlinecolor": "#2a3f5f",
             "gridcolor": "white",
             "linecolor": "white",
             "minorgridcolor": "white",
             "startlinecolor": "#2a3f5f"
            },
            "baxis": {
             "endlinecolor": "#2a3f5f",
             "gridcolor": "white",
             "linecolor": "white",
             "minorgridcolor": "white",
             "startlinecolor": "#2a3f5f"
            },
            "type": "carpet"
           }
          ],
          "choropleth": [
           {
            "colorbar": {
             "outlinewidth": 0,
             "ticks": ""
            },
            "type": "choropleth"
           }
          ],
          "contour": [
           {
            "colorbar": {
             "outlinewidth": 0,
             "ticks": ""
            },
            "colorscale": [
             [
              0,
              "#0d0887"
             ],
             [
              0.1111111111111111,
              "#46039f"
             ],
             [
              0.2222222222222222,
              "#7201a8"
             ],
             [
              0.3333333333333333,
              "#9c179e"
             ],
             [
              0.4444444444444444,
              "#bd3786"
             ],
             [
              0.5555555555555556,
              "#d8576b"
             ],
             [
              0.6666666666666666,
              "#ed7953"
             ],
             [
              0.7777777777777778,
              "#fb9f3a"
             ],
             [
              0.8888888888888888,
              "#fdca26"
             ],
             [
              1,
              "#f0f921"
             ]
            ],
            "type": "contour"
           }
          ],
          "contourcarpet": [
           {
            "colorbar": {
             "outlinewidth": 0,
             "ticks": ""
            },
            "type": "contourcarpet"
           }
          ],
          "heatmap": [
           {
            "colorbar": {
             "outlinewidth": 0,
             "ticks": ""
            },
            "colorscale": [
             [
              0,
              "#0d0887"
             ],
             [
              0.1111111111111111,
              "#46039f"
             ],
             [
              0.2222222222222222,
              "#7201a8"
             ],
             [
              0.3333333333333333,
              "#9c179e"
             ],
             [
              0.4444444444444444,
              "#bd3786"
             ],
             [
              0.5555555555555556,
              "#d8576b"
             ],
             [
              0.6666666666666666,
              "#ed7953"
             ],
             [
              0.7777777777777778,
              "#fb9f3a"
             ],
             [
              0.8888888888888888,
              "#fdca26"
             ],
             [
              1,
              "#f0f921"
             ]
            ],
            "type": "heatmap"
           }
          ],
          "heatmapgl": [
           {
            "colorbar": {
             "outlinewidth": 0,
             "ticks": ""
            },
            "colorscale": [
             [
              0,
              "#0d0887"
             ],
             [
              0.1111111111111111,
              "#46039f"
             ],
             [
              0.2222222222222222,
              "#7201a8"
             ],
             [
              0.3333333333333333,
              "#9c179e"
             ],
             [
              0.4444444444444444,
              "#bd3786"
             ],
             [
              0.5555555555555556,
              "#d8576b"
             ],
             [
              0.6666666666666666,
              "#ed7953"
             ],
             [
              0.7777777777777778,
              "#fb9f3a"
             ],
             [
              0.8888888888888888,
              "#fdca26"
             ],
             [
              1,
              "#f0f921"
             ]
            ],
            "type": "heatmapgl"
           }
          ],
          "histogram": [
           {
            "marker": {
             "colorbar": {
              "outlinewidth": 0,
              "ticks": ""
             }
            },
            "type": "histogram"
           }
          ],
          "histogram2d": [
           {
            "colorbar": {
             "outlinewidth": 0,
             "ticks": ""
            },
            "colorscale": [
             [
              0,
              "#0d0887"
             ],
             [
              0.1111111111111111,
              "#46039f"
             ],
             [
              0.2222222222222222,
              "#7201a8"
             ],
             [
              0.3333333333333333,
              "#9c179e"
             ],
             [
              0.4444444444444444,
              "#bd3786"
             ],
             [
              0.5555555555555556,
              "#d8576b"
             ],
             [
              0.6666666666666666,
              "#ed7953"
             ],
             [
              0.7777777777777778,
              "#fb9f3a"
             ],
             [
              0.8888888888888888,
              "#fdca26"
             ],
             [
              1,
              "#f0f921"
             ]
            ],
            "type": "histogram2d"
           }
          ],
          "histogram2dcontour": [
           {
            "colorbar": {
             "outlinewidth": 0,
             "ticks": ""
            },
            "colorscale": [
             [
              0,
              "#0d0887"
             ],
             [
              0.1111111111111111,
              "#46039f"
             ],
             [
              0.2222222222222222,
              "#7201a8"
             ],
             [
              0.3333333333333333,
              "#9c179e"
             ],
             [
              0.4444444444444444,
              "#bd3786"
             ],
             [
              0.5555555555555556,
              "#d8576b"
             ],
             [
              0.6666666666666666,
              "#ed7953"
             ],
             [
              0.7777777777777778,
              "#fb9f3a"
             ],
             [
              0.8888888888888888,
              "#fdca26"
             ],
             [
              1,
              "#f0f921"
             ]
            ],
            "type": "histogram2dcontour"
           }
          ],
          "mesh3d": [
           {
            "colorbar": {
             "outlinewidth": 0,
             "ticks": ""
            },
            "type": "mesh3d"
           }
          ],
          "parcoords": [
           {
            "line": {
             "colorbar": {
              "outlinewidth": 0,
              "ticks": ""
             }
            },
            "type": "parcoords"
           }
          ],
          "pie": [
           {
            "automargin": true,
            "type": "pie"
           }
          ],
          "scatter": [
           {
            "marker": {
             "colorbar": {
              "outlinewidth": 0,
              "ticks": ""
             }
            },
            "type": "scatter"
           }
          ],
          "scatter3d": [
           {
            "line": {
             "colorbar": {
              "outlinewidth": 0,
              "ticks": ""
             }
            },
            "marker": {
             "colorbar": {
              "outlinewidth": 0,
              "ticks": ""
             }
            },
            "type": "scatter3d"
           }
          ],
          "scattercarpet": [
           {
            "marker": {
             "colorbar": {
              "outlinewidth": 0,
              "ticks": ""
             }
            },
            "type": "scattercarpet"
           }
          ],
          "scattergeo": [
           {
            "marker": {
             "colorbar": {
              "outlinewidth": 0,
              "ticks": ""
             }
            },
            "type": "scattergeo"
           }
          ],
          "scattergl": [
           {
            "marker": {
             "colorbar": {
              "outlinewidth": 0,
              "ticks": ""
             }
            },
            "type": "scattergl"
           }
          ],
          "scattermapbox": [
           {
            "marker": {
             "colorbar": {
              "outlinewidth": 0,
              "ticks": ""
             }
            },
            "type": "scattermapbox"
           }
          ],
          "scatterpolar": [
           {
            "marker": {
             "colorbar": {
              "outlinewidth": 0,
              "ticks": ""
             }
            },
            "type": "scatterpolar"
           }
          ],
          "scatterpolargl": [
           {
            "marker": {
             "colorbar": {
              "outlinewidth": 0,
              "ticks": ""
             }
            },
            "type": "scatterpolargl"
           }
          ],
          "scatterternary": [
           {
            "marker": {
             "colorbar": {
              "outlinewidth": 0,
              "ticks": ""
             }
            },
            "type": "scatterternary"
           }
          ],
          "surface": [
           {
            "colorbar": {
             "outlinewidth": 0,
             "ticks": ""
            },
            "colorscale": [
             [
              0,
              "#0d0887"
             ],
             [
              0.1111111111111111,
              "#46039f"
             ],
             [
              0.2222222222222222,
              "#7201a8"
             ],
             [
              0.3333333333333333,
              "#9c179e"
             ],
             [
              0.4444444444444444,
              "#bd3786"
             ],
             [
              0.5555555555555556,
              "#d8576b"
             ],
             [
              0.6666666666666666,
              "#ed7953"
             ],
             [
              0.7777777777777778,
              "#fb9f3a"
             ],
             [
              0.8888888888888888,
              "#fdca26"
             ],
             [
              1,
              "#f0f921"
             ]
            ],
            "type": "surface"
           }
          ],
          "table": [
           {
            "cells": {
             "fill": {
              "color": "#EBF0F8"
             },
             "line": {
              "color": "white"
             }
            },
            "header": {
             "fill": {
              "color": "#C8D4E3"
             },
             "line": {
              "color": "white"
             }
            },
            "type": "table"
           }
          ]
         },
         "layout": {
          "annotationdefaults": {
           "arrowcolor": "#2a3f5f",
           "arrowhead": 0,
           "arrowwidth": 1
          },
          "coloraxis": {
           "colorbar": {
            "outlinewidth": 0,
            "ticks": ""
           }
          },
          "colorscale": {
           "diverging": [
            [
             0,
             "#8e0152"
            ],
            [
             0.1,
             "#c51b7d"
            ],
            [
             0.2,
             "#de77ae"
            ],
            [
             0.3,
             "#f1b6da"
            ],
            [
             0.4,
             "#fde0ef"
            ],
            [
             0.5,
             "#f7f7f7"
            ],
            [
             0.6,
             "#e6f5d0"
            ],
            [
             0.7,
             "#b8e186"
            ],
            [
             0.8,
             "#7fbc41"
            ],
            [
             0.9,
             "#4d9221"
            ],
            [
             1,
             "#276419"
            ]
           ],
           "sequential": [
            [
             0,
             "#0d0887"
            ],
            [
             0.1111111111111111,
             "#46039f"
            ],
            [
             0.2222222222222222,
             "#7201a8"
            ],
            [
             0.3333333333333333,
             "#9c179e"
            ],
            [
             0.4444444444444444,
             "#bd3786"
            ],
            [
             0.5555555555555556,
             "#d8576b"
            ],
            [
             0.6666666666666666,
             "#ed7953"
            ],
            [
             0.7777777777777778,
             "#fb9f3a"
            ],
            [
             0.8888888888888888,
             "#fdca26"
            ],
            [
             1,
             "#f0f921"
            ]
           ],
           "sequentialminus": [
            [
             0,
             "#0d0887"
            ],
            [
             0.1111111111111111,
             "#46039f"
            ],
            [
             0.2222222222222222,
             "#7201a8"
            ],
            [
             0.3333333333333333,
             "#9c179e"
            ],
            [
             0.4444444444444444,
             "#bd3786"
            ],
            [
             0.5555555555555556,
             "#d8576b"
            ],
            [
             0.6666666666666666,
             "#ed7953"
            ],
            [
             0.7777777777777778,
             "#fb9f3a"
            ],
            [
             0.8888888888888888,
             "#fdca26"
            ],
            [
             1,
             "#f0f921"
            ]
           ]
          },
          "colorway": [
           "#636efa",
           "#EF553B",
           "#00cc96",
           "#ab63fa",
           "#FFA15A",
           "#19d3f3",
           "#FF6692",
           "#B6E880",
           "#FF97FF",
           "#FECB52"
          ],
          "font": {
           "color": "#2a3f5f"
          },
          "geo": {
           "bgcolor": "white",
           "lakecolor": "white",
           "landcolor": "#E5ECF6",
           "showlakes": true,
           "showland": true,
           "subunitcolor": "white"
          },
          "hoverlabel": {
           "align": "left"
          },
          "hovermode": "closest",
          "mapbox": {
           "style": "light"
          },
          "paper_bgcolor": "white",
          "plot_bgcolor": "#E5ECF6",
          "polar": {
           "angularaxis": {
            "gridcolor": "white",
            "linecolor": "white",
            "ticks": ""
           },
           "bgcolor": "#E5ECF6",
           "radialaxis": {
            "gridcolor": "white",
            "linecolor": "white",
            "ticks": ""
           }
          },
          "scene": {
           "xaxis": {
            "backgroundcolor": "#E5ECF6",
            "gridcolor": "white",
            "gridwidth": 2,
            "linecolor": "white",
            "showbackground": true,
            "ticks": "",
            "zerolinecolor": "white"
           },
           "yaxis": {
            "backgroundcolor": "#E5ECF6",
            "gridcolor": "white",
            "gridwidth": 2,
            "linecolor": "white",
            "showbackground": true,
            "ticks": "",
            "zerolinecolor": "white"
           },
           "zaxis": {
            "backgroundcolor": "#E5ECF6",
            "gridcolor": "white",
            "gridwidth": 2,
            "linecolor": "white",
            "showbackground": true,
            "ticks": "",
            "zerolinecolor": "white"
           }
          },
          "shapedefaults": {
           "line": {
            "color": "#2a3f5f"
           }
          },
          "ternary": {
           "aaxis": {
            "gridcolor": "white",
            "linecolor": "white",
            "ticks": ""
           },
           "baxis": {
            "gridcolor": "white",
            "linecolor": "white",
            "ticks": ""
           },
           "bgcolor": "#E5ECF6",
           "caxis": {
            "gridcolor": "white",
            "linecolor": "white",
            "ticks": ""
           }
          },
          "title": {
           "x": 0.05
          },
          "xaxis": {
           "automargin": true,
           "gridcolor": "white",
           "linecolor": "white",
           "ticks": "",
           "title": {
            "standoff": 15
           },
           "zerolinecolor": "white",
           "zerolinewidth": 2
          },
          "yaxis": {
           "automargin": true,
           "gridcolor": "white",
           "linecolor": "white",
           "ticks": "",
           "title": {
            "standoff": 15
           },
           "zerolinecolor": "white",
           "zerolinewidth": 2
          }
         }
        },
        "xaxis": {
         "anchor": "y",
         "domain": [
          0,
          1
         ],
         "title": {
          "text": "health_insurance"
         }
        },
        "yaxis": {
         "anchor": "x",
         "domain": [
          0,
          1
         ],
         "title": {
          "text": "Households with electricity"
         }
        }
       }
      },
      "text/html": [
       "<div>\n",
       "        \n",
       "        \n",
       "            <div id=\"0b4e2b10-a5a1-4ff7-939b-f248aa293119\" class=\"plotly-graph-div\" style=\"height:525px; width:100%;\"></div>\n",
       "            <script type=\"text/javascript\">\n",
       "                require([\"plotly\"], function(Plotly) {\n",
       "                    window.PLOTLYENV=window.PLOTLYENV || {};\n",
       "                    \n",
       "                if (document.getElementById(\"0b4e2b10-a5a1-4ff7-939b-f248aa293119\")) {\n",
       "                    Plotly.newPlot(\n",
       "                        '0b4e2b10-a5a1-4ff7-939b-f248aa293119',\n",
       "                        [{\"hovertemplate\": \"India/States/UTs=India<br>health_insurance=%{x}<br>Households with electricity=%{y}<br>F_6above_school=%{marker.size}<extra></extra>\", \"legendgroup\": \"India\", \"marker\": {\"color\": \"#636efa\", \"size\": [63.0], \"sizemode\": \"area\", \"sizeref\": 0.24225000000000002, \"symbol\": \"circle\"}, \"mode\": \"markers\", \"name\": \"India\", \"orientation\": \"v\", \"showlegend\": true, \"type\": \"scatter\", \"x\": [29.0], \"xaxis\": \"x\", \"y\": [83.2], \"yaxis\": \"y\"}, {\"hovertemplate\": \"India/States/UTs=Andhra Pradesh<br>health_insurance=%{x}<br>Households with electricity=%{y}<br>F_6above_school=%{marker.size}<extra></extra>\", \"legendgroup\": \"Andhra Pradesh\", \"marker\": {\"color\": \"#EF553B\", \"size\": [56.6], \"sizemode\": \"area\", \"sizeref\": 0.24225000000000002, \"symbol\": \"circle\"}, \"mode\": \"markers\", \"name\": \"Andhra Pradesh\", \"orientation\": \"v\", \"showlegend\": true, \"type\": \"scatter\", \"x\": [80.5], \"xaxis\": \"x\", \"y\": [98.4], \"yaxis\": \"y\"}, {\"hovertemplate\": \"India/States/UTs=Assam<br>health_insurance=%{x}<br>Households with electricity=%{y}<br>F_6above_school=%{marker.size}<extra></extra>\", \"legendgroup\": \"Assam\", \"marker\": {\"color\": \"#00cc96\", \"size\": [72.9], \"sizemode\": \"area\", \"sizeref\": 0.24225000000000002, \"symbol\": \"circle\"}, \"mode\": \"markers\", \"name\": \"Assam\", \"orientation\": \"v\", \"showlegend\": true, \"type\": \"scatter\", \"x\": [10.0], \"xaxis\": \"x\", \"y\": [75.0], \"yaxis\": \"y\"}, {\"hovertemplate\": \"India/States/UTs=Bihar<br>health_insurance=%{x}<br>Households with electricity=%{y}<br>F_6above_school=%{marker.size}<extra></extra>\", \"legendgroup\": \"Bihar\", \"marker\": {\"color\": \"#ab63fa\", \"size\": [54.8], \"sizemode\": \"area\", \"sizeref\": 0.24225000000000002, \"symbol\": \"circle\"}, \"mode\": \"markers\", \"name\": \"Bihar\", \"orientation\": \"v\", \"showlegend\": true, \"type\": \"scatter\", \"x\": [12.7], \"xaxis\": \"x\", \"y\": [54.1], \"yaxis\": \"y\"}, {\"hovertemplate\": \"India/States/UTs=Chattisgarh<br>health_insurance=%{x}<br>Households with electricity=%{y}<br>F_6above_school=%{marker.size}<extra></extra>\", \"legendgroup\": \"Chattisgarh\", \"marker\": {\"color\": \"#FFA15A\", \"size\": [63.7], \"sizemode\": \"area\", \"sizeref\": 0.24225000000000002, \"symbol\": \"circle\"}, \"mode\": \"markers\", \"name\": \"Chattisgarh\", \"orientation\": \"v\", \"showlegend\": true, \"type\": \"scatter\", \"x\": [71.4], \"xaxis\": \"x\", \"y\": [94.5], \"yaxis\": \"y\"}, {\"hovertemplate\": \"India/States/UTs=Gujarat<br>health_insurance=%{x}<br>Households with electricity=%{y}<br>F_6above_school=%{marker.size}<extra></extra>\", \"legendgroup\": \"Gujarat\", \"marker\": {\"color\": \"#19d3f3\", \"size\": [64.0], \"sizemode\": \"area\", \"sizeref\": 0.24225000000000002, \"symbol\": \"circle\"}, \"mode\": \"markers\", \"name\": \"Gujarat\", \"orientation\": \"v\", \"showlegend\": true, \"type\": \"scatter\", \"x\": [23.3], \"xaxis\": \"x\", \"y\": [93.7], \"yaxis\": \"y\"}, {\"hovertemplate\": \"India/States/UTs=Haryana<br>health_insurance=%{x}<br>Households with electricity=%{y}<br>F_6above_school=%{marker.size}<extra></extra>\", \"legendgroup\": \"Haryana\", \"marker\": {\"color\": \"#FF6692\", \"size\": [65.6], \"sizemode\": \"area\", \"sizeref\": 0.24225000000000002, \"symbol\": \"circle\"}, \"mode\": \"markers\", \"name\": \"Haryana\", \"orientation\": \"v\", \"showlegend\": true, \"type\": \"scatter\", \"x\": [9.3], \"xaxis\": \"x\", \"y\": [98.3], \"yaxis\": \"y\"}, {\"hovertemplate\": \"India/States/UTs=Jharkhand<br>health_insurance=%{x}<br>Households with electricity=%{y}<br>F_6above_school=%{marker.size}<extra></extra>\", \"legendgroup\": \"Jharkhand\", \"marker\": {\"color\": \"#B6E880\", \"size\": [55.7], \"sizemode\": \"area\", \"sizeref\": 0.24225000000000002, \"symbol\": \"circle\"}, \"mode\": \"markers\", \"name\": \"Jharkhand\", \"orientation\": \"v\", \"showlegend\": true, \"type\": \"scatter\", \"x\": [13.2], \"xaxis\": \"x\", \"y\": [74.4], \"yaxis\": \"y\"}, {\"hovertemplate\": \"India/States/UTs=Karnataka<br>health_insurance=%{x}<br>Households with electricity=%{y}<br>F_6above_school=%{marker.size}<extra></extra>\", \"legendgroup\": \"Karnataka\", \"marker\": {\"color\": \"#FF97FF\", \"size\": [63.1], \"sizemode\": \"area\", \"sizeref\": 0.24225000000000002, \"symbol\": \"circle\"}, \"mode\": \"markers\", \"name\": \"Karnataka\", \"orientation\": \"v\", \"showlegend\": true, \"type\": \"scatter\", \"x\": [31.8], \"xaxis\": \"x\", \"y\": [97.0], \"yaxis\": \"y\"}, {\"hovertemplate\": \"India/States/UTs=Kerala<br>health_insurance=%{x}<br>Households with electricity=%{y}<br>F_6above_school=%{marker.size}<extra></extra>\", \"legendgroup\": \"Kerala\", \"marker\": {\"color\": \"#FECB52\", \"size\": [94.5], \"sizemode\": \"area\", \"sizeref\": 0.24225000000000002, \"symbol\": \"circle\"}, \"mode\": \"markers\", \"name\": \"Kerala\", \"orientation\": \"v\", \"showlegend\": true, \"type\": \"scatter\", \"x\": [49.8], \"xaxis\": \"x\", \"y\": [98.9], \"yaxis\": \"y\"}, {\"hovertemplate\": \"India/States/UTs=Madhya Pradesh<br>health_insurance=%{x}<br>Households with electricity=%{y}<br>F_6above_school=%{marker.size}<extra></extra>\", \"legendgroup\": \"Madhya Pradesh\", \"marker\": {\"color\": \"#636efa\", \"size\": [58.0], \"sizemode\": \"area\", \"sizeref\": 0.24225000000000002, \"symbol\": \"circle\"}, \"mode\": \"markers\", \"name\": \"Madhya Pradesh\", \"orientation\": \"v\", \"showlegend\": true, \"type\": \"scatter\", \"x\": [15.4], \"xaxis\": \"x\", \"y\": [86.4], \"yaxis\": \"y\"}, {\"hovertemplate\": \"India/States/UTs=Maharashtra<br>health_insurance=%{x}<br>Households with electricity=%{y}<br>F_6above_school=%{marker.size}<extra></extra>\", \"legendgroup\": \"Maharashtra\", \"marker\": {\"color\": \"#EF553B\", \"size\": [70.3], \"sizemode\": \"area\", \"sizeref\": 0.24225000000000002, \"symbol\": \"circle\"}, \"mode\": \"markers\", \"name\": \"Maharashtra\", \"orientation\": \"v\", \"showlegend\": true, \"type\": \"scatter\", \"x\": [13.8], \"xaxis\": \"x\", \"y\": [90.0], \"yaxis\": \"y\"}, {\"hovertemplate\": \"India/States/UTs=Odisha<br>health_insurance=%{x}<br>Households with electricity=%{y}<br>F_6above_school=%{marker.size}<extra></extra>\", \"legendgroup\": \"Odisha\", \"marker\": {\"color\": \"#00cc96\", \"size\": [65.3], \"sizemode\": \"area\", \"sizeref\": 0.24225000000000002, \"symbol\": \"circle\"}, \"mode\": \"markers\", \"name\": \"Odisha\", \"orientation\": \"v\", \"showlegend\": true, \"type\": \"scatter\", \"x\": [51.9], \"xaxis\": \"x\", \"y\": [83.8], \"yaxis\": \"y\"}, {\"hovertemplate\": \"India/States/UTs=Punjab<br>health_insurance=%{x}<br>Households with electricity=%{y}<br>F_6above_school=%{marker.size}<extra></extra>\", \"legendgroup\": \"Punjab\", \"marker\": {\"color\": \"#ab63fa\", \"size\": [71.4], \"sizemode\": \"area\", \"sizeref\": 0.24225000000000002, \"symbol\": \"circle\"}, \"mode\": \"markers\", \"name\": \"Punjab\", \"orientation\": \"v\", \"showlegend\": true, \"type\": \"scatter\", \"x\": [22.1], \"xaxis\": \"x\", \"y\": [99.6], \"yaxis\": \"y\"}, {\"hovertemplate\": \"India/States/UTs=Rajasthan<br>health_insurance=%{x}<br>Households with electricity=%{y}<br>F_6above_school=%{marker.size}<extra></extra>\", \"legendgroup\": \"Rajasthan\", \"marker\": {\"color\": \"#FFA15A\", \"size\": [52.0], \"sizemode\": \"area\", \"sizeref\": 0.24225000000000002, \"symbol\": \"circle\"}, \"mode\": \"markers\", \"name\": \"Rajasthan\", \"orientation\": \"v\", \"showlegend\": true, \"type\": \"scatter\", \"x\": [18.5], \"xaxis\": \"x\", \"y\": [88.4], \"yaxis\": \"y\"}, {\"hovertemplate\": \"India/States/UTs=Tamil Nadu<br>health_insurance=%{x}<br>Households with electricity=%{y}<br>F_6above_school=%{marker.size}<extra></extra>\", \"legendgroup\": \"Tamil Nadu\", \"marker\": {\"color\": \"#19d3f3\", \"size\": [70.7], \"sizemode\": \"area\", \"sizeref\": 0.24225000000000002, \"symbol\": \"circle\"}, \"mode\": \"markers\", \"name\": \"Tamil Nadu\", \"orientation\": \"v\", \"showlegend\": true, \"type\": \"scatter\", \"x\": [69.1], \"xaxis\": \"x\", \"y\": [98.3], \"yaxis\": \"y\"}, {\"hovertemplate\": \"India/States/UTs=Telangana<br>health_insurance=%{x}<br>Households with electricity=%{y}<br>F_6above_school=%{marker.size}<extra></extra>\", \"legendgroup\": \"Telangana\", \"marker\": {\"color\": \"#FF6692\", \"size\": [50.4], \"sizemode\": \"area\", \"sizeref\": 0.24225000000000002, \"symbol\": \"circle\"}, \"mode\": \"markers\", \"name\": \"Telangana\", \"orientation\": \"v\", \"showlegend\": true, \"type\": \"scatter\", \"x\": [76.7], \"xaxis\": \"x\", \"y\": [97.2], \"yaxis\": \"y\"}, {\"hovertemplate\": \"India/States/UTs=Uttar Pradesh<br>health_insurance=%{x}<br>Households with electricity=%{y}<br>F_6above_school=%{marker.size}<extra></extra>\", \"legendgroup\": \"Uttar Pradesh\", \"marker\": {\"color\": \"#B6E880\", \"size\": [59.6], \"sizemode\": \"area\", \"sizeref\": 0.24225000000000002, \"symbol\": \"circle\"}, \"mode\": \"markers\", \"name\": \"Uttar Pradesh\", \"orientation\": \"v\", \"showlegend\": true, \"type\": \"scatter\", \"x\": [5.4], \"xaxis\": \"x\", \"y\": [62.3], \"yaxis\": \"y\"}, {\"hovertemplate\": \"India/States/UTs=West Bengal<br>health_insurance=%{x}<br>Households with electricity=%{y}<br>F_6above_school=%{marker.size}<extra></extra>\", \"legendgroup\": \"West Bengal\", \"marker\": {\"color\": \"#FF97FF\", \"size\": [70.4], \"sizemode\": \"area\", \"sizeref\": 0.24225000000000002, \"symbol\": \"circle\"}, \"mode\": \"markers\", \"name\": \"West Bengal\", \"orientation\": \"v\", \"showlegend\": true, \"type\": \"scatter\", \"x\": [36.1], \"xaxis\": \"x\", \"y\": [92.0], \"yaxis\": \"y\"}, {\"hovertemplate\": \"India/States/UTs=Arunachal Pradesh<br>health_insurance=%{x}<br>Households with electricity=%{y}<br>F_6above_school=%{marker.size}<extra></extra>\", \"legendgroup\": \"Arunachal Pradesh\", \"marker\": {\"color\": \"#FECB52\", \"size\": [62.5], \"sizemode\": \"area\", \"sizeref\": 0.24225000000000002, \"symbol\": \"circle\"}, \"mode\": \"markers\", \"name\": \"Arunachal Pradesh\", \"orientation\": \"v\", \"showlegend\": true, \"type\": \"scatter\", \"x\": [59.7], \"xaxis\": \"x\", \"y\": [85.0], \"yaxis\": \"y\"}, {\"hovertemplate\": \"India/States/UTs=Delhi<br>health_insurance=%{x}<br>Households with electricity=%{y}<br>F_6above_school=%{marker.size}<extra></extra>\", \"legendgroup\": \"Delhi\", \"marker\": {\"color\": \"#636efa\", \"size\": [78.5], \"sizemode\": \"area\", \"sizeref\": 0.24225000000000002, \"symbol\": \"circle\"}, \"mode\": \"markers\", \"name\": \"Delhi\", \"orientation\": \"v\", \"showlegend\": true, \"type\": \"scatter\", \"x\": [15.6], \"xaxis\": \"x\", \"y\": [100.0], \"yaxis\": \"y\"}, {\"hovertemplate\": \"India/States/UTs=Goa<br>health_insurance=%{x}<br>Households with electricity=%{y}<br>F_6above_school=%{marker.size}<extra></extra>\", \"legendgroup\": \"Goa\", \"marker\": {\"color\": \"#EF553B\", \"size\": [81.6], \"sizemode\": \"area\", \"sizeref\": 0.24225000000000002, \"symbol\": \"circle\"}, \"mode\": \"markers\", \"name\": \"Goa\", \"orientation\": \"v\", \"showlegend\": true, \"type\": \"scatter\", \"x\": [11.4], \"xaxis\": \"x\", \"y\": [99.9], \"yaxis\": \"y\"}, {\"hovertemplate\": \"India/States/UTs=Himachal Pradesh<br>health_insurance=%{x}<br>Households with electricity=%{y}<br>F_6above_school=%{marker.size}<extra></extra>\", \"legendgroup\": \"Himachal Pradesh\", \"marker\": {\"color\": \"#00cc96\", \"size\": [77.9], \"sizemode\": \"area\", \"sizeref\": 0.24225000000000002, \"symbol\": \"circle\"}, \"mode\": \"markers\", \"name\": \"Himachal Pradesh\", \"orientation\": \"v\", \"showlegend\": true, \"type\": \"scatter\", \"x\": [26.3], \"xaxis\": \"x\", \"y\": [99.5], \"yaxis\": \"y\"}, {\"hovertemplate\": \"India/States/UTs=Jammu & Kashmir<br>health_insurance=%{x}<br>Households with electricity=%{y}<br>F_6above_school=%{marker.size}<extra></extra>\", \"legendgroup\": \"Jammu & Kashmir\", \"marker\": {\"color\": \"#ab63fa\", \"size\": [63.0], \"sizemode\": \"area\", \"sizeref\": 0.24225000000000002, \"symbol\": \"circle\"}, \"mode\": \"markers\", \"name\": \"Jammu & Kashmir\", \"orientation\": \"v\", \"showlegend\": true, \"type\": \"scatter\", \"x\": [3.4], \"xaxis\": \"x\", \"y\": [96.3], \"yaxis\": \"y\"}, {\"hovertemplate\": \"India/States/UTs=Manipur<br>health_insurance=%{x}<br>Households with electricity=%{y}<br>F_6above_school=%{marker.size}<extra></extra>\", \"legendgroup\": \"Manipur\", \"marker\": {\"color\": \"#FFA15A\", \"size\": [79.0], \"sizemode\": \"area\", \"sizeref\": 0.24225000000000002, \"symbol\": \"circle\"}, \"mode\": \"markers\", \"name\": \"Manipur\", \"orientation\": \"v\", \"showlegend\": true, \"type\": \"scatter\", \"x\": [3.7], \"xaxis\": \"x\", \"y\": [90.1], \"yaxis\": \"y\"}, {\"hovertemplate\": \"India/States/UTs=Meghalaya<br>health_insurance=%{x}<br>Households with electricity=%{y}<br>F_6above_school=%{marker.size}<extra></extra>\", \"legendgroup\": \"Meghalaya\", \"marker\": {\"color\": \"#19d3f3\", \"size\": [80.2], \"sizemode\": \"area\", \"sizeref\": 0.24225000000000002, \"symbol\": \"circle\"}, \"mode\": \"markers\", \"name\": \"Meghalaya\", \"orientation\": \"v\", \"showlegend\": true, \"type\": \"scatter\", \"x\": [37.9], \"xaxis\": \"x\", \"y\": [89.2], \"yaxis\": \"y\"}, {\"hovertemplate\": \"India/States/UTs=Mizoram<br>health_insurance=%{x}<br>Households with electricity=%{y}<br>F_6above_school=%{marker.size}<extra></extra>\", \"legendgroup\": \"Mizoram\", \"marker\": {\"color\": \"#FF6692\", \"size\": [84.3], \"sizemode\": \"area\", \"sizeref\": 0.24225000000000002, \"symbol\": \"circle\"}, \"mode\": \"markers\", \"name\": \"Mizoram\", \"orientation\": \"v\", \"showlegend\": true, \"type\": \"scatter\", \"x\": [49.9], \"xaxis\": \"x\", \"y\": [90.5], \"yaxis\": \"y\"}, {\"hovertemplate\": \"India/States/UTs=Nagaland<br>health_insurance=%{x}<br>Households with electricity=%{y}<br>F_6above_school=%{marker.size}<extra></extra>\", \"legendgroup\": \"Nagaland\", \"marker\": {\"color\": \"#B6E880\", \"size\": [75.6], \"sizemode\": \"area\", \"sizeref\": 0.24225000000000002, \"symbol\": \"circle\"}, \"mode\": \"markers\", \"name\": \"Nagaland\", \"orientation\": \"v\", \"showlegend\": true, \"type\": \"scatter\", \"x\": [7.0], \"xaxis\": \"x\", \"y\": [95.6], \"yaxis\": \"y\"}, {\"hovertemplate\": \"India/States/UTs=Sikkim<br>health_insurance=%{x}<br>Households with electricity=%{y}<br>F_6above_school=%{marker.size}<extra></extra>\", \"legendgroup\": \"Sikkim\", \"marker\": {\"color\": \"#FF97FF\", \"size\": [77.2], \"sizemode\": \"area\", \"sizeref\": 0.24225000000000002, \"symbol\": \"circle\"}, \"mode\": \"markers\", \"name\": \"Sikkim\", \"orientation\": \"v\", \"showlegend\": true, \"type\": \"scatter\", \"x\": [29.2], \"xaxis\": \"x\", \"y\": [99.6], \"yaxis\": \"y\"}, {\"hovertemplate\": \"India/States/UTs=Tripura<br>health_insurance=%{x}<br>Households with electricity=%{y}<br>F_6above_school=%{marker.size}<extra></extra>\", \"legendgroup\": \"Tripura\", \"marker\": {\"color\": \"#FECB52\", \"size\": [78.7], \"sizemode\": \"area\", \"sizeref\": 0.24225000000000002, \"symbol\": \"circle\"}, \"mode\": \"markers\", \"name\": \"Tripura\", \"orientation\": \"v\", \"showlegend\": true, \"type\": \"scatter\", \"x\": [69.5], \"xaxis\": \"x\", \"y\": [90.0], \"yaxis\": \"y\"}, {\"hovertemplate\": \"India/States/UTs=Uttarakhand<br>health_insurance=%{x}<br>Households with electricity=%{y}<br>F_6above_school=%{marker.size}<extra></extra>\", \"legendgroup\": \"Uttarakhand\", \"marker\": {\"color\": \"#636efa\", \"size\": [68.9], \"sizemode\": \"area\", \"sizeref\": 0.24225000000000002, \"symbol\": \"circle\"}, \"mode\": \"markers\", \"name\": \"Uttarakhand\", \"orientation\": \"v\", \"showlegend\": true, \"type\": \"scatter\", \"x\": [19.8], \"xaxis\": \"x\", \"y\": [96.5], \"yaxis\": \"y\"}, {\"hovertemplate\": \"India/States/UTs=Andaman and Nicobar Islands<br>health_insurance=%{x}<br>Households with electricity=%{y}<br>F_6above_school=%{marker.size}<extra></extra>\", \"legendgroup\": \"Andaman and Nicobar Islands\", \"marker\": {\"color\": \"#EF553B\", \"size\": [82.6], \"sizemode\": \"area\", \"sizeref\": 0.24225000000000002, \"symbol\": \"circle\"}, \"mode\": \"markers\", \"name\": \"Andaman and Nicobar Islands\", \"orientation\": \"v\", \"showlegend\": true, \"type\": \"scatter\", \"x\": [4.1], \"xaxis\": \"x\", \"y\": [95.0], \"yaxis\": \"y\"}, {\"hovertemplate\": \"India/States/UTs=Dadra and Nagar Haveli<br>health_insurance=%{x}<br>Households with electricity=%{y}<br>F_6above_school=%{marker.size}<extra></extra>\", \"legendgroup\": \"Dadra and Nagar Haveli\", \"marker\": {\"color\": \"#00cc96\", \"size\": [56.8], \"sizemode\": \"area\", \"sizeref\": 0.24225000000000002, \"symbol\": \"circle\"}, \"mode\": \"markers\", \"name\": \"Dadra and Nagar Haveli\", \"orientation\": \"v\", \"showlegend\": true, \"type\": \"scatter\", \"x\": [21.3], \"xaxis\": \"x\", \"y\": [95.5], \"yaxis\": \"y\"}, {\"hovertemplate\": \"India/States/UTs=Daman and Diu<br>health_insurance=%{x}<br>Households with electricity=%{y}<br>F_6above_school=%{marker.size}<extra></extra>\", \"legendgroup\": \"Daman and Diu\", \"marker\": {\"color\": \"#ab63fa\", \"size\": [74.6], \"sizemode\": \"area\", \"sizeref\": 0.24225000000000002, \"symbol\": \"circle\"}, \"mode\": \"markers\", \"name\": \"Daman and Diu\", \"orientation\": \"v\", \"showlegend\": true, \"type\": \"scatter\", \"x\": [20.4], \"xaxis\": \"x\", \"y\": [99.8], \"yaxis\": \"y\"}, {\"hovertemplate\": \"India/States/UTs=Lakshadweep<br>health_insurance=%{x}<br>Households with electricity=%{y}<br>F_6above_school=%{marker.size}<extra></extra>\", \"legendgroup\": \"Lakshadweep\", \"marker\": {\"color\": \"#FFA15A\", \"size\": [96.9], \"sizemode\": \"area\", \"sizeref\": 0.24225000000000002, \"symbol\": \"circle\"}, \"mode\": \"markers\", \"name\": \"Lakshadweep\", \"orientation\": \"v\", \"showlegend\": true, \"type\": \"scatter\", \"x\": [0.0], \"xaxis\": \"x\", \"y\": [100.0], \"yaxis\": \"y\"}, {\"hovertemplate\": \"India/States/UTs=Puducherry<br>health_insurance=%{x}<br>Households with electricity=%{y}<br>F_6above_school=%{marker.size}<extra></extra>\", \"legendgroup\": \"Puducherry\", \"marker\": {\"color\": \"#19d3f3\", \"size\": [77.7], \"sizemode\": \"area\", \"sizeref\": 0.24225000000000002, \"symbol\": \"circle\"}, \"mode\": \"markers\", \"name\": \"Puducherry\", \"orientation\": \"v\", \"showlegend\": true, \"type\": \"scatter\", \"x\": [20.9], \"xaxis\": \"x\", \"y\": [99.2], \"yaxis\": \"y\"}],\n",
       "                        {\"legend\": {\"itemsizing\": \"constant\", \"title\": {\"text\": \"India/States/UTs\"}, \"tracegroupgap\": 0}, \"margin\": {\"t\": 60}, \"template\": {\"data\": {\"bar\": [{\"error_x\": {\"color\": \"#2a3f5f\"}, \"error_y\": {\"color\": \"#2a3f5f\"}, \"marker\": {\"line\": {\"color\": \"#E5ECF6\", \"width\": 0.5}}, \"type\": \"bar\"}], \"barpolar\": [{\"marker\": {\"line\": {\"color\": \"#E5ECF6\", \"width\": 0.5}}, \"type\": \"barpolar\"}], \"carpet\": [{\"aaxis\": {\"endlinecolor\": \"#2a3f5f\", \"gridcolor\": \"white\", \"linecolor\": \"white\", \"minorgridcolor\": \"white\", \"startlinecolor\": \"#2a3f5f\"}, \"baxis\": {\"endlinecolor\": \"#2a3f5f\", \"gridcolor\": \"white\", \"linecolor\": \"white\", \"minorgridcolor\": \"white\", \"startlinecolor\": \"#2a3f5f\"}, \"type\": \"carpet\"}], \"choropleth\": [{\"colorbar\": {\"outlinewidth\": 0, \"ticks\": \"\"}, \"type\": \"choropleth\"}], \"contour\": [{\"colorbar\": {\"outlinewidth\": 0, \"ticks\": \"\"}, \"colorscale\": [[0.0, \"#0d0887\"], [0.1111111111111111, \"#46039f\"], [0.2222222222222222, \"#7201a8\"], [0.3333333333333333, \"#9c179e\"], [0.4444444444444444, \"#bd3786\"], [0.5555555555555556, \"#d8576b\"], [0.6666666666666666, \"#ed7953\"], [0.7777777777777778, \"#fb9f3a\"], [0.8888888888888888, \"#fdca26\"], [1.0, \"#f0f921\"]], \"type\": \"contour\"}], \"contourcarpet\": [{\"colorbar\": {\"outlinewidth\": 0, \"ticks\": \"\"}, \"type\": \"contourcarpet\"}], \"heatmap\": [{\"colorbar\": {\"outlinewidth\": 0, \"ticks\": \"\"}, \"colorscale\": [[0.0, \"#0d0887\"], [0.1111111111111111, \"#46039f\"], [0.2222222222222222, \"#7201a8\"], [0.3333333333333333, \"#9c179e\"], [0.4444444444444444, \"#bd3786\"], [0.5555555555555556, \"#d8576b\"], [0.6666666666666666, \"#ed7953\"], [0.7777777777777778, \"#fb9f3a\"], [0.8888888888888888, \"#fdca26\"], [1.0, \"#f0f921\"]], \"type\": \"heatmap\"}], \"heatmapgl\": [{\"colorbar\": {\"outlinewidth\": 0, \"ticks\": \"\"}, \"colorscale\": [[0.0, \"#0d0887\"], [0.1111111111111111, \"#46039f\"], [0.2222222222222222, \"#7201a8\"], [0.3333333333333333, \"#9c179e\"], [0.4444444444444444, \"#bd3786\"], [0.5555555555555556, \"#d8576b\"], [0.6666666666666666, \"#ed7953\"], [0.7777777777777778, \"#fb9f3a\"], [0.8888888888888888, \"#fdca26\"], [1.0, \"#f0f921\"]], \"type\": \"heatmapgl\"}], \"histogram\": [{\"marker\": {\"colorbar\": {\"outlinewidth\": 0, \"ticks\": \"\"}}, \"type\": \"histogram\"}], \"histogram2d\": [{\"colorbar\": {\"outlinewidth\": 0, \"ticks\": \"\"}, \"colorscale\": [[0.0, \"#0d0887\"], [0.1111111111111111, \"#46039f\"], [0.2222222222222222, \"#7201a8\"], [0.3333333333333333, \"#9c179e\"], [0.4444444444444444, \"#bd3786\"], [0.5555555555555556, \"#d8576b\"], [0.6666666666666666, \"#ed7953\"], [0.7777777777777778, \"#fb9f3a\"], [0.8888888888888888, \"#fdca26\"], [1.0, \"#f0f921\"]], \"type\": \"histogram2d\"}], \"histogram2dcontour\": [{\"colorbar\": {\"outlinewidth\": 0, \"ticks\": \"\"}, \"colorscale\": [[0.0, \"#0d0887\"], [0.1111111111111111, \"#46039f\"], [0.2222222222222222, \"#7201a8\"], [0.3333333333333333, \"#9c179e\"], [0.4444444444444444, \"#bd3786\"], [0.5555555555555556, \"#d8576b\"], [0.6666666666666666, \"#ed7953\"], [0.7777777777777778, \"#fb9f3a\"], [0.8888888888888888, \"#fdca26\"], [1.0, \"#f0f921\"]], \"type\": \"histogram2dcontour\"}], \"mesh3d\": [{\"colorbar\": {\"outlinewidth\": 0, \"ticks\": \"\"}, \"type\": \"mesh3d\"}], \"parcoords\": [{\"line\": {\"colorbar\": {\"outlinewidth\": 0, \"ticks\": \"\"}}, \"type\": \"parcoords\"}], \"pie\": [{\"automargin\": true, \"type\": \"pie\"}], \"scatter\": [{\"marker\": {\"colorbar\": {\"outlinewidth\": 0, \"ticks\": \"\"}}, \"type\": \"scatter\"}], \"scatter3d\": [{\"line\": {\"colorbar\": {\"outlinewidth\": 0, \"ticks\": \"\"}}, \"marker\": {\"colorbar\": {\"outlinewidth\": 0, \"ticks\": \"\"}}, \"type\": \"scatter3d\"}], \"scattercarpet\": [{\"marker\": {\"colorbar\": {\"outlinewidth\": 0, \"ticks\": \"\"}}, \"type\": \"scattercarpet\"}], \"scattergeo\": [{\"marker\": {\"colorbar\": {\"outlinewidth\": 0, \"ticks\": \"\"}}, \"type\": \"scattergeo\"}], \"scattergl\": [{\"marker\": {\"colorbar\": {\"outlinewidth\": 0, \"ticks\": \"\"}}, \"type\": \"scattergl\"}], \"scattermapbox\": [{\"marker\": {\"colorbar\": {\"outlinewidth\": 0, \"ticks\": \"\"}}, \"type\": \"scattermapbox\"}], \"scatterpolar\": [{\"marker\": {\"colorbar\": {\"outlinewidth\": 0, \"ticks\": \"\"}}, \"type\": \"scatterpolar\"}], \"scatterpolargl\": [{\"marker\": {\"colorbar\": {\"outlinewidth\": 0, \"ticks\": \"\"}}, \"type\": \"scatterpolargl\"}], \"scatterternary\": [{\"marker\": {\"colorbar\": {\"outlinewidth\": 0, \"ticks\": \"\"}}, \"type\": \"scatterternary\"}], \"surface\": [{\"colorbar\": {\"outlinewidth\": 0, \"ticks\": \"\"}, \"colorscale\": [[0.0, \"#0d0887\"], [0.1111111111111111, \"#46039f\"], [0.2222222222222222, \"#7201a8\"], [0.3333333333333333, \"#9c179e\"], [0.4444444444444444, \"#bd3786\"], [0.5555555555555556, \"#d8576b\"], [0.6666666666666666, \"#ed7953\"], [0.7777777777777778, \"#fb9f3a\"], [0.8888888888888888, \"#fdca26\"], [1.0, \"#f0f921\"]], \"type\": \"surface\"}], \"table\": [{\"cells\": {\"fill\": {\"color\": \"#EBF0F8\"}, \"line\": {\"color\": \"white\"}}, \"header\": {\"fill\": {\"color\": \"#C8D4E3\"}, \"line\": {\"color\": \"white\"}}, \"type\": \"table\"}]}, \"layout\": {\"annotationdefaults\": {\"arrowcolor\": \"#2a3f5f\", \"arrowhead\": 0, \"arrowwidth\": 1}, \"coloraxis\": {\"colorbar\": {\"outlinewidth\": 0, \"ticks\": \"\"}}, \"colorscale\": {\"diverging\": [[0, \"#8e0152\"], [0.1, \"#c51b7d\"], [0.2, \"#de77ae\"], [0.3, \"#f1b6da\"], [0.4, \"#fde0ef\"], [0.5, \"#f7f7f7\"], [0.6, \"#e6f5d0\"], [0.7, \"#b8e186\"], [0.8, \"#7fbc41\"], [0.9, \"#4d9221\"], [1, \"#276419\"]], \"sequential\": [[0.0, \"#0d0887\"], [0.1111111111111111, \"#46039f\"], [0.2222222222222222, \"#7201a8\"], [0.3333333333333333, \"#9c179e\"], [0.4444444444444444, \"#bd3786\"], [0.5555555555555556, \"#d8576b\"], [0.6666666666666666, \"#ed7953\"], [0.7777777777777778, \"#fb9f3a\"], [0.8888888888888888, \"#fdca26\"], [1.0, \"#f0f921\"]], \"sequentialminus\": [[0.0, \"#0d0887\"], [0.1111111111111111, \"#46039f\"], [0.2222222222222222, \"#7201a8\"], [0.3333333333333333, \"#9c179e\"], [0.4444444444444444, \"#bd3786\"], [0.5555555555555556, \"#d8576b\"], [0.6666666666666666, \"#ed7953\"], [0.7777777777777778, \"#fb9f3a\"], [0.8888888888888888, \"#fdca26\"], [1.0, \"#f0f921\"]]}, \"colorway\": [\"#636efa\", \"#EF553B\", \"#00cc96\", \"#ab63fa\", \"#FFA15A\", \"#19d3f3\", \"#FF6692\", \"#B6E880\", \"#FF97FF\", \"#FECB52\"], \"font\": {\"color\": \"#2a3f5f\"}, \"geo\": {\"bgcolor\": \"white\", \"lakecolor\": \"white\", \"landcolor\": \"#E5ECF6\", \"showlakes\": true, \"showland\": true, \"subunitcolor\": \"white\"}, \"hoverlabel\": {\"align\": \"left\"}, \"hovermode\": \"closest\", \"mapbox\": {\"style\": \"light\"}, \"paper_bgcolor\": \"white\", \"plot_bgcolor\": \"#E5ECF6\", \"polar\": {\"angularaxis\": {\"gridcolor\": \"white\", \"linecolor\": \"white\", \"ticks\": \"\"}, \"bgcolor\": \"#E5ECF6\", \"radialaxis\": {\"gridcolor\": \"white\", \"linecolor\": \"white\", \"ticks\": \"\"}}, \"scene\": {\"xaxis\": {\"backgroundcolor\": \"#E5ECF6\", \"gridcolor\": \"white\", \"gridwidth\": 2, \"linecolor\": \"white\", \"showbackground\": true, \"ticks\": \"\", \"zerolinecolor\": \"white\"}, \"yaxis\": {\"backgroundcolor\": \"#E5ECF6\", \"gridcolor\": \"white\", \"gridwidth\": 2, \"linecolor\": \"white\", \"showbackground\": true, \"ticks\": \"\", \"zerolinecolor\": \"white\"}, \"zaxis\": {\"backgroundcolor\": \"#E5ECF6\", \"gridcolor\": \"white\", \"gridwidth\": 2, \"linecolor\": \"white\", \"showbackground\": true, \"ticks\": \"\", \"zerolinecolor\": \"white\"}}, \"shapedefaults\": {\"line\": {\"color\": \"#2a3f5f\"}}, \"ternary\": {\"aaxis\": {\"gridcolor\": \"white\", \"linecolor\": \"white\", \"ticks\": \"\"}, \"baxis\": {\"gridcolor\": \"white\", \"linecolor\": \"white\", \"ticks\": \"\"}, \"bgcolor\": \"#E5ECF6\", \"caxis\": {\"gridcolor\": \"white\", \"linecolor\": \"white\", \"ticks\": \"\"}}, \"title\": {\"x\": 0.05}, \"xaxis\": {\"automargin\": true, \"gridcolor\": \"white\", \"linecolor\": \"white\", \"ticks\": \"\", \"title\": {\"standoff\": 15}, \"zerolinecolor\": \"white\", \"zerolinewidth\": 2}, \"yaxis\": {\"automargin\": true, \"gridcolor\": \"white\", \"linecolor\": \"white\", \"ticks\": \"\", \"title\": {\"standoff\": 15}, \"zerolinecolor\": \"white\", \"zerolinewidth\": 2}}}, \"xaxis\": {\"anchor\": \"y\", \"domain\": [0.0, 1.0], \"title\": {\"text\": \"health_insurance\"}}, \"yaxis\": {\"anchor\": \"x\", \"domain\": [0.0, 1.0], \"title\": {\"text\": \"Households with electricity\"}}},\n",
       "                        {\"responsive\": true}\n",
       "                    ).then(function(){\n",
       "                            \n",
       "var gd = document.getElementById('0b4e2b10-a5a1-4ff7-939b-f248aa293119');\n",
       "var x = new MutationObserver(function (mutations, observer) {{\n",
       "        var display = window.getComputedStyle(gd).display;\n",
       "        if (!display || display === 'none') {{\n",
       "            console.log([gd, 'removed!']);\n",
       "            Plotly.purge(gd);\n",
       "            observer.disconnect();\n",
       "        }}\n",
       "}});\n",
       "\n",
       "// Listen for the removal of the full notebook cells\n",
       "var notebookContainer = gd.closest('#notebook-container');\n",
       "if (notebookContainer) {{\n",
       "    x.observe(notebookContainer, {childList: true});\n",
       "}}\n",
       "\n",
       "// Listen for the clearing of the current output cell\n",
       "var outputEl = gd.closest('.output');\n",
       "if (outputEl) {{\n",
       "    x.observe(outputEl, {childList: true});\n",
       "}}\n",
       "\n",
       "                        })\n",
       "                };\n",
       "                });\n",
       "            </script>\n",
       "        </div>"
      ]
     },
     "metadata": {},
     "output_type": "display_data"
    }
   ],
   "source": [
    "import plotly.express as px\n",
    "\n",
    "fig = px.scatter(health_insurance_NFHS4_Rural, x=\"health_insurance\", y=\"Households with electricity\",color='India/States/UTs',size='F_6above_school')\n",
    "fig.show()"
   ]
  },
  {
   "cell_type": "code",
   "execution_count": 84,
   "metadata": {},
   "outputs": [
    {
     "data": {
      "application/vnd.plotly.v1+json": {
       "config": {
        "plotlyServerURL": "https://plot.ly"
       },
       "data": [
        {
         "hovertemplate": "India/States/UTs=India<br>health_insurance_urban=%{x}<br>Households with electricity=%{y}<br>F_6above_school=%{marker.size}<extra></extra>",
         "legendgroup": "India",
         "marker": {
          "color": "#636efa",
          "size": [
           80.6
          ],
          "sizemode": "area",
          "sizeref": 0.24125,
          "symbol": "circle"
         },
         "mode": "markers",
         "name": "India",
         "orientation": "v",
         "showlegend": true,
         "type": "scatter",
         "x": [
          28.2
         ],
         "xaxis": "x",
         "y": [
          97.5
         ],
         "yaxis": "y"
        },
        {
         "hovertemplate": "India/States/UTs=Andhra Pradesh<br>health_insurance_urban=%{x}<br>Households with electricity=%{y}<br>F_6above_school=%{marker.size}<extra></extra>",
         "legendgroup": "Andhra Pradesh",
         "marker": {
          "color": "#EF553B",
          "size": [
           74.3
          ],
          "sizemode": "area",
          "sizeref": 0.24125,
          "symbol": "circle"
         },
         "mode": "markers",
         "name": "Andhra Pradesh",
         "orientation": "v",
         "showlegend": true,
         "type": "scatter",
         "x": [
          61.1
         ],
         "xaxis": "x",
         "y": [
          99.6
         ],
         "yaxis": "y"
        },
        {
         "hovertemplate": "India/States/UTs=Assam<br>health_insurance_urban=%{x}<br>Households with electricity=%{y}<br>F_6above_school=%{marker.size}<extra></extra>",
         "legendgroup": "Assam",
         "marker": {
          "color": "#00cc96",
          "size": [
           88.1
          ],
          "sizemode": "area",
          "sizeref": 0.24125,
          "symbol": "circle"
         },
         "mode": "markers",
         "name": "Assam",
         "orientation": "v",
         "showlegend": true,
         "type": "scatter",
         "x": [
          12.6
         ],
         "xaxis": "x",
         "y": [
          95.5
         ],
         "yaxis": "y"
        },
        {
         "hovertemplate": "India/States/UTs=Bihar<br>health_insurance_urban=%{x}<br>Households with electricity=%{y}<br>F_6above_school=%{marker.size}<extra></extra>",
         "legendgroup": "Bihar",
         "marker": {
          "color": "#ab63fa",
          "size": [
           71.5
          ],
          "sizemode": "area",
          "sizeref": 0.24125,
          "symbol": "circle"
         },
         "mode": "markers",
         "name": "Bihar",
         "orientation": "v",
         "showlegend": true,
         "type": "scatter",
         "x": [
          9.8
         ],
         "xaxis": "x",
         "y": [
          88.2
         ],
         "yaxis": "y"
        },
        {
         "hovertemplate": "India/States/UTs=Chattisgarh<br>health_insurance_urban=%{x}<br>Households with electricity=%{y}<br>F_6above_school=%{marker.size}<extra></extra>",
         "legendgroup": "Chattisgarh",
         "marker": {
          "color": "#FFA15A",
          "size": [
           80.5
          ],
          "sizemode": "area",
          "sizeref": 0.24125,
          "symbol": "circle"
         },
         "mode": "markers",
         "name": "Chattisgarh",
         "orientation": "v",
         "showlegend": true,
         "type": "scatter",
         "x": [
          59.4
         ],
         "xaxis": "x",
         "y": [
          99.2
         ],
         "yaxis": "y"
        },
        {
         "hovertemplate": "India/States/UTs=Gujarat<br>health_insurance_urban=%{x}<br>Households with electricity=%{y}<br>F_6above_school=%{marker.size}<extra></extra>",
         "legendgroup": "Gujarat",
         "marker": {
          "color": "#19d3f3",
          "size": [
           82.6
          ],
          "sizemode": "area",
          "sizeref": 0.24125,
          "symbol": "circle"
         },
         "mode": "markers",
         "name": "Gujarat",
         "orientation": "v",
         "showlegend": true,
         "type": "scatter",
         "x": [
          22.9
         ],
         "xaxis": "x",
         "y": [
          98.6
         ],
         "yaxis": "y"
        },
        {
         "hovertemplate": "India/States/UTs=Haryana<br>health_insurance_urban=%{x}<br>Households with electricity=%{y}<br>F_6above_school=%{marker.size}<extra></extra>",
         "legendgroup": "Haryana",
         "marker": {
          "color": "#FF6692",
          "size": [
           77.8
          ],
          "sizemode": "area",
          "sizeref": 0.24125,
          "symbol": "circle"
         },
         "mode": "markers",
         "name": "Haryana",
         "orientation": "v",
         "showlegend": true,
         "type": "scatter",
         "x": [
          16.3
         ],
         "xaxis": "x",
         "y": [
          99.6
         ],
         "yaxis": "y"
        },
        {
         "hovertemplate": "India/States/UTs=Jharkhand<br>health_insurance_urban=%{x}<br>Households with electricity=%{y}<br>F_6above_school=%{marker.size}<extra></extra>",
         "legendgroup": "Jharkhand",
         "marker": {
          "color": "#B6E880",
          "size": [
           77.1
          ],
          "sizemode": "area",
          "sizeref": 0.24125,
          "symbol": "circle"
         },
         "mode": "markers",
         "name": "Jharkhand",
         "orientation": "v",
         "showlegend": true,
         "type": "scatter",
         "x": [
          13.7
         ],
         "xaxis": "x",
         "y": [
          96.7
         ],
         "yaxis": "y"
        },
        {
         "hovertemplate": "India/States/UTs=Karnataka<br>health_insurance_urban=%{x}<br>Households with electricity=%{y}<br>F_6above_school=%{marker.size}<extra></extra>",
         "legendgroup": "Karnataka",
         "marker": {
          "color": "#FF97FF",
          "size": [
           81.4
          ],
          "sizemode": "area",
          "sizeref": 0.24125,
          "symbol": "circle"
         },
         "mode": "markers",
         "name": "Karnataka",
         "orientation": "v",
         "showlegend": true,
         "type": "scatter",
         "x": [
          23.4
         ],
         "xaxis": "x",
         "y": [
          99
         ],
         "yaxis": "y"
        },
        {
         "hovertemplate": "India/States/UTs=Kerala<br>health_insurance_urban=%{x}<br>Households with electricity=%{y}<br>F_6above_school=%{marker.size}<extra></extra>",
         "legendgroup": "Kerala",
         "marker": {
          "color": "#FECB52",
          "size": [
           96.5
          ],
          "sizemode": "area",
          "sizeref": 0.24125,
          "symbol": "circle"
         },
         "mode": "markers",
         "name": "Kerala",
         "orientation": "v",
         "showlegend": true,
         "type": "scatter",
         "x": [
          45.3
         ],
         "xaxis": "x",
         "y": [
          99.5
         ],
         "yaxis": "y"
        },
        {
         "hovertemplate": "India/States/UTs=Madhya Pradesh<br>health_insurance_urban=%{x}<br>Households with electricity=%{y}<br>F_6above_school=%{marker.size}<extra></extra>",
         "legendgroup": "Madhya Pradesh",
         "marker": {
          "color": "#636efa",
          "size": [
           78.1
          ],
          "sizemode": "area",
          "sizeref": 0.24125,
          "symbol": "circle"
         },
         "mode": "markers",
         "name": "Madhya Pradesh",
         "orientation": "v",
         "showlegend": true,
         "type": "scatter",
         "x": [
          23
         ],
         "xaxis": "x",
         "y": [
          97.9
         ],
         "yaxis": "y"
        },
        {
         "hovertemplate": "India/States/UTs=Maharashtra<br>health_insurance_urban=%{x}<br>Households with electricity=%{y}<br>F_6above_school=%{marker.size}<extra></extra>",
         "legendgroup": "Maharashtra",
         "marker": {
          "color": "#EF553B",
          "size": [
           85.3
          ],
          "sizemode": "area",
          "sizeref": 0.24125,
          "symbol": "circle"
         },
         "mode": "markers",
         "name": "Maharashtra",
         "orientation": "v",
         "showlegend": true,
         "type": "scatter",
         "x": [
          16.2
         ],
         "xaxis": "x",
         "y": [
          95.1
         ],
         "yaxis": "y"
        },
        {
         "hovertemplate": "India/States/UTs=Odisha<br>health_insurance_urban=%{x}<br>Households with electricity=%{y}<br>F_6above_school=%{marker.size}<extra></extra>",
         "legendgroup": "Odisha",
         "marker": {
          "color": "#00cc96",
          "size": [
           80
          ],
          "sizemode": "area",
          "sizeref": 0.24125,
          "symbol": "circle"
         },
         "mode": "markers",
         "name": "Odisha",
         "orientation": "v",
         "showlegend": true,
         "type": "scatter",
         "x": [
          27
         ],
         "xaxis": "x",
         "y": [
          94.3
         ],
         "yaxis": "y"
        },
        {
         "hovertemplate": "India/States/UTs=Punjab<br>health_insurance_urban=%{x}<br>Households with electricity=%{y}<br>F_6above_school=%{marker.size}<extra></extra>",
         "legendgroup": "Punjab",
         "marker": {
          "color": "#ab63fa",
          "size": [
           83.1
          ],
          "sizemode": "area",
          "sizeref": 0.24125,
          "symbol": "circle"
         },
         "mode": "markers",
         "name": "Punjab",
         "orientation": "v",
         "showlegend": true,
         "type": "scatter",
         "x": [
          19.8
         ],
         "xaxis": "x",
         "y": [
          99.6
         ],
         "yaxis": "y"
        },
        {
         "hovertemplate": "India/States/UTs=Rajasthan<br>health_insurance_urban=%{x}<br>Households with electricity=%{y}<br>F_6above_school=%{marker.size}<extra></extra>",
         "legendgroup": "Rajasthan",
         "marker": {
          "color": "#FFA15A",
          "size": [
           73.7
          ],
          "sizemode": "area",
          "sizeref": 0.24125,
          "symbol": "circle"
         },
         "mode": "markers",
         "name": "Rajasthan",
         "orientation": "v",
         "showlegend": true,
         "type": "scatter",
         "x": [
          19.4
         ],
         "xaxis": "x",
         "y": [
          98.6
         ],
         "yaxis": "y"
        },
        {
         "hovertemplate": "India/States/UTs=Tamil Nadu<br>health_insurance_urban=%{x}<br>Households with electricity=%{y}<br>F_6above_school=%{marker.size}<extra></extra>",
         "legendgroup": "Tamil Nadu",
         "marker": {
          "color": "#19d3f3",
          "size": [
           83.6
          ],
          "sizemode": "area",
          "sizeref": 0.24125,
          "symbol": "circle"
         },
         "mode": "markers",
         "name": "Tamil Nadu",
         "orientation": "v",
         "showlegend": true,
         "type": "scatter",
         "x": [
          59.2
         ],
         "xaxis": "x",
         "y": [
          99.2
         ],
         "yaxis": "y"
        },
        {
         "hovertemplate": "India/States/UTs=Telangana<br>health_insurance_urban=%{x}<br>Households with electricity=%{y}<br>F_6above_school=%{marker.size}<extra></extra>",
         "legendgroup": "Telangana",
         "marker": {
          "color": "#FF6692",
          "size": [
           76.6
          ],
          "sizemode": "area",
          "sizeref": 0.24125,
          "symbol": "circle"
         },
         "mode": "markers",
         "name": "Telangana",
         "orientation": "v",
         "showlegend": true,
         "type": "scatter",
         "x": [
          53.5
         ],
         "xaxis": "x",
         "y": [
          99.5
         ],
         "yaxis": "y"
        },
        {
         "hovertemplate": "India/States/UTs=Uttar Pradesh<br>health_insurance_urban=%{x}<br>Households with electricity=%{y}<br>F_6above_school=%{marker.size}<extra></extra>",
         "legendgroup": "Uttar Pradesh",
         "marker": {
          "color": "#B6E880",
          "size": [
           73.4
          ],
          "sizemode": "area",
          "sizeref": 0.24125,
          "symbol": "circle"
         },
         "mode": "markers",
         "name": "Uttar Pradesh",
         "orientation": "v",
         "showlegend": true,
         "type": "scatter",
         "x": [
          7.9
         ],
         "xaxis": "x",
         "y": [
          94.9
         ],
         "yaxis": "y"
        },
        {
         "hovertemplate": "India/States/UTs=West Bengal<br>health_insurance_urban=%{x}<br>Households with electricity=%{y}<br>F_6above_school=%{marker.size}<extra></extra>",
         "legendgroup": "West Bengal",
         "marker": {
          "color": "#FF97FF",
          "size": [
           81.5
          ],
          "sizemode": "area",
          "sizeref": 0.24125,
          "symbol": "circle"
         },
         "mode": "markers",
         "name": "West Bengal",
         "orientation": "v",
         "showlegend": true,
         "type": "scatter",
         "x": [
          28.1
         ],
         "xaxis": "x",
         "y": [
          97.2
         ],
         "yaxis": "y"
        },
        {
         "hovertemplate": "India/States/UTs=Arunachal Pradesh<br>health_insurance_urban=%{x}<br>Households with electricity=%{y}<br>F_6above_school=%{marker.size}<extra></extra>",
         "legendgroup": "Arunachal Pradesh",
         "marker": {
          "color": "#FECB52",
          "size": [
           81.5
          ],
          "sizemode": "area",
          "sizeref": 0.24125,
          "symbol": "circle"
         },
         "mode": "markers",
         "name": "Arunachal Pradesh",
         "orientation": "v",
         "showlegend": true,
         "type": "scatter",
         "x": [
          54.3
         ],
         "xaxis": "x",
         "y": [
          99.2
         ],
         "yaxis": "y"
        },
        {
         "hovertemplate": "India/States/UTs=Delhi<br>health_insurance_urban=%{x}<br>Households with electricity=%{y}<br>F_6above_school=%{marker.size}<extra></extra>",
         "legendgroup": "Delhi",
         "marker": {
          "color": "#636efa",
          "size": [
           81.7
          ],
          "sizemode": "area",
          "sizeref": 0.24125,
          "symbol": "circle"
         },
         "mode": "markers",
         "name": "Delhi",
         "orientation": "v",
         "showlegend": true,
         "type": "scatter",
         "x": [
          16.4
         ],
         "xaxis": "x",
         "y": [
          99.8
         ],
         "yaxis": "y"
        },
        {
         "hovertemplate": "India/States/UTs=Goa<br>health_insurance_urban=%{x}<br>Households with electricity=%{y}<br>F_6above_school=%{marker.size}<extra></extra>",
         "legendgroup": "Goa",
         "marker": {
          "color": "#EF553B",
          "size": [
           87.1
          ],
          "sizemode": "area",
          "sizeref": 0.24125,
          "symbol": "circle"
         },
         "mode": "markers",
         "name": "Goa",
         "orientation": "v",
         "showlegend": true,
         "type": "scatter",
         "x": [
          18.5
         ],
         "xaxis": "x",
         "y": [
          99.8
         ],
         "yaxis": "y"
        },
        {
         "hovertemplate": "India/States/UTs=Himachal Pradesh<br>health_insurance_urban=%{x}<br>Households with electricity=%{y}<br>F_6above_school=%{marker.size}<extra></extra>",
         "legendgroup": "Himachal Pradesh",
         "marker": {
          "color": "#00cc96",
          "size": [
           89.8
          ],
          "sizemode": "area",
          "sizeref": 0.24125,
          "symbol": "circle"
         },
         "mode": "markers",
         "name": "Himachal Pradesh",
         "orientation": "v",
         "showlegend": true,
         "type": "scatter",
         "x": [
          21.5
         ],
         "xaxis": "x",
         "y": [
          99.4
         ],
         "yaxis": "y"
        },
        {
         "hovertemplate": "India/States/UTs=Jammu & Kashmir<br>health_insurance_urban=%{x}<br>Households with electricity=%{y}<br>F_6above_school=%{marker.size}<extra></extra>",
         "legendgroup": "Jammu & Kashmir",
         "marker": {
          "color": "#ab63fa",
          "size": [
           71.8
          ],
          "sizemode": "area",
          "sizeref": 0.24125,
          "symbol": "circle"
         },
         "mode": "markers",
         "name": "Jammu & Kashmir",
         "orientation": "v",
         "showlegend": true,
         "type": "scatter",
         "x": [
          5.9
         ],
         "xaxis": "x",
         "y": [
          99.7
         ],
         "yaxis": "y"
        },
        {
         "hovertemplate": "India/States/UTs=Manipur<br>health_insurance_urban=%{x}<br>Households with electricity=%{y}<br>F_6above_school=%{marker.size}<extra></extra>",
         "legendgroup": "Manipur",
         "marker": {
          "color": "#FFA15A",
          "size": [
           85.8
          ],
          "sizemode": "area",
          "sizeref": 0.24125,
          "symbol": "circle"
         },
         "mode": "markers",
         "name": "Manipur",
         "orientation": "v",
         "showlegend": true,
         "type": "scatter",
         "x": [
          3.5
         ],
         "xaxis": "x",
         "y": [
          95.9
         ],
         "yaxis": "y"
        },
        {
         "hovertemplate": "India/States/UTs=Meghalaya<br>health_insurance_urban=%{x}<br>Households with electricity=%{y}<br>F_6above_school=%{marker.size}<extra></extra>",
         "legendgroup": "Meghalaya",
         "marker": {
          "color": "#19d3f3",
          "size": [
           93.2
          ],
          "sizemode": "area",
          "sizeref": 0.24125,
          "symbol": "circle"
         },
         "mode": "markers",
         "name": "Meghalaya",
         "orientation": "v",
         "showlegend": true,
         "type": "scatter",
         "x": [
          23.2
         ],
         "xaxis": "x",
         "y": [
          99
         ],
         "yaxis": "y"
        },
        {
         "hovertemplate": "India/States/UTs=Mizoram<br>health_insurance_urban=%{x}<br>Households with electricity=%{y}<br>F_6above_school=%{marker.size}<extra></extra>",
         "legendgroup": "Mizoram",
         "marker": {
          "color": "#FF6692",
          "size": [
           95.9
          ],
          "sizemode": "area",
          "sizeref": 0.24125,
          "symbol": "circle"
         },
         "mode": "markers",
         "name": "Mizoram",
         "orientation": "v",
         "showlegend": true,
         "type": "scatter",
         "x": [
          42.3
         ],
         "xaxis": "x",
         "y": [
          99.7
         ],
         "yaxis": "y"
        },
        {
         "hovertemplate": "India/States/UTs=Nagaland<br>health_insurance_urban=%{x}<br>Households with electricity=%{y}<br>F_6above_school=%{marker.size}<extra></extra>",
         "legendgroup": "Nagaland",
         "marker": {
          "color": "#B6E880",
          "size": [
           90.2
          ],
          "sizemode": "area",
          "sizeref": 0.24125,
          "symbol": "circle"
         },
         "mode": "markers",
         "name": "Nagaland",
         "orientation": "v",
         "showlegend": true,
         "type": "scatter",
         "x": [
          4.3
         ],
         "xaxis": "x",
         "y": [
          99.6
         ],
         "yaxis": "y"
        },
        {
         "hovertemplate": "India/States/UTs=Sikkim<br>health_insurance_urban=%{x}<br>Households with electricity=%{y}<br>F_6above_school=%{marker.size}<extra></extra>",
         "legendgroup": "Sikkim",
         "marker": {
          "color": "#FF97FF",
          "size": [
           85.6
          ],
          "sizemode": "area",
          "sizeref": 0.24125,
          "symbol": "circle"
         },
         "mode": "markers",
         "name": "Sikkim",
         "orientation": "v",
         "showlegend": true,
         "type": "scatter",
         "x": [
          32.6
         ],
         "xaxis": "x",
         "y": [
          99
         ],
         "yaxis": "y"
        },
        {
         "hovertemplate": "India/States/UTs=Tripura<br>health_insurance_urban=%{x}<br>Households with electricity=%{y}<br>F_6above_school=%{marker.size}<extra></extra>",
         "legendgroup": "Tripura",
         "marker": {
          "color": "#FECB52",
          "size": [
           89.5
          ],
          "sizemode": "area",
          "sizeref": 0.24125,
          "symbol": "circle"
         },
         "mode": "markers",
         "name": "Tripura",
         "orientation": "v",
         "showlegend": true,
         "type": "scatter",
         "x": [
          31.7
         ],
         "xaxis": "x",
         "y": [
          99
         ],
         "yaxis": "y"
        },
        {
         "hovertemplate": "India/States/UTs=Uttarakhand<br>health_insurance_urban=%{x}<br>Households with electricity=%{y}<br>F_6above_school=%{marker.size}<extra></extra>",
         "legendgroup": "Uttarakhand",
         "marker": {
          "color": "#636efa",
          "size": [
           80.2
          ],
          "sizemode": "area",
          "sizeref": 0.24125,
          "symbol": "circle"
         },
         "mode": "markers",
         "name": "Uttarakhand",
         "orientation": "v",
         "showlegend": true,
         "type": "scatter",
         "x": [
          18.9
         ],
         "xaxis": "x",
         "y": [
          99.4
         ],
         "yaxis": "y"
        },
        {
         "hovertemplate": "India/States/UTs=Andaman and Nicobar Islands<br>health_insurance_urban=%{x}<br>Households with electricity=%{y}<br>F_6above_school=%{marker.size}<extra></extra>",
         "legendgroup": "Andaman and Nicobar Islands",
         "marker": {
          "color": "#EF553B",
          "size": [
           87.6
          ],
          "sizemode": "area",
          "sizeref": 0.24125,
          "symbol": "circle"
         },
         "mode": "markers",
         "name": "Andaman and Nicobar Islands",
         "orientation": "v",
         "showlegend": true,
         "type": "scatter",
         "x": [
          7.7
         ],
         "xaxis": "x",
         "y": [
          99.7
         ],
         "yaxis": "y"
        },
        {
         "hovertemplate": "India/States/UTs=Dadra and Nagar Haveli<br>health_insurance_urban=%{x}<br>Households with electricity=%{y}<br>F_6above_school=%{marker.size}<extra></extra>",
         "legendgroup": "Dadra and Nagar Haveli",
         "marker": {
          "color": "#00cc96",
          "size": [
           85.3
          ],
          "sizemode": "area",
          "sizeref": 0.24125,
          "symbol": "circle"
         },
         "mode": "markers",
         "name": "Dadra and Nagar Haveli",
         "orientation": "v",
         "showlegend": true,
         "type": "scatter",
         "x": [
          39.9
         ],
         "xaxis": "x",
         "y": [
          99.3
         ],
         "yaxis": "y"
        },
        {
         "hovertemplate": "India/States/UTs=Daman and Diu<br>health_insurance_urban=%{x}<br>Households with electricity=%{y}<br>F_6above_school=%{marker.size}<extra></extra>",
         "legendgroup": "Daman and Diu",
         "marker": {
          "color": "#ab63fa",
          "size": [
           83.9
          ],
          "sizemode": "area",
          "sizeref": 0.24125,
          "symbol": "circle"
         },
         "mode": "markers",
         "name": "Daman and Diu",
         "orientation": "v",
         "showlegend": true,
         "type": "scatter",
         "x": [
          16
         ],
         "xaxis": "x",
         "y": [
          100
         ],
         "yaxis": "y"
        },
        {
         "hovertemplate": "India/States/UTs=Lakshadweep<br>health_insurance_urban=%{x}<br>Households with electricity=%{y}<br>F_6above_school=%{marker.size}<extra></extra>",
         "legendgroup": "Lakshadweep",
         "marker": {
          "color": "#FFA15A",
          "size": [
           89.9
          ],
          "sizemode": "area",
          "sizeref": 0.24125,
          "symbol": "circle"
         },
         "mode": "markers",
         "name": "Lakshadweep",
         "orientation": "v",
         "showlegend": true,
         "type": "scatter",
         "x": [
          3.6
         ],
         "xaxis": "x",
         "y": [
          99.9
         ],
         "yaxis": "y"
        },
        {
         "hovertemplate": "India/States/UTs=Puducherry<br>health_insurance_urban=%{x}<br>Households with electricity=%{y}<br>F_6above_school=%{marker.size}<extra></extra>",
         "legendgroup": "Puducherry",
         "marker": {
          "color": "#19d3f3",
          "size": [
           83
          ],
          "sizemode": "area",
          "sizeref": 0.24125,
          "symbol": "circle"
         },
         "mode": "markers",
         "name": "Puducherry",
         "orientation": "v",
         "showlegend": true,
         "type": "scatter",
         "x": [
          38.1
         ],
         "xaxis": "x",
         "y": [
          99.8
         ],
         "yaxis": "y"
        }
       ],
       "layout": {
        "legend": {
         "itemsizing": "constant",
         "title": {
          "text": "India/States/UTs"
         },
         "tracegroupgap": 0
        },
        "margin": {
         "t": 60
        },
        "template": {
         "data": {
          "bar": [
           {
            "error_x": {
             "color": "#2a3f5f"
            },
            "error_y": {
             "color": "#2a3f5f"
            },
            "marker": {
             "line": {
              "color": "#E5ECF6",
              "width": 0.5
             }
            },
            "type": "bar"
           }
          ],
          "barpolar": [
           {
            "marker": {
             "line": {
              "color": "#E5ECF6",
              "width": 0.5
             }
            },
            "type": "barpolar"
           }
          ],
          "carpet": [
           {
            "aaxis": {
             "endlinecolor": "#2a3f5f",
             "gridcolor": "white",
             "linecolor": "white",
             "minorgridcolor": "white",
             "startlinecolor": "#2a3f5f"
            },
            "baxis": {
             "endlinecolor": "#2a3f5f",
             "gridcolor": "white",
             "linecolor": "white",
             "minorgridcolor": "white",
             "startlinecolor": "#2a3f5f"
            },
            "type": "carpet"
           }
          ],
          "choropleth": [
           {
            "colorbar": {
             "outlinewidth": 0,
             "ticks": ""
            },
            "type": "choropleth"
           }
          ],
          "contour": [
           {
            "colorbar": {
             "outlinewidth": 0,
             "ticks": ""
            },
            "colorscale": [
             [
              0,
              "#0d0887"
             ],
             [
              0.1111111111111111,
              "#46039f"
             ],
             [
              0.2222222222222222,
              "#7201a8"
             ],
             [
              0.3333333333333333,
              "#9c179e"
             ],
             [
              0.4444444444444444,
              "#bd3786"
             ],
             [
              0.5555555555555556,
              "#d8576b"
             ],
             [
              0.6666666666666666,
              "#ed7953"
             ],
             [
              0.7777777777777778,
              "#fb9f3a"
             ],
             [
              0.8888888888888888,
              "#fdca26"
             ],
             [
              1,
              "#f0f921"
             ]
            ],
            "type": "contour"
           }
          ],
          "contourcarpet": [
           {
            "colorbar": {
             "outlinewidth": 0,
             "ticks": ""
            },
            "type": "contourcarpet"
           }
          ],
          "heatmap": [
           {
            "colorbar": {
             "outlinewidth": 0,
             "ticks": ""
            },
            "colorscale": [
             [
              0,
              "#0d0887"
             ],
             [
              0.1111111111111111,
              "#46039f"
             ],
             [
              0.2222222222222222,
              "#7201a8"
             ],
             [
              0.3333333333333333,
              "#9c179e"
             ],
             [
              0.4444444444444444,
              "#bd3786"
             ],
             [
              0.5555555555555556,
              "#d8576b"
             ],
             [
              0.6666666666666666,
              "#ed7953"
             ],
             [
              0.7777777777777778,
              "#fb9f3a"
             ],
             [
              0.8888888888888888,
              "#fdca26"
             ],
             [
              1,
              "#f0f921"
             ]
            ],
            "type": "heatmap"
           }
          ],
          "heatmapgl": [
           {
            "colorbar": {
             "outlinewidth": 0,
             "ticks": ""
            },
            "colorscale": [
             [
              0,
              "#0d0887"
             ],
             [
              0.1111111111111111,
              "#46039f"
             ],
             [
              0.2222222222222222,
              "#7201a8"
             ],
             [
              0.3333333333333333,
              "#9c179e"
             ],
             [
              0.4444444444444444,
              "#bd3786"
             ],
             [
              0.5555555555555556,
              "#d8576b"
             ],
             [
              0.6666666666666666,
              "#ed7953"
             ],
             [
              0.7777777777777778,
              "#fb9f3a"
             ],
             [
              0.8888888888888888,
              "#fdca26"
             ],
             [
              1,
              "#f0f921"
             ]
            ],
            "type": "heatmapgl"
           }
          ],
          "histogram": [
           {
            "marker": {
             "colorbar": {
              "outlinewidth": 0,
              "ticks": ""
             }
            },
            "type": "histogram"
           }
          ],
          "histogram2d": [
           {
            "colorbar": {
             "outlinewidth": 0,
             "ticks": ""
            },
            "colorscale": [
             [
              0,
              "#0d0887"
             ],
             [
              0.1111111111111111,
              "#46039f"
             ],
             [
              0.2222222222222222,
              "#7201a8"
             ],
             [
              0.3333333333333333,
              "#9c179e"
             ],
             [
              0.4444444444444444,
              "#bd3786"
             ],
             [
              0.5555555555555556,
              "#d8576b"
             ],
             [
              0.6666666666666666,
              "#ed7953"
             ],
             [
              0.7777777777777778,
              "#fb9f3a"
             ],
             [
              0.8888888888888888,
              "#fdca26"
             ],
             [
              1,
              "#f0f921"
             ]
            ],
            "type": "histogram2d"
           }
          ],
          "histogram2dcontour": [
           {
            "colorbar": {
             "outlinewidth": 0,
             "ticks": ""
            },
            "colorscale": [
             [
              0,
              "#0d0887"
             ],
             [
              0.1111111111111111,
              "#46039f"
             ],
             [
              0.2222222222222222,
              "#7201a8"
             ],
             [
              0.3333333333333333,
              "#9c179e"
             ],
             [
              0.4444444444444444,
              "#bd3786"
             ],
             [
              0.5555555555555556,
              "#d8576b"
             ],
             [
              0.6666666666666666,
              "#ed7953"
             ],
             [
              0.7777777777777778,
              "#fb9f3a"
             ],
             [
              0.8888888888888888,
              "#fdca26"
             ],
             [
              1,
              "#f0f921"
             ]
            ],
            "type": "histogram2dcontour"
           }
          ],
          "mesh3d": [
           {
            "colorbar": {
             "outlinewidth": 0,
             "ticks": ""
            },
            "type": "mesh3d"
           }
          ],
          "parcoords": [
           {
            "line": {
             "colorbar": {
              "outlinewidth": 0,
              "ticks": ""
             }
            },
            "type": "parcoords"
           }
          ],
          "pie": [
           {
            "automargin": true,
            "type": "pie"
           }
          ],
          "scatter": [
           {
            "marker": {
             "colorbar": {
              "outlinewidth": 0,
              "ticks": ""
             }
            },
            "type": "scatter"
           }
          ],
          "scatter3d": [
           {
            "line": {
             "colorbar": {
              "outlinewidth": 0,
              "ticks": ""
             }
            },
            "marker": {
             "colorbar": {
              "outlinewidth": 0,
              "ticks": ""
             }
            },
            "type": "scatter3d"
           }
          ],
          "scattercarpet": [
           {
            "marker": {
             "colorbar": {
              "outlinewidth": 0,
              "ticks": ""
             }
            },
            "type": "scattercarpet"
           }
          ],
          "scattergeo": [
           {
            "marker": {
             "colorbar": {
              "outlinewidth": 0,
              "ticks": ""
             }
            },
            "type": "scattergeo"
           }
          ],
          "scattergl": [
           {
            "marker": {
             "colorbar": {
              "outlinewidth": 0,
              "ticks": ""
             }
            },
            "type": "scattergl"
           }
          ],
          "scattermapbox": [
           {
            "marker": {
             "colorbar": {
              "outlinewidth": 0,
              "ticks": ""
             }
            },
            "type": "scattermapbox"
           }
          ],
          "scatterpolar": [
           {
            "marker": {
             "colorbar": {
              "outlinewidth": 0,
              "ticks": ""
             }
            },
            "type": "scatterpolar"
           }
          ],
          "scatterpolargl": [
           {
            "marker": {
             "colorbar": {
              "outlinewidth": 0,
              "ticks": ""
             }
            },
            "type": "scatterpolargl"
           }
          ],
          "scatterternary": [
           {
            "marker": {
             "colorbar": {
              "outlinewidth": 0,
              "ticks": ""
             }
            },
            "type": "scatterternary"
           }
          ],
          "surface": [
           {
            "colorbar": {
             "outlinewidth": 0,
             "ticks": ""
            },
            "colorscale": [
             [
              0,
              "#0d0887"
             ],
             [
              0.1111111111111111,
              "#46039f"
             ],
             [
              0.2222222222222222,
              "#7201a8"
             ],
             [
              0.3333333333333333,
              "#9c179e"
             ],
             [
              0.4444444444444444,
              "#bd3786"
             ],
             [
              0.5555555555555556,
              "#d8576b"
             ],
             [
              0.6666666666666666,
              "#ed7953"
             ],
             [
              0.7777777777777778,
              "#fb9f3a"
             ],
             [
              0.8888888888888888,
              "#fdca26"
             ],
             [
              1,
              "#f0f921"
             ]
            ],
            "type": "surface"
           }
          ],
          "table": [
           {
            "cells": {
             "fill": {
              "color": "#EBF0F8"
             },
             "line": {
              "color": "white"
             }
            },
            "header": {
             "fill": {
              "color": "#C8D4E3"
             },
             "line": {
              "color": "white"
             }
            },
            "type": "table"
           }
          ]
         },
         "layout": {
          "annotationdefaults": {
           "arrowcolor": "#2a3f5f",
           "arrowhead": 0,
           "arrowwidth": 1
          },
          "coloraxis": {
           "colorbar": {
            "outlinewidth": 0,
            "ticks": ""
           }
          },
          "colorscale": {
           "diverging": [
            [
             0,
             "#8e0152"
            ],
            [
             0.1,
             "#c51b7d"
            ],
            [
             0.2,
             "#de77ae"
            ],
            [
             0.3,
             "#f1b6da"
            ],
            [
             0.4,
             "#fde0ef"
            ],
            [
             0.5,
             "#f7f7f7"
            ],
            [
             0.6,
             "#e6f5d0"
            ],
            [
             0.7,
             "#b8e186"
            ],
            [
             0.8,
             "#7fbc41"
            ],
            [
             0.9,
             "#4d9221"
            ],
            [
             1,
             "#276419"
            ]
           ],
           "sequential": [
            [
             0,
             "#0d0887"
            ],
            [
             0.1111111111111111,
             "#46039f"
            ],
            [
             0.2222222222222222,
             "#7201a8"
            ],
            [
             0.3333333333333333,
             "#9c179e"
            ],
            [
             0.4444444444444444,
             "#bd3786"
            ],
            [
             0.5555555555555556,
             "#d8576b"
            ],
            [
             0.6666666666666666,
             "#ed7953"
            ],
            [
             0.7777777777777778,
             "#fb9f3a"
            ],
            [
             0.8888888888888888,
             "#fdca26"
            ],
            [
             1,
             "#f0f921"
            ]
           ],
           "sequentialminus": [
            [
             0,
             "#0d0887"
            ],
            [
             0.1111111111111111,
             "#46039f"
            ],
            [
             0.2222222222222222,
             "#7201a8"
            ],
            [
             0.3333333333333333,
             "#9c179e"
            ],
            [
             0.4444444444444444,
             "#bd3786"
            ],
            [
             0.5555555555555556,
             "#d8576b"
            ],
            [
             0.6666666666666666,
             "#ed7953"
            ],
            [
             0.7777777777777778,
             "#fb9f3a"
            ],
            [
             0.8888888888888888,
             "#fdca26"
            ],
            [
             1,
             "#f0f921"
            ]
           ]
          },
          "colorway": [
           "#636efa",
           "#EF553B",
           "#00cc96",
           "#ab63fa",
           "#FFA15A",
           "#19d3f3",
           "#FF6692",
           "#B6E880",
           "#FF97FF",
           "#FECB52"
          ],
          "font": {
           "color": "#2a3f5f"
          },
          "geo": {
           "bgcolor": "white",
           "lakecolor": "white",
           "landcolor": "#E5ECF6",
           "showlakes": true,
           "showland": true,
           "subunitcolor": "white"
          },
          "hoverlabel": {
           "align": "left"
          },
          "hovermode": "closest",
          "mapbox": {
           "style": "light"
          },
          "paper_bgcolor": "white",
          "plot_bgcolor": "#E5ECF6",
          "polar": {
           "angularaxis": {
            "gridcolor": "white",
            "linecolor": "white",
            "ticks": ""
           },
           "bgcolor": "#E5ECF6",
           "radialaxis": {
            "gridcolor": "white",
            "linecolor": "white",
            "ticks": ""
           }
          },
          "scene": {
           "xaxis": {
            "backgroundcolor": "#E5ECF6",
            "gridcolor": "white",
            "gridwidth": 2,
            "linecolor": "white",
            "showbackground": true,
            "ticks": "",
            "zerolinecolor": "white"
           },
           "yaxis": {
            "backgroundcolor": "#E5ECF6",
            "gridcolor": "white",
            "gridwidth": 2,
            "linecolor": "white",
            "showbackground": true,
            "ticks": "",
            "zerolinecolor": "white"
           },
           "zaxis": {
            "backgroundcolor": "#E5ECF6",
            "gridcolor": "white",
            "gridwidth": 2,
            "linecolor": "white",
            "showbackground": true,
            "ticks": "",
            "zerolinecolor": "white"
           }
          },
          "shapedefaults": {
           "line": {
            "color": "#2a3f5f"
           }
          },
          "ternary": {
           "aaxis": {
            "gridcolor": "white",
            "linecolor": "white",
            "ticks": ""
           },
           "baxis": {
            "gridcolor": "white",
            "linecolor": "white",
            "ticks": ""
           },
           "bgcolor": "#E5ECF6",
           "caxis": {
            "gridcolor": "white",
            "linecolor": "white",
            "ticks": ""
           }
          },
          "title": {
           "x": 0.05
          },
          "xaxis": {
           "automargin": true,
           "gridcolor": "white",
           "linecolor": "white",
           "ticks": "",
           "title": {
            "standoff": 15
           },
           "zerolinecolor": "white",
           "zerolinewidth": 2
          },
          "yaxis": {
           "automargin": true,
           "gridcolor": "white",
           "linecolor": "white",
           "ticks": "",
           "title": {
            "standoff": 15
           },
           "zerolinecolor": "white",
           "zerolinewidth": 2
          }
         }
        },
        "xaxis": {
         "anchor": "y",
         "domain": [
          0,
          1
         ],
         "title": {
          "text": "health_insurance_urban"
         }
        },
        "yaxis": {
         "anchor": "x",
         "domain": [
          0,
          1
         ],
         "title": {
          "text": "Households with electricity"
         }
        }
       }
      },
      "text/html": [
       "<div>\n",
       "        \n",
       "        \n",
       "            <div id=\"3eb2ee6a-36f1-44d6-b045-558648a0d1e9\" class=\"plotly-graph-div\" style=\"height:525px; width:100%;\"></div>\n",
       "            <script type=\"text/javascript\">\n",
       "                require([\"plotly\"], function(Plotly) {\n",
       "                    window.PLOTLYENV=window.PLOTLYENV || {};\n",
       "                    \n",
       "                if (document.getElementById(\"3eb2ee6a-36f1-44d6-b045-558648a0d1e9\")) {\n",
       "                    Plotly.newPlot(\n",
       "                        '3eb2ee6a-36f1-44d6-b045-558648a0d1e9',\n",
       "                        [{\"hovertemplate\": \"India/States/UTs=India<br>health_insurance_urban=%{x}<br>Households with electricity=%{y}<br>F_6above_school=%{marker.size}<extra></extra>\", \"legendgroup\": \"India\", \"marker\": {\"color\": \"#636efa\", \"size\": [80.6], \"sizemode\": \"area\", \"sizeref\": 0.24125, \"symbol\": \"circle\"}, \"mode\": \"markers\", \"name\": \"India\", \"orientation\": \"v\", \"showlegend\": true, \"type\": \"scatter\", \"x\": [28.2], \"xaxis\": \"x\", \"y\": [97.5], \"yaxis\": \"y\"}, {\"hovertemplate\": \"India/States/UTs=Andhra Pradesh<br>health_insurance_urban=%{x}<br>Households with electricity=%{y}<br>F_6above_school=%{marker.size}<extra></extra>\", \"legendgroup\": \"Andhra Pradesh\", \"marker\": {\"color\": \"#EF553B\", \"size\": [74.3], \"sizemode\": \"area\", \"sizeref\": 0.24125, \"symbol\": \"circle\"}, \"mode\": \"markers\", \"name\": \"Andhra Pradesh\", \"orientation\": \"v\", \"showlegend\": true, \"type\": \"scatter\", \"x\": [61.1], \"xaxis\": \"x\", \"y\": [99.6], \"yaxis\": \"y\"}, {\"hovertemplate\": \"India/States/UTs=Assam<br>health_insurance_urban=%{x}<br>Households with electricity=%{y}<br>F_6above_school=%{marker.size}<extra></extra>\", \"legendgroup\": \"Assam\", \"marker\": {\"color\": \"#00cc96\", \"size\": [88.1], \"sizemode\": \"area\", \"sizeref\": 0.24125, \"symbol\": \"circle\"}, \"mode\": \"markers\", \"name\": \"Assam\", \"orientation\": \"v\", \"showlegend\": true, \"type\": \"scatter\", \"x\": [12.6], \"xaxis\": \"x\", \"y\": [95.5], \"yaxis\": \"y\"}, {\"hovertemplate\": \"India/States/UTs=Bihar<br>health_insurance_urban=%{x}<br>Households with electricity=%{y}<br>F_6above_school=%{marker.size}<extra></extra>\", \"legendgroup\": \"Bihar\", \"marker\": {\"color\": \"#ab63fa\", \"size\": [71.5], \"sizemode\": \"area\", \"sizeref\": 0.24125, \"symbol\": \"circle\"}, \"mode\": \"markers\", \"name\": \"Bihar\", \"orientation\": \"v\", \"showlegend\": true, \"type\": \"scatter\", \"x\": [9.8], \"xaxis\": \"x\", \"y\": [88.2], \"yaxis\": \"y\"}, {\"hovertemplate\": \"India/States/UTs=Chattisgarh<br>health_insurance_urban=%{x}<br>Households with electricity=%{y}<br>F_6above_school=%{marker.size}<extra></extra>\", \"legendgroup\": \"Chattisgarh\", \"marker\": {\"color\": \"#FFA15A\", \"size\": [80.5], \"sizemode\": \"area\", \"sizeref\": 0.24125, \"symbol\": \"circle\"}, \"mode\": \"markers\", \"name\": \"Chattisgarh\", \"orientation\": \"v\", \"showlegend\": true, \"type\": \"scatter\", \"x\": [59.4], \"xaxis\": \"x\", \"y\": [99.2], \"yaxis\": \"y\"}, {\"hovertemplate\": \"India/States/UTs=Gujarat<br>health_insurance_urban=%{x}<br>Households with electricity=%{y}<br>F_6above_school=%{marker.size}<extra></extra>\", \"legendgroup\": \"Gujarat\", \"marker\": {\"color\": \"#19d3f3\", \"size\": [82.6], \"sizemode\": \"area\", \"sizeref\": 0.24125, \"symbol\": \"circle\"}, \"mode\": \"markers\", \"name\": \"Gujarat\", \"orientation\": \"v\", \"showlegend\": true, \"type\": \"scatter\", \"x\": [22.9], \"xaxis\": \"x\", \"y\": [98.6], \"yaxis\": \"y\"}, {\"hovertemplate\": \"India/States/UTs=Haryana<br>health_insurance_urban=%{x}<br>Households with electricity=%{y}<br>F_6above_school=%{marker.size}<extra></extra>\", \"legendgroup\": \"Haryana\", \"marker\": {\"color\": \"#FF6692\", \"size\": [77.8], \"sizemode\": \"area\", \"sizeref\": 0.24125, \"symbol\": \"circle\"}, \"mode\": \"markers\", \"name\": \"Haryana\", \"orientation\": \"v\", \"showlegend\": true, \"type\": \"scatter\", \"x\": [16.3], \"xaxis\": \"x\", \"y\": [99.6], \"yaxis\": \"y\"}, {\"hovertemplate\": \"India/States/UTs=Jharkhand<br>health_insurance_urban=%{x}<br>Households with electricity=%{y}<br>F_6above_school=%{marker.size}<extra></extra>\", \"legendgroup\": \"Jharkhand\", \"marker\": {\"color\": \"#B6E880\", \"size\": [77.1], \"sizemode\": \"area\", \"sizeref\": 0.24125, \"symbol\": \"circle\"}, \"mode\": \"markers\", \"name\": \"Jharkhand\", \"orientation\": \"v\", \"showlegend\": true, \"type\": \"scatter\", \"x\": [13.7], \"xaxis\": \"x\", \"y\": [96.7], \"yaxis\": \"y\"}, {\"hovertemplate\": \"India/States/UTs=Karnataka<br>health_insurance_urban=%{x}<br>Households with electricity=%{y}<br>F_6above_school=%{marker.size}<extra></extra>\", \"legendgroup\": \"Karnataka\", \"marker\": {\"color\": \"#FF97FF\", \"size\": [81.4], \"sizemode\": \"area\", \"sizeref\": 0.24125, \"symbol\": \"circle\"}, \"mode\": \"markers\", \"name\": \"Karnataka\", \"orientation\": \"v\", \"showlegend\": true, \"type\": \"scatter\", \"x\": [23.4], \"xaxis\": \"x\", \"y\": [99.0], \"yaxis\": \"y\"}, {\"hovertemplate\": \"India/States/UTs=Kerala<br>health_insurance_urban=%{x}<br>Households with electricity=%{y}<br>F_6above_school=%{marker.size}<extra></extra>\", \"legendgroup\": \"Kerala\", \"marker\": {\"color\": \"#FECB52\", \"size\": [96.5], \"sizemode\": \"area\", \"sizeref\": 0.24125, \"symbol\": \"circle\"}, \"mode\": \"markers\", \"name\": \"Kerala\", \"orientation\": \"v\", \"showlegend\": true, \"type\": \"scatter\", \"x\": [45.3], \"xaxis\": \"x\", \"y\": [99.5], \"yaxis\": \"y\"}, {\"hovertemplate\": \"India/States/UTs=Madhya Pradesh<br>health_insurance_urban=%{x}<br>Households with electricity=%{y}<br>F_6above_school=%{marker.size}<extra></extra>\", \"legendgroup\": \"Madhya Pradesh\", \"marker\": {\"color\": \"#636efa\", \"size\": [78.1], \"sizemode\": \"area\", \"sizeref\": 0.24125, \"symbol\": \"circle\"}, \"mode\": \"markers\", \"name\": \"Madhya Pradesh\", \"orientation\": \"v\", \"showlegend\": true, \"type\": \"scatter\", \"x\": [23.0], \"xaxis\": \"x\", \"y\": [97.9], \"yaxis\": \"y\"}, {\"hovertemplate\": \"India/States/UTs=Maharashtra<br>health_insurance_urban=%{x}<br>Households with electricity=%{y}<br>F_6above_school=%{marker.size}<extra></extra>\", \"legendgroup\": \"Maharashtra\", \"marker\": {\"color\": \"#EF553B\", \"size\": [85.3], \"sizemode\": \"area\", \"sizeref\": 0.24125, \"symbol\": \"circle\"}, \"mode\": \"markers\", \"name\": \"Maharashtra\", \"orientation\": \"v\", \"showlegend\": true, \"type\": \"scatter\", \"x\": [16.2], \"xaxis\": \"x\", \"y\": [95.1], \"yaxis\": \"y\"}, {\"hovertemplate\": \"India/States/UTs=Odisha<br>health_insurance_urban=%{x}<br>Households with electricity=%{y}<br>F_6above_school=%{marker.size}<extra></extra>\", \"legendgroup\": \"Odisha\", \"marker\": {\"color\": \"#00cc96\", \"size\": [80.0], \"sizemode\": \"area\", \"sizeref\": 0.24125, \"symbol\": \"circle\"}, \"mode\": \"markers\", \"name\": \"Odisha\", \"orientation\": \"v\", \"showlegend\": true, \"type\": \"scatter\", \"x\": [27.0], \"xaxis\": \"x\", \"y\": [94.3], \"yaxis\": \"y\"}, {\"hovertemplate\": \"India/States/UTs=Punjab<br>health_insurance_urban=%{x}<br>Households with electricity=%{y}<br>F_6above_school=%{marker.size}<extra></extra>\", \"legendgroup\": \"Punjab\", \"marker\": {\"color\": \"#ab63fa\", \"size\": [83.1], \"sizemode\": \"area\", \"sizeref\": 0.24125, \"symbol\": \"circle\"}, \"mode\": \"markers\", \"name\": \"Punjab\", \"orientation\": \"v\", \"showlegend\": true, \"type\": \"scatter\", \"x\": [19.8], \"xaxis\": \"x\", \"y\": [99.6], \"yaxis\": \"y\"}, {\"hovertemplate\": \"India/States/UTs=Rajasthan<br>health_insurance_urban=%{x}<br>Households with electricity=%{y}<br>F_6above_school=%{marker.size}<extra></extra>\", \"legendgroup\": \"Rajasthan\", \"marker\": {\"color\": \"#FFA15A\", \"size\": [73.7], \"sizemode\": \"area\", \"sizeref\": 0.24125, \"symbol\": \"circle\"}, \"mode\": \"markers\", \"name\": \"Rajasthan\", \"orientation\": \"v\", \"showlegend\": true, \"type\": \"scatter\", \"x\": [19.4], \"xaxis\": \"x\", \"y\": [98.6], \"yaxis\": \"y\"}, {\"hovertemplate\": \"India/States/UTs=Tamil Nadu<br>health_insurance_urban=%{x}<br>Households with electricity=%{y}<br>F_6above_school=%{marker.size}<extra></extra>\", \"legendgroup\": \"Tamil Nadu\", \"marker\": {\"color\": \"#19d3f3\", \"size\": [83.6], \"sizemode\": \"area\", \"sizeref\": 0.24125, \"symbol\": \"circle\"}, \"mode\": \"markers\", \"name\": \"Tamil Nadu\", \"orientation\": \"v\", \"showlegend\": true, \"type\": \"scatter\", \"x\": [59.2], \"xaxis\": \"x\", \"y\": [99.2], \"yaxis\": \"y\"}, {\"hovertemplate\": \"India/States/UTs=Telangana<br>health_insurance_urban=%{x}<br>Households with electricity=%{y}<br>F_6above_school=%{marker.size}<extra></extra>\", \"legendgroup\": \"Telangana\", \"marker\": {\"color\": \"#FF6692\", \"size\": [76.6], \"sizemode\": \"area\", \"sizeref\": 0.24125, \"symbol\": \"circle\"}, \"mode\": \"markers\", \"name\": \"Telangana\", \"orientation\": \"v\", \"showlegend\": true, \"type\": \"scatter\", \"x\": [53.5], \"xaxis\": \"x\", \"y\": [99.5], \"yaxis\": \"y\"}, {\"hovertemplate\": \"India/States/UTs=Uttar Pradesh<br>health_insurance_urban=%{x}<br>Households with electricity=%{y}<br>F_6above_school=%{marker.size}<extra></extra>\", \"legendgroup\": \"Uttar Pradesh\", \"marker\": {\"color\": \"#B6E880\", \"size\": [73.4], \"sizemode\": \"area\", \"sizeref\": 0.24125, \"symbol\": \"circle\"}, \"mode\": \"markers\", \"name\": \"Uttar Pradesh\", \"orientation\": \"v\", \"showlegend\": true, \"type\": \"scatter\", \"x\": [7.9], \"xaxis\": \"x\", \"y\": [94.9], \"yaxis\": \"y\"}, {\"hovertemplate\": \"India/States/UTs=West Bengal<br>health_insurance_urban=%{x}<br>Households with electricity=%{y}<br>F_6above_school=%{marker.size}<extra></extra>\", \"legendgroup\": \"West Bengal\", \"marker\": {\"color\": \"#FF97FF\", \"size\": [81.5], \"sizemode\": \"area\", \"sizeref\": 0.24125, \"symbol\": \"circle\"}, \"mode\": \"markers\", \"name\": \"West Bengal\", \"orientation\": \"v\", \"showlegend\": true, \"type\": \"scatter\", \"x\": [28.1], \"xaxis\": \"x\", \"y\": [97.2], \"yaxis\": \"y\"}, {\"hovertemplate\": \"India/States/UTs=Arunachal Pradesh<br>health_insurance_urban=%{x}<br>Households with electricity=%{y}<br>F_6above_school=%{marker.size}<extra></extra>\", \"legendgroup\": \"Arunachal Pradesh\", \"marker\": {\"color\": \"#FECB52\", \"size\": [81.5], \"sizemode\": \"area\", \"sizeref\": 0.24125, \"symbol\": \"circle\"}, \"mode\": \"markers\", \"name\": \"Arunachal Pradesh\", \"orientation\": \"v\", \"showlegend\": true, \"type\": \"scatter\", \"x\": [54.3], \"xaxis\": \"x\", \"y\": [99.2], \"yaxis\": \"y\"}, {\"hovertemplate\": \"India/States/UTs=Delhi<br>health_insurance_urban=%{x}<br>Households with electricity=%{y}<br>F_6above_school=%{marker.size}<extra></extra>\", \"legendgroup\": \"Delhi\", \"marker\": {\"color\": \"#636efa\", \"size\": [81.7], \"sizemode\": \"area\", \"sizeref\": 0.24125, \"symbol\": \"circle\"}, \"mode\": \"markers\", \"name\": \"Delhi\", \"orientation\": \"v\", \"showlegend\": true, \"type\": \"scatter\", \"x\": [16.4], \"xaxis\": \"x\", \"y\": [99.8], \"yaxis\": \"y\"}, {\"hovertemplate\": \"India/States/UTs=Goa<br>health_insurance_urban=%{x}<br>Households with electricity=%{y}<br>F_6above_school=%{marker.size}<extra></extra>\", \"legendgroup\": \"Goa\", \"marker\": {\"color\": \"#EF553B\", \"size\": [87.1], \"sizemode\": \"area\", \"sizeref\": 0.24125, \"symbol\": \"circle\"}, \"mode\": \"markers\", \"name\": \"Goa\", \"orientation\": \"v\", \"showlegend\": true, \"type\": \"scatter\", \"x\": [18.5], \"xaxis\": \"x\", \"y\": [99.8], \"yaxis\": \"y\"}, {\"hovertemplate\": \"India/States/UTs=Himachal Pradesh<br>health_insurance_urban=%{x}<br>Households with electricity=%{y}<br>F_6above_school=%{marker.size}<extra></extra>\", \"legendgroup\": \"Himachal Pradesh\", \"marker\": {\"color\": \"#00cc96\", \"size\": [89.8], \"sizemode\": \"area\", \"sizeref\": 0.24125, \"symbol\": \"circle\"}, \"mode\": \"markers\", \"name\": \"Himachal Pradesh\", \"orientation\": \"v\", \"showlegend\": true, \"type\": \"scatter\", \"x\": [21.5], \"xaxis\": \"x\", \"y\": [99.4], \"yaxis\": \"y\"}, {\"hovertemplate\": \"India/States/UTs=Jammu & Kashmir<br>health_insurance_urban=%{x}<br>Households with electricity=%{y}<br>F_6above_school=%{marker.size}<extra></extra>\", \"legendgroup\": \"Jammu & Kashmir\", \"marker\": {\"color\": \"#ab63fa\", \"size\": [71.8], \"sizemode\": \"area\", \"sizeref\": 0.24125, \"symbol\": \"circle\"}, \"mode\": \"markers\", \"name\": \"Jammu & Kashmir\", \"orientation\": \"v\", \"showlegend\": true, \"type\": \"scatter\", \"x\": [5.9], \"xaxis\": \"x\", \"y\": [99.7], \"yaxis\": \"y\"}, {\"hovertemplate\": \"India/States/UTs=Manipur<br>health_insurance_urban=%{x}<br>Households with electricity=%{y}<br>F_6above_school=%{marker.size}<extra></extra>\", \"legendgroup\": \"Manipur\", \"marker\": {\"color\": \"#FFA15A\", \"size\": [85.8], \"sizemode\": \"area\", \"sizeref\": 0.24125, \"symbol\": \"circle\"}, \"mode\": \"markers\", \"name\": \"Manipur\", \"orientation\": \"v\", \"showlegend\": true, \"type\": \"scatter\", \"x\": [3.5], \"xaxis\": \"x\", \"y\": [95.9], \"yaxis\": \"y\"}, {\"hovertemplate\": \"India/States/UTs=Meghalaya<br>health_insurance_urban=%{x}<br>Households with electricity=%{y}<br>F_6above_school=%{marker.size}<extra></extra>\", \"legendgroup\": \"Meghalaya\", \"marker\": {\"color\": \"#19d3f3\", \"size\": [93.2], \"sizemode\": \"area\", \"sizeref\": 0.24125, \"symbol\": \"circle\"}, \"mode\": \"markers\", \"name\": \"Meghalaya\", \"orientation\": \"v\", \"showlegend\": true, \"type\": \"scatter\", \"x\": [23.2], \"xaxis\": \"x\", \"y\": [99.0], \"yaxis\": \"y\"}, {\"hovertemplate\": \"India/States/UTs=Mizoram<br>health_insurance_urban=%{x}<br>Households with electricity=%{y}<br>F_6above_school=%{marker.size}<extra></extra>\", \"legendgroup\": \"Mizoram\", \"marker\": {\"color\": \"#FF6692\", \"size\": [95.9], \"sizemode\": \"area\", \"sizeref\": 0.24125, \"symbol\": \"circle\"}, \"mode\": \"markers\", \"name\": \"Mizoram\", \"orientation\": \"v\", \"showlegend\": true, \"type\": \"scatter\", \"x\": [42.3], \"xaxis\": \"x\", \"y\": [99.7], \"yaxis\": \"y\"}, {\"hovertemplate\": \"India/States/UTs=Nagaland<br>health_insurance_urban=%{x}<br>Households with electricity=%{y}<br>F_6above_school=%{marker.size}<extra></extra>\", \"legendgroup\": \"Nagaland\", \"marker\": {\"color\": \"#B6E880\", \"size\": [90.2], \"sizemode\": \"area\", \"sizeref\": 0.24125, \"symbol\": \"circle\"}, \"mode\": \"markers\", \"name\": \"Nagaland\", \"orientation\": \"v\", \"showlegend\": true, \"type\": \"scatter\", \"x\": [4.3], \"xaxis\": \"x\", \"y\": [99.6], \"yaxis\": \"y\"}, {\"hovertemplate\": \"India/States/UTs=Sikkim<br>health_insurance_urban=%{x}<br>Households with electricity=%{y}<br>F_6above_school=%{marker.size}<extra></extra>\", \"legendgroup\": \"Sikkim\", \"marker\": {\"color\": \"#FF97FF\", \"size\": [85.6], \"sizemode\": \"area\", \"sizeref\": 0.24125, \"symbol\": \"circle\"}, \"mode\": \"markers\", \"name\": \"Sikkim\", \"orientation\": \"v\", \"showlegend\": true, \"type\": \"scatter\", \"x\": [32.6], \"xaxis\": \"x\", \"y\": [99.0], \"yaxis\": \"y\"}, {\"hovertemplate\": \"India/States/UTs=Tripura<br>health_insurance_urban=%{x}<br>Households with electricity=%{y}<br>F_6above_school=%{marker.size}<extra></extra>\", \"legendgroup\": \"Tripura\", \"marker\": {\"color\": \"#FECB52\", \"size\": [89.5], \"sizemode\": \"area\", \"sizeref\": 0.24125, \"symbol\": \"circle\"}, \"mode\": \"markers\", \"name\": \"Tripura\", \"orientation\": \"v\", \"showlegend\": true, \"type\": \"scatter\", \"x\": [31.7], \"xaxis\": \"x\", \"y\": [99.0], \"yaxis\": \"y\"}, {\"hovertemplate\": \"India/States/UTs=Uttarakhand<br>health_insurance_urban=%{x}<br>Households with electricity=%{y}<br>F_6above_school=%{marker.size}<extra></extra>\", \"legendgroup\": \"Uttarakhand\", \"marker\": {\"color\": \"#636efa\", \"size\": [80.2], \"sizemode\": \"area\", \"sizeref\": 0.24125, \"symbol\": \"circle\"}, \"mode\": \"markers\", \"name\": \"Uttarakhand\", \"orientation\": \"v\", \"showlegend\": true, \"type\": \"scatter\", \"x\": [18.9], \"xaxis\": \"x\", \"y\": [99.4], \"yaxis\": \"y\"}, {\"hovertemplate\": \"India/States/UTs=Andaman and Nicobar Islands<br>health_insurance_urban=%{x}<br>Households with electricity=%{y}<br>F_6above_school=%{marker.size}<extra></extra>\", \"legendgroup\": \"Andaman and Nicobar Islands\", \"marker\": {\"color\": \"#EF553B\", \"size\": [87.6], \"sizemode\": \"area\", \"sizeref\": 0.24125, \"symbol\": \"circle\"}, \"mode\": \"markers\", \"name\": \"Andaman and Nicobar Islands\", \"orientation\": \"v\", \"showlegend\": true, \"type\": \"scatter\", \"x\": [7.7], \"xaxis\": \"x\", \"y\": [99.7], \"yaxis\": \"y\"}, {\"hovertemplate\": \"India/States/UTs=Dadra and Nagar Haveli<br>health_insurance_urban=%{x}<br>Households with electricity=%{y}<br>F_6above_school=%{marker.size}<extra></extra>\", \"legendgroup\": \"Dadra and Nagar Haveli\", \"marker\": {\"color\": \"#00cc96\", \"size\": [85.3], \"sizemode\": \"area\", \"sizeref\": 0.24125, \"symbol\": \"circle\"}, \"mode\": \"markers\", \"name\": \"Dadra and Nagar Haveli\", \"orientation\": \"v\", \"showlegend\": true, \"type\": \"scatter\", \"x\": [39.9], \"xaxis\": \"x\", \"y\": [99.3], \"yaxis\": \"y\"}, {\"hovertemplate\": \"India/States/UTs=Daman and Diu<br>health_insurance_urban=%{x}<br>Households with electricity=%{y}<br>F_6above_school=%{marker.size}<extra></extra>\", \"legendgroup\": \"Daman and Diu\", \"marker\": {\"color\": \"#ab63fa\", \"size\": [83.9], \"sizemode\": \"area\", \"sizeref\": 0.24125, \"symbol\": \"circle\"}, \"mode\": \"markers\", \"name\": \"Daman and Diu\", \"orientation\": \"v\", \"showlegend\": true, \"type\": \"scatter\", \"x\": [16.0], \"xaxis\": \"x\", \"y\": [100.0], \"yaxis\": \"y\"}, {\"hovertemplate\": \"India/States/UTs=Lakshadweep<br>health_insurance_urban=%{x}<br>Households with electricity=%{y}<br>F_6above_school=%{marker.size}<extra></extra>\", \"legendgroup\": \"Lakshadweep\", \"marker\": {\"color\": \"#FFA15A\", \"size\": [89.9], \"sizemode\": \"area\", \"sizeref\": 0.24125, \"symbol\": \"circle\"}, \"mode\": \"markers\", \"name\": \"Lakshadweep\", \"orientation\": \"v\", \"showlegend\": true, \"type\": \"scatter\", \"x\": [3.6], \"xaxis\": \"x\", \"y\": [99.9], \"yaxis\": \"y\"}, {\"hovertemplate\": \"India/States/UTs=Puducherry<br>health_insurance_urban=%{x}<br>Households with electricity=%{y}<br>F_6above_school=%{marker.size}<extra></extra>\", \"legendgroup\": \"Puducherry\", \"marker\": {\"color\": \"#19d3f3\", \"size\": [83.0], \"sizemode\": \"area\", \"sizeref\": 0.24125, \"symbol\": \"circle\"}, \"mode\": \"markers\", \"name\": \"Puducherry\", \"orientation\": \"v\", \"showlegend\": true, \"type\": \"scatter\", \"x\": [38.1], \"xaxis\": \"x\", \"y\": [99.8], \"yaxis\": \"y\"}],\n",
       "                        {\"legend\": {\"itemsizing\": \"constant\", \"title\": {\"text\": \"India/States/UTs\"}, \"tracegroupgap\": 0}, \"margin\": {\"t\": 60}, \"template\": {\"data\": {\"bar\": [{\"error_x\": {\"color\": \"#2a3f5f\"}, \"error_y\": {\"color\": \"#2a3f5f\"}, \"marker\": {\"line\": {\"color\": \"#E5ECF6\", \"width\": 0.5}}, \"type\": \"bar\"}], \"barpolar\": [{\"marker\": {\"line\": {\"color\": \"#E5ECF6\", \"width\": 0.5}}, \"type\": \"barpolar\"}], \"carpet\": [{\"aaxis\": {\"endlinecolor\": \"#2a3f5f\", \"gridcolor\": \"white\", \"linecolor\": \"white\", \"minorgridcolor\": \"white\", \"startlinecolor\": \"#2a3f5f\"}, \"baxis\": {\"endlinecolor\": \"#2a3f5f\", \"gridcolor\": \"white\", \"linecolor\": \"white\", \"minorgridcolor\": \"white\", \"startlinecolor\": \"#2a3f5f\"}, \"type\": \"carpet\"}], \"choropleth\": [{\"colorbar\": {\"outlinewidth\": 0, \"ticks\": \"\"}, \"type\": \"choropleth\"}], \"contour\": [{\"colorbar\": {\"outlinewidth\": 0, \"ticks\": \"\"}, \"colorscale\": [[0.0, \"#0d0887\"], [0.1111111111111111, \"#46039f\"], [0.2222222222222222, \"#7201a8\"], [0.3333333333333333, \"#9c179e\"], [0.4444444444444444, \"#bd3786\"], [0.5555555555555556, \"#d8576b\"], [0.6666666666666666, \"#ed7953\"], [0.7777777777777778, \"#fb9f3a\"], [0.8888888888888888, \"#fdca26\"], [1.0, \"#f0f921\"]], \"type\": \"contour\"}], \"contourcarpet\": [{\"colorbar\": {\"outlinewidth\": 0, \"ticks\": \"\"}, \"type\": \"contourcarpet\"}], \"heatmap\": [{\"colorbar\": {\"outlinewidth\": 0, \"ticks\": \"\"}, \"colorscale\": [[0.0, \"#0d0887\"], [0.1111111111111111, \"#46039f\"], [0.2222222222222222, \"#7201a8\"], [0.3333333333333333, \"#9c179e\"], [0.4444444444444444, \"#bd3786\"], [0.5555555555555556, \"#d8576b\"], [0.6666666666666666, \"#ed7953\"], [0.7777777777777778, \"#fb9f3a\"], [0.8888888888888888, \"#fdca26\"], [1.0, \"#f0f921\"]], \"type\": \"heatmap\"}], \"heatmapgl\": [{\"colorbar\": {\"outlinewidth\": 0, \"ticks\": \"\"}, \"colorscale\": [[0.0, \"#0d0887\"], [0.1111111111111111, \"#46039f\"], [0.2222222222222222, \"#7201a8\"], [0.3333333333333333, \"#9c179e\"], [0.4444444444444444, \"#bd3786\"], [0.5555555555555556, \"#d8576b\"], [0.6666666666666666, \"#ed7953\"], [0.7777777777777778, \"#fb9f3a\"], [0.8888888888888888, \"#fdca26\"], [1.0, \"#f0f921\"]], \"type\": \"heatmapgl\"}], \"histogram\": [{\"marker\": {\"colorbar\": {\"outlinewidth\": 0, \"ticks\": \"\"}}, \"type\": \"histogram\"}], \"histogram2d\": [{\"colorbar\": {\"outlinewidth\": 0, \"ticks\": \"\"}, \"colorscale\": [[0.0, \"#0d0887\"], [0.1111111111111111, \"#46039f\"], [0.2222222222222222, \"#7201a8\"], [0.3333333333333333, \"#9c179e\"], [0.4444444444444444, \"#bd3786\"], [0.5555555555555556, \"#d8576b\"], [0.6666666666666666, \"#ed7953\"], [0.7777777777777778, \"#fb9f3a\"], [0.8888888888888888, \"#fdca26\"], [1.0, \"#f0f921\"]], \"type\": \"histogram2d\"}], \"histogram2dcontour\": [{\"colorbar\": {\"outlinewidth\": 0, \"ticks\": \"\"}, \"colorscale\": [[0.0, \"#0d0887\"], [0.1111111111111111, \"#46039f\"], [0.2222222222222222, \"#7201a8\"], [0.3333333333333333, \"#9c179e\"], [0.4444444444444444, \"#bd3786\"], [0.5555555555555556, \"#d8576b\"], [0.6666666666666666, \"#ed7953\"], [0.7777777777777778, \"#fb9f3a\"], [0.8888888888888888, \"#fdca26\"], [1.0, \"#f0f921\"]], \"type\": \"histogram2dcontour\"}], \"mesh3d\": [{\"colorbar\": {\"outlinewidth\": 0, \"ticks\": \"\"}, \"type\": \"mesh3d\"}], \"parcoords\": [{\"line\": {\"colorbar\": {\"outlinewidth\": 0, \"ticks\": \"\"}}, \"type\": \"parcoords\"}], \"pie\": [{\"automargin\": true, \"type\": \"pie\"}], \"scatter\": [{\"marker\": {\"colorbar\": {\"outlinewidth\": 0, \"ticks\": \"\"}}, \"type\": \"scatter\"}], \"scatter3d\": [{\"line\": {\"colorbar\": {\"outlinewidth\": 0, \"ticks\": \"\"}}, \"marker\": {\"colorbar\": {\"outlinewidth\": 0, \"ticks\": \"\"}}, \"type\": \"scatter3d\"}], \"scattercarpet\": [{\"marker\": {\"colorbar\": {\"outlinewidth\": 0, \"ticks\": \"\"}}, \"type\": \"scattercarpet\"}], \"scattergeo\": [{\"marker\": {\"colorbar\": {\"outlinewidth\": 0, \"ticks\": \"\"}}, \"type\": \"scattergeo\"}], \"scattergl\": [{\"marker\": {\"colorbar\": {\"outlinewidth\": 0, \"ticks\": \"\"}}, \"type\": \"scattergl\"}], \"scattermapbox\": [{\"marker\": {\"colorbar\": {\"outlinewidth\": 0, \"ticks\": \"\"}}, \"type\": \"scattermapbox\"}], \"scatterpolar\": [{\"marker\": {\"colorbar\": {\"outlinewidth\": 0, \"ticks\": \"\"}}, \"type\": \"scatterpolar\"}], \"scatterpolargl\": [{\"marker\": {\"colorbar\": {\"outlinewidth\": 0, \"ticks\": \"\"}}, \"type\": \"scatterpolargl\"}], \"scatterternary\": [{\"marker\": {\"colorbar\": {\"outlinewidth\": 0, \"ticks\": \"\"}}, \"type\": \"scatterternary\"}], \"surface\": [{\"colorbar\": {\"outlinewidth\": 0, \"ticks\": \"\"}, \"colorscale\": [[0.0, \"#0d0887\"], [0.1111111111111111, \"#46039f\"], [0.2222222222222222, \"#7201a8\"], [0.3333333333333333, \"#9c179e\"], [0.4444444444444444, \"#bd3786\"], [0.5555555555555556, \"#d8576b\"], [0.6666666666666666, \"#ed7953\"], [0.7777777777777778, \"#fb9f3a\"], [0.8888888888888888, \"#fdca26\"], [1.0, \"#f0f921\"]], \"type\": \"surface\"}], \"table\": [{\"cells\": {\"fill\": {\"color\": \"#EBF0F8\"}, \"line\": {\"color\": \"white\"}}, \"header\": {\"fill\": {\"color\": \"#C8D4E3\"}, \"line\": {\"color\": \"white\"}}, \"type\": \"table\"}]}, \"layout\": {\"annotationdefaults\": {\"arrowcolor\": \"#2a3f5f\", \"arrowhead\": 0, \"arrowwidth\": 1}, \"coloraxis\": {\"colorbar\": {\"outlinewidth\": 0, \"ticks\": \"\"}}, \"colorscale\": {\"diverging\": [[0, \"#8e0152\"], [0.1, \"#c51b7d\"], [0.2, \"#de77ae\"], [0.3, \"#f1b6da\"], [0.4, \"#fde0ef\"], [0.5, \"#f7f7f7\"], [0.6, \"#e6f5d0\"], [0.7, \"#b8e186\"], [0.8, \"#7fbc41\"], [0.9, \"#4d9221\"], [1, \"#276419\"]], \"sequential\": [[0.0, \"#0d0887\"], [0.1111111111111111, \"#46039f\"], [0.2222222222222222, \"#7201a8\"], [0.3333333333333333, \"#9c179e\"], [0.4444444444444444, \"#bd3786\"], [0.5555555555555556, \"#d8576b\"], [0.6666666666666666, \"#ed7953\"], [0.7777777777777778, \"#fb9f3a\"], [0.8888888888888888, \"#fdca26\"], [1.0, \"#f0f921\"]], \"sequentialminus\": [[0.0, \"#0d0887\"], [0.1111111111111111, \"#46039f\"], [0.2222222222222222, \"#7201a8\"], [0.3333333333333333, \"#9c179e\"], [0.4444444444444444, \"#bd3786\"], [0.5555555555555556, \"#d8576b\"], [0.6666666666666666, \"#ed7953\"], [0.7777777777777778, \"#fb9f3a\"], [0.8888888888888888, \"#fdca26\"], [1.0, \"#f0f921\"]]}, \"colorway\": [\"#636efa\", \"#EF553B\", \"#00cc96\", \"#ab63fa\", \"#FFA15A\", \"#19d3f3\", \"#FF6692\", \"#B6E880\", \"#FF97FF\", \"#FECB52\"], \"font\": {\"color\": \"#2a3f5f\"}, \"geo\": {\"bgcolor\": \"white\", \"lakecolor\": \"white\", \"landcolor\": \"#E5ECF6\", \"showlakes\": true, \"showland\": true, \"subunitcolor\": \"white\"}, \"hoverlabel\": {\"align\": \"left\"}, \"hovermode\": \"closest\", \"mapbox\": {\"style\": \"light\"}, \"paper_bgcolor\": \"white\", \"plot_bgcolor\": \"#E5ECF6\", \"polar\": {\"angularaxis\": {\"gridcolor\": \"white\", \"linecolor\": \"white\", \"ticks\": \"\"}, \"bgcolor\": \"#E5ECF6\", \"radialaxis\": {\"gridcolor\": \"white\", \"linecolor\": \"white\", \"ticks\": \"\"}}, \"scene\": {\"xaxis\": {\"backgroundcolor\": \"#E5ECF6\", \"gridcolor\": \"white\", \"gridwidth\": 2, \"linecolor\": \"white\", \"showbackground\": true, \"ticks\": \"\", \"zerolinecolor\": \"white\"}, \"yaxis\": {\"backgroundcolor\": \"#E5ECF6\", \"gridcolor\": \"white\", \"gridwidth\": 2, \"linecolor\": \"white\", \"showbackground\": true, \"ticks\": \"\", \"zerolinecolor\": \"white\"}, \"zaxis\": {\"backgroundcolor\": \"#E5ECF6\", \"gridcolor\": \"white\", \"gridwidth\": 2, \"linecolor\": \"white\", \"showbackground\": true, \"ticks\": \"\", \"zerolinecolor\": \"white\"}}, \"shapedefaults\": {\"line\": {\"color\": \"#2a3f5f\"}}, \"ternary\": {\"aaxis\": {\"gridcolor\": \"white\", \"linecolor\": \"white\", \"ticks\": \"\"}, \"baxis\": {\"gridcolor\": \"white\", \"linecolor\": \"white\", \"ticks\": \"\"}, \"bgcolor\": \"#E5ECF6\", \"caxis\": {\"gridcolor\": \"white\", \"linecolor\": \"white\", \"ticks\": \"\"}}, \"title\": {\"x\": 0.05}, \"xaxis\": {\"automargin\": true, \"gridcolor\": \"white\", \"linecolor\": \"white\", \"ticks\": \"\", \"title\": {\"standoff\": 15}, \"zerolinecolor\": \"white\", \"zerolinewidth\": 2}, \"yaxis\": {\"automargin\": true, \"gridcolor\": \"white\", \"linecolor\": \"white\", \"ticks\": \"\", \"title\": {\"standoff\": 15}, \"zerolinecolor\": \"white\", \"zerolinewidth\": 2}}}, \"xaxis\": {\"anchor\": \"y\", \"domain\": [0.0, 1.0], \"title\": {\"text\": \"health_insurance_urban\"}}, \"yaxis\": {\"anchor\": \"x\", \"domain\": [0.0, 1.0], \"title\": {\"text\": \"Households with electricity\"}}},\n",
       "                        {\"responsive\": true}\n",
       "                    ).then(function(){\n",
       "                            \n",
       "var gd = document.getElementById('3eb2ee6a-36f1-44d6-b045-558648a0d1e9');\n",
       "var x = new MutationObserver(function (mutations, observer) {{\n",
       "        var display = window.getComputedStyle(gd).display;\n",
       "        if (!display || display === 'none') {{\n",
       "            console.log([gd, 'removed!']);\n",
       "            Plotly.purge(gd);\n",
       "            observer.disconnect();\n",
       "        }}\n",
       "}});\n",
       "\n",
       "// Listen for the removal of the full notebook cells\n",
       "var notebookContainer = gd.closest('#notebook-container');\n",
       "if (notebookContainer) {{\n",
       "    x.observe(notebookContainer, {childList: true});\n",
       "}}\n",
       "\n",
       "// Listen for the clearing of the current output cell\n",
       "var outputEl = gd.closest('.output');\n",
       "if (outputEl) {{\n",
       "    x.observe(outputEl, {childList: true});\n",
       "}}\n",
       "\n",
       "                        })\n",
       "                };\n",
       "                });\n",
       "            </script>\n",
       "        </div>"
      ]
     },
     "metadata": {},
     "output_type": "display_data"
    }
   ],
   "source": [
    "import plotly.express as px\n",
    "\n",
    "fig1 = px.scatter(health_insurance_NFHS4_Urban, x=\"health_insurance_urban\", y=\"Households with electricity\",color='India/States/UTs',size='F_6above_school')\n",
    "fig1.show()"
   ]
  },
  {
   "cell_type": "code",
   "execution_count": 88,
   "metadata": {},
   "outputs": [],
   "source": [
    "# import image module from pillow\n",
    "from PIL import Image\n",
    "  \n",
    "# open the image\n",
    "Image1 = Image.open('Top-10-Countries-Map-Generator.jpg')\n",
    "  \n",
    "# make a copy the image so that the \n",
    "# original image does not get affected\n",
    "Image1copy = Image1.copy()\n",
    "Image2 = Image.open('Top-10-Countries-Map-Generator.jpg')\n",
    "Image2copy = Image2.copy()\n",
    "  \n",
    "# paste image giving dimensions\n",
    "Image1copy.paste(Image2copy, (0, 0))\n",
    "  \n",
    "# save the image \n",
    "Image1copy.save('Top-10-Countries-Map-Generator.jpg')\n"
   ]
  },
  {
   "cell_type": "code",
   "execution_count": null,
   "metadata": {},
   "outputs": [],
   "source": []
  }
 ],
 "metadata": {
  "kernelspec": {
   "display_name": "Python 3",
   "language": "python",
   "name": "python3"
  },
  "language_info": {
   "codemirror_mode": {
    "name": "ipython",
    "version": 3
   },
   "file_extension": ".py",
   "mimetype": "text/x-python",
   "name": "python",
   "nbconvert_exporter": "python",
   "pygments_lexer": "ipython3",
   "version": "3.7.6"
  }
 },
 "nbformat": 4,
 "nbformat_minor": 4
}
